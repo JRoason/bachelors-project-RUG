{
 "cells": [
  {
   "cell_type": "code",
   "execution_count": 2,
   "id": "initial_id",
   "metadata": {
    "collapsed": true,
    "ExecuteTime": {
     "end_time": "2024-06-15T20:55:35.494640364Z",
     "start_time": "2024-06-15T20:55:35.455672153Z"
    }
   },
   "outputs": [],
   "source": [
    "import sys\n",
    "\n",
    "import numpy as np\n",
    "import pandas as pd\n",
    "import matplotlib.pyplot as plt\n",
    "import plotly.graph_objects as go\n",
    "from tqdm import tqdm\n",
    "import os\n",
    "import xarray as xr\n",
    "from mpl_toolkits.basemap import Basemap\n",
    "import torch"
   ]
  },
  {
   "cell_type": "code",
   "outputs": [
    {
     "name": "stdout",
     "output_type": "stream",
     "text": [
      "/home/lordbongo/Documents/BP_2023_RUG/bachelors-project-RUG/data\n"
     ]
    }
   ],
   "source": [
    "# Local path to the dataset\n",
    "path = os.getcwd()\n",
    "path = os.path.abspath(os.path.join(path, os.pardir, 'data'))\n",
    "print(path)"
   ],
   "metadata": {
    "collapsed": false,
    "ExecuteTime": {
     "end_time": "2024-06-15T20:55:37.584495340Z",
     "start_time": "2024-06-15T20:55:37.573127962Z"
    }
   },
   "id": "39af87a5ac6435",
   "execution_count": 3
  },
  {
   "cell_type": "code",
   "outputs": [],
   "source": [
    "relevant_columns = ['Art - gruppe', 'Art - gruppe (kode)', 'Produktvekt', 'Siste fangstdato', 'Hovedområde', 'Lon (lokasjon)', 'Lat (lokasjon)']"
   ],
   "metadata": {
    "collapsed": false,
    "ExecuteTime": {
     "end_time": "2024-06-15T20:55:38.766549177Z",
     "start_time": "2024-06-15T20:55:38.756558525Z"
    }
   },
   "id": "8753ced3ef729cc",
   "execution_count": 4
  },
  {
   "cell_type": "code",
   "outputs": [],
   "source": [
    "# Let's get the date range to split the data into training, validation and test data\n",
    "# We will only be using the data where salinity and SST data is available, which is limited by the salinity data to the range from April 2015 to January 2022\n",
    "# We get the first and last dates in the entire dataset\n",
    "first_date = pd.to_datetime('2015-04-01', format='%Y-%m-%d')\n",
    "last_date = pd.to_datetime('2022-01-31', format='%Y-%m-%d')"
   ],
   "metadata": {
    "collapsed": false,
    "ExecuteTime": {
     "end_time": "2024-06-15T22:00:11.895617965Z",
     "start_time": "2024-06-15T22:00:11.883512862Z"
    }
   },
   "id": "32ad86604bd3a75c",
   "execution_count": 144
  },
  {
   "cell_type": "code",
   "outputs": [
    {
     "data": {
      "text/plain": "(Timestamp('2015-04-01 00:00:00'), Timestamp('2022-01-31 00:00:00'))"
     },
     "execution_count": 145,
     "metadata": {},
     "output_type": "execute_result"
    }
   ],
   "source": [
    "first_date, last_date"
   ],
   "metadata": {
    "collapsed": false,
    "ExecuteTime": {
     "end_time": "2024-06-15T22:00:14.451015488Z",
     "start_time": "2024-06-15T22:00:14.434307620Z"
    }
   },
   "id": "5016c7b912843eb2",
   "execution_count": 145
  },
  {
   "cell_type": "code",
   "outputs": [],
   "source": [
    "date_range = pd.date_range(start=first_date, end=last_date, freq='D')"
   ],
   "metadata": {
    "collapsed": false,
    "ExecuteTime": {
     "end_time": "2024-06-15T22:00:15.101987390Z",
     "start_time": "2024-06-15T22:00:15.087911386Z"
    }
   },
   "id": "523ae7e624385b3f",
   "execution_count": 146
  },
  {
   "cell_type": "code",
   "outputs": [
    {
     "data": {
      "text/plain": "DatetimeIndex(['2015-04-01', '2015-04-02', '2015-04-03', '2015-04-04',\n               '2015-04-05', '2015-04-06', '2015-04-07', '2015-04-08',\n               '2015-04-09', '2015-04-10',\n               ...\n               '2022-01-22', '2022-01-23', '2022-01-24', '2022-01-25',\n               '2022-01-26', '2022-01-27', '2022-01-28', '2022-01-29',\n               '2022-01-30', '2022-01-31'],\n              dtype='datetime64[ns]', length=2498, freq='D')"
     },
     "execution_count": 147,
     "metadata": {},
     "output_type": "execute_result"
    }
   ],
   "source": [
    "date_range"
   ],
   "metadata": {
    "collapsed": false,
    "ExecuteTime": {
     "end_time": "2024-06-15T22:00:15.662073544Z",
     "start_time": "2024-06-15T22:00:15.649951540Z"
    }
   },
   "id": "fd82b20f51308519",
   "execution_count": 147
  },
  {
   "cell_type": "code",
   "outputs": [],
   "source": [
    "# We will split the data into training, validation and test data. We will use the following split: 70% training, 15% validation and 15% test data.\n",
    "train_data = date_range[:int(0.7 * len(date_range))]\n",
    "val_data = date_range[int(0.7 * len(date_range)):int(0.85 * len(date_range))]\n",
    "test_data = date_range[int(0.85 * len(date_range)):]"
   ],
   "metadata": {
    "collapsed": false,
    "ExecuteTime": {
     "end_time": "2024-06-15T22:00:16.410256122Z",
     "start_time": "2024-06-15T22:00:16.405444725Z"
    }
   },
   "id": "7c144e41a2fd4eea",
   "execution_count": 148
  },
  {
   "cell_type": "code",
   "outputs": [
    {
     "data": {
      "text/plain": "Timestamp('2015-04-01 00:00:00')"
     },
     "metadata": {},
     "output_type": "display_data"
    },
    {
     "data": {
      "text/plain": "Timestamp('2020-01-12 00:00:00')"
     },
     "metadata": {},
     "output_type": "display_data"
    },
    {
     "data": {
      "text/plain": "Timestamp('2020-01-13 00:00:00')"
     },
     "metadata": {},
     "output_type": "display_data"
    },
    {
     "data": {
      "text/plain": "Timestamp('2021-01-21 00:00:00')"
     },
     "metadata": {},
     "output_type": "display_data"
    },
    {
     "data": {
      "text/plain": "Timestamp('2021-01-22 00:00:00')"
     },
     "metadata": {},
     "output_type": "display_data"
    },
    {
     "data": {
      "text/plain": "Timestamp('2022-01-31 00:00:00')"
     },
     "metadata": {},
     "output_type": "display_data"
    }
   ],
   "source": [
    "display(train_data.min(), train_data.max(),\n",
    "val_data.min(), val_data.max(),\n",
    "test_data.min(), test_data.max())"
   ],
   "metadata": {
    "collapsed": false,
    "ExecuteTime": {
     "end_time": "2024-06-15T22:00:50.136413583Z",
     "start_time": "2024-06-15T22:00:50.084157143Z"
    }
   },
   "id": "d8dc51b4abe0d8fb",
   "execution_count": 151
  },
  {
   "cell_type": "code",
   "outputs": [
    {
     "name": "stderr",
     "output_type": "stream",
     "text": [
      "  0%|          | 0/6 [00:00<?, ?it/s]/tmp/ipykernel_11502/3536238569.py:10: FutureWarning:\n",
      "\n",
      "The behavior of DataFrame concatenation with empty or all-NA entries is deprecated. In a future version, this will no longer exclude empty or all-NA columns when determining the result dtypes. To retain the old behavior, exclude the relevant entries before the concat operation.\n",
      "\n",
      "100%|██████████| 6/6 [00:21<00:00,  3.66s/it]\n"
     ]
    }
   ],
   "source": [
    "unique_hovedomrade = pd.DataFrame(columns=['Hovedområde', 'Lat (hovedområde)', 'Lon (hovedområde)'])\n",
    "for i in tqdm(range(2015, 2021)):\n",
    "    data = pd.read_csv(path + '/Catch Notes Datasets/' + 'fangstdata_' + str(i) + '.csv', delimiter=';', decimal=',', encoding='utf8', usecols=['Hovedområde', 'Lat (hovedområde)', 'Lon (hovedområde)', 'Siste fangstdato'])\n",
    "    data['Siste fangstdato'] = pd.to_datetime(data['Siste fangstdato'], format='%d.%m.%Y')\n",
    "    data = data[data['Siste fangstdato'] >= train_data.min()]\n",
    "    data = data[data['Siste fangstdato'] <= train_data.max()]\n",
    "    data.drop(columns='Siste fangstdato', inplace=True)\n",
    "    data.drop_duplicates(inplace=True)\n",
    "    data.dropna(inplace=True)\n",
    "    unique_hovedomrade = pd.concat([unique_hovedomrade, data])\n",
    "    unique_hovedomrade.drop_duplicates(inplace=True)"
   ],
   "metadata": {
    "collapsed": false,
    "ExecuteTime": {
     "end_time": "2024-06-15T22:42:47.497454101Z",
     "start_time": "2024-06-15T22:42:25.548983280Z"
    }
   },
   "id": "ef47ad55cb1c57ed",
   "execution_count": 223
  },
  {
   "cell_type": "code",
   "outputs": [
    {
     "data": {
      "text/plain": "                          Hovedområde  Lat (hovedområde)  Lon (hovedområde)\n0       Vest av Skottland (Hebridene)           57.39815           -8.22840\n2                     Øst av Færøyene           61.57353           -5.55882\n5                   Østlige Norskehav           68.49444            7.01111\n32                      Vest-Finnmark           70.64731           20.84750\n59                    Eigersundbanken           58.83315            4.54513\n120              Storegga-Frøyabanken           63.13230            6.60818\n339                      Vikingbanken           61.04847            4.51307\n395                  Helgelandsbanken           65.37965            9.65035\n3594                         Shetland           59.75367           -1.00349\n3595                Sørlige Norskehav           63.61111           -1.61111\n4446                 Sentrale Nordsjø           55.54670            3.28022\n4465                        Skagerrak           57.84350           10.42851\n4534               Sentrale Norskehav           66.50000           -2.00000\n4552                   Vest av Irland           53.50346          -13.41665\n4764                     Øst-Finnmark           70.81682           29.34360\n5788                 Vest av Færøyene           61.60714          -11.28571\n5823                      Færøybanken           60.75000           -9.00000\n6430                  Sørlige Nordsjø           52.38060            2.95185\n55331                   Sentralbanken           75.00000           35.00000\n55464                  Nordøstområdet           79.25000           45.50000\n60837                      Storbanken           79.25000           35.00000\n65575              Thor Iversens Bank           73.00000           35.00000\n65579                           Hopen           78.83482           26.16964\n65648                        Bjørnøya           74.59921           21.65873\n65689                  Nordkappbanken           72.55357           22.10714\n80007   Røstbanken til Malangsgrunnen           69.02192           14.44817\n134574               Admiralityfeltet           75.02632           49.52632\n178273         Sørvest av Spitsbergen           74.75000            9.00000\n180662           Vest av Tromsøflaket           72.25000            9.00000\n180689      Storfjord/Hinlopenstredet           79.25781           19.50000\n210595                  Skolpenbanken           71.00000           36.50000\n212353            Nordv.- Spitsbergen           80.24008           10.00595\n212423               Vest-Spitsbergen           77.02027            9.94820\n212775                     Gåsebanken           70.93750           48.12500\n212825                  Britvinfeltet           73.03333           47.53333\n212829                    Kaninbanken           68.70000           49.00000\n212882                 Murmanskkysten           69.24640           36.76266\n250677          Vestfjorden (Lofoten)           67.62873           14.67456\n277226                    Skjoldungen           60.98872          -35.31391\n277665                        Rockall           57.25000          -15.00000\n281801                 Danmarkstredet           65.15164          -33.54098\n293285          Sørvestlige Norskehav           65.50000           -9.00000\n308180              Sørvest av Island           63.35871          -23.43255\n412410             Vestlige Norskehav           69.50000           -2.00000\n852297              Sør for Jan Mayen           69.50000           -9.00000\n0                       Øst av Island           65.52053          -12.91464\n10                  Sørvest av Irland           50.18056          -11.92593\n9497                 Utenfor Cornwall           49.97925           -1.82633\n264447                 Nord av Island           66.86435          -18.54177\n894745                 Grønlandshavet           78.00000           -4.00000\n281772              Nordøst av Island           67.15528          -14.19542\n866821                Reykjanesryggen           54.28788          -29.04545\n73807                Sentrale Nordsjø           55.55289            3.29954\n75058                       Skagerrak           57.85579           10.51751\n301523             Nordvest av Island           66.42263          -24.82734\n943854                Eigersundbanken           58.81161            4.59718\n21545          Nordvestlige Norskehav           72.25000           -4.00000\n251632          Nord av Novaja Semlja           79.25000           59.50000",
      "text/html": "<div>\n<style scoped>\n    .dataframe tbody tr th:only-of-type {\n        vertical-align: middle;\n    }\n\n    .dataframe tbody tr th {\n        vertical-align: top;\n    }\n\n    .dataframe thead th {\n        text-align: right;\n    }\n</style>\n<table border=\"1\" class=\"dataframe\">\n  <thead>\n    <tr style=\"text-align: right;\">\n      <th></th>\n      <th>Hovedområde</th>\n      <th>Lat (hovedområde)</th>\n      <th>Lon (hovedområde)</th>\n    </tr>\n  </thead>\n  <tbody>\n    <tr>\n      <th>0</th>\n      <td>Vest av Skottland (Hebridene)</td>\n      <td>57.39815</td>\n      <td>-8.22840</td>\n    </tr>\n    <tr>\n      <th>2</th>\n      <td>Øst av Færøyene</td>\n      <td>61.57353</td>\n      <td>-5.55882</td>\n    </tr>\n    <tr>\n      <th>5</th>\n      <td>Østlige Norskehav</td>\n      <td>68.49444</td>\n      <td>7.01111</td>\n    </tr>\n    <tr>\n      <th>32</th>\n      <td>Vest-Finnmark</td>\n      <td>70.64731</td>\n      <td>20.84750</td>\n    </tr>\n    <tr>\n      <th>59</th>\n      <td>Eigersundbanken</td>\n      <td>58.83315</td>\n      <td>4.54513</td>\n    </tr>\n    <tr>\n      <th>120</th>\n      <td>Storegga-Frøyabanken</td>\n      <td>63.13230</td>\n      <td>6.60818</td>\n    </tr>\n    <tr>\n      <th>339</th>\n      <td>Vikingbanken</td>\n      <td>61.04847</td>\n      <td>4.51307</td>\n    </tr>\n    <tr>\n      <th>395</th>\n      <td>Helgelandsbanken</td>\n      <td>65.37965</td>\n      <td>9.65035</td>\n    </tr>\n    <tr>\n      <th>3594</th>\n      <td>Shetland</td>\n      <td>59.75367</td>\n      <td>-1.00349</td>\n    </tr>\n    <tr>\n      <th>3595</th>\n      <td>Sørlige Norskehav</td>\n      <td>63.61111</td>\n      <td>-1.61111</td>\n    </tr>\n    <tr>\n      <th>4446</th>\n      <td>Sentrale Nordsjø</td>\n      <td>55.54670</td>\n      <td>3.28022</td>\n    </tr>\n    <tr>\n      <th>4465</th>\n      <td>Skagerrak</td>\n      <td>57.84350</td>\n      <td>10.42851</td>\n    </tr>\n    <tr>\n      <th>4534</th>\n      <td>Sentrale Norskehav</td>\n      <td>66.50000</td>\n      <td>-2.00000</td>\n    </tr>\n    <tr>\n      <th>4552</th>\n      <td>Vest av Irland</td>\n      <td>53.50346</td>\n      <td>-13.41665</td>\n    </tr>\n    <tr>\n      <th>4764</th>\n      <td>Øst-Finnmark</td>\n      <td>70.81682</td>\n      <td>29.34360</td>\n    </tr>\n    <tr>\n      <th>5788</th>\n      <td>Vest av Færøyene</td>\n      <td>61.60714</td>\n      <td>-11.28571</td>\n    </tr>\n    <tr>\n      <th>5823</th>\n      <td>Færøybanken</td>\n      <td>60.75000</td>\n      <td>-9.00000</td>\n    </tr>\n    <tr>\n      <th>6430</th>\n      <td>Sørlige Nordsjø</td>\n      <td>52.38060</td>\n      <td>2.95185</td>\n    </tr>\n    <tr>\n      <th>55331</th>\n      <td>Sentralbanken</td>\n      <td>75.00000</td>\n      <td>35.00000</td>\n    </tr>\n    <tr>\n      <th>55464</th>\n      <td>Nordøstområdet</td>\n      <td>79.25000</td>\n      <td>45.50000</td>\n    </tr>\n    <tr>\n      <th>60837</th>\n      <td>Storbanken</td>\n      <td>79.25000</td>\n      <td>35.00000</td>\n    </tr>\n    <tr>\n      <th>65575</th>\n      <td>Thor Iversens Bank</td>\n      <td>73.00000</td>\n      <td>35.00000</td>\n    </tr>\n    <tr>\n      <th>65579</th>\n      <td>Hopen</td>\n      <td>78.83482</td>\n      <td>26.16964</td>\n    </tr>\n    <tr>\n      <th>65648</th>\n      <td>Bjørnøya</td>\n      <td>74.59921</td>\n      <td>21.65873</td>\n    </tr>\n    <tr>\n      <th>65689</th>\n      <td>Nordkappbanken</td>\n      <td>72.55357</td>\n      <td>22.10714</td>\n    </tr>\n    <tr>\n      <th>80007</th>\n      <td>Røstbanken til Malangsgrunnen</td>\n      <td>69.02192</td>\n      <td>14.44817</td>\n    </tr>\n    <tr>\n      <th>134574</th>\n      <td>Admiralityfeltet</td>\n      <td>75.02632</td>\n      <td>49.52632</td>\n    </tr>\n    <tr>\n      <th>178273</th>\n      <td>Sørvest av Spitsbergen</td>\n      <td>74.75000</td>\n      <td>9.00000</td>\n    </tr>\n    <tr>\n      <th>180662</th>\n      <td>Vest av Tromsøflaket</td>\n      <td>72.25000</td>\n      <td>9.00000</td>\n    </tr>\n    <tr>\n      <th>180689</th>\n      <td>Storfjord/Hinlopenstredet</td>\n      <td>79.25781</td>\n      <td>19.50000</td>\n    </tr>\n    <tr>\n      <th>210595</th>\n      <td>Skolpenbanken</td>\n      <td>71.00000</td>\n      <td>36.50000</td>\n    </tr>\n    <tr>\n      <th>212353</th>\n      <td>Nordv.- Spitsbergen</td>\n      <td>80.24008</td>\n      <td>10.00595</td>\n    </tr>\n    <tr>\n      <th>212423</th>\n      <td>Vest-Spitsbergen</td>\n      <td>77.02027</td>\n      <td>9.94820</td>\n    </tr>\n    <tr>\n      <th>212775</th>\n      <td>Gåsebanken</td>\n      <td>70.93750</td>\n      <td>48.12500</td>\n    </tr>\n    <tr>\n      <th>212825</th>\n      <td>Britvinfeltet</td>\n      <td>73.03333</td>\n      <td>47.53333</td>\n    </tr>\n    <tr>\n      <th>212829</th>\n      <td>Kaninbanken</td>\n      <td>68.70000</td>\n      <td>49.00000</td>\n    </tr>\n    <tr>\n      <th>212882</th>\n      <td>Murmanskkysten</td>\n      <td>69.24640</td>\n      <td>36.76266</td>\n    </tr>\n    <tr>\n      <th>250677</th>\n      <td>Vestfjorden (Lofoten)</td>\n      <td>67.62873</td>\n      <td>14.67456</td>\n    </tr>\n    <tr>\n      <th>277226</th>\n      <td>Skjoldungen</td>\n      <td>60.98872</td>\n      <td>-35.31391</td>\n    </tr>\n    <tr>\n      <th>277665</th>\n      <td>Rockall</td>\n      <td>57.25000</td>\n      <td>-15.00000</td>\n    </tr>\n    <tr>\n      <th>281801</th>\n      <td>Danmarkstredet</td>\n      <td>65.15164</td>\n      <td>-33.54098</td>\n    </tr>\n    <tr>\n      <th>293285</th>\n      <td>Sørvestlige Norskehav</td>\n      <td>65.50000</td>\n      <td>-9.00000</td>\n    </tr>\n    <tr>\n      <th>308180</th>\n      <td>Sørvest av Island</td>\n      <td>63.35871</td>\n      <td>-23.43255</td>\n    </tr>\n    <tr>\n      <th>412410</th>\n      <td>Vestlige Norskehav</td>\n      <td>69.50000</td>\n      <td>-2.00000</td>\n    </tr>\n    <tr>\n      <th>852297</th>\n      <td>Sør for Jan Mayen</td>\n      <td>69.50000</td>\n      <td>-9.00000</td>\n    </tr>\n    <tr>\n      <th>0</th>\n      <td>Øst av Island</td>\n      <td>65.52053</td>\n      <td>-12.91464</td>\n    </tr>\n    <tr>\n      <th>10</th>\n      <td>Sørvest av Irland</td>\n      <td>50.18056</td>\n      <td>-11.92593</td>\n    </tr>\n    <tr>\n      <th>9497</th>\n      <td>Utenfor Cornwall</td>\n      <td>49.97925</td>\n      <td>-1.82633</td>\n    </tr>\n    <tr>\n      <th>264447</th>\n      <td>Nord av Island</td>\n      <td>66.86435</td>\n      <td>-18.54177</td>\n    </tr>\n    <tr>\n      <th>894745</th>\n      <td>Grønlandshavet</td>\n      <td>78.00000</td>\n      <td>-4.00000</td>\n    </tr>\n    <tr>\n      <th>281772</th>\n      <td>Nordøst av Island</td>\n      <td>67.15528</td>\n      <td>-14.19542</td>\n    </tr>\n    <tr>\n      <th>866821</th>\n      <td>Reykjanesryggen</td>\n      <td>54.28788</td>\n      <td>-29.04545</td>\n    </tr>\n    <tr>\n      <th>73807</th>\n      <td>Sentrale Nordsjø</td>\n      <td>55.55289</td>\n      <td>3.29954</td>\n    </tr>\n    <tr>\n      <th>75058</th>\n      <td>Skagerrak</td>\n      <td>57.85579</td>\n      <td>10.51751</td>\n    </tr>\n    <tr>\n      <th>301523</th>\n      <td>Nordvest av Island</td>\n      <td>66.42263</td>\n      <td>-24.82734</td>\n    </tr>\n    <tr>\n      <th>943854</th>\n      <td>Eigersundbanken</td>\n      <td>58.81161</td>\n      <td>4.59718</td>\n    </tr>\n    <tr>\n      <th>21545</th>\n      <td>Nordvestlige Norskehav</td>\n      <td>72.25000</td>\n      <td>-4.00000</td>\n    </tr>\n    <tr>\n      <th>251632</th>\n      <td>Nord av Novaja Semlja</td>\n      <td>79.25000</td>\n      <td>59.50000</td>\n    </tr>\n  </tbody>\n</table>\n</div>"
     },
     "execution_count": 224,
     "metadata": {},
     "output_type": "execute_result"
    }
   ],
   "source": [
    "unique_hovedomrade"
   ],
   "metadata": {
    "collapsed": false,
    "ExecuteTime": {
     "end_time": "2024-06-15T22:43:11.479515392Z",
     "start_time": "2024-06-15T22:43:11.433263428Z"
    }
   },
   "id": "844d95e083a07ceb",
   "execution_count": 224
  },
  {
   "cell_type": "code",
   "outputs": [],
   "source": [
    "# Account for duplicates by taking the mean of the coordinates\n",
    "unique_hovedomrade = unique_hovedomrade.groupby('Hovedområde', as_index=False).mean()"
   ],
   "metadata": {
    "collapsed": false,
    "ExecuteTime": {
     "end_time": "2024-06-15T22:43:13.502334573Z",
     "start_time": "2024-06-15T22:43:13.498632352Z"
    }
   },
   "id": "a32827831ae16a7a",
   "execution_count": 225
  },
  {
   "cell_type": "code",
   "outputs": [
    {
     "data": {
      "text/plain": "                      Hovedområde  Lat (hovedområde)  Lon (hovedområde)\n0                Admiralityfeltet          75.026320          49.526320\n1                        Bjørnøya          74.599210          21.658730\n2                   Britvinfeltet          73.033330          47.533330\n3                  Danmarkstredet          65.151640         -33.540980\n4                 Eigersundbanken          58.822380           4.571155\n5                     Færøybanken          60.750000          -9.000000\n6                  Grønlandshavet          78.000000          -4.000000\n7                      Gåsebanken          70.937500          48.125000\n8                Helgelandsbanken          65.379650           9.650350\n9                           Hopen          78.834820          26.169640\n10                    Kaninbanken          68.700000          49.000000\n11                 Murmanskkysten          69.246400          36.762660\n12                 Nord av Island          66.864350         -18.541770\n13          Nord av Novaja Semlja          79.250000          59.500000\n14                 Nordkappbanken          72.553570          22.107140\n15            Nordv.- Spitsbergen          80.240080          10.005950\n16             Nordvest av Island          66.422630         -24.827340\n17         Nordvestlige Norskehav          72.250000          -4.000000\n18              Nordøst av Island          67.155280         -14.195420\n19                 Nordøstområdet          79.250000          45.500000\n20                Reykjanesryggen          54.287880         -29.045450\n21                        Rockall          57.250000         -15.000000\n22  Røstbanken til Malangsgrunnen          69.021920          14.448170\n23                  Sentralbanken          75.000000          35.000000\n24               Sentrale Nordsjø          55.549795           3.289880\n25             Sentrale Norskehav          66.500000          -2.000000\n26                       Shetland          59.753670          -1.003490\n27                      Skagerrak          57.849645          10.473010\n28                    Skjoldungen          60.988720         -35.313910\n29                  Skolpenbanken          71.000000          36.500000\n30                     Storbanken          79.250000          35.000000\n31           Storegga-Frøyabanken          63.132300           6.608180\n32      Storfjord/Hinlopenstredet          79.257810          19.500000\n33              Sør for Jan Mayen          69.500000          -9.000000\n34                Sørlige Nordsjø          52.380600           2.951850\n35              Sørlige Norskehav          63.611110          -1.611110\n36              Sørvest av Irland          50.180560         -11.925930\n37              Sørvest av Island          63.358710         -23.432550\n38         Sørvest av Spitsbergen          74.750000           9.000000\n39          Sørvestlige Norskehav          65.500000          -9.000000\n40             Thor Iversens Bank          73.000000          35.000000\n41               Utenfor Cornwall          49.979250          -1.826330\n42               Vest av Færøyene          61.607140         -11.285710\n43                 Vest av Irland          53.503460         -13.416650\n44  Vest av Skottland (Hebridene)          57.398150          -8.228400\n45           Vest av Tromsøflaket          72.250000           9.000000\n46                  Vest-Finnmark          70.647310          20.847500\n47               Vest-Spitsbergen          77.020270           9.948200\n48          Vestfjorden (Lofoten)          67.628730          14.674560\n49             Vestlige Norskehav          69.500000          -2.000000\n50                   Vikingbanken          61.048470           4.513070\n51                Øst av Færøyene          61.573530          -5.558820\n52                  Øst av Island          65.520530         -12.914640\n53                   Øst-Finnmark          70.816820          29.343600\n54              Østlige Norskehav          68.494440           7.011110",
      "text/html": "<div>\n<style scoped>\n    .dataframe tbody tr th:only-of-type {\n        vertical-align: middle;\n    }\n\n    .dataframe tbody tr th {\n        vertical-align: top;\n    }\n\n    .dataframe thead th {\n        text-align: right;\n    }\n</style>\n<table border=\"1\" class=\"dataframe\">\n  <thead>\n    <tr style=\"text-align: right;\">\n      <th></th>\n      <th>Hovedområde</th>\n      <th>Lat (hovedområde)</th>\n      <th>Lon (hovedområde)</th>\n    </tr>\n  </thead>\n  <tbody>\n    <tr>\n      <th>0</th>\n      <td>Admiralityfeltet</td>\n      <td>75.026320</td>\n      <td>49.526320</td>\n    </tr>\n    <tr>\n      <th>1</th>\n      <td>Bjørnøya</td>\n      <td>74.599210</td>\n      <td>21.658730</td>\n    </tr>\n    <tr>\n      <th>2</th>\n      <td>Britvinfeltet</td>\n      <td>73.033330</td>\n      <td>47.533330</td>\n    </tr>\n    <tr>\n      <th>3</th>\n      <td>Danmarkstredet</td>\n      <td>65.151640</td>\n      <td>-33.540980</td>\n    </tr>\n    <tr>\n      <th>4</th>\n      <td>Eigersundbanken</td>\n      <td>58.822380</td>\n      <td>4.571155</td>\n    </tr>\n    <tr>\n      <th>5</th>\n      <td>Færøybanken</td>\n      <td>60.750000</td>\n      <td>-9.000000</td>\n    </tr>\n    <tr>\n      <th>6</th>\n      <td>Grønlandshavet</td>\n      <td>78.000000</td>\n      <td>-4.000000</td>\n    </tr>\n    <tr>\n      <th>7</th>\n      <td>Gåsebanken</td>\n      <td>70.937500</td>\n      <td>48.125000</td>\n    </tr>\n    <tr>\n      <th>8</th>\n      <td>Helgelandsbanken</td>\n      <td>65.379650</td>\n      <td>9.650350</td>\n    </tr>\n    <tr>\n      <th>9</th>\n      <td>Hopen</td>\n      <td>78.834820</td>\n      <td>26.169640</td>\n    </tr>\n    <tr>\n      <th>10</th>\n      <td>Kaninbanken</td>\n      <td>68.700000</td>\n      <td>49.000000</td>\n    </tr>\n    <tr>\n      <th>11</th>\n      <td>Murmanskkysten</td>\n      <td>69.246400</td>\n      <td>36.762660</td>\n    </tr>\n    <tr>\n      <th>12</th>\n      <td>Nord av Island</td>\n      <td>66.864350</td>\n      <td>-18.541770</td>\n    </tr>\n    <tr>\n      <th>13</th>\n      <td>Nord av Novaja Semlja</td>\n      <td>79.250000</td>\n      <td>59.500000</td>\n    </tr>\n    <tr>\n      <th>14</th>\n      <td>Nordkappbanken</td>\n      <td>72.553570</td>\n      <td>22.107140</td>\n    </tr>\n    <tr>\n      <th>15</th>\n      <td>Nordv.- Spitsbergen</td>\n      <td>80.240080</td>\n      <td>10.005950</td>\n    </tr>\n    <tr>\n      <th>16</th>\n      <td>Nordvest av Island</td>\n      <td>66.422630</td>\n      <td>-24.827340</td>\n    </tr>\n    <tr>\n      <th>17</th>\n      <td>Nordvestlige Norskehav</td>\n      <td>72.250000</td>\n      <td>-4.000000</td>\n    </tr>\n    <tr>\n      <th>18</th>\n      <td>Nordøst av Island</td>\n      <td>67.155280</td>\n      <td>-14.195420</td>\n    </tr>\n    <tr>\n      <th>19</th>\n      <td>Nordøstområdet</td>\n      <td>79.250000</td>\n      <td>45.500000</td>\n    </tr>\n    <tr>\n      <th>20</th>\n      <td>Reykjanesryggen</td>\n      <td>54.287880</td>\n      <td>-29.045450</td>\n    </tr>\n    <tr>\n      <th>21</th>\n      <td>Rockall</td>\n      <td>57.250000</td>\n      <td>-15.000000</td>\n    </tr>\n    <tr>\n      <th>22</th>\n      <td>Røstbanken til Malangsgrunnen</td>\n      <td>69.021920</td>\n      <td>14.448170</td>\n    </tr>\n    <tr>\n      <th>23</th>\n      <td>Sentralbanken</td>\n      <td>75.000000</td>\n      <td>35.000000</td>\n    </tr>\n    <tr>\n      <th>24</th>\n      <td>Sentrale Nordsjø</td>\n      <td>55.549795</td>\n      <td>3.289880</td>\n    </tr>\n    <tr>\n      <th>25</th>\n      <td>Sentrale Norskehav</td>\n      <td>66.500000</td>\n      <td>-2.000000</td>\n    </tr>\n    <tr>\n      <th>26</th>\n      <td>Shetland</td>\n      <td>59.753670</td>\n      <td>-1.003490</td>\n    </tr>\n    <tr>\n      <th>27</th>\n      <td>Skagerrak</td>\n      <td>57.849645</td>\n      <td>10.473010</td>\n    </tr>\n    <tr>\n      <th>28</th>\n      <td>Skjoldungen</td>\n      <td>60.988720</td>\n      <td>-35.313910</td>\n    </tr>\n    <tr>\n      <th>29</th>\n      <td>Skolpenbanken</td>\n      <td>71.000000</td>\n      <td>36.500000</td>\n    </tr>\n    <tr>\n      <th>30</th>\n      <td>Storbanken</td>\n      <td>79.250000</td>\n      <td>35.000000</td>\n    </tr>\n    <tr>\n      <th>31</th>\n      <td>Storegga-Frøyabanken</td>\n      <td>63.132300</td>\n      <td>6.608180</td>\n    </tr>\n    <tr>\n      <th>32</th>\n      <td>Storfjord/Hinlopenstredet</td>\n      <td>79.257810</td>\n      <td>19.500000</td>\n    </tr>\n    <tr>\n      <th>33</th>\n      <td>Sør for Jan Mayen</td>\n      <td>69.500000</td>\n      <td>-9.000000</td>\n    </tr>\n    <tr>\n      <th>34</th>\n      <td>Sørlige Nordsjø</td>\n      <td>52.380600</td>\n      <td>2.951850</td>\n    </tr>\n    <tr>\n      <th>35</th>\n      <td>Sørlige Norskehav</td>\n      <td>63.611110</td>\n      <td>-1.611110</td>\n    </tr>\n    <tr>\n      <th>36</th>\n      <td>Sørvest av Irland</td>\n      <td>50.180560</td>\n      <td>-11.925930</td>\n    </tr>\n    <tr>\n      <th>37</th>\n      <td>Sørvest av Island</td>\n      <td>63.358710</td>\n      <td>-23.432550</td>\n    </tr>\n    <tr>\n      <th>38</th>\n      <td>Sørvest av Spitsbergen</td>\n      <td>74.750000</td>\n      <td>9.000000</td>\n    </tr>\n    <tr>\n      <th>39</th>\n      <td>Sørvestlige Norskehav</td>\n      <td>65.500000</td>\n      <td>-9.000000</td>\n    </tr>\n    <tr>\n      <th>40</th>\n      <td>Thor Iversens Bank</td>\n      <td>73.000000</td>\n      <td>35.000000</td>\n    </tr>\n    <tr>\n      <th>41</th>\n      <td>Utenfor Cornwall</td>\n      <td>49.979250</td>\n      <td>-1.826330</td>\n    </tr>\n    <tr>\n      <th>42</th>\n      <td>Vest av Færøyene</td>\n      <td>61.607140</td>\n      <td>-11.285710</td>\n    </tr>\n    <tr>\n      <th>43</th>\n      <td>Vest av Irland</td>\n      <td>53.503460</td>\n      <td>-13.416650</td>\n    </tr>\n    <tr>\n      <th>44</th>\n      <td>Vest av Skottland (Hebridene)</td>\n      <td>57.398150</td>\n      <td>-8.228400</td>\n    </tr>\n    <tr>\n      <th>45</th>\n      <td>Vest av Tromsøflaket</td>\n      <td>72.250000</td>\n      <td>9.000000</td>\n    </tr>\n    <tr>\n      <th>46</th>\n      <td>Vest-Finnmark</td>\n      <td>70.647310</td>\n      <td>20.847500</td>\n    </tr>\n    <tr>\n      <th>47</th>\n      <td>Vest-Spitsbergen</td>\n      <td>77.020270</td>\n      <td>9.948200</td>\n    </tr>\n    <tr>\n      <th>48</th>\n      <td>Vestfjorden (Lofoten)</td>\n      <td>67.628730</td>\n      <td>14.674560</td>\n    </tr>\n    <tr>\n      <th>49</th>\n      <td>Vestlige Norskehav</td>\n      <td>69.500000</td>\n      <td>-2.000000</td>\n    </tr>\n    <tr>\n      <th>50</th>\n      <td>Vikingbanken</td>\n      <td>61.048470</td>\n      <td>4.513070</td>\n    </tr>\n    <tr>\n      <th>51</th>\n      <td>Øst av Færøyene</td>\n      <td>61.573530</td>\n      <td>-5.558820</td>\n    </tr>\n    <tr>\n      <th>52</th>\n      <td>Øst av Island</td>\n      <td>65.520530</td>\n      <td>-12.914640</td>\n    </tr>\n    <tr>\n      <th>53</th>\n      <td>Øst-Finnmark</td>\n      <td>70.816820</td>\n      <td>29.343600</td>\n    </tr>\n    <tr>\n      <th>54</th>\n      <td>Østlige Norskehav</td>\n      <td>68.494440</td>\n      <td>7.011110</td>\n    </tr>\n  </tbody>\n</table>\n</div>"
     },
     "execution_count": 226,
     "metadata": {},
     "output_type": "execute_result"
    }
   ],
   "source": [
    "unique_hovedomrade"
   ],
   "metadata": {
    "collapsed": false,
    "ExecuteTime": {
     "end_time": "2024-06-15T22:43:14.172695265Z",
     "start_time": "2024-06-15T22:43:14.158784254Z"
    }
   },
   "id": "6ea74918f3062332",
   "execution_count": 226
  },
  {
   "cell_type": "code",
   "outputs": [],
   "source": [
    "bm = Basemap(resolution='f')"
   ],
   "metadata": {
    "collapsed": false,
    "ExecuteTime": {
     "end_time": "2024-06-15T21:00:52.601280421Z",
     "start_time": "2024-06-15T20:58:58.435939733Z"
    }
   },
   "id": "f88906c60285d430",
   "execution_count": 17
  },
  {
   "cell_type": "code",
   "outputs": [
    {
     "name": "stderr",
     "output_type": "stream",
     "text": [
      "100%|██████████| 55/55 [00:26<00:00,  2.10it/s]\n"
     ]
    }
   ],
   "source": [
    "# Now we need to check if the coordinates are on land or in the ocean\n",
    "# Previous work in the notebook Data_selection revealed this to be the case for some locations\n",
    "unique_hovedomrade['Ocean'] = np.nan\n",
    "for index, row in tqdm(unique_hovedomrade.iterrows(), total=unique_hovedomrade.shape[0], position=0, leave=True):\n",
    "    lat = row['Lat (hovedområde)']\n",
    "    lon = row['Lon (hovedområde)']\n",
    "    x, y = bm(lon, lat)\n",
    "    if bm.is_land(x, y):\n",
    "        unique_hovedomrade.at[index, 'Ocean'] = 0\n",
    "    else:\n",
    "        unique_hovedomrade.at[index, 'Ocean'] = 1"
   ],
   "metadata": {
    "collapsed": false,
    "ExecuteTime": {
     "end_time": "2024-06-15T22:43:43.475569548Z",
     "start_time": "2024-06-15T22:43:17.295077999Z"
    }
   },
   "id": "62db7c1824a85f9f",
   "execution_count": 227
  },
  {
   "cell_type": "code",
   "outputs": [
    {
     "name": "stderr",
     "output_type": "stream",
     "text": [
      "100%|██████████| 6/6 [01:18<00:00, 13.03s/it]\n"
     ]
    }
   ],
   "source": [
    "# Fill in missing specific lat, lon values with the hovedområde coordinates\n",
    "# This is because there are some values missing in the more specific 'Lat (lokasjon)' and 'Lon (lokasjon)' columns, while the 'Hovedområde' column is always filled in\n",
    "# We then save these dataframes to the data/train/dataframes folder\n",
    "for i in tqdm(range(2015, 2021)):\n",
    "    data = pd.read_csv(path + '/Catch Notes Datasets/' + 'fangstdata_' + str(i) + '.csv', delimiter=';', decimal=',', encoding='utf8', usecols=relevant_columns)\n",
    "    data = data[data['Art - gruppe'] == 'Torsk']\n",
    "    data['Siste fangstdato'] = pd.to_datetime(data['Siste fangstdato'], format='%d.%m.%Y')\n",
    "    if train_data.min() in data['Siste fangstdato'].values:\n",
    "        data = data[data['Siste fangstdato'] >= train_data.min()]\n",
    "    if train_data.max() in data['Siste fangstdato'].values:\n",
    "        data = data[data['Siste fangstdato'] <= train_data.max()]\n",
    "    for index, row in data.iterrows():\n",
    "        if pd.isnull(row['Lat (lokasjon)']) or pd.isnull(row['Lon (lokasjon)']):\n",
    "            hovedomrade = row['Hovedområde']\n",
    "            if hovedomrade not in unique_hovedomrade['Hovedområde'].values:\n",
    "                continue\n",
    "            lat = unique_hovedomrade[unique_hovedomrade['Hovedområde'] == hovedomrade]['Lat (hovedområde)'].values[0]\n",
    "            lon = unique_hovedomrade[unique_hovedomrade['Hovedområde'] == hovedomrade]['Lon (hovedområde)'].values[0]\n",
    "            data.at[index, 'Lat (lokasjon)'] = lat\n",
    "            data.at[index, 'Lon (lokasjon)'] = lon\n",
    "    data.dropna(inplace=True)\n",
    "    data = data[['Produktvekt', 'Siste fangstdato', 'Lon (lokasjon)', 'Lat (lokasjon)']]\n",
    "    data = data.groupby(['Siste fangstdato', 'Lon (lokasjon)', 'Lat (lokasjon)'], as_index=False).agg({'Produktvekt': 'sum'})\n",
    "    data.sort_values(by='Siste fangstdato', inplace=True)\n",
    "    data.to_csv(path + '/train/dataframes/' + 'fangstdata_' + str(i) + '_cod.csv', index=False)"
   ],
   "metadata": {
    "collapsed": false,
    "ExecuteTime": {
     "end_time": "2024-06-15T22:45:40.389924726Z",
     "start_time": "2024-06-15T22:44:22.182546954Z"
    }
   },
   "id": "b999dec67bfb3554",
   "execution_count": 228
  },
  {
   "cell_type": "code",
   "outputs": [],
   "source": [
    "# Now we need to check the frequency of each unique coordinate"
   ],
   "metadata": {
    "collapsed": false
   },
   "id": "41ec4b86b9eefea2"
  },
  {
   "cell_type": "code",
   "outputs": [
    {
     "name": "stderr",
     "output_type": "stream",
     "text": [
      "  0%|          | 0/6 [00:00<?, ?it/s]/tmp/ipykernel_11502/2097057461.py:4: FutureWarning:\n",
      "\n",
      "The behavior of DataFrame concatenation with empty or all-NA entries is deprecated. In a future version, this will no longer exclude empty or all-NA columns when determining the result dtypes. To retain the old behavior, exclude the relevant entries before the concat operation.\n",
      "\n",
      "100%|██████████| 6/6 [00:00<00:00, 222.89it/s]\n"
     ]
    }
   ],
   "source": [
    "unique_locations = pd.DataFrame(columns=['Lat (lokasjon)', 'Lon (lokasjon)'])\n",
    "for i in tqdm(range(2015, 2021)):\n",
    "    data = pd.read_csv(path + '/train/dataframes/' + 'fangstdata_' + str(i) + '_cod.csv', usecols=['Lat (lokasjon)', 'Lon (lokasjon)'])\n",
    "    unique_locations = pd.concat([unique_locations, data[['Lat (lokasjon)', 'Lon (lokasjon)']]])"
   ],
   "metadata": {
    "collapsed": false,
    "ExecuteTime": {
     "end_time": "2024-06-15T22:46:26.723953310Z",
     "start_time": "2024-06-15T22:46:26.630494292Z"
    }
   },
   "id": "41a9d6873df7cfb5",
   "execution_count": 229
  },
  {
   "cell_type": "code",
   "outputs": [
    {
     "data": {
      "text/plain": "Lat (lokasjon)    0\nLon (lokasjon)    0\ndtype: int64"
     },
     "execution_count": 230,
     "metadata": {},
     "output_type": "execute_result"
    }
   ],
   "source": [
    "# Check if any missing values are missing\n",
    "unique_locations.isna().sum()"
   ],
   "metadata": {
    "collapsed": false,
    "ExecuteTime": {
     "end_time": "2024-06-15T22:46:28.708163908Z",
     "start_time": "2024-06-15T22:46:28.657944722Z"
    }
   },
   "id": "775a6f2175e2e08",
   "execution_count": 230
  },
  {
   "cell_type": "code",
   "outputs": [
    {
     "data": {
      "text/plain": "     Lat (lokasjon)  Lon (lokasjon)\n0          62.21811         5.59752\n1          68.15924        14.56579\n2          67.62873        14.67456\n3          69.26583        15.47374\n4          69.75000        15.50000\n..              ...             ...\n426        69.26583        15.47374\n427        69.75000        15.50000\n428        68.27428        15.61145\n429        65.22203        11.56914\n430        74.50000        35.00000\n\n[112292 rows x 2 columns]",
      "text/html": "<div>\n<style scoped>\n    .dataframe tbody tr th:only-of-type {\n        vertical-align: middle;\n    }\n\n    .dataframe tbody tr th {\n        vertical-align: top;\n    }\n\n    .dataframe thead th {\n        text-align: right;\n    }\n</style>\n<table border=\"1\" class=\"dataframe\">\n  <thead>\n    <tr style=\"text-align: right;\">\n      <th></th>\n      <th>Lat (lokasjon)</th>\n      <th>Lon (lokasjon)</th>\n    </tr>\n  </thead>\n  <tbody>\n    <tr>\n      <th>0</th>\n      <td>62.21811</td>\n      <td>5.59752</td>\n    </tr>\n    <tr>\n      <th>1</th>\n      <td>68.15924</td>\n      <td>14.56579</td>\n    </tr>\n    <tr>\n      <th>2</th>\n      <td>67.62873</td>\n      <td>14.67456</td>\n    </tr>\n    <tr>\n      <th>3</th>\n      <td>69.26583</td>\n      <td>15.47374</td>\n    </tr>\n    <tr>\n      <th>4</th>\n      <td>69.75000</td>\n      <td>15.50000</td>\n    </tr>\n    <tr>\n      <th>...</th>\n      <td>...</td>\n      <td>...</td>\n    </tr>\n    <tr>\n      <th>426</th>\n      <td>69.26583</td>\n      <td>15.47374</td>\n    </tr>\n    <tr>\n      <th>427</th>\n      <td>69.75000</td>\n      <td>15.50000</td>\n    </tr>\n    <tr>\n      <th>428</th>\n      <td>68.27428</td>\n      <td>15.61145</td>\n    </tr>\n    <tr>\n      <th>429</th>\n      <td>65.22203</td>\n      <td>11.56914</td>\n    </tr>\n    <tr>\n      <th>430</th>\n      <td>74.50000</td>\n      <td>35.00000</td>\n    </tr>\n  </tbody>\n</table>\n<p>112292 rows × 2 columns</p>\n</div>"
     },
     "execution_count": 231,
     "metadata": {},
     "output_type": "execute_result"
    }
   ],
   "source": [
    "unique_locations"
   ],
   "metadata": {
    "collapsed": false,
    "ExecuteTime": {
     "end_time": "2024-06-15T22:46:29.547683099Z",
     "start_time": "2024-06-15T22:46:29.540000664Z"
    }
   },
   "id": "542c1980fb8628d9",
   "execution_count": 231
  },
  {
   "cell_type": "code",
   "outputs": [],
   "source": [
    "# Now we need to check the frequency of each unique coordinateq\n",
    "unique_locations_grouped = unique_locations.groupby(['Lat (lokasjon)', 'Lon (lokasjon)'], as_index=False).size().sort_values(ascending=False, by='size').reset_index(drop=True)"
   ],
   "metadata": {
    "collapsed": false,
    "ExecuteTime": {
     "end_time": "2024-06-15T22:46:30.306574875Z",
     "start_time": "2024-06-15T22:46:30.297254747Z"
    }
   },
   "id": "1e16c2c18dfeff85",
   "execution_count": 232
  },
  {
   "cell_type": "code",
   "outputs": [
    {
     "data": {
      "text/plain": "     Lat (lokasjon)  Lon (lokasjon)  size\n0          69.25000        14.50000  1569\n1          70.73675        21.54827  1473\n2          58.25000         5.50000  1470\n3          69.74206        17.49100  1457\n4          66.25000        11.50000  1448\n..              ...             ...   ...\n667        56.75000        -0.50000     1\n668        56.75000         1.50000     1\n669        78.25000        12.00000     1\n670        78.25000        14.00000     1\n671        55.50000       -33.00000     1\n\n[672 rows x 3 columns]",
      "text/html": "<div>\n<style scoped>\n    .dataframe tbody tr th:only-of-type {\n        vertical-align: middle;\n    }\n\n    .dataframe tbody tr th {\n        vertical-align: top;\n    }\n\n    .dataframe thead th {\n        text-align: right;\n    }\n</style>\n<table border=\"1\" class=\"dataframe\">\n  <thead>\n    <tr style=\"text-align: right;\">\n      <th></th>\n      <th>Lat (lokasjon)</th>\n      <th>Lon (lokasjon)</th>\n      <th>size</th>\n    </tr>\n  </thead>\n  <tbody>\n    <tr>\n      <th>0</th>\n      <td>69.25000</td>\n      <td>14.50000</td>\n      <td>1569</td>\n    </tr>\n    <tr>\n      <th>1</th>\n      <td>70.73675</td>\n      <td>21.54827</td>\n      <td>1473</td>\n    </tr>\n    <tr>\n      <th>2</th>\n      <td>58.25000</td>\n      <td>5.50000</td>\n      <td>1470</td>\n    </tr>\n    <tr>\n      <th>3</th>\n      <td>69.74206</td>\n      <td>17.49100</td>\n      <td>1457</td>\n    </tr>\n    <tr>\n      <th>4</th>\n      <td>66.25000</td>\n      <td>11.50000</td>\n      <td>1448</td>\n    </tr>\n    <tr>\n      <th>...</th>\n      <td>...</td>\n      <td>...</td>\n      <td>...</td>\n    </tr>\n    <tr>\n      <th>667</th>\n      <td>56.75000</td>\n      <td>-0.50000</td>\n      <td>1</td>\n    </tr>\n    <tr>\n      <th>668</th>\n      <td>56.75000</td>\n      <td>1.50000</td>\n      <td>1</td>\n    </tr>\n    <tr>\n      <th>669</th>\n      <td>78.25000</td>\n      <td>12.00000</td>\n      <td>1</td>\n    </tr>\n    <tr>\n      <th>670</th>\n      <td>78.25000</td>\n      <td>14.00000</td>\n      <td>1</td>\n    </tr>\n    <tr>\n      <th>671</th>\n      <td>55.50000</td>\n      <td>-33.00000</td>\n      <td>1</td>\n    </tr>\n  </tbody>\n</table>\n<p>672 rows × 3 columns</p>\n</div>"
     },
     "execution_count": 233,
     "metadata": {},
     "output_type": "execute_result"
    }
   ],
   "source": [
    "unique_locations_grouped"
   ],
   "metadata": {
    "collapsed": false,
    "ExecuteTime": {
     "end_time": "2024-06-15T22:46:31.226024792Z",
     "start_time": "2024-06-15T22:46:31.205323431Z"
    }
   },
   "id": "44e3f6217345bd1c",
   "execution_count": 233
  },
  {
   "cell_type": "code",
   "outputs": [
    {
     "name": "stderr",
     "output_type": "stream",
     "text": [
      "100%|██████████| 672/672 [06:46<00:00,  1.65it/s]\n"
     ]
    }
   ],
   "source": [
    "# Now we remove all land coordinates\n",
    "unique_locations_grouped['Ocean'] = np.nan\n",
    "for index, row in tqdm(unique_locations_grouped.iterrows(), total=unique_locations_grouped.shape[0], position=0, leave=True):\n",
    "    lat = row['Lat (lokasjon)']\n",
    "    lon = row['Lon (lokasjon)']\n",
    "    x, y = bm(lon, lat)\n",
    "    if bm.is_land(x, y):\n",
    "        unique_locations_grouped.at[index, 'Ocean'] = 0\n",
    "    else:\n",
    "        unique_locations_grouped.at[index, 'Ocean'] = 1"
   ],
   "metadata": {
    "collapsed": false,
    "ExecuteTime": {
     "end_time": "2024-06-15T22:53:19.965418916Z",
     "start_time": "2024-06-15T22:46:33.830526593Z"
    }
   },
   "id": "5ca96de3acb5e66",
   "execution_count": 234
  },
  {
   "cell_type": "code",
   "outputs": [
    {
     "data": {
      "text/plain": "     Lat (lokasjon)  Lon (lokasjon)  size  Ocean\n0          69.25000        14.50000  1569    1.0\n1          70.73675        21.54827  1473    1.0\n2          58.25000         5.50000  1470    1.0\n3          69.74206        17.49100  1457    1.0\n4          66.25000        11.50000  1448    1.0\n..              ...             ...   ...    ...\n666        56.75000       -14.50000     1    1.0\n667        56.75000        -0.50000     1    1.0\n668        56.75000         1.50000     1    1.0\n670        78.25000        14.00000     1    1.0\n671        55.50000       -33.00000     1    1.0\n\n[621 rows x 4 columns]",
      "text/html": "<div>\n<style scoped>\n    .dataframe tbody tr th:only-of-type {\n        vertical-align: middle;\n    }\n\n    .dataframe tbody tr th {\n        vertical-align: top;\n    }\n\n    .dataframe thead th {\n        text-align: right;\n    }\n</style>\n<table border=\"1\" class=\"dataframe\">\n  <thead>\n    <tr style=\"text-align: right;\">\n      <th></th>\n      <th>Lat (lokasjon)</th>\n      <th>Lon (lokasjon)</th>\n      <th>size</th>\n      <th>Ocean</th>\n    </tr>\n  </thead>\n  <tbody>\n    <tr>\n      <th>0</th>\n      <td>69.25000</td>\n      <td>14.50000</td>\n      <td>1569</td>\n      <td>1.0</td>\n    </tr>\n    <tr>\n      <th>1</th>\n      <td>70.73675</td>\n      <td>21.54827</td>\n      <td>1473</td>\n      <td>1.0</td>\n    </tr>\n    <tr>\n      <th>2</th>\n      <td>58.25000</td>\n      <td>5.50000</td>\n      <td>1470</td>\n      <td>1.0</td>\n    </tr>\n    <tr>\n      <th>3</th>\n      <td>69.74206</td>\n      <td>17.49100</td>\n      <td>1457</td>\n      <td>1.0</td>\n    </tr>\n    <tr>\n      <th>4</th>\n      <td>66.25000</td>\n      <td>11.50000</td>\n      <td>1448</td>\n      <td>1.0</td>\n    </tr>\n    <tr>\n      <th>...</th>\n      <td>...</td>\n      <td>...</td>\n      <td>...</td>\n      <td>...</td>\n    </tr>\n    <tr>\n      <th>666</th>\n      <td>56.75000</td>\n      <td>-14.50000</td>\n      <td>1</td>\n      <td>1.0</td>\n    </tr>\n    <tr>\n      <th>667</th>\n      <td>56.75000</td>\n      <td>-0.50000</td>\n      <td>1</td>\n      <td>1.0</td>\n    </tr>\n    <tr>\n      <th>668</th>\n      <td>56.75000</td>\n      <td>1.50000</td>\n      <td>1</td>\n      <td>1.0</td>\n    </tr>\n    <tr>\n      <th>670</th>\n      <td>78.25000</td>\n      <td>14.00000</td>\n      <td>1</td>\n      <td>1.0</td>\n    </tr>\n    <tr>\n      <th>671</th>\n      <td>55.50000</td>\n      <td>-33.00000</td>\n      <td>1</td>\n      <td>1.0</td>\n    </tr>\n  </tbody>\n</table>\n<p>621 rows × 4 columns</p>\n</div>"
     },
     "execution_count": 235,
     "metadata": {},
     "output_type": "execute_result"
    }
   ],
   "source": [
    "oceanCoords = unique_locations_grouped[unique_locations_grouped['Ocean'] == 1]\n",
    "oceanCoords"
   ],
   "metadata": {
    "collapsed": false,
    "ExecuteTime": {
     "end_time": "2024-06-15T22:56:52.494251927Z",
     "start_time": "2024-06-15T22:56:52.481396466Z"
    }
   },
   "id": "d0972232580c6745",
   "execution_count": 235
  },
  {
   "cell_type": "code",
   "outputs": [
    {
     "name": "stderr",
     "output_type": "stream",
     "text": [
      "/tmp/ipykernel_11502/3396428949.py:1: SettingWithCopyWarning:\n",
      "\n",
      "\n",
      "A value is trying to be set on a copy of a slice from a DataFrame.\n",
      "Try using .loc[row_indexer,col_indexer] = value instead\n",
      "\n",
      "See the caveats in the documentation: https://pandas.pydata.org/pandas-docs/stable/user_guide/indexing.html#returning-a-view-versus-a-copy\n",
      "\n"
     ]
    }
   ],
   "source": [
    "oceanCoords['marker_size'] = ((oceanCoords['size'] - np.min(oceanCoords['size'])) / (np.max(oceanCoords['size']) - np.min(oceanCoords['size'])))  * (14 - 5) + 5"
   ],
   "metadata": {
    "collapsed": false,
    "ExecuteTime": {
     "end_time": "2024-06-15T22:56:53.408384285Z",
     "start_time": "2024-06-15T22:56:53.404730314Z"
    }
   },
   "id": "d4b72dae777f6f89",
   "execution_count": 236
  },
  {
   "cell_type": "code",
   "outputs": [
    {
     "data": {
      "application/vnd.plotly.v1+json": {
       "data": [
        {
         "hovertext": [
          1569.0,
          1473.0,
          1470.0,
          1457.0,
          1448.0,
          1443.0,
          1411.0,
          1407.0,
          1403.0,
          1394.0,
          1391.0,
          1390.0,
          1381.0,
          1364.0,
          1341.0,
          1310.0,
          1309.0,
          1300.0,
          1287.0,
          1282.0,
          1263.0,
          1243.0,
          1223.0,
          1206.0,
          1204.0,
          1198.0,
          1195.0,
          1193.0,
          1139.0,
          1128.0,
          1124.0,
          1096.0,
          1076.0,
          1061.0,
          1060.0,
          1044.0,
          1005.0,
          974.0,
          970.0,
          967.0,
          953.0,
          937.0,
          936.0,
          929.0,
          839.0,
          792.0,
          786.0,
          769.0,
          745.0,
          683.0,
          675.0,
          646.0,
          637.0,
          625.0,
          618.0,
          611.0,
          607.0,
          576.0,
          566.0,
          561.0,
          494.0,
          494.0,
          492.0,
          473.0,
          457.0,
          450.0,
          406.0,
          379.0,
          378.0,
          376.0,
          369.0,
          360.0,
          356.0,
          343.0,
          326.0,
          316.0,
          311.0,
          310.0,
          302.0,
          300.0,
          289.0,
          285.0,
          277.0,
          277.0,
          275.0,
          261.0,
          253.0,
          249.0,
          214.0,
          210.0,
          206.0,
          198.0,
          187.0,
          187.0,
          177.0,
          169.0,
          167.0,
          160.0,
          155.0,
          147.0,
          146.0,
          145.0,
          141.0,
          136.0,
          135.0,
          133.0,
          132.0,
          131.0,
          125.0,
          116.0,
          116.0,
          114.0,
          112.0,
          109.0,
          106.0,
          106.0,
          104.0,
          103.0,
          98.0,
          93.0,
          91.0,
          90.0,
          89.0,
          87.0,
          86.0,
          86.0,
          84.0,
          83.0,
          79.0,
          79.0,
          75.0,
          72.0,
          70.0,
          69.0,
          66.0,
          65.0,
          65.0,
          63.0,
          62.0,
          61.0,
          61.0,
          58.0,
          58.0,
          57.0,
          57.0,
          55.0,
          55.0,
          55.0,
          55.0,
          55.0,
          54.0,
          54.0,
          53.0,
          53.0,
          52.0,
          52.0,
          51.0,
          51.0,
          49.0,
          49.0,
          48.0,
          48.0,
          48.0,
          48.0,
          47.0,
          47.0,
          47.0,
          46.0,
          46.0,
          45.0,
          44.0,
          44.0,
          43.0,
          43.0,
          43.0,
          42.0,
          42.0,
          42.0,
          42.0,
          42.0,
          40.0,
          40.0,
          39.0,
          39.0,
          39.0,
          38.0,
          38.0,
          38.0,
          37.0,
          37.0,
          36.0,
          36.0,
          35.0,
          35.0,
          35.0,
          34.0,
          33.0,
          32.0,
          32.0,
          31.0,
          31.0,
          31.0,
          31.0,
          30.0,
          30.0,
          30.0,
          29.0,
          29.0,
          29.0,
          28.0,
          28.0,
          27.0,
          26.0,
          25.0,
          25.0,
          25.0,
          24.0,
          24.0,
          24.0,
          23.0,
          23.0,
          23.0,
          23.0,
          23.0,
          23.0,
          23.0,
          23.0,
          23.0,
          22.0,
          22.0,
          21.0,
          21.0,
          20.0,
          20.0,
          19.0,
          19.0,
          18.0,
          18.0,
          18.0,
          18.0,
          18.0,
          18.0,
          17.0,
          17.0,
          17.0,
          17.0,
          17.0,
          17.0,
          17.0,
          17.0,
          17.0,
          17.0,
          17.0,
          16.0,
          16.0,
          16.0,
          16.0,
          16.0,
          16.0,
          15.0,
          15.0,
          15.0,
          14.0,
          14.0,
          13.0,
          13.0,
          13.0,
          13.0,
          13.0,
          12.0,
          12.0,
          12.0,
          12.0,
          12.0,
          11.0,
          11.0,
          11.0,
          11.0,
          11.0,
          11.0,
          11.0,
          11.0,
          11.0,
          10.0,
          10.0,
          10.0,
          10.0,
          10.0,
          10.0,
          10.0,
          10.0,
          10.0,
          9.0,
          9.0,
          9.0,
          9.0,
          9.0,
          9.0,
          9.0,
          9.0,
          9.0,
          9.0,
          9.0,
          9.0,
          9.0,
          8.0,
          8.0,
          8.0,
          8.0,
          8.0,
          8.0,
          8.0,
          8.0,
          8.0,
          8.0,
          8.0,
          8.0,
          8.0,
          8.0,
          8.0,
          8.0,
          8.0,
          7.0,
          7.0,
          7.0,
          7.0,
          7.0,
          7.0,
          7.0,
          7.0,
          7.0,
          7.0,
          7.0,
          7.0,
          7.0,
          7.0,
          6.0,
          6.0,
          6.0,
          6.0,
          6.0,
          6.0,
          6.0,
          6.0,
          6.0,
          6.0,
          6.0,
          6.0,
          6.0,
          6.0,
          6.0,
          6.0,
          5.0,
          5.0,
          5.0,
          5.0,
          5.0,
          5.0,
          5.0,
          5.0,
          5.0,
          5.0,
          5.0,
          5.0,
          5.0,
          5.0,
          5.0,
          5.0,
          5.0,
          5.0,
          4.0,
          4.0,
          4.0,
          4.0,
          4.0,
          4.0,
          4.0,
          4.0,
          4.0,
          4.0,
          4.0,
          4.0,
          4.0,
          4.0,
          4.0,
          4.0,
          4.0,
          4.0,
          4.0,
          4.0,
          4.0,
          3.0,
          3.0,
          3.0,
          3.0,
          3.0,
          3.0,
          3.0,
          3.0,
          3.0,
          3.0,
          3.0,
          3.0,
          3.0,
          3.0,
          3.0,
          3.0,
          3.0,
          3.0,
          3.0,
          3.0,
          3.0,
          3.0,
          3.0,
          3.0,
          3.0,
          3.0,
          3.0,
          3.0,
          3.0,
          3.0,
          3.0,
          3.0,
          3.0,
          3.0,
          2.0,
          2.0,
          2.0,
          2.0,
          2.0,
          2.0,
          2.0,
          2.0,
          2.0,
          2.0,
          2.0,
          2.0,
          2.0,
          2.0,
          2.0,
          2.0,
          2.0,
          2.0,
          2.0,
          2.0,
          2.0,
          2.0,
          2.0,
          2.0,
          2.0,
          2.0,
          2.0,
          2.0,
          2.0,
          2.0,
          2.0,
          2.0,
          2.0,
          2.0,
          2.0,
          2.0,
          2.0,
          2.0,
          2.0,
          2.0,
          2.0,
          2.0,
          2.0,
          2.0,
          2.0,
          2.0,
          2.0,
          2.0,
          2.0,
          2.0,
          2.0,
          2.0,
          2.0,
          2.0,
          2.0,
          2.0,
          2.0,
          2.0,
          2.0,
          2.0,
          2.0,
          2.0,
          2.0,
          2.0,
          2.0,
          2.0,
          2.0,
          2.0,
          2.0,
          2.0,
          2.0,
          2.0,
          2.0,
          1.0,
          1.0,
          1.0,
          1.0,
          1.0,
          1.0,
          1.0,
          1.0,
          1.0,
          1.0,
          1.0,
          1.0,
          1.0,
          1.0,
          1.0,
          1.0,
          1.0,
          1.0,
          1.0,
          1.0,
          1.0,
          1.0,
          1.0,
          1.0,
          1.0,
          1.0,
          1.0,
          1.0,
          1.0,
          1.0,
          1.0,
          1.0,
          1.0,
          1.0,
          1.0,
          1.0,
          1.0,
          1.0,
          1.0,
          1.0,
          1.0,
          1.0,
          1.0,
          1.0,
          1.0,
          1.0,
          1.0,
          1.0,
          1.0,
          1.0,
          1.0,
          1.0,
          1.0,
          1.0,
          1.0,
          1.0,
          1.0,
          1.0,
          1.0,
          1.0,
          1.0,
          1.0,
          1.0,
          1.0,
          1.0,
          1.0,
          1.0,
          1.0,
          1.0,
          1.0,
          1.0,
          1.0,
          1.0,
          1.0,
          1.0,
          1.0,
          1.0,
          1.0,
          1.0,
          1.0,
          1.0,
          1.0,
          1.0,
          1.0,
          1.0,
          1.0,
          1.0,
          1.0,
          1.0,
          1.0,
          1.0,
          1.0,
          1.0,
          1.0,
          1.0,
          1.0,
          1.0,
          1.0,
          1.0,
          1.0,
          1.0,
          1.0,
          1.0,
          1.0,
          1.0,
          1.0,
          1.0,
          1.0,
          1.0,
          1.0,
          1.0,
          1.0,
          1.0,
          1.0,
          1.0,
          1.0,
          1.0,
          1.0,
          1.0,
          1.0,
          1.0,
          1.0,
          1.0
         ],
         "lat": [
          69.25,
          70.73675,
          58.25,
          69.74206,
          66.25,
          65.22203,
          69.26583,
          70.66667,
          70.26784,
          71.21473,
          70.46517,
          68.15924,
          71.25,
          58.75,
          59.23466,
          69.26902,
          66.74865,
          59.25,
          70.25,
          63.24359,
          61.75,
          68.29821,
          67.19701,
          71.23915,
          70.25,
          67.25,
          62.76533,
          67.22556,
          70.49274,
          64.74619,
          66.25914,
          69.93406,
          71.23199,
          62.75,
          64.22308,
          67.82298,
          63.25,
          63.76938,
          70.25,
          69.80871,
          70.7379,
          58.75,
          65.75,
          68.91069,
          57.75,
          68.75,
          68.25,
          70.81682,
          70.33232,
          71.23613,
          63.75,
          67.33333,
          67.93413,
          69.75,
          57.75,
          57.81892,
          71.13554,
          70.25,
          67.62873,
          70.75,
          71.25,
          70.33884,
          67.61111,
          66.75,
          68.27428,
          68.79785,
          62.44167,
          67.64251,
          59.25,
          61.2617,
          70.7874,
          67.75442,
          58.72558,
          74.5,
          67.80045,
          60.76585,
          64.58869,
          71.75,
          57.25,
          67.94444,
          71.25,
          68.73656,
          57.75,
          57.25,
          63.25,
          68.01399,
          67.75,
          70.75,
          59.75166,
          58.25,
          59.75,
          57.75,
          63.1323,
          57.75,
          74.5,
          71.25,
          73.75,
          69.75,
          60.25,
          74.5,
          75.5,
          72.5,
          74.59921,
          65.15937,
          73.75,
          57.24889,
          58.75,
          72.55357,
          71.75,
          72.5,
          74.5,
          73.5,
          60.75,
          71.25,
          68.25,
          60.25,
          61.25,
          58.25,
          60.25,
          71.75,
          73.5,
          72.5,
          75.5,
          75.5,
          67.75,
          72.5,
          64.75,
          58.25,
          59.75,
          59.25,
          65.37965,
          59.75,
          71.25,
          72.5,
          70.75,
          69.02192,
          61.25,
          77.25,
          75.5,
          61.75,
          65.75,
          76.75,
          73.25,
          70.75,
          60.25,
          57.67004,
          70.75,
          61.75,
          59.75,
          57.25,
          75.625,
          58.75,
          70.75,
          59.25,
          74.5,
          73.75,
          71.25,
          71.25,
          70.75,
          68.75,
          70.64731,
          72.5,
          60.25,
          61.25,
          57.25,
          71.25,
          74.5,
          74.5,
          71.25,
          57.75,
          68.25,
          60.75,
          60.75,
          70.5,
          62.25,
          72.5,
          59.75,
          71.75,
          62.75,
          68.75,
          71.75,
          76.75,
          60.75,
          72.5,
          76.75,
          58.25,
          71.75,
          59.25,
          60.25,
          65.25,
          74.5,
          71.75,
          61.75,
          63.85145,
          71.25,
          73.25,
          72.5,
          70.25,
          71.25,
          77.25,
          71.75,
          76.25,
          69.76997,
          57.14948,
          59.25,
          58.75,
          61.25,
          65.25,
          73.5,
          60.75,
          79.25,
          61.25,
          70.25,
          76.75,
          67.25,
          72.5,
          74.5,
          72.5,
          59.25,
          75.5,
          73.75,
          76.75,
          69.25,
          75.5,
          75.5,
          75.5,
          77.25,
          77.25,
          76.25,
          77.5,
          75.5,
          80.25,
          75.5,
          76.25,
          67.75,
          57.75,
          77.25,
          76.25,
          58.75,
          60.25,
          71.75,
          60.75,
          71.75,
          76.25,
          61.04847,
          71.5,
          59.75,
          77.5,
          76.75,
          57.30618,
          73.25,
          59.75,
          76.25,
          75.5,
          71.75,
          62.75,
          73.75,
          60.24815,
          77.75,
          64.75,
          70.25,
          70.5,
          67.25,
          58.75,
          70.5,
          73.25,
          60.75,
          73.25,
          62.25,
          77.75,
          73.25,
          71.75,
          78.75,
          75.5,
          75.0,
          64.25,
          71.5,
          74.5,
          70.5,
          59.75,
          76.5,
          76.5,
          58.75,
          58.75,
          58.25,
          75.5,
          61.75,
          65.25,
          75.25,
          64.75,
          79.5,
          78.83482,
          57.75,
          67.5,
          78.25,
          59.75367,
          69.5,
          71.5,
          76.5,
          76.5,
          76.5,
          76.25,
          57.75,
          77.75,
          78.25,
          78.5,
          78.5,
          56.75,
          76.25,
          77.5,
          63.75,
          76.75,
          57.75,
          57.25,
          57.25,
          79.25,
          74.5,
          59.75,
          80.25,
          59.75,
          73.25,
          73.75,
          76.25,
          58.25,
          68.58333,
          57.48282,
          71.5,
          71.25,
          60.25,
          59.25,
          65.25,
          71.5,
          69.75,
          67.16667,
          66.25,
          78.25,
          76.25,
          69.25,
          77.25,
          66.5,
          65.75,
          66.75,
          63.75,
          70.5,
          69.5,
          58.25,
          61.75,
          74.5,
          78.75,
          76.5,
          62.5,
          69.5,
          77.25,
          66.58333,
          59.25,
          59.25,
          66.25,
          66.08333,
          70.75,
          66.75,
          62.25,
          71.5,
          61.25,
          61.25,
          64.25,
          70.5,
          76.75,
          57.75,
          78.5,
          76.75,
          55.25,
          76.75,
          77.5,
          77.25,
          57.75,
          70.25,
          62.75,
          70.5,
          72.5,
          63.25,
          63.25,
          59.75,
          70.75,
          77.25,
          77.25,
          57.77771,
          73.25,
          69.5,
          71.5,
          64.25,
          69.75,
          77.75,
          76.25,
          58.75,
          78.5,
          62.25,
          62.25,
          62.25,
          71.5,
          61.25,
          70.5,
          64.75,
          59.25,
          74.5,
          73.0,
          70.5,
          69.75,
          73.75,
          60.25,
          71.5,
          69.5,
          73.5,
          80.75,
          72.25,
          72.5,
          61.75,
          59.75,
          75.5,
          69.58333,
          66.25,
          69.75,
          68.5,
          57.75,
          56.75,
          56.75,
          76.75,
          77.75,
          77.75,
          56.75,
          56.75,
          56.75,
          56.75,
          57.25,
          57.25,
          78.75,
          78.75,
          79.25,
          79.25,
          58.25,
          58.25,
          58.25,
          58.25,
          79.5,
          57.25,
          69.5,
          76.25,
          68.5,
          68.7,
          80.75,
          67.5,
          68.5,
          57.75,
          70.5,
          70.5,
          79.75,
          79.75,
          79.75,
          80.25,
          63.25,
          63.25,
          59.25,
          59.25,
          59.75,
          74.5,
          69.75,
          69.75,
          60.75,
          73.5,
          58.82238,
          63.75,
          63.75,
          63.75,
          63.75,
          64.25,
          71.5,
          62.25,
          69.5,
          66.05,
          60.75,
          69.5,
          72.5,
          72.5,
          61.75,
          71.75,
          72.5,
          72.5,
          65.75,
          65.75,
          64.75,
          64.75,
          64.75,
          65.15164,
          65.25,
          65.5,
          69.75,
          77.75,
          55.549795,
          78.25,
          52.3806,
          55.75,
          56.25,
          58.75,
          78.75,
          79.25,
          79.25,
          79.25781,
          56.75,
          57.25,
          55.75,
          55.25,
          54.75,
          61.75,
          70.25,
          70.25,
          70.5,
          70.5,
          64.75,
          64.75,
          65.25,
          65.25,
          65.5,
          65.5,
          65.58333,
          65.75,
          65.75,
          65.75,
          61.75,
          61.75,
          61.75,
          72.5,
          62.25,
          62.25,
          62.5,
          62.75,
          62.75,
          62.75,
          62.75,
          61.25,
          72.5,
          72.5,
          60.25,
          60.25,
          60.25,
          60.25,
          60.25,
          60.5,
          60.75,
          60.75,
          60.75,
          69.5,
          66.225,
          66.25,
          66.5,
          66.5,
          66.5,
          66.75,
          64.5,
          71.25,
          71.5,
          71.5,
          61.75,
          62.25,
          63.25,
          63.75,
          64.25,
          72.5,
          59.25,
          59.25,
          74.5,
          74.5,
          70.75,
          70.75,
          63.25,
          63.25,
          63.25,
          63.25,
          79.75,
          80.24008,
          80.25,
          80.25,
          57.25,
          57.25,
          57.75,
          57.81712,
          70.5,
          80.5,
          80.75,
          81.25,
          82.25,
          68.5,
          68.5,
          68.5,
          69.25,
          69.25,
          69.25,
          69.5,
          75.5,
          75.5,
          75.5,
          76.25,
          57.849645,
          76.75,
          77.02027,
          77.25,
          57.25,
          57.25,
          58.25,
          58.25,
          58.75,
          77.5,
          55.75,
          54.75,
          53.75,
          53.25,
          56.25,
          56.25,
          56.75,
          56.75,
          56.75,
          78.25,
          55.5
         ],
         "lon": [
          14.5,
          21.54827,
          5.5,
          17.491,
          11.5,
          11.56914,
          15.47374,
          30.5,
          20.4513,
          27.51996,
          25.53489,
          14.56579,
          23.5,
          9.5,
          5.37624,
          16.61634,
          12.50313,
          10.5,
          31.5,
          7.49065,
          4.5,
          13.44548,
          14.43561,
          26.46578,
          17.5,
          11.5,
          6.5624,
          13.53719,
          26.79157,
          10.50548,
          12.68927,
          29.74327,
          24.52052,
          5.5,
          9.55392,
          13.41423,
          6.5,
          8.4814,
          19.5,
          18.45225,
          23.48981,
          10.5,
          11.5,
          17.42042,
          7.5,
          13.5,
          12.5,
          29.3436,
          21.52462,
          28.48711,
          7.5,
          12.33333,
          15.57921,
          15.5,
          6.5,
          7.67022,
          25.37756,
          18.5,
          14.67456,
          31.5,
          29.5,
          22.46289,
          13.66667,
          11.5,
          15.61145,
          16.01984,
          6.21667,
          12.74275,
          3.5,
          4.47778,
          22.55833,
          14.53782,
          5.43607,
          20.0,
          12.38605,
          4.51988,
          11.77463,
          26.5,
          5.5,
          14.15556,
          31.5,
          15.40196,
          9.5,
          7.5,
          5.5,
          16.3323,
          9.5,
          20.5,
          6.0157,
          4.5,
          3.5,
          5.5,
          6.60818,
          8.5,
          22.0,
          30.5,
          20.0,
          16.5,
          3.5,
          16.0,
          18.0,
          26.5,
          21.65873,
          12.59274,
          18.0,
          7.49777,
          3.5,
          22.10714,
          16.0,
          16.0,
          18.0,
          33.0,
          2.5,
          22.5,
          11.5,
          2.5,
          2.5,
          3.5,
          0.5,
          18.0,
          31.0,
          29.0,
          16.0,
          20.0,
          10.5,
          18.0,
          8.5,
          10.5,
          2.5,
          2.5,
          9.65035,
          -3.5,
          21.5,
          24.0,
          17.5,
          14.44817,
          -1.5,
          29.0,
          22.0,
          -0.5,
          10.5,
          25.0,
          29.0,
          19.5,
          -2.5,
          7.3025,
          18.5,
          0.5,
          0.5,
          6.5,
          24.75,
          0.5,
          32.5,
          0.5,
          31.0,
          22.0,
          19.5,
          20.5,
          16.5,
          12.5,
          20.8475,
          22.0,
          1.5,
          -0.5,
          8.5,
          16.5,
          24.0,
          33.0,
          15.5,
          4.5,
          10.5,
          3.5,
          0.5,
          37.0,
          4.5,
          33.0,
          -0.5,
          24.0,
          4.5,
          11.5,
          25.5,
          29.0,
          -2.5,
          31.0,
          14.0,
          0.5,
          27.5,
          -0.5,
          -3.5,
          10.5,
          26.5,
          29.5,
          1.5,
          11.06946,
          17.5,
          18.0,
          35.0,
          16.5,
          18.5,
          12.0,
          28.5,
          15.5,
          31.47496,
          8.2665,
          1.5,
          2.5,
          0.5,
          8.5,
          35.0,
          1.5,
          8.0,
          1.5,
          32.5,
          27.0,
          10.5,
          20.0,
          35.0,
          14.0,
          -1.5,
          41.0,
          26.5,
          12.0,
          13.5,
          31.0,
          14.0,
          29.0,
          27.0,
          23.0,
          25.0,
          31.0,
          33.0,
          12.0,
          39.0,
          19.0,
          11.5,
          3.5,
          10.0,
          14.0,
          4.5,
          -0.5,
          22.0,
          -0.5,
          20.0,
          29.0,
          4.51307,
          37.0,
          -2.5,
          33.0,
          23.0,
          8.63051,
          16.0,
          1.5,
          23.0,
          37.0,
          32.5,
          3.5,
          16.0,
          4.50056,
          10.0,
          9.5,
          15.5,
          47.0,
          9.5,
          -0.5,
          35.0,
          26.5,
          -1.5,
          20.0,
          3.5,
          12.0,
          24.0,
          30.5,
          8.0,
          27.0,
          35.0,
          8.5,
          43.0,
          37.0,
          39.0,
          4.5,
          35.0,
          39.0,
          1.5,
          -1.5,
          9.5,
          35.0,
          -1.5,
          9.5,
          24.0,
          7.5,
          33.0,
          26.16964,
          10.5,
          8.0,
          25.0,
          -1.00349,
          53.0,
          47.0,
          33.0,
          31.0,
          37.0,
          21.0,
          0.5,
          29.0,
          29.0,
          33.0,
          31.0,
          6.5,
          17.0,
          37.0,
          6.5,
          10.0,
          -1.5,
          -0.5,
          4.5,
          10.0,
          14.0,
          -1.5,
          14.0,
          -5.5,
          14.0,
          24.0,
          27.0,
          2.5,
          9.83333,
          7.96936,
          14.0,
          32.5,
          -4.5,
          -3.5,
          6.5,
          41.0,
          14.5,
          12.66667,
          8.5,
          27.0,
          10.0,
          12.5,
          14.0,
          6.0,
          9.5,
          9.5,
          5.5,
          49.0,
          51.0,
          1.5,
          2.5,
          29.0,
          10.0,
          41.0,
          0.0,
          55.0,
          25.0,
          7.83333,
          -5.5,
          -6.5,
          9.5,
          -19.5,
          15.5,
          10.5,
          -4.5,
          45.0,
          3.5,
          -2.5,
          7.5,
          41.0,
          8.0,
          -0.5,
          35.0,
          21.0,
          2.5,
          19.0,
          35.0,
          8.0,
          -13.5,
          14.5,
          -6.5,
          43.0,
          37.0,
          4.5,
          -22.5,
          -4.5,
          -8.5,
          17.5,
          21.0,
          11.53405,
          22.0,
          41.0,
          39.0,
          6.5,
          13.5,
          25.0,
          12.0,
          -7.5,
          37.0,
          -8.5,
          -39.5,
          -40.5,
          49.0,
          -5.5,
          33.5,
          -13.5,
          -36.5,
          12.0,
          35.0,
          12.0,
          37.5,
          29.0,
          -7.5,
          10.0,
          10.0,
          47.0,
          29.0,
          9.0,
          45.0,
          -5.5,
          -7.5,
          12.0,
          11.83333,
          10.5,
          38.5,
          8.0,
          1.5,
          -15.5,
          -13.5,
          6.0,
          8.0,
          19.0,
          3.5,
          4.5,
          5.5,
          7.5,
          -15.5,
          -13.5,
          25.0,
          29.0,
          6.0,
          35.0,
          -8.5,
          -1.5,
          -0.5,
          11.5,
          35.0,
          0.5,
          8.0,
          4.0,
          6.0,
          49.0,
          12.0,
          6.0,
          -8.0,
          2.5,
          51.0,
          53.0,
          8.0,
          10.0,
          12.0,
          10.0,
          -38.5,
          -24.5,
          -7.5,
          -4.5,
          -6.5,
          39.0,
          35.5,
          36.5,
          -3.5,
          37.0,
          4.571155,
          -40.5,
          -38.5,
          -37.5,
          4.5,
          -35.5,
          33.5,
          -38.5,
          57.0,
          -18.5,
          -6.5,
          47.0,
          41.0,
          43.0,
          -4.5,
          31.5,
          10.0,
          39.0,
          7.5,
          8.5,
          -11.5,
          5.5,
          6.5,
          -33.54098,
          -11.5,
          0.0,
          39.5,
          27.0,
          3.28988,
          10.0,
          2.95185,
          3.5,
          -15.5,
          -2.5,
          6.0,
          4.0,
          12.0,
          19.5,
          10.5,
          -8.5,
          0.5,
          4.5,
          4.5,
          -9.5,
          -9.5,
          -8.5,
          8.0,
          10.0,
          -34.5,
          -32.5,
          -31.5,
          -13.5,
          2.0,
          4.0,
          5.83333,
          -30.5,
          -13.5,
          -12.5,
          -8.5,
          -7.5,
          -2.5,
          12.0,
          -22.5,
          -5.5,
          -2.0,
          -22.5,
          -7.5,
          -5.5,
          -4.5,
          -6.5,
          47.0,
          49.0,
          -38.5,
          -9.5,
          -8.5,
          -6.5,
          -5.5,
          -28.0,
          -10.5,
          -8.5,
          -5.5,
          43.0,
          -17.5,
          -12.5,
          -2.0,
          0.0,
          2.0,
          -12.5,
          2.0,
          -8.5,
          8.0,
          35.0,
          3.5,
          -35.5,
          -20.5,
          -35.5,
          -36.5,
          51.0,
          -41.5,
          4.5,
          51.0,
          53.0,
          -10.5,
          -9.5,
          -41.0,
          -36.5,
          -34.5,
          -25.5,
          19.0,
          10.00595,
          16.0,
          17.5,
          2.5,
          9.5,
          -14.5,
          10.45405,
          55.0,
          31.0,
          14.0,
          21.0,
          41.0,
          2.0,
          41.0,
          51.0,
          36.5,
          38.5,
          39.5,
          6.0,
          6.0,
          47.0,
          53.0,
          8.0,
          10.47301,
          17.5,
          9.9482,
          4.0,
          -1.5,
          1.5,
          -13.5,
          -9.5,
          -8.5,
          47.0,
          -1.5,
          1.5,
          3.5,
          -15.5,
          -2.5,
          7.5,
          -14.5,
          -0.5,
          1.5,
          14.0,
          -33.0
         ],
         "marker": {
          "color": [
           1569,
           1473,
           1470,
           1457,
           1448,
           1443,
           1411,
           1407,
           1403,
           1394,
           1391,
           1390,
           1381,
           1364,
           1341,
           1310,
           1309,
           1300,
           1287,
           1282,
           1263,
           1243,
           1223,
           1206,
           1204,
           1198,
           1195,
           1193,
           1139,
           1128,
           1124,
           1096,
           1076,
           1061,
           1060,
           1044,
           1005,
           974,
           970,
           967,
           953,
           937,
           936,
           929,
           839,
           792,
           786,
           769,
           745,
           683,
           675,
           646,
           637,
           625,
           618,
           611,
           607,
           576,
           566,
           561,
           494,
           494,
           492,
           473,
           457,
           450,
           406,
           379,
           378,
           376,
           369,
           360,
           356,
           343,
           326,
           316,
           311,
           310,
           302,
           300,
           289,
           285,
           277,
           277,
           275,
           261,
           253,
           249,
           214,
           210,
           206,
           198,
           187,
           187,
           177,
           169,
           167,
           160,
           155,
           147,
           146,
           145,
           141,
           136,
           135,
           133,
           132,
           131,
           125,
           116,
           116,
           114,
           112,
           109,
           106,
           106,
           104,
           103,
           98,
           93,
           91,
           90,
           89,
           87,
           86,
           86,
           84,
           83,
           79,
           79,
           75,
           72,
           70,
           69,
           66,
           65,
           65,
           63,
           62,
           61,
           61,
           58,
           58,
           57,
           57,
           55,
           55,
           55,
           55,
           55,
           54,
           54,
           53,
           53,
           52,
           52,
           51,
           51,
           49,
           49,
           48,
           48,
           48,
           48,
           47,
           47,
           47,
           46,
           46,
           45,
           44,
           44,
           43,
           43,
           43,
           42,
           42,
           42,
           42,
           42,
           40,
           40,
           39,
           39,
           39,
           38,
           38,
           38,
           37,
           37,
           36,
           36,
           35,
           35,
           35,
           34,
           33,
           32,
           32,
           31,
           31,
           31,
           31,
           30,
           30,
           30,
           29,
           29,
           29,
           28,
           28,
           27,
           26,
           25,
           25,
           25,
           24,
           24,
           24,
           23,
           23,
           23,
           23,
           23,
           23,
           23,
           23,
           23,
           22,
           22,
           21,
           21,
           20,
           20,
           19,
           19,
           18,
           18,
           18,
           18,
           18,
           18,
           17,
           17,
           17,
           17,
           17,
           17,
           17,
           17,
           17,
           17,
           17,
           16,
           16,
           16,
           16,
           16,
           16,
           15,
           15,
           15,
           14,
           14,
           13,
           13,
           13,
           13,
           13,
           12,
           12,
           12,
           12,
           12,
           11,
           11,
           11,
           11,
           11,
           11,
           11,
           11,
           11,
           10,
           10,
           10,
           10,
           10,
           10,
           10,
           10,
           10,
           9,
           9,
           9,
           9,
           9,
           9,
           9,
           9,
           9,
           9,
           9,
           9,
           9,
           8,
           8,
           8,
           8,
           8,
           8,
           8,
           8,
           8,
           8,
           8,
           8,
           8,
           8,
           8,
           8,
           8,
           7,
           7,
           7,
           7,
           7,
           7,
           7,
           7,
           7,
           7,
           7,
           7,
           7,
           7,
           6,
           6,
           6,
           6,
           6,
           6,
           6,
           6,
           6,
           6,
           6,
           6,
           6,
           6,
           6,
           6,
           5,
           5,
           5,
           5,
           5,
           5,
           5,
           5,
           5,
           5,
           5,
           5,
           5,
           5,
           5,
           5,
           5,
           5,
           4,
           4,
           4,
           4,
           4,
           4,
           4,
           4,
           4,
           4,
           4,
           4,
           4,
           4,
           4,
           4,
           4,
           4,
           4,
           4,
           4,
           3,
           3,
           3,
           3,
           3,
           3,
           3,
           3,
           3,
           3,
           3,
           3,
           3,
           3,
           3,
           3,
           3,
           3,
           3,
           3,
           3,
           3,
           3,
           3,
           3,
           3,
           3,
           3,
           3,
           3,
           3,
           3,
           3,
           3,
           2,
           2,
           2,
           2,
           2,
           2,
           2,
           2,
           2,
           2,
           2,
           2,
           2,
           2,
           2,
           2,
           2,
           2,
           2,
           2,
           2,
           2,
           2,
           2,
           2,
           2,
           2,
           2,
           2,
           2,
           2,
           2,
           2,
           2,
           2,
           2,
           2,
           2,
           2,
           2,
           2,
           2,
           2,
           2,
           2,
           2,
           2,
           2,
           2,
           2,
           2,
           2,
           2,
           2,
           2,
           2,
           2,
           2,
           2,
           2,
           2,
           2,
           2,
           2,
           2,
           2,
           2,
           2,
           2,
           2,
           2,
           2,
           2,
           1,
           1,
           1,
           1,
           1,
           1,
           1,
           1,
           1,
           1,
           1,
           1,
           1,
           1,
           1,
           1,
           1,
           1,
           1,
           1,
           1,
           1,
           1,
           1,
           1,
           1,
           1,
           1,
           1,
           1,
           1,
           1,
           1,
           1,
           1,
           1,
           1,
           1,
           1,
           1,
           1,
           1,
           1,
           1,
           1,
           1,
           1,
           1,
           1,
           1,
           1,
           1,
           1,
           1,
           1,
           1,
           1,
           1,
           1,
           1,
           1,
           1,
           1,
           1,
           1,
           1,
           1,
           1,
           1,
           1,
           1,
           1,
           1,
           1,
           1,
           1,
           1,
           1,
           1,
           1,
           1,
           1,
           1,
           1,
           1,
           1,
           1,
           1,
           1,
           1,
           1,
           1,
           1,
           1,
           1,
           1,
           1,
           1,
           1,
           1,
           1,
           1,
           1,
           1,
           1,
           1,
           1,
           1,
           1,
           1,
           1,
           1,
           1,
           1,
           1,
           1,
           1,
           1,
           1,
           1,
           1,
           1,
           1
          ],
          "coloraxis": "coloraxis",
          "size": [
           14.0,
           13.448979591836736,
           13.431760204081632,
           13.357142857142858,
           13.30548469387755,
           13.276785714285714,
           13.09311224489796,
           13.07015306122449,
           13.04719387755102,
           12.995535714285714,
           12.978316326530614,
           12.972576530612244,
           12.920918367346939,
           12.823341836734693,
           12.691326530612244,
           12.513392857142858,
           12.50765306122449,
           12.455994897959183,
           12.381377551020408,
           12.352678571428571,
           12.243622448979592,
           12.128826530612244,
           12.014030612244898,
           11.916454081632654,
           11.904974489795919,
           11.870535714285714,
           11.853316326530614,
           11.841836734693878,
           11.53188775510204,
           11.46875,
           11.44579081632653,
           11.285076530612244,
           11.170280612244898,
           11.084183673469386,
           11.07844387755102,
           10.986607142857142,
           10.762755102040817,
           10.584821428571429,
           10.56186224489796,
           10.544642857142858,
           10.464285714285714,
           10.372448979591837,
           10.36670918367347,
           10.326530612244898,
           9.809948979591837,
           9.540178571428571,
           9.505739795918366,
           9.408163265306122,
           9.270408163265307,
           8.91454081632653,
           8.868622448979592,
           8.702168367346939,
           8.650510204081632,
           8.581632653061224,
           8.541454081632654,
           8.501275510204081,
           8.478316326530612,
           8.300382653061224,
           8.24298469387755,
           8.214285714285715,
           7.829719387755102,
           7.829719387755102,
           7.818239795918368,
           7.709183673469388,
           7.61734693877551,
           7.577168367346939,
           7.324617346938775,
           7.169642857142858,
           7.16390306122449,
           7.152423469387755,
           7.112244897959184,
           7.060586734693878,
           7.0376275510204085,
           6.963010204081632,
           6.865433673469388,
           6.808035714285714,
           6.779336734693878,
           6.77359693877551,
           6.727678571428571,
           6.716198979591836,
           6.653061224489796,
           6.630102040816327,
           6.584183673469388,
           6.584183673469388,
           6.572704081632653,
           6.49234693877551,
           6.446428571428571,
           6.423469387755102,
           6.222576530612245,
           6.199617346938775,
           6.176658163265306,
           6.130739795918368,
           6.067602040816327,
           6.067602040816327,
           6.0102040816326525,
           5.964285714285714,
           5.95280612244898,
           5.9126275510204085,
           5.883928571428571,
           5.838010204081633,
           5.832270408163265,
           5.826530612244898,
           5.803571428571429,
           5.7748724489795915,
           5.769132653061225,
           5.75765306122449,
           5.751913265306122,
           5.746173469387755,
           5.711734693877551,
           5.660076530612245,
           5.660076530612245,
           5.64859693877551,
           5.637117346938775,
           5.619897959183674,
           5.602678571428571,
           5.602678571428571,
           5.591198979591836,
           5.5854591836734695,
           5.556760204081632,
           5.528061224489796,
           5.516581632653061,
           5.510841836734694,
           5.505102040816326,
           5.4936224489795915,
           5.487882653061225,
           5.487882653061225,
           5.47640306122449,
           5.470663265306122,
           5.447704081632653,
           5.447704081632653,
           5.424744897959184,
           5.407525510204081,
           5.396045918367347,
           5.39030612244898,
           5.373086734693878,
           5.36734693877551,
           5.36734693877551,
           5.355867346938775,
           5.3501275510204085,
           5.344387755102041,
           5.344387755102041,
           5.327168367346939,
           5.327168367346939,
           5.321428571428571,
           5.321428571428571,
           5.309948979591836,
           5.309948979591836,
           5.309948979591836,
           5.309948979591836,
           5.309948979591836,
           5.3042091836734695,
           5.3042091836734695,
           5.298469387755102,
           5.298469387755102,
           5.292729591836735,
           5.292729591836735,
           5.286989795918368,
           5.286989795918368,
           5.275510204081632,
           5.275510204081632,
           5.269770408163265,
           5.269770408163265,
           5.269770408163265,
           5.269770408163265,
           5.264030612244898,
           5.264030612244898,
           5.264030612244898,
           5.2582908163265305,
           5.2582908163265305,
           5.252551020408164,
           5.246811224489796,
           5.246811224489796,
           5.241071428571429,
           5.241071428571429,
           5.241071428571429,
           5.235331632653061,
           5.235331632653061,
           5.235331632653061,
           5.235331632653061,
           5.235331632653061,
           5.223852040816326,
           5.223852040816326,
           5.218112244897959,
           5.218112244897959,
           5.218112244897959,
           5.2123724489795915,
           5.2123724489795915,
           5.2123724489795915,
           5.206632653061225,
           5.206632653061225,
           5.200892857142857,
           5.200892857142857,
           5.19515306122449,
           5.19515306122449,
           5.19515306122449,
           5.189413265306122,
           5.183673469387755,
           5.177933673469388,
           5.177933673469388,
           5.17219387755102,
           5.17219387755102,
           5.17219387755102,
           5.17219387755102,
           5.166454081632653,
           5.166454081632653,
           5.166454081632653,
           5.160714285714286,
           5.160714285714286,
           5.160714285714286,
           5.154974489795919,
           5.154974489795919,
           5.149234693877551,
           5.143494897959184,
           5.137755102040816,
           5.137755102040816,
           5.137755102040816,
           5.132015306122449,
           5.132015306122449,
           5.132015306122449,
           5.126275510204081,
           5.126275510204081,
           5.126275510204081,
           5.126275510204081,
           5.126275510204081,
           5.126275510204081,
           5.126275510204081,
           5.126275510204081,
           5.126275510204081,
           5.120535714285714,
           5.120535714285714,
           5.114795918367347,
           5.114795918367347,
           5.10905612244898,
           5.10905612244898,
           5.103316326530612,
           5.103316326530612,
           5.097576530612245,
           5.097576530612245,
           5.097576530612245,
           5.097576530612245,
           5.097576530612245,
           5.097576530612245,
           5.091836734693878,
           5.091836734693878,
           5.091836734693878,
           5.091836734693878,
           5.091836734693878,
           5.091836734693878,
           5.091836734693878,
           5.091836734693878,
           5.091836734693878,
           5.091836734693878,
           5.091836734693878,
           5.08609693877551,
           5.08609693877551,
           5.08609693877551,
           5.08609693877551,
           5.08609693877551,
           5.08609693877551,
           5.080357142857143,
           5.080357142857143,
           5.080357142857143,
           5.074617346938775,
           5.074617346938775,
           5.0688775510204085,
           5.0688775510204085,
           5.0688775510204085,
           5.0688775510204085,
           5.0688775510204085,
           5.063137755102041,
           5.063137755102041,
           5.063137755102041,
           5.063137755102041,
           5.063137755102041,
           5.057397959183674,
           5.057397959183674,
           5.057397959183674,
           5.057397959183674,
           5.057397959183674,
           5.057397959183674,
           5.057397959183674,
           5.057397959183674,
           5.057397959183674,
           5.051658163265306,
           5.051658163265306,
           5.051658163265306,
           5.051658163265306,
           5.051658163265306,
           5.051658163265306,
           5.051658163265306,
           5.051658163265306,
           5.051658163265306,
           5.045918367346939,
           5.045918367346939,
           5.045918367346939,
           5.045918367346939,
           5.045918367346939,
           5.045918367346939,
           5.045918367346939,
           5.045918367346939,
           5.045918367346939,
           5.045918367346939,
           5.045918367346939,
           5.045918367346939,
           5.045918367346939,
           5.040178571428571,
           5.040178571428571,
           5.040178571428571,
           5.040178571428571,
           5.040178571428571,
           5.040178571428571,
           5.040178571428571,
           5.040178571428571,
           5.040178571428571,
           5.040178571428571,
           5.040178571428571,
           5.040178571428571,
           5.040178571428571,
           5.040178571428571,
           5.040178571428571,
           5.040178571428571,
           5.040178571428571,
           5.034438775510204,
           5.034438775510204,
           5.034438775510204,
           5.034438775510204,
           5.034438775510204,
           5.034438775510204,
           5.034438775510204,
           5.034438775510204,
           5.034438775510204,
           5.034438775510204,
           5.034438775510204,
           5.034438775510204,
           5.034438775510204,
           5.034438775510204,
           5.028698979591836,
           5.028698979591836,
           5.028698979591836,
           5.028698979591836,
           5.028698979591836,
           5.028698979591836,
           5.028698979591836,
           5.028698979591836,
           5.028698979591836,
           5.028698979591836,
           5.028698979591836,
           5.028698979591836,
           5.028698979591836,
           5.028698979591836,
           5.028698979591836,
           5.028698979591836,
           5.0229591836734695,
           5.0229591836734695,
           5.0229591836734695,
           5.0229591836734695,
           5.0229591836734695,
           5.0229591836734695,
           5.0229591836734695,
           5.0229591836734695,
           5.0229591836734695,
           5.0229591836734695,
           5.0229591836734695,
           5.0229591836734695,
           5.0229591836734695,
           5.0229591836734695,
           5.0229591836734695,
           5.0229591836734695,
           5.0229591836734695,
           5.0229591836734695,
           5.017219387755102,
           5.017219387755102,
           5.017219387755102,
           5.017219387755102,
           5.017219387755102,
           5.017219387755102,
           5.017219387755102,
           5.017219387755102,
           5.017219387755102,
           5.017219387755102,
           5.017219387755102,
           5.017219387755102,
           5.017219387755102,
           5.017219387755102,
           5.017219387755102,
           5.017219387755102,
           5.017219387755102,
           5.017219387755102,
           5.017219387755102,
           5.017219387755102,
           5.017219387755102,
           5.011479591836735,
           5.011479591836735,
           5.011479591836735,
           5.011479591836735,
           5.011479591836735,
           5.011479591836735,
           5.011479591836735,
           5.011479591836735,
           5.011479591836735,
           5.011479591836735,
           5.011479591836735,
           5.011479591836735,
           5.011479591836735,
           5.011479591836735,
           5.011479591836735,
           5.011479591836735,
           5.011479591836735,
           5.011479591836735,
           5.011479591836735,
           5.011479591836735,
           5.011479591836735,
           5.011479591836735,
           5.011479591836735,
           5.011479591836735,
           5.011479591836735,
           5.011479591836735,
           5.011479591836735,
           5.011479591836735,
           5.011479591836735,
           5.011479591836735,
           5.011479591836735,
           5.011479591836735,
           5.011479591836735,
           5.011479591836735,
           5.005739795918367,
           5.005739795918367,
           5.005739795918367,
           5.005739795918367,
           5.005739795918367,
           5.005739795918367,
           5.005739795918367,
           5.005739795918367,
           5.005739795918367,
           5.005739795918367,
           5.005739795918367,
           5.005739795918367,
           5.005739795918367,
           5.005739795918367,
           5.005739795918367,
           5.005739795918367,
           5.005739795918367,
           5.005739795918367,
           5.005739795918367,
           5.005739795918367,
           5.005739795918367,
           5.005739795918367,
           5.005739795918367,
           5.005739795918367,
           5.005739795918367,
           5.005739795918367,
           5.005739795918367,
           5.005739795918367,
           5.005739795918367,
           5.005739795918367,
           5.005739795918367,
           5.005739795918367,
           5.005739795918367,
           5.005739795918367,
           5.005739795918367,
           5.005739795918367,
           5.005739795918367,
           5.005739795918367,
           5.005739795918367,
           5.005739795918367,
           5.005739795918367,
           5.005739795918367,
           5.005739795918367,
           5.005739795918367,
           5.005739795918367,
           5.005739795918367,
           5.005739795918367,
           5.005739795918367,
           5.005739795918367,
           5.005739795918367,
           5.005739795918367,
           5.005739795918367,
           5.005739795918367,
           5.005739795918367,
           5.005739795918367,
           5.005739795918367,
           5.005739795918367,
           5.005739795918367,
           5.005739795918367,
           5.005739795918367,
           5.005739795918367,
           5.005739795918367,
           5.005739795918367,
           5.005739795918367,
           5.005739795918367,
           5.005739795918367,
           5.005739795918367,
           5.005739795918367,
           5.005739795918367,
           5.005739795918367,
           5.005739795918367,
           5.005739795918367,
           5.005739795918367,
           5.0,
           5.0,
           5.0,
           5.0,
           5.0,
           5.0,
           5.0,
           5.0,
           5.0,
           5.0,
           5.0,
           5.0,
           5.0,
           5.0,
           5.0,
           5.0,
           5.0,
           5.0,
           5.0,
           5.0,
           5.0,
           5.0,
           5.0,
           5.0,
           5.0,
           5.0,
           5.0,
           5.0,
           5.0,
           5.0,
           5.0,
           5.0,
           5.0,
           5.0,
           5.0,
           5.0,
           5.0,
           5.0,
           5.0,
           5.0,
           5.0,
           5.0,
           5.0,
           5.0,
           5.0,
           5.0,
           5.0,
           5.0,
           5.0,
           5.0,
           5.0,
           5.0,
           5.0,
           5.0,
           5.0,
           5.0,
           5.0,
           5.0,
           5.0,
           5.0,
           5.0,
           5.0,
           5.0,
           5.0,
           5.0,
           5.0,
           5.0,
           5.0,
           5.0,
           5.0,
           5.0,
           5.0,
           5.0,
           5.0,
           5.0,
           5.0,
           5.0,
           5.0,
           5.0,
           5.0,
           5.0,
           5.0,
           5.0,
           5.0,
           5.0,
           5.0,
           5.0,
           5.0,
           5.0,
           5.0,
           5.0,
           5.0,
           5.0,
           5.0,
           5.0,
           5.0,
           5.0,
           5.0,
           5.0,
           5.0,
           5.0,
           5.0,
           5.0,
           5.0,
           5.0,
           5.0,
           5.0,
           5.0,
           5.0,
           5.0,
           5.0,
           5.0,
           5.0,
           5.0,
           5.0,
           5.0,
           5.0,
           5.0,
           5.0,
           5.0,
           5.0,
           5.0,
           5.0
          ],
          "sizemin": 2
         },
         "mode": "markers",
         "type": "scattermapbox"
        }
       ],
       "layout": {
        "template": {
         "data": {
          "histogram2dcontour": [
           {
            "type": "histogram2dcontour",
            "colorbar": {
             "outlinewidth": 0,
             "ticks": ""
            },
            "colorscale": [
             [
              0.0,
              "#0d0887"
             ],
             [
              0.1111111111111111,
              "#46039f"
             ],
             [
              0.2222222222222222,
              "#7201a8"
             ],
             [
              0.3333333333333333,
              "#9c179e"
             ],
             [
              0.4444444444444444,
              "#bd3786"
             ],
             [
              0.5555555555555556,
              "#d8576b"
             ],
             [
              0.6666666666666666,
              "#ed7953"
             ],
             [
              0.7777777777777778,
              "#fb9f3a"
             ],
             [
              0.8888888888888888,
              "#fdca26"
             ],
             [
              1.0,
              "#f0f921"
             ]
            ]
           }
          ],
          "choropleth": [
           {
            "type": "choropleth",
            "colorbar": {
             "outlinewidth": 0,
             "ticks": ""
            }
           }
          ],
          "histogram2d": [
           {
            "type": "histogram2d",
            "colorbar": {
             "outlinewidth": 0,
             "ticks": ""
            },
            "colorscale": [
             [
              0.0,
              "#0d0887"
             ],
             [
              0.1111111111111111,
              "#46039f"
             ],
             [
              0.2222222222222222,
              "#7201a8"
             ],
             [
              0.3333333333333333,
              "#9c179e"
             ],
             [
              0.4444444444444444,
              "#bd3786"
             ],
             [
              0.5555555555555556,
              "#d8576b"
             ],
             [
              0.6666666666666666,
              "#ed7953"
             ],
             [
              0.7777777777777778,
              "#fb9f3a"
             ],
             [
              0.8888888888888888,
              "#fdca26"
             ],
             [
              1.0,
              "#f0f921"
             ]
            ]
           }
          ],
          "heatmap": [
           {
            "type": "heatmap",
            "colorbar": {
             "outlinewidth": 0,
             "ticks": ""
            },
            "colorscale": [
             [
              0.0,
              "#0d0887"
             ],
             [
              0.1111111111111111,
              "#46039f"
             ],
             [
              0.2222222222222222,
              "#7201a8"
             ],
             [
              0.3333333333333333,
              "#9c179e"
             ],
             [
              0.4444444444444444,
              "#bd3786"
             ],
             [
              0.5555555555555556,
              "#d8576b"
             ],
             [
              0.6666666666666666,
              "#ed7953"
             ],
             [
              0.7777777777777778,
              "#fb9f3a"
             ],
             [
              0.8888888888888888,
              "#fdca26"
             ],
             [
              1.0,
              "#f0f921"
             ]
            ]
           }
          ],
          "heatmapgl": [
           {
            "type": "heatmapgl",
            "colorbar": {
             "outlinewidth": 0,
             "ticks": ""
            },
            "colorscale": [
             [
              0.0,
              "#0d0887"
             ],
             [
              0.1111111111111111,
              "#46039f"
             ],
             [
              0.2222222222222222,
              "#7201a8"
             ],
             [
              0.3333333333333333,
              "#9c179e"
             ],
             [
              0.4444444444444444,
              "#bd3786"
             ],
             [
              0.5555555555555556,
              "#d8576b"
             ],
             [
              0.6666666666666666,
              "#ed7953"
             ],
             [
              0.7777777777777778,
              "#fb9f3a"
             ],
             [
              0.8888888888888888,
              "#fdca26"
             ],
             [
              1.0,
              "#f0f921"
             ]
            ]
           }
          ],
          "contourcarpet": [
           {
            "type": "contourcarpet",
            "colorbar": {
             "outlinewidth": 0,
             "ticks": ""
            }
           }
          ],
          "contour": [
           {
            "type": "contour",
            "colorbar": {
             "outlinewidth": 0,
             "ticks": ""
            },
            "colorscale": [
             [
              0.0,
              "#0d0887"
             ],
             [
              0.1111111111111111,
              "#46039f"
             ],
             [
              0.2222222222222222,
              "#7201a8"
             ],
             [
              0.3333333333333333,
              "#9c179e"
             ],
             [
              0.4444444444444444,
              "#bd3786"
             ],
             [
              0.5555555555555556,
              "#d8576b"
             ],
             [
              0.6666666666666666,
              "#ed7953"
             ],
             [
              0.7777777777777778,
              "#fb9f3a"
             ],
             [
              0.8888888888888888,
              "#fdca26"
             ],
             [
              1.0,
              "#f0f921"
             ]
            ]
           }
          ],
          "surface": [
           {
            "type": "surface",
            "colorbar": {
             "outlinewidth": 0,
             "ticks": ""
            },
            "colorscale": [
             [
              0.0,
              "#0d0887"
             ],
             [
              0.1111111111111111,
              "#46039f"
             ],
             [
              0.2222222222222222,
              "#7201a8"
             ],
             [
              0.3333333333333333,
              "#9c179e"
             ],
             [
              0.4444444444444444,
              "#bd3786"
             ],
             [
              0.5555555555555556,
              "#d8576b"
             ],
             [
              0.6666666666666666,
              "#ed7953"
             ],
             [
              0.7777777777777778,
              "#fb9f3a"
             ],
             [
              0.8888888888888888,
              "#fdca26"
             ],
             [
              1.0,
              "#f0f921"
             ]
            ]
           }
          ],
          "mesh3d": [
           {
            "type": "mesh3d",
            "colorbar": {
             "outlinewidth": 0,
             "ticks": ""
            }
           }
          ],
          "scatter": [
           {
            "marker": {
             "line": {
              "color": "#283442"
             }
            },
            "type": "scatter"
           }
          ],
          "parcoords": [
           {
            "type": "parcoords",
            "line": {
             "colorbar": {
              "outlinewidth": 0,
              "ticks": ""
             }
            }
           }
          ],
          "scatterpolargl": [
           {
            "type": "scatterpolargl",
            "marker": {
             "colorbar": {
              "outlinewidth": 0,
              "ticks": ""
             }
            }
           }
          ],
          "bar": [
           {
            "error_x": {
             "color": "#f2f5fa"
            },
            "error_y": {
             "color": "#f2f5fa"
            },
            "marker": {
             "line": {
              "color": "rgb(17,17,17)",
              "width": 0.5
             },
             "pattern": {
              "fillmode": "overlay",
              "size": 10,
              "solidity": 0.2
             }
            },
            "type": "bar"
           }
          ],
          "scattergeo": [
           {
            "type": "scattergeo",
            "marker": {
             "colorbar": {
              "outlinewidth": 0,
              "ticks": ""
             }
            }
           }
          ],
          "scatterpolar": [
           {
            "type": "scatterpolar",
            "marker": {
             "colorbar": {
              "outlinewidth": 0,
              "ticks": ""
             }
            }
           }
          ],
          "histogram": [
           {
            "marker": {
             "pattern": {
              "fillmode": "overlay",
              "size": 10,
              "solidity": 0.2
             }
            },
            "type": "histogram"
           }
          ],
          "scattergl": [
           {
            "marker": {
             "line": {
              "color": "#283442"
             }
            },
            "type": "scattergl"
           }
          ],
          "scatter3d": [
           {
            "type": "scatter3d",
            "line": {
             "colorbar": {
              "outlinewidth": 0,
              "ticks": ""
             }
            },
            "marker": {
             "colorbar": {
              "outlinewidth": 0,
              "ticks": ""
             }
            }
           }
          ],
          "scattermapbox": [
           {
            "type": "scattermapbox",
            "marker": {
             "colorbar": {
              "outlinewidth": 0,
              "ticks": ""
             }
            }
           }
          ],
          "scatterternary": [
           {
            "type": "scatterternary",
            "marker": {
             "colorbar": {
              "outlinewidth": 0,
              "ticks": ""
             }
            }
           }
          ],
          "scattercarpet": [
           {
            "type": "scattercarpet",
            "marker": {
             "colorbar": {
              "outlinewidth": 0,
              "ticks": ""
             }
            }
           }
          ],
          "carpet": [
           {
            "aaxis": {
             "endlinecolor": "#A2B1C6",
             "gridcolor": "#506784",
             "linecolor": "#506784",
             "minorgridcolor": "#506784",
             "startlinecolor": "#A2B1C6"
            },
            "baxis": {
             "endlinecolor": "#A2B1C6",
             "gridcolor": "#506784",
             "linecolor": "#506784",
             "minorgridcolor": "#506784",
             "startlinecolor": "#A2B1C6"
            },
            "type": "carpet"
           }
          ],
          "table": [
           {
            "cells": {
             "fill": {
              "color": "#506784"
             },
             "line": {
              "color": "rgb(17,17,17)"
             }
            },
            "header": {
             "fill": {
              "color": "#2a3f5f"
             },
             "line": {
              "color": "rgb(17,17,17)"
             }
            },
            "type": "table"
           }
          ],
          "barpolar": [
           {
            "marker": {
             "line": {
              "color": "rgb(17,17,17)",
              "width": 0.5
             },
             "pattern": {
              "fillmode": "overlay",
              "size": 10,
              "solidity": 0.2
             }
            },
            "type": "barpolar"
           }
          ],
          "pie": [
           {
            "automargin": true,
            "type": "pie"
           }
          ]
         },
         "layout": {
          "autotypenumbers": "strict",
          "colorway": [
           "#636efa",
           "#EF553B",
           "#00cc96",
           "#ab63fa",
           "#FFA15A",
           "#19d3f3",
           "#FF6692",
           "#B6E880",
           "#FF97FF",
           "#FECB52"
          ],
          "font": {
           "color": "#f2f5fa"
          },
          "hovermode": "closest",
          "hoverlabel": {
           "align": "left"
          },
          "paper_bgcolor": "rgb(17,17,17)",
          "plot_bgcolor": "rgb(17,17,17)",
          "polar": {
           "bgcolor": "rgb(17,17,17)",
           "angularaxis": {
            "gridcolor": "#506784",
            "linecolor": "#506784",
            "ticks": ""
           },
           "radialaxis": {
            "gridcolor": "#506784",
            "linecolor": "#506784",
            "ticks": ""
           }
          },
          "ternary": {
           "bgcolor": "rgb(17,17,17)",
           "aaxis": {
            "gridcolor": "#506784",
            "linecolor": "#506784",
            "ticks": ""
           },
           "baxis": {
            "gridcolor": "#506784",
            "linecolor": "#506784",
            "ticks": ""
           },
           "caxis": {
            "gridcolor": "#506784",
            "linecolor": "#506784",
            "ticks": ""
           }
          },
          "coloraxis": {
           "colorbar": {
            "outlinewidth": 0,
            "ticks": ""
           }
          },
          "colorscale": {
           "sequential": [
            [
             0.0,
             "#0d0887"
            ],
            [
             0.1111111111111111,
             "#46039f"
            ],
            [
             0.2222222222222222,
             "#7201a8"
            ],
            [
             0.3333333333333333,
             "#9c179e"
            ],
            [
             0.4444444444444444,
             "#bd3786"
            ],
            [
             0.5555555555555556,
             "#d8576b"
            ],
            [
             0.6666666666666666,
             "#ed7953"
            ],
            [
             0.7777777777777778,
             "#fb9f3a"
            ],
            [
             0.8888888888888888,
             "#fdca26"
            ],
            [
             1.0,
             "#f0f921"
            ]
           ],
           "sequentialminus": [
            [
             0.0,
             "#0d0887"
            ],
            [
             0.1111111111111111,
             "#46039f"
            ],
            [
             0.2222222222222222,
             "#7201a8"
            ],
            [
             0.3333333333333333,
             "#9c179e"
            ],
            [
             0.4444444444444444,
             "#bd3786"
            ],
            [
             0.5555555555555556,
             "#d8576b"
            ],
            [
             0.6666666666666666,
             "#ed7953"
            ],
            [
             0.7777777777777778,
             "#fb9f3a"
            ],
            [
             0.8888888888888888,
             "#fdca26"
            ],
            [
             1.0,
             "#f0f921"
            ]
           ],
           "diverging": [
            [
             0,
             "#8e0152"
            ],
            [
             0.1,
             "#c51b7d"
            ],
            [
             0.2,
             "#de77ae"
            ],
            [
             0.3,
             "#f1b6da"
            ],
            [
             0.4,
             "#fde0ef"
            ],
            [
             0.5,
             "#f7f7f7"
            ],
            [
             0.6,
             "#e6f5d0"
            ],
            [
             0.7,
             "#b8e186"
            ],
            [
             0.8,
             "#7fbc41"
            ],
            [
             0.9,
             "#4d9221"
            ],
            [
             1,
             "#276419"
            ]
           ]
          },
          "xaxis": {
           "gridcolor": "#283442",
           "linecolor": "#506784",
           "ticks": "",
           "title": {
            "standoff": 15
           },
           "zerolinecolor": "#283442",
           "automargin": true,
           "zerolinewidth": 2
          },
          "yaxis": {
           "gridcolor": "#283442",
           "linecolor": "#506784",
           "ticks": "",
           "title": {
            "standoff": 15
           },
           "zerolinecolor": "#283442",
           "automargin": true,
           "zerolinewidth": 2
          },
          "scene": {
           "xaxis": {
            "backgroundcolor": "rgb(17,17,17)",
            "gridcolor": "#506784",
            "linecolor": "#506784",
            "showbackground": true,
            "ticks": "",
            "zerolinecolor": "#C8D4E3",
            "gridwidth": 2
           },
           "yaxis": {
            "backgroundcolor": "rgb(17,17,17)",
            "gridcolor": "#506784",
            "linecolor": "#506784",
            "showbackground": true,
            "ticks": "",
            "zerolinecolor": "#C8D4E3",
            "gridwidth": 2
           },
           "zaxis": {
            "backgroundcolor": "rgb(17,17,17)",
            "gridcolor": "#506784",
            "linecolor": "#506784",
            "showbackground": true,
            "ticks": "",
            "zerolinecolor": "#C8D4E3",
            "gridwidth": 2
           }
          },
          "shapedefaults": {
           "line": {
            "color": "#f2f5fa"
           }
          },
          "annotationdefaults": {
           "arrowcolor": "#f2f5fa",
           "arrowhead": 0,
           "arrowwidth": 1
          },
          "geo": {
           "bgcolor": "rgb(17,17,17)",
           "landcolor": "rgb(17,17,17)",
           "subunitcolor": "#506784",
           "showland": true,
           "showlakes": true,
           "lakecolor": "rgb(17,17,17)"
          },
          "title": {
           "x": 0.05
          },
          "updatemenudefaults": {
           "bgcolor": "#506784",
           "borderwidth": 0
          },
          "sliderdefaults": {
           "bgcolor": "#C8D4E3",
           "borderwidth": 1,
           "bordercolor": "rgb(17,17,17)",
           "tickwidth": 0
          },
          "mapbox": {
           "style": "dark"
          }
         }
        },
        "mapbox": {
         "center": {
          "lat": 70,
          "lon": 7
         },
         "style": "open-street-map",
         "zoom": 2.5
        },
        "height": 1000,
        "hovermode": "closest",
        "showlegend": false
       },
       "config": {
        "plotlyServerURL": "https://plot.ly"
       }
      },
      "text/html": "<div>                            <div id=\"ef2f6086-45fa-4d3d-bca7-10bd1b3a83f5\" class=\"plotly-graph-div\" style=\"height:1000px; width:100%;\"></div>            <script type=\"text/javascript\">                require([\"plotly\"], function(Plotly) {                    window.PLOTLYENV=window.PLOTLYENV || {};                                    if (document.getElementById(\"ef2f6086-45fa-4d3d-bca7-10bd1b3a83f5\")) {                    Plotly.newPlot(                        \"ef2f6086-45fa-4d3d-bca7-10bd1b3a83f5\",                        [{\"hovertext\":[1569.0,1473.0,1470.0,1457.0,1448.0,1443.0,1411.0,1407.0,1403.0,1394.0,1391.0,1390.0,1381.0,1364.0,1341.0,1310.0,1309.0,1300.0,1287.0,1282.0,1263.0,1243.0,1223.0,1206.0,1204.0,1198.0,1195.0,1193.0,1139.0,1128.0,1124.0,1096.0,1076.0,1061.0,1060.0,1044.0,1005.0,974.0,970.0,967.0,953.0,937.0,936.0,929.0,839.0,792.0,786.0,769.0,745.0,683.0,675.0,646.0,637.0,625.0,618.0,611.0,607.0,576.0,566.0,561.0,494.0,494.0,492.0,473.0,457.0,450.0,406.0,379.0,378.0,376.0,369.0,360.0,356.0,343.0,326.0,316.0,311.0,310.0,302.0,300.0,289.0,285.0,277.0,277.0,275.0,261.0,253.0,249.0,214.0,210.0,206.0,198.0,187.0,187.0,177.0,169.0,167.0,160.0,155.0,147.0,146.0,145.0,141.0,136.0,135.0,133.0,132.0,131.0,125.0,116.0,116.0,114.0,112.0,109.0,106.0,106.0,104.0,103.0,98.0,93.0,91.0,90.0,89.0,87.0,86.0,86.0,84.0,83.0,79.0,79.0,75.0,72.0,70.0,69.0,66.0,65.0,65.0,63.0,62.0,61.0,61.0,58.0,58.0,57.0,57.0,55.0,55.0,55.0,55.0,55.0,54.0,54.0,53.0,53.0,52.0,52.0,51.0,51.0,49.0,49.0,48.0,48.0,48.0,48.0,47.0,47.0,47.0,46.0,46.0,45.0,44.0,44.0,43.0,43.0,43.0,42.0,42.0,42.0,42.0,42.0,40.0,40.0,39.0,39.0,39.0,38.0,38.0,38.0,37.0,37.0,36.0,36.0,35.0,35.0,35.0,34.0,33.0,32.0,32.0,31.0,31.0,31.0,31.0,30.0,30.0,30.0,29.0,29.0,29.0,28.0,28.0,27.0,26.0,25.0,25.0,25.0,24.0,24.0,24.0,23.0,23.0,23.0,23.0,23.0,23.0,23.0,23.0,23.0,22.0,22.0,21.0,21.0,20.0,20.0,19.0,19.0,18.0,18.0,18.0,18.0,18.0,18.0,17.0,17.0,17.0,17.0,17.0,17.0,17.0,17.0,17.0,17.0,17.0,16.0,16.0,16.0,16.0,16.0,16.0,15.0,15.0,15.0,14.0,14.0,13.0,13.0,13.0,13.0,13.0,12.0,12.0,12.0,12.0,12.0,11.0,11.0,11.0,11.0,11.0,11.0,11.0,11.0,11.0,10.0,10.0,10.0,10.0,10.0,10.0,10.0,10.0,10.0,9.0,9.0,9.0,9.0,9.0,9.0,9.0,9.0,9.0,9.0,9.0,9.0,9.0,8.0,8.0,8.0,8.0,8.0,8.0,8.0,8.0,8.0,8.0,8.0,8.0,8.0,8.0,8.0,8.0,8.0,7.0,7.0,7.0,7.0,7.0,7.0,7.0,7.0,7.0,7.0,7.0,7.0,7.0,7.0,6.0,6.0,6.0,6.0,6.0,6.0,6.0,6.0,6.0,6.0,6.0,6.0,6.0,6.0,6.0,6.0,5.0,5.0,5.0,5.0,5.0,5.0,5.0,5.0,5.0,5.0,5.0,5.0,5.0,5.0,5.0,5.0,5.0,5.0,4.0,4.0,4.0,4.0,4.0,4.0,4.0,4.0,4.0,4.0,4.0,4.0,4.0,4.0,4.0,4.0,4.0,4.0,4.0,4.0,4.0,3.0,3.0,3.0,3.0,3.0,3.0,3.0,3.0,3.0,3.0,3.0,3.0,3.0,3.0,3.0,3.0,3.0,3.0,3.0,3.0,3.0,3.0,3.0,3.0,3.0,3.0,3.0,3.0,3.0,3.0,3.0,3.0,3.0,3.0,2.0,2.0,2.0,2.0,2.0,2.0,2.0,2.0,2.0,2.0,2.0,2.0,2.0,2.0,2.0,2.0,2.0,2.0,2.0,2.0,2.0,2.0,2.0,2.0,2.0,2.0,2.0,2.0,2.0,2.0,2.0,2.0,2.0,2.0,2.0,2.0,2.0,2.0,2.0,2.0,2.0,2.0,2.0,2.0,2.0,2.0,2.0,2.0,2.0,2.0,2.0,2.0,2.0,2.0,2.0,2.0,2.0,2.0,2.0,2.0,2.0,2.0,2.0,2.0,2.0,2.0,2.0,2.0,2.0,2.0,2.0,2.0,2.0,1.0,1.0,1.0,1.0,1.0,1.0,1.0,1.0,1.0,1.0,1.0,1.0,1.0,1.0,1.0,1.0,1.0,1.0,1.0,1.0,1.0,1.0,1.0,1.0,1.0,1.0,1.0,1.0,1.0,1.0,1.0,1.0,1.0,1.0,1.0,1.0,1.0,1.0,1.0,1.0,1.0,1.0,1.0,1.0,1.0,1.0,1.0,1.0,1.0,1.0,1.0,1.0,1.0,1.0,1.0,1.0,1.0,1.0,1.0,1.0,1.0,1.0,1.0,1.0,1.0,1.0,1.0,1.0,1.0,1.0,1.0,1.0,1.0,1.0,1.0,1.0,1.0,1.0,1.0,1.0,1.0,1.0,1.0,1.0,1.0,1.0,1.0,1.0,1.0,1.0,1.0,1.0,1.0,1.0,1.0,1.0,1.0,1.0,1.0,1.0,1.0,1.0,1.0,1.0,1.0,1.0,1.0,1.0,1.0,1.0,1.0,1.0,1.0,1.0,1.0,1.0,1.0,1.0,1.0,1.0,1.0,1.0,1.0],\"lat\":[69.25,70.73675,58.25,69.74206,66.25,65.22203,69.26583,70.66667,70.26784,71.21473,70.46517,68.15924,71.25,58.75,59.23466,69.26902,66.74865,59.25,70.25,63.24359,61.75,68.29821,67.19701,71.23915,70.25,67.25,62.76533,67.22556,70.49274,64.74619,66.25914,69.93406,71.23199,62.75,64.22308,67.82298,63.25,63.76938,70.25,69.80871,70.7379,58.75,65.75,68.91069,57.75,68.75,68.25,70.81682,70.33232,71.23613,63.75,67.33333,67.93413,69.75,57.75,57.81892,71.13554,70.25,67.62873,70.75,71.25,70.33884,67.61111,66.75,68.27428,68.79785,62.44167,67.64251,59.25,61.2617,70.7874,67.75442,58.72558,74.5,67.80045,60.76585,64.58869,71.75,57.25,67.94444,71.25,68.73656,57.75,57.25,63.25,68.01399,67.75,70.75,59.75166,58.25,59.75,57.75,63.1323,57.75,74.5,71.25,73.75,69.75,60.25,74.5,75.5,72.5,74.59921,65.15937,73.75,57.24889,58.75,72.55357,71.75,72.5,74.5,73.5,60.75,71.25,68.25,60.25,61.25,58.25,60.25,71.75,73.5,72.5,75.5,75.5,67.75,72.5,64.75,58.25,59.75,59.25,65.37965,59.75,71.25,72.5,70.75,69.02192,61.25,77.25,75.5,61.75,65.75,76.75,73.25,70.75,60.25,57.67004,70.75,61.75,59.75,57.25,75.625,58.75,70.75,59.25,74.5,73.75,71.25,71.25,70.75,68.75,70.64731,72.5,60.25,61.25,57.25,71.25,74.5,74.5,71.25,57.75,68.25,60.75,60.75,70.5,62.25,72.5,59.75,71.75,62.75,68.75,71.75,76.75,60.75,72.5,76.75,58.25,71.75,59.25,60.25,65.25,74.5,71.75,61.75,63.85145,71.25,73.25,72.5,70.25,71.25,77.25,71.75,76.25,69.76997,57.14948,59.25,58.75,61.25,65.25,73.5,60.75,79.25,61.25,70.25,76.75,67.25,72.5,74.5,72.5,59.25,75.5,73.75,76.75,69.25,75.5,75.5,75.5,77.25,77.25,76.25,77.5,75.5,80.25,75.5,76.25,67.75,57.75,77.25,76.25,58.75,60.25,71.75,60.75,71.75,76.25,61.04847,71.5,59.75,77.5,76.75,57.30618,73.25,59.75,76.25,75.5,71.75,62.75,73.75,60.24815,77.75,64.75,70.25,70.5,67.25,58.75,70.5,73.25,60.75,73.25,62.25,77.75,73.25,71.75,78.75,75.5,75.0,64.25,71.5,74.5,70.5,59.75,76.5,76.5,58.75,58.75,58.25,75.5,61.75,65.25,75.25,64.75,79.5,78.83482,57.75,67.5,78.25,59.75367,69.5,71.5,76.5,76.5,76.5,76.25,57.75,77.75,78.25,78.5,78.5,56.75,76.25,77.5,63.75,76.75,57.75,57.25,57.25,79.25,74.5,59.75,80.25,59.75,73.25,73.75,76.25,58.25,68.58333,57.48282,71.5,71.25,60.25,59.25,65.25,71.5,69.75,67.16667,66.25,78.25,76.25,69.25,77.25,66.5,65.75,66.75,63.75,70.5,69.5,58.25,61.75,74.5,78.75,76.5,62.5,69.5,77.25,66.58333,59.25,59.25,66.25,66.08333,70.75,66.75,62.25,71.5,61.25,61.25,64.25,70.5,76.75,57.75,78.5,76.75,55.25,76.75,77.5,77.25,57.75,70.25,62.75,70.5,72.5,63.25,63.25,59.75,70.75,77.25,77.25,57.77771,73.25,69.5,71.5,64.25,69.75,77.75,76.25,58.75,78.5,62.25,62.25,62.25,71.5,61.25,70.5,64.75,59.25,74.5,73.0,70.5,69.75,73.75,60.25,71.5,69.5,73.5,80.75,72.25,72.5,61.75,59.75,75.5,69.58333,66.25,69.75,68.5,57.75,56.75,56.75,76.75,77.75,77.75,56.75,56.75,56.75,56.75,57.25,57.25,78.75,78.75,79.25,79.25,58.25,58.25,58.25,58.25,79.5,57.25,69.5,76.25,68.5,68.7,80.75,67.5,68.5,57.75,70.5,70.5,79.75,79.75,79.75,80.25,63.25,63.25,59.25,59.25,59.75,74.5,69.75,69.75,60.75,73.5,58.82238,63.75,63.75,63.75,63.75,64.25,71.5,62.25,69.5,66.05,60.75,69.5,72.5,72.5,61.75,71.75,72.5,72.5,65.75,65.75,64.75,64.75,64.75,65.15164,65.25,65.5,69.75,77.75,55.549795,78.25,52.3806,55.75,56.25,58.75,78.75,79.25,79.25,79.25781,56.75,57.25,55.75,55.25,54.75,61.75,70.25,70.25,70.5,70.5,64.75,64.75,65.25,65.25,65.5,65.5,65.58333,65.75,65.75,65.75,61.75,61.75,61.75,72.5,62.25,62.25,62.5,62.75,62.75,62.75,62.75,61.25,72.5,72.5,60.25,60.25,60.25,60.25,60.25,60.5,60.75,60.75,60.75,69.5,66.225,66.25,66.5,66.5,66.5,66.75,64.5,71.25,71.5,71.5,61.75,62.25,63.25,63.75,64.25,72.5,59.25,59.25,74.5,74.5,70.75,70.75,63.25,63.25,63.25,63.25,79.75,80.24008,80.25,80.25,57.25,57.25,57.75,57.81712,70.5,80.5,80.75,81.25,82.25,68.5,68.5,68.5,69.25,69.25,69.25,69.5,75.5,75.5,75.5,76.25,57.849645,76.75,77.02027,77.25,57.25,57.25,58.25,58.25,58.75,77.5,55.75,54.75,53.75,53.25,56.25,56.25,56.75,56.75,56.75,78.25,55.5],\"lon\":[14.5,21.54827,5.5,17.491,11.5,11.56914,15.47374,30.5,20.4513,27.51996,25.53489,14.56579,23.5,9.5,5.37624,16.61634,12.50313,10.5,31.5,7.49065,4.5,13.44548,14.43561,26.46578,17.5,11.5,6.5624,13.53719,26.79157,10.50548,12.68927,29.74327,24.52052,5.5,9.55392,13.41423,6.5,8.4814,19.5,18.45225,23.48981,10.5,11.5,17.42042,7.5,13.5,12.5,29.3436,21.52462,28.48711,7.5,12.33333,15.57921,15.5,6.5,7.67022,25.37756,18.5,14.67456,31.5,29.5,22.46289,13.66667,11.5,15.61145,16.01984,6.21667,12.74275,3.5,4.47778,22.55833,14.53782,5.43607,20.0,12.38605,4.51988,11.77463,26.5,5.5,14.15556,31.5,15.40196,9.5,7.5,5.5,16.3323,9.5,20.5,6.0157,4.5,3.5,5.5,6.60818,8.5,22.0,30.5,20.0,16.5,3.5,16.0,18.0,26.5,21.65873,12.59274,18.0,7.49777,3.5,22.10714,16.0,16.0,18.0,33.0,2.5,22.5,11.5,2.5,2.5,3.5,0.5,18.0,31.0,29.0,16.0,20.0,10.5,18.0,8.5,10.5,2.5,2.5,9.65035,-3.5,21.5,24.0,17.5,14.44817,-1.5,29.0,22.0,-0.5,10.5,25.0,29.0,19.5,-2.5,7.3025,18.5,0.5,0.5,6.5,24.75,0.5,32.5,0.5,31.0,22.0,19.5,20.5,16.5,12.5,20.8475,22.0,1.5,-0.5,8.5,16.5,24.0,33.0,15.5,4.5,10.5,3.5,0.5,37.0,4.5,33.0,-0.5,24.0,4.5,11.5,25.5,29.0,-2.5,31.0,14.0,0.5,27.5,-0.5,-3.5,10.5,26.5,29.5,1.5,11.06946,17.5,18.0,35.0,16.5,18.5,12.0,28.5,15.5,31.47496,8.2665,1.5,2.5,0.5,8.5,35.0,1.5,8.0,1.5,32.5,27.0,10.5,20.0,35.0,14.0,-1.5,41.0,26.5,12.0,13.5,31.0,14.0,29.0,27.0,23.0,25.0,31.0,33.0,12.0,39.0,19.0,11.5,3.5,10.0,14.0,4.5,-0.5,22.0,-0.5,20.0,29.0,4.51307,37.0,-2.5,33.0,23.0,8.63051,16.0,1.5,23.0,37.0,32.5,3.5,16.0,4.50056,10.0,9.5,15.5,47.0,9.5,-0.5,35.0,26.5,-1.5,20.0,3.5,12.0,24.0,30.5,8.0,27.0,35.0,8.5,43.0,37.0,39.0,4.5,35.0,39.0,1.5,-1.5,9.5,35.0,-1.5,9.5,24.0,7.5,33.0,26.16964,10.5,8.0,25.0,-1.00349,53.0,47.0,33.0,31.0,37.0,21.0,0.5,29.0,29.0,33.0,31.0,6.5,17.0,37.0,6.5,10.0,-1.5,-0.5,4.5,10.0,14.0,-1.5,14.0,-5.5,14.0,24.0,27.0,2.5,9.83333,7.96936,14.0,32.5,-4.5,-3.5,6.5,41.0,14.5,12.66667,8.5,27.0,10.0,12.5,14.0,6.0,9.5,9.5,5.5,49.0,51.0,1.5,2.5,29.0,10.0,41.0,0.0,55.0,25.0,7.83333,-5.5,-6.5,9.5,-19.5,15.5,10.5,-4.5,45.0,3.5,-2.5,7.5,41.0,8.0,-0.5,35.0,21.0,2.5,19.0,35.0,8.0,-13.5,14.5,-6.5,43.0,37.0,4.5,-22.5,-4.5,-8.5,17.5,21.0,11.53405,22.0,41.0,39.0,6.5,13.5,25.0,12.0,-7.5,37.0,-8.5,-39.5,-40.5,49.0,-5.5,33.5,-13.5,-36.5,12.0,35.0,12.0,37.5,29.0,-7.5,10.0,10.0,47.0,29.0,9.0,45.0,-5.5,-7.5,12.0,11.83333,10.5,38.5,8.0,1.5,-15.5,-13.5,6.0,8.0,19.0,3.5,4.5,5.5,7.5,-15.5,-13.5,25.0,29.0,6.0,35.0,-8.5,-1.5,-0.5,11.5,35.0,0.5,8.0,4.0,6.0,49.0,12.0,6.0,-8.0,2.5,51.0,53.0,8.0,10.0,12.0,10.0,-38.5,-24.5,-7.5,-4.5,-6.5,39.0,35.5,36.5,-3.5,37.0,4.571155,-40.5,-38.5,-37.5,4.5,-35.5,33.5,-38.5,57.0,-18.5,-6.5,47.0,41.0,43.0,-4.5,31.5,10.0,39.0,7.5,8.5,-11.5,5.5,6.5,-33.54098,-11.5,0.0,39.5,27.0,3.28988,10.0,2.95185,3.5,-15.5,-2.5,6.0,4.0,12.0,19.5,10.5,-8.5,0.5,4.5,4.5,-9.5,-9.5,-8.5,8.0,10.0,-34.5,-32.5,-31.5,-13.5,2.0,4.0,5.83333,-30.5,-13.5,-12.5,-8.5,-7.5,-2.5,12.0,-22.5,-5.5,-2.0,-22.5,-7.5,-5.5,-4.5,-6.5,47.0,49.0,-38.5,-9.5,-8.5,-6.5,-5.5,-28.0,-10.5,-8.5,-5.5,43.0,-17.5,-12.5,-2.0,0.0,2.0,-12.5,2.0,-8.5,8.0,35.0,3.5,-35.5,-20.5,-35.5,-36.5,51.0,-41.5,4.5,51.0,53.0,-10.5,-9.5,-41.0,-36.5,-34.5,-25.5,19.0,10.00595,16.0,17.5,2.5,9.5,-14.5,10.45405,55.0,31.0,14.0,21.0,41.0,2.0,41.0,51.0,36.5,38.5,39.5,6.0,6.0,47.0,53.0,8.0,10.47301,17.5,9.9482,4.0,-1.5,1.5,-13.5,-9.5,-8.5,47.0,-1.5,1.5,3.5,-15.5,-2.5,7.5,-14.5,-0.5,1.5,14.0,-33.0],\"marker\":{\"color\":[1569,1473,1470,1457,1448,1443,1411,1407,1403,1394,1391,1390,1381,1364,1341,1310,1309,1300,1287,1282,1263,1243,1223,1206,1204,1198,1195,1193,1139,1128,1124,1096,1076,1061,1060,1044,1005,974,970,967,953,937,936,929,839,792,786,769,745,683,675,646,637,625,618,611,607,576,566,561,494,494,492,473,457,450,406,379,378,376,369,360,356,343,326,316,311,310,302,300,289,285,277,277,275,261,253,249,214,210,206,198,187,187,177,169,167,160,155,147,146,145,141,136,135,133,132,131,125,116,116,114,112,109,106,106,104,103,98,93,91,90,89,87,86,86,84,83,79,79,75,72,70,69,66,65,65,63,62,61,61,58,58,57,57,55,55,55,55,55,54,54,53,53,52,52,51,51,49,49,48,48,48,48,47,47,47,46,46,45,44,44,43,43,43,42,42,42,42,42,40,40,39,39,39,38,38,38,37,37,36,36,35,35,35,34,33,32,32,31,31,31,31,30,30,30,29,29,29,28,28,27,26,25,25,25,24,24,24,23,23,23,23,23,23,23,23,23,22,22,21,21,20,20,19,19,18,18,18,18,18,18,17,17,17,17,17,17,17,17,17,17,17,16,16,16,16,16,16,15,15,15,14,14,13,13,13,13,13,12,12,12,12,12,11,11,11,11,11,11,11,11,11,10,10,10,10,10,10,10,10,10,9,9,9,9,9,9,9,9,9,9,9,9,9,8,8,8,8,8,8,8,8,8,8,8,8,8,8,8,8,8,7,7,7,7,7,7,7,7,7,7,7,7,7,7,6,6,6,6,6,6,6,6,6,6,6,6,6,6,6,6,5,5,5,5,5,5,5,5,5,5,5,5,5,5,5,5,5,5,4,4,4,4,4,4,4,4,4,4,4,4,4,4,4,4,4,4,4,4,4,3,3,3,3,3,3,3,3,3,3,3,3,3,3,3,3,3,3,3,3,3,3,3,3,3,3,3,3,3,3,3,3,3,3,2,2,2,2,2,2,2,2,2,2,2,2,2,2,2,2,2,2,2,2,2,2,2,2,2,2,2,2,2,2,2,2,2,2,2,2,2,2,2,2,2,2,2,2,2,2,2,2,2,2,2,2,2,2,2,2,2,2,2,2,2,2,2,2,2,2,2,2,2,2,2,2,2,1,1,1,1,1,1,1,1,1,1,1,1,1,1,1,1,1,1,1,1,1,1,1,1,1,1,1,1,1,1,1,1,1,1,1,1,1,1,1,1,1,1,1,1,1,1,1,1,1,1,1,1,1,1,1,1,1,1,1,1,1,1,1,1,1,1,1,1,1,1,1,1,1,1,1,1,1,1,1,1,1,1,1,1,1,1,1,1,1,1,1,1,1,1,1,1,1,1,1,1,1,1,1,1,1,1,1,1,1,1,1,1,1,1,1,1,1,1,1,1,1,1,1],\"coloraxis\":\"coloraxis\",\"size\":[14.0,13.448979591836736,13.431760204081632,13.357142857142858,13.30548469387755,13.276785714285714,13.09311224489796,13.07015306122449,13.04719387755102,12.995535714285714,12.978316326530614,12.972576530612244,12.920918367346939,12.823341836734693,12.691326530612244,12.513392857142858,12.50765306122449,12.455994897959183,12.381377551020408,12.352678571428571,12.243622448979592,12.128826530612244,12.014030612244898,11.916454081632654,11.904974489795919,11.870535714285714,11.853316326530614,11.841836734693878,11.53188775510204,11.46875,11.44579081632653,11.285076530612244,11.170280612244898,11.084183673469386,11.07844387755102,10.986607142857142,10.762755102040817,10.584821428571429,10.56186224489796,10.544642857142858,10.464285714285714,10.372448979591837,10.36670918367347,10.326530612244898,9.809948979591837,9.540178571428571,9.505739795918366,9.408163265306122,9.270408163265307,8.91454081632653,8.868622448979592,8.702168367346939,8.650510204081632,8.581632653061224,8.541454081632654,8.501275510204081,8.478316326530612,8.300382653061224,8.24298469387755,8.214285714285715,7.829719387755102,7.829719387755102,7.818239795918368,7.709183673469388,7.61734693877551,7.577168367346939,7.324617346938775,7.169642857142858,7.16390306122449,7.152423469387755,7.112244897959184,7.060586734693878,7.0376275510204085,6.963010204081632,6.865433673469388,6.808035714285714,6.779336734693878,6.77359693877551,6.727678571428571,6.716198979591836,6.653061224489796,6.630102040816327,6.584183673469388,6.584183673469388,6.572704081632653,6.49234693877551,6.446428571428571,6.423469387755102,6.222576530612245,6.199617346938775,6.176658163265306,6.130739795918368,6.067602040816327,6.067602040816327,6.0102040816326525,5.964285714285714,5.95280612244898,5.9126275510204085,5.883928571428571,5.838010204081633,5.832270408163265,5.826530612244898,5.803571428571429,5.7748724489795915,5.769132653061225,5.75765306122449,5.751913265306122,5.746173469387755,5.711734693877551,5.660076530612245,5.660076530612245,5.64859693877551,5.637117346938775,5.619897959183674,5.602678571428571,5.602678571428571,5.591198979591836,5.5854591836734695,5.556760204081632,5.528061224489796,5.516581632653061,5.510841836734694,5.505102040816326,5.4936224489795915,5.487882653061225,5.487882653061225,5.47640306122449,5.470663265306122,5.447704081632653,5.447704081632653,5.424744897959184,5.407525510204081,5.396045918367347,5.39030612244898,5.373086734693878,5.36734693877551,5.36734693877551,5.355867346938775,5.3501275510204085,5.344387755102041,5.344387755102041,5.327168367346939,5.327168367346939,5.321428571428571,5.321428571428571,5.309948979591836,5.309948979591836,5.309948979591836,5.309948979591836,5.309948979591836,5.3042091836734695,5.3042091836734695,5.298469387755102,5.298469387755102,5.292729591836735,5.292729591836735,5.286989795918368,5.286989795918368,5.275510204081632,5.275510204081632,5.269770408163265,5.269770408163265,5.269770408163265,5.269770408163265,5.264030612244898,5.264030612244898,5.264030612244898,5.2582908163265305,5.2582908163265305,5.252551020408164,5.246811224489796,5.246811224489796,5.241071428571429,5.241071428571429,5.241071428571429,5.235331632653061,5.235331632653061,5.235331632653061,5.235331632653061,5.235331632653061,5.223852040816326,5.223852040816326,5.218112244897959,5.218112244897959,5.218112244897959,5.2123724489795915,5.2123724489795915,5.2123724489795915,5.206632653061225,5.206632653061225,5.200892857142857,5.200892857142857,5.19515306122449,5.19515306122449,5.19515306122449,5.189413265306122,5.183673469387755,5.177933673469388,5.177933673469388,5.17219387755102,5.17219387755102,5.17219387755102,5.17219387755102,5.166454081632653,5.166454081632653,5.166454081632653,5.160714285714286,5.160714285714286,5.160714285714286,5.154974489795919,5.154974489795919,5.149234693877551,5.143494897959184,5.137755102040816,5.137755102040816,5.137755102040816,5.132015306122449,5.132015306122449,5.132015306122449,5.126275510204081,5.126275510204081,5.126275510204081,5.126275510204081,5.126275510204081,5.126275510204081,5.126275510204081,5.126275510204081,5.126275510204081,5.120535714285714,5.120535714285714,5.114795918367347,5.114795918367347,5.10905612244898,5.10905612244898,5.103316326530612,5.103316326530612,5.097576530612245,5.097576530612245,5.097576530612245,5.097576530612245,5.097576530612245,5.097576530612245,5.091836734693878,5.091836734693878,5.091836734693878,5.091836734693878,5.091836734693878,5.091836734693878,5.091836734693878,5.091836734693878,5.091836734693878,5.091836734693878,5.091836734693878,5.08609693877551,5.08609693877551,5.08609693877551,5.08609693877551,5.08609693877551,5.08609693877551,5.080357142857143,5.080357142857143,5.080357142857143,5.074617346938775,5.074617346938775,5.0688775510204085,5.0688775510204085,5.0688775510204085,5.0688775510204085,5.0688775510204085,5.063137755102041,5.063137755102041,5.063137755102041,5.063137755102041,5.063137755102041,5.057397959183674,5.057397959183674,5.057397959183674,5.057397959183674,5.057397959183674,5.057397959183674,5.057397959183674,5.057397959183674,5.057397959183674,5.051658163265306,5.051658163265306,5.051658163265306,5.051658163265306,5.051658163265306,5.051658163265306,5.051658163265306,5.051658163265306,5.051658163265306,5.045918367346939,5.045918367346939,5.045918367346939,5.045918367346939,5.045918367346939,5.045918367346939,5.045918367346939,5.045918367346939,5.045918367346939,5.045918367346939,5.045918367346939,5.045918367346939,5.045918367346939,5.040178571428571,5.040178571428571,5.040178571428571,5.040178571428571,5.040178571428571,5.040178571428571,5.040178571428571,5.040178571428571,5.040178571428571,5.040178571428571,5.040178571428571,5.040178571428571,5.040178571428571,5.040178571428571,5.040178571428571,5.040178571428571,5.040178571428571,5.034438775510204,5.034438775510204,5.034438775510204,5.034438775510204,5.034438775510204,5.034438775510204,5.034438775510204,5.034438775510204,5.034438775510204,5.034438775510204,5.034438775510204,5.034438775510204,5.034438775510204,5.034438775510204,5.028698979591836,5.028698979591836,5.028698979591836,5.028698979591836,5.028698979591836,5.028698979591836,5.028698979591836,5.028698979591836,5.028698979591836,5.028698979591836,5.028698979591836,5.028698979591836,5.028698979591836,5.028698979591836,5.028698979591836,5.028698979591836,5.0229591836734695,5.0229591836734695,5.0229591836734695,5.0229591836734695,5.0229591836734695,5.0229591836734695,5.0229591836734695,5.0229591836734695,5.0229591836734695,5.0229591836734695,5.0229591836734695,5.0229591836734695,5.0229591836734695,5.0229591836734695,5.0229591836734695,5.0229591836734695,5.0229591836734695,5.0229591836734695,5.017219387755102,5.017219387755102,5.017219387755102,5.017219387755102,5.017219387755102,5.017219387755102,5.017219387755102,5.017219387755102,5.017219387755102,5.017219387755102,5.017219387755102,5.017219387755102,5.017219387755102,5.017219387755102,5.017219387755102,5.017219387755102,5.017219387755102,5.017219387755102,5.017219387755102,5.017219387755102,5.017219387755102,5.011479591836735,5.011479591836735,5.011479591836735,5.011479591836735,5.011479591836735,5.011479591836735,5.011479591836735,5.011479591836735,5.011479591836735,5.011479591836735,5.011479591836735,5.011479591836735,5.011479591836735,5.011479591836735,5.011479591836735,5.011479591836735,5.011479591836735,5.011479591836735,5.011479591836735,5.011479591836735,5.011479591836735,5.011479591836735,5.011479591836735,5.011479591836735,5.011479591836735,5.011479591836735,5.011479591836735,5.011479591836735,5.011479591836735,5.011479591836735,5.011479591836735,5.011479591836735,5.011479591836735,5.011479591836735,5.005739795918367,5.005739795918367,5.005739795918367,5.005739795918367,5.005739795918367,5.005739795918367,5.005739795918367,5.005739795918367,5.005739795918367,5.005739795918367,5.005739795918367,5.005739795918367,5.005739795918367,5.005739795918367,5.005739795918367,5.005739795918367,5.005739795918367,5.005739795918367,5.005739795918367,5.005739795918367,5.005739795918367,5.005739795918367,5.005739795918367,5.005739795918367,5.005739795918367,5.005739795918367,5.005739795918367,5.005739795918367,5.005739795918367,5.005739795918367,5.005739795918367,5.005739795918367,5.005739795918367,5.005739795918367,5.005739795918367,5.005739795918367,5.005739795918367,5.005739795918367,5.005739795918367,5.005739795918367,5.005739795918367,5.005739795918367,5.005739795918367,5.005739795918367,5.005739795918367,5.005739795918367,5.005739795918367,5.005739795918367,5.005739795918367,5.005739795918367,5.005739795918367,5.005739795918367,5.005739795918367,5.005739795918367,5.005739795918367,5.005739795918367,5.005739795918367,5.005739795918367,5.005739795918367,5.005739795918367,5.005739795918367,5.005739795918367,5.005739795918367,5.005739795918367,5.005739795918367,5.005739795918367,5.005739795918367,5.005739795918367,5.005739795918367,5.005739795918367,5.005739795918367,5.005739795918367,5.005739795918367,5.0,5.0,5.0,5.0,5.0,5.0,5.0,5.0,5.0,5.0,5.0,5.0,5.0,5.0,5.0,5.0,5.0,5.0,5.0,5.0,5.0,5.0,5.0,5.0,5.0,5.0,5.0,5.0,5.0,5.0,5.0,5.0,5.0,5.0,5.0,5.0,5.0,5.0,5.0,5.0,5.0,5.0,5.0,5.0,5.0,5.0,5.0,5.0,5.0,5.0,5.0,5.0,5.0,5.0,5.0,5.0,5.0,5.0,5.0,5.0,5.0,5.0,5.0,5.0,5.0,5.0,5.0,5.0,5.0,5.0,5.0,5.0,5.0,5.0,5.0,5.0,5.0,5.0,5.0,5.0,5.0,5.0,5.0,5.0,5.0,5.0,5.0,5.0,5.0,5.0,5.0,5.0,5.0,5.0,5.0,5.0,5.0,5.0,5.0,5.0,5.0,5.0,5.0,5.0,5.0,5.0,5.0,5.0,5.0,5.0,5.0,5.0,5.0,5.0,5.0,5.0,5.0,5.0,5.0,5.0,5.0,5.0,5.0],\"sizemin\":2},\"mode\":\"markers\",\"type\":\"scattermapbox\"}],                        {\"template\":{\"data\":{\"histogram2dcontour\":[{\"type\":\"histogram2dcontour\",\"colorbar\":{\"outlinewidth\":0,\"ticks\":\"\"},\"colorscale\":[[0.0,\"#0d0887\"],[0.1111111111111111,\"#46039f\"],[0.2222222222222222,\"#7201a8\"],[0.3333333333333333,\"#9c179e\"],[0.4444444444444444,\"#bd3786\"],[0.5555555555555556,\"#d8576b\"],[0.6666666666666666,\"#ed7953\"],[0.7777777777777778,\"#fb9f3a\"],[0.8888888888888888,\"#fdca26\"],[1.0,\"#f0f921\"]]}],\"choropleth\":[{\"type\":\"choropleth\",\"colorbar\":{\"outlinewidth\":0,\"ticks\":\"\"}}],\"histogram2d\":[{\"type\":\"histogram2d\",\"colorbar\":{\"outlinewidth\":0,\"ticks\":\"\"},\"colorscale\":[[0.0,\"#0d0887\"],[0.1111111111111111,\"#46039f\"],[0.2222222222222222,\"#7201a8\"],[0.3333333333333333,\"#9c179e\"],[0.4444444444444444,\"#bd3786\"],[0.5555555555555556,\"#d8576b\"],[0.6666666666666666,\"#ed7953\"],[0.7777777777777778,\"#fb9f3a\"],[0.8888888888888888,\"#fdca26\"],[1.0,\"#f0f921\"]]}],\"heatmap\":[{\"type\":\"heatmap\",\"colorbar\":{\"outlinewidth\":0,\"ticks\":\"\"},\"colorscale\":[[0.0,\"#0d0887\"],[0.1111111111111111,\"#46039f\"],[0.2222222222222222,\"#7201a8\"],[0.3333333333333333,\"#9c179e\"],[0.4444444444444444,\"#bd3786\"],[0.5555555555555556,\"#d8576b\"],[0.6666666666666666,\"#ed7953\"],[0.7777777777777778,\"#fb9f3a\"],[0.8888888888888888,\"#fdca26\"],[1.0,\"#f0f921\"]]}],\"heatmapgl\":[{\"type\":\"heatmapgl\",\"colorbar\":{\"outlinewidth\":0,\"ticks\":\"\"},\"colorscale\":[[0.0,\"#0d0887\"],[0.1111111111111111,\"#46039f\"],[0.2222222222222222,\"#7201a8\"],[0.3333333333333333,\"#9c179e\"],[0.4444444444444444,\"#bd3786\"],[0.5555555555555556,\"#d8576b\"],[0.6666666666666666,\"#ed7953\"],[0.7777777777777778,\"#fb9f3a\"],[0.8888888888888888,\"#fdca26\"],[1.0,\"#f0f921\"]]}],\"contourcarpet\":[{\"type\":\"contourcarpet\",\"colorbar\":{\"outlinewidth\":0,\"ticks\":\"\"}}],\"contour\":[{\"type\":\"contour\",\"colorbar\":{\"outlinewidth\":0,\"ticks\":\"\"},\"colorscale\":[[0.0,\"#0d0887\"],[0.1111111111111111,\"#46039f\"],[0.2222222222222222,\"#7201a8\"],[0.3333333333333333,\"#9c179e\"],[0.4444444444444444,\"#bd3786\"],[0.5555555555555556,\"#d8576b\"],[0.6666666666666666,\"#ed7953\"],[0.7777777777777778,\"#fb9f3a\"],[0.8888888888888888,\"#fdca26\"],[1.0,\"#f0f921\"]]}],\"surface\":[{\"type\":\"surface\",\"colorbar\":{\"outlinewidth\":0,\"ticks\":\"\"},\"colorscale\":[[0.0,\"#0d0887\"],[0.1111111111111111,\"#46039f\"],[0.2222222222222222,\"#7201a8\"],[0.3333333333333333,\"#9c179e\"],[0.4444444444444444,\"#bd3786\"],[0.5555555555555556,\"#d8576b\"],[0.6666666666666666,\"#ed7953\"],[0.7777777777777778,\"#fb9f3a\"],[0.8888888888888888,\"#fdca26\"],[1.0,\"#f0f921\"]]}],\"mesh3d\":[{\"type\":\"mesh3d\",\"colorbar\":{\"outlinewidth\":0,\"ticks\":\"\"}}],\"scatter\":[{\"marker\":{\"line\":{\"color\":\"#283442\"}},\"type\":\"scatter\"}],\"parcoords\":[{\"type\":\"parcoords\",\"line\":{\"colorbar\":{\"outlinewidth\":0,\"ticks\":\"\"}}}],\"scatterpolargl\":[{\"type\":\"scatterpolargl\",\"marker\":{\"colorbar\":{\"outlinewidth\":0,\"ticks\":\"\"}}}],\"bar\":[{\"error_x\":{\"color\":\"#f2f5fa\"},\"error_y\":{\"color\":\"#f2f5fa\"},\"marker\":{\"line\":{\"color\":\"rgb(17,17,17)\",\"width\":0.5},\"pattern\":{\"fillmode\":\"overlay\",\"size\":10,\"solidity\":0.2}},\"type\":\"bar\"}],\"scattergeo\":[{\"type\":\"scattergeo\",\"marker\":{\"colorbar\":{\"outlinewidth\":0,\"ticks\":\"\"}}}],\"scatterpolar\":[{\"type\":\"scatterpolar\",\"marker\":{\"colorbar\":{\"outlinewidth\":0,\"ticks\":\"\"}}}],\"histogram\":[{\"marker\":{\"pattern\":{\"fillmode\":\"overlay\",\"size\":10,\"solidity\":0.2}},\"type\":\"histogram\"}],\"scattergl\":[{\"marker\":{\"line\":{\"color\":\"#283442\"}},\"type\":\"scattergl\"}],\"scatter3d\":[{\"type\":\"scatter3d\",\"line\":{\"colorbar\":{\"outlinewidth\":0,\"ticks\":\"\"}},\"marker\":{\"colorbar\":{\"outlinewidth\":0,\"ticks\":\"\"}}}],\"scattermapbox\":[{\"type\":\"scattermapbox\",\"marker\":{\"colorbar\":{\"outlinewidth\":0,\"ticks\":\"\"}}}],\"scatterternary\":[{\"type\":\"scatterternary\",\"marker\":{\"colorbar\":{\"outlinewidth\":0,\"ticks\":\"\"}}}],\"scattercarpet\":[{\"type\":\"scattercarpet\",\"marker\":{\"colorbar\":{\"outlinewidth\":0,\"ticks\":\"\"}}}],\"carpet\":[{\"aaxis\":{\"endlinecolor\":\"#A2B1C6\",\"gridcolor\":\"#506784\",\"linecolor\":\"#506784\",\"minorgridcolor\":\"#506784\",\"startlinecolor\":\"#A2B1C6\"},\"baxis\":{\"endlinecolor\":\"#A2B1C6\",\"gridcolor\":\"#506784\",\"linecolor\":\"#506784\",\"minorgridcolor\":\"#506784\",\"startlinecolor\":\"#A2B1C6\"},\"type\":\"carpet\"}],\"table\":[{\"cells\":{\"fill\":{\"color\":\"#506784\"},\"line\":{\"color\":\"rgb(17,17,17)\"}},\"header\":{\"fill\":{\"color\":\"#2a3f5f\"},\"line\":{\"color\":\"rgb(17,17,17)\"}},\"type\":\"table\"}],\"barpolar\":[{\"marker\":{\"line\":{\"color\":\"rgb(17,17,17)\",\"width\":0.5},\"pattern\":{\"fillmode\":\"overlay\",\"size\":10,\"solidity\":0.2}},\"type\":\"barpolar\"}],\"pie\":[{\"automargin\":true,\"type\":\"pie\"}]},\"layout\":{\"autotypenumbers\":\"strict\",\"colorway\":[\"#636efa\",\"#EF553B\",\"#00cc96\",\"#ab63fa\",\"#FFA15A\",\"#19d3f3\",\"#FF6692\",\"#B6E880\",\"#FF97FF\",\"#FECB52\"],\"font\":{\"color\":\"#f2f5fa\"},\"hovermode\":\"closest\",\"hoverlabel\":{\"align\":\"left\"},\"paper_bgcolor\":\"rgb(17,17,17)\",\"plot_bgcolor\":\"rgb(17,17,17)\",\"polar\":{\"bgcolor\":\"rgb(17,17,17)\",\"angularaxis\":{\"gridcolor\":\"#506784\",\"linecolor\":\"#506784\",\"ticks\":\"\"},\"radialaxis\":{\"gridcolor\":\"#506784\",\"linecolor\":\"#506784\",\"ticks\":\"\"}},\"ternary\":{\"bgcolor\":\"rgb(17,17,17)\",\"aaxis\":{\"gridcolor\":\"#506784\",\"linecolor\":\"#506784\",\"ticks\":\"\"},\"baxis\":{\"gridcolor\":\"#506784\",\"linecolor\":\"#506784\",\"ticks\":\"\"},\"caxis\":{\"gridcolor\":\"#506784\",\"linecolor\":\"#506784\",\"ticks\":\"\"}},\"coloraxis\":{\"colorbar\":{\"outlinewidth\":0,\"ticks\":\"\"}},\"colorscale\":{\"sequential\":[[0.0,\"#0d0887\"],[0.1111111111111111,\"#46039f\"],[0.2222222222222222,\"#7201a8\"],[0.3333333333333333,\"#9c179e\"],[0.4444444444444444,\"#bd3786\"],[0.5555555555555556,\"#d8576b\"],[0.6666666666666666,\"#ed7953\"],[0.7777777777777778,\"#fb9f3a\"],[0.8888888888888888,\"#fdca26\"],[1.0,\"#f0f921\"]],\"sequentialminus\":[[0.0,\"#0d0887\"],[0.1111111111111111,\"#46039f\"],[0.2222222222222222,\"#7201a8\"],[0.3333333333333333,\"#9c179e\"],[0.4444444444444444,\"#bd3786\"],[0.5555555555555556,\"#d8576b\"],[0.6666666666666666,\"#ed7953\"],[0.7777777777777778,\"#fb9f3a\"],[0.8888888888888888,\"#fdca26\"],[1.0,\"#f0f921\"]],\"diverging\":[[0,\"#8e0152\"],[0.1,\"#c51b7d\"],[0.2,\"#de77ae\"],[0.3,\"#f1b6da\"],[0.4,\"#fde0ef\"],[0.5,\"#f7f7f7\"],[0.6,\"#e6f5d0\"],[0.7,\"#b8e186\"],[0.8,\"#7fbc41\"],[0.9,\"#4d9221\"],[1,\"#276419\"]]},\"xaxis\":{\"gridcolor\":\"#283442\",\"linecolor\":\"#506784\",\"ticks\":\"\",\"title\":{\"standoff\":15},\"zerolinecolor\":\"#283442\",\"automargin\":true,\"zerolinewidth\":2},\"yaxis\":{\"gridcolor\":\"#283442\",\"linecolor\":\"#506784\",\"ticks\":\"\",\"title\":{\"standoff\":15},\"zerolinecolor\":\"#283442\",\"automargin\":true,\"zerolinewidth\":2},\"scene\":{\"xaxis\":{\"backgroundcolor\":\"rgb(17,17,17)\",\"gridcolor\":\"#506784\",\"linecolor\":\"#506784\",\"showbackground\":true,\"ticks\":\"\",\"zerolinecolor\":\"#C8D4E3\",\"gridwidth\":2},\"yaxis\":{\"backgroundcolor\":\"rgb(17,17,17)\",\"gridcolor\":\"#506784\",\"linecolor\":\"#506784\",\"showbackground\":true,\"ticks\":\"\",\"zerolinecolor\":\"#C8D4E3\",\"gridwidth\":2},\"zaxis\":{\"backgroundcolor\":\"rgb(17,17,17)\",\"gridcolor\":\"#506784\",\"linecolor\":\"#506784\",\"showbackground\":true,\"ticks\":\"\",\"zerolinecolor\":\"#C8D4E3\",\"gridwidth\":2}},\"shapedefaults\":{\"line\":{\"color\":\"#f2f5fa\"}},\"annotationdefaults\":{\"arrowcolor\":\"#f2f5fa\",\"arrowhead\":0,\"arrowwidth\":1},\"geo\":{\"bgcolor\":\"rgb(17,17,17)\",\"landcolor\":\"rgb(17,17,17)\",\"subunitcolor\":\"#506784\",\"showland\":true,\"showlakes\":true,\"lakecolor\":\"rgb(17,17,17)\"},\"title\":{\"x\":0.05},\"updatemenudefaults\":{\"bgcolor\":\"#506784\",\"borderwidth\":0},\"sliderdefaults\":{\"bgcolor\":\"#C8D4E3\",\"borderwidth\":1,\"bordercolor\":\"rgb(17,17,17)\",\"tickwidth\":0},\"mapbox\":{\"style\":\"dark\"}}},\"mapbox\":{\"center\":{\"lat\":70,\"lon\":7},\"style\":\"open-street-map\",\"zoom\":2.5},\"height\":1000,\"hovermode\":\"closest\",\"showlegend\":false},                        {\"responsive\": true}                    ).then(function(){\n                            \nvar gd = document.getElementById('ef2f6086-45fa-4d3d-bca7-10bd1b3a83f5');\nvar x = new MutationObserver(function (mutations, observer) {{\n        var display = window.getComputedStyle(gd).display;\n        if (!display || display === 'none') {{\n            console.log([gd, 'removed!']);\n            Plotly.purge(gd);\n            observer.disconnect();\n        }}\n}});\n\n// Listen for the removal of the full notebook cells\nvar notebookContainer = gd.closest('#notebook-container');\nif (notebookContainer) {{\n    x.observe(notebookContainer, {childList: true});\n}}\n\n// Listen for the clearing of the current output cell\nvar outputEl = gd.closest('.output');\nif (outputEl) {{\n    x.observe(outputEl, {childList: true});\n}}\n\n                        })                };                });            </script>        </div>"
     },
     "metadata": {},
     "output_type": "display_data"
    }
   ],
   "source": [
    "fig = go.Figure(go.Scattermapbox(lat=oceanCoords['Lat (lokasjon)'], lon=oceanCoords['Lon (lokasjon)'], mode='markers', \n",
    "                                 hovertext=oceanCoords['size'], marker=go.scattermapbox.Marker(size=oceanCoords['marker_size'], color=oceanCoords['size'], coloraxis='coloraxis')))\n",
    "                                 #marker=dict(size=5, color='red', opacity=0.5)))\n",
    "\n",
    "fig.update_mapboxes(style='open-street-map', center=dict(lat=70, lon=7), zoom=2.5)\n",
    "fig.update_layout(\n",
    "    height=1000,\n",
    "    hovermode='closest', showlegend=False)\n",
    "fig.update_traces(marker_sizemin=2)\n",
    "fig.show()"
   ],
   "metadata": {
    "collapsed": false,
    "ExecuteTime": {
     "end_time": "2024-06-15T22:56:54.199847365Z",
     "start_time": "2024-06-15T22:56:54.160897729Z"
    }
   },
   "id": "62c58561380408c5",
   "execution_count": 237
  },
  {
   "cell_type": "code",
   "outputs": [
    {
     "data": {
      "text/plain": "<Figure size 640x480 with 1 Axes>",
      "image/png": "[encoded data removed]"
     },
     "metadata": {},
     "output_type": "display_data"
    }
   ],
   "source": [
    "# Now we need to select the coordinates based on the frequency of the coordinates\n",
    "# Lets check the distribution of the frequency of the coordinates\n",
    "# We will create a histogram of the frequency of the coordinates\n",
    "\n",
    "plt.hist(oceanCoords['size'], bins=100)\n",
    "plt.show()"
   ],
   "metadata": {
    "collapsed": false,
    "ExecuteTime": {
     "end_time": "2024-06-15T22:56:54.981102177Z",
     "start_time": "2024-06-15T22:56:54.846792842Z"
    }
   },
   "id": "ff91e0e1540e5fd0",
   "execution_count": 238
  },
  {
   "cell_type": "code",
   "outputs": [
    {
     "data": {
      "text/plain": "count     621.000000\nmean      138.518519\nstd       330.116170\nmin         1.000000\n25%         2.000000\n50%         8.000000\n75%        52.000000\nmax      1569.000000\nName: size, dtype: float64"
     },
     "execution_count": 239,
     "metadata": {},
     "output_type": "execute_result"
    }
   ],
   "source": [
    "oceanCoords['size'].describe()"
   ],
   "metadata": {
    "collapsed": false,
    "ExecuteTime": {
     "end_time": "2024-06-15T22:56:55.458799266Z",
     "start_time": "2024-06-15T22:56:55.450535516Z"
    }
   },
   "id": "91abf11a02d72713",
   "execution_count": 239
  },
  {
   "cell_type": "code",
   "outputs": [
    {
     "data": {
      "text/plain": "     Lat (lokasjon)  Lon (lokasjon)  size  Ocean  marker_size\n152           60.25             0.5    98    1.0     5.556760\n153           71.75            18.0    93    1.0     5.528061\n154           73.50            31.0    91    1.0     5.516582\n155           72.50            29.0    90    1.0     5.510842\n156           75.50            16.0    89    1.0     5.505102\n..              ...             ...   ...    ...          ...\n666           56.75           -14.5     1    1.0     5.000000\n667           56.75            -0.5     1    1.0     5.000000\n668           56.75             1.5     1    1.0     5.000000\n670           78.25            14.0     1    1.0     5.000000\n671           55.50           -33.0     1    1.0     5.000000\n\n[503 rows x 5 columns]",
      "text/html": "<div>\n<style scoped>\n    .dataframe tbody tr th:only-of-type {\n        vertical-align: middle;\n    }\n\n    .dataframe tbody tr th {\n        vertical-align: top;\n    }\n\n    .dataframe thead th {\n        text-align: right;\n    }\n</style>\n<table border=\"1\" class=\"dataframe\">\n  <thead>\n    <tr style=\"text-align: right;\">\n      <th></th>\n      <th>Lat (lokasjon)</th>\n      <th>Lon (lokasjon)</th>\n      <th>size</th>\n      <th>Ocean</th>\n      <th>marker_size</th>\n    </tr>\n  </thead>\n  <tbody>\n    <tr>\n      <th>152</th>\n      <td>60.25</td>\n      <td>0.5</td>\n      <td>98</td>\n      <td>1.0</td>\n      <td>5.556760</td>\n    </tr>\n    <tr>\n      <th>153</th>\n      <td>71.75</td>\n      <td>18.0</td>\n      <td>93</td>\n      <td>1.0</td>\n      <td>5.528061</td>\n    </tr>\n    <tr>\n      <th>154</th>\n      <td>73.50</td>\n      <td>31.0</td>\n      <td>91</td>\n      <td>1.0</td>\n      <td>5.516582</td>\n    </tr>\n    <tr>\n      <th>155</th>\n      <td>72.50</td>\n      <td>29.0</td>\n      <td>90</td>\n      <td>1.0</td>\n      <td>5.510842</td>\n    </tr>\n    <tr>\n      <th>156</th>\n      <td>75.50</td>\n      <td>16.0</td>\n      <td>89</td>\n      <td>1.0</td>\n      <td>5.505102</td>\n    </tr>\n    <tr>\n      <th>...</th>\n      <td>...</td>\n      <td>...</td>\n      <td>...</td>\n      <td>...</td>\n      <td>...</td>\n    </tr>\n    <tr>\n      <th>666</th>\n      <td>56.75</td>\n      <td>-14.5</td>\n      <td>1</td>\n      <td>1.0</td>\n      <td>5.000000</td>\n    </tr>\n    <tr>\n      <th>667</th>\n      <td>56.75</td>\n      <td>-0.5</td>\n      <td>1</td>\n      <td>1.0</td>\n      <td>5.000000</td>\n    </tr>\n    <tr>\n      <th>668</th>\n      <td>56.75</td>\n      <td>1.5</td>\n      <td>1</td>\n      <td>1.0</td>\n      <td>5.000000</td>\n    </tr>\n    <tr>\n      <th>670</th>\n      <td>78.25</td>\n      <td>14.0</td>\n      <td>1</td>\n      <td>1.0</td>\n      <td>5.000000</td>\n    </tr>\n    <tr>\n      <th>671</th>\n      <td>55.50</td>\n      <td>-33.0</td>\n      <td>1</td>\n      <td>1.0</td>\n      <td>5.000000</td>\n    </tr>\n  </tbody>\n</table>\n<p>503 rows × 5 columns</p>\n</div>"
     },
     "execution_count": 240,
     "metadata": {},
     "output_type": "execute_result"
    }
   ],
   "source": [
    "# Lets see the location of the coordinates with less than 100 frequency\n",
    "low_freq_coords = oceanCoords[oceanCoords['size'] < 100]\n",
    "low_freq_coords"
   ],
   "metadata": {
    "collapsed": false,
    "ExecuteTime": {
     "end_time": "2024-06-15T22:56:56.456273475Z",
     "start_time": "2024-06-15T22:56:56.445837198Z"
    }
   },
   "id": "d5acb9152e886327",
   "execution_count": 240
  },
  {
   "cell_type": "code",
   "outputs": [
    {
     "data": {
      "application/vnd.plotly.v1+json": {
       "data": [
        {
         "hovertext": [
          98.0,
          93.0,
          91.0,
          90.0,
          89.0,
          87.0,
          86.0,
          86.0,
          84.0,
          83.0,
          79.0,
          79.0,
          75.0,
          72.0,
          70.0,
          69.0,
          66.0,
          65.0,
          65.0,
          63.0,
          62.0,
          61.0,
          61.0,
          58.0,
          58.0,
          57.0,
          57.0,
          55.0,
          55.0,
          55.0,
          55.0,
          55.0,
          54.0,
          54.0,
          53.0,
          53.0,
          52.0,
          52.0,
          51.0,
          51.0,
          49.0,
          49.0,
          48.0,
          48.0,
          48.0,
          48.0,
          47.0,
          47.0,
          47.0,
          46.0,
          46.0,
          45.0,
          44.0,
          44.0,
          43.0,
          43.0,
          43.0,
          42.0,
          42.0,
          42.0,
          42.0,
          42.0,
          40.0,
          40.0,
          39.0,
          39.0,
          39.0,
          38.0,
          38.0,
          38.0,
          37.0,
          37.0,
          36.0,
          36.0,
          35.0,
          35.0,
          35.0,
          34.0,
          33.0,
          32.0,
          32.0,
          31.0,
          31.0,
          31.0,
          31.0,
          30.0,
          30.0,
          30.0,
          29.0,
          29.0,
          29.0,
          28.0,
          28.0,
          27.0,
          26.0,
          25.0,
          25.0,
          25.0,
          24.0,
          24.0,
          24.0,
          23.0,
          23.0,
          23.0,
          23.0,
          23.0,
          23.0,
          23.0,
          23.0,
          23.0,
          22.0,
          22.0,
          21.0,
          21.0,
          20.0,
          20.0,
          19.0,
          19.0,
          18.0,
          18.0,
          18.0,
          18.0,
          18.0,
          18.0,
          17.0,
          17.0,
          17.0,
          17.0,
          17.0,
          17.0,
          17.0,
          17.0,
          17.0,
          17.0,
          17.0,
          16.0,
          16.0,
          16.0,
          16.0,
          16.0,
          16.0,
          15.0,
          15.0,
          15.0,
          14.0,
          14.0,
          13.0,
          13.0,
          13.0,
          13.0,
          13.0,
          12.0,
          12.0,
          12.0,
          12.0,
          12.0,
          11.0,
          11.0,
          11.0,
          11.0,
          11.0,
          11.0,
          11.0,
          11.0,
          11.0,
          10.0,
          10.0,
          10.0,
          10.0,
          10.0,
          10.0,
          10.0,
          10.0,
          10.0,
          9.0,
          9.0,
          9.0,
          9.0,
          9.0,
          9.0,
          9.0,
          9.0,
          9.0,
          9.0,
          9.0,
          9.0,
          9.0,
          8.0,
          8.0,
          8.0,
          8.0,
          8.0,
          8.0,
          8.0,
          8.0,
          8.0,
          8.0,
          8.0,
          8.0,
          8.0,
          8.0,
          8.0,
          8.0,
          8.0,
          7.0,
          7.0,
          7.0,
          7.0,
          7.0,
          7.0,
          7.0,
          7.0,
          7.0,
          7.0,
          7.0,
          7.0,
          7.0,
          7.0,
          6.0,
          6.0,
          6.0,
          6.0,
          6.0,
          6.0,
          6.0,
          6.0,
          6.0,
          6.0,
          6.0,
          6.0,
          6.0,
          6.0,
          6.0,
          6.0,
          5.0,
          5.0,
          5.0,
          5.0,
          5.0,
          5.0,
          5.0,
          5.0,
          5.0,
          5.0,
          5.0,
          5.0,
          5.0,
          5.0,
          5.0,
          5.0,
          5.0,
          5.0,
          4.0,
          4.0,
          4.0,
          4.0,
          4.0,
          4.0,
          4.0,
          4.0,
          4.0,
          4.0,
          4.0,
          4.0,
          4.0,
          4.0,
          4.0,
          4.0,
          4.0,
          4.0,
          4.0,
          4.0,
          4.0,
          3.0,
          3.0,
          3.0,
          3.0,
          3.0,
          3.0,
          3.0,
          3.0,
          3.0,
          3.0,
          3.0,
          3.0,
          3.0,
          3.0,
          3.0,
          3.0,
          3.0,
          3.0,
          3.0,
          3.0,
          3.0,
          3.0,
          3.0,
          3.0,
          3.0,
          3.0,
          3.0,
          3.0,
          3.0,
          3.0,
          3.0,
          3.0,
          3.0,
          3.0,
          2.0,
          2.0,
          2.0,
          2.0,
          2.0,
          2.0,
          2.0,
          2.0,
          2.0,
          2.0,
          2.0,
          2.0,
          2.0,
          2.0,
          2.0,
          2.0,
          2.0,
          2.0,
          2.0,
          2.0,
          2.0,
          2.0,
          2.0,
          2.0,
          2.0,
          2.0,
          2.0,
          2.0,
          2.0,
          2.0,
          2.0,
          2.0,
          2.0,
          2.0,
          2.0,
          2.0,
          2.0,
          2.0,
          2.0,
          2.0,
          2.0,
          2.0,
          2.0,
          2.0,
          2.0,
          2.0,
          2.0,
          2.0,
          2.0,
          2.0,
          2.0,
          2.0,
          2.0,
          2.0,
          2.0,
          2.0,
          2.0,
          2.0,
          2.0,
          2.0,
          2.0,
          2.0,
          2.0,
          2.0,
          2.0,
          2.0,
          2.0,
          2.0,
          2.0,
          2.0,
          2.0,
          2.0,
          2.0,
          1.0,
          1.0,
          1.0,
          1.0,
          1.0,
          1.0,
          1.0,
          1.0,
          1.0,
          1.0,
          1.0,
          1.0,
          1.0,
          1.0,
          1.0,
          1.0,
          1.0,
          1.0,
          1.0,
          1.0,
          1.0,
          1.0,
          1.0,
          1.0,
          1.0,
          1.0,
          1.0,
          1.0,
          1.0,
          1.0,
          1.0,
          1.0,
          1.0,
          1.0,
          1.0,
          1.0,
          1.0,
          1.0,
          1.0,
          1.0,
          1.0,
          1.0,
          1.0,
          1.0,
          1.0,
          1.0,
          1.0,
          1.0,
          1.0,
          1.0,
          1.0,
          1.0,
          1.0,
          1.0,
          1.0,
          1.0,
          1.0,
          1.0,
          1.0,
          1.0,
          1.0,
          1.0,
          1.0,
          1.0,
          1.0,
          1.0,
          1.0,
          1.0,
          1.0,
          1.0,
          1.0,
          1.0,
          1.0,
          1.0,
          1.0,
          1.0,
          1.0,
          1.0,
          1.0,
          1.0,
          1.0,
          1.0,
          1.0,
          1.0,
          1.0,
          1.0,
          1.0,
          1.0,
          1.0,
          1.0,
          1.0,
          1.0,
          1.0,
          1.0,
          1.0,
          1.0,
          1.0,
          1.0,
          1.0,
          1.0,
          1.0,
          1.0,
          1.0,
          1.0,
          1.0,
          1.0,
          1.0,
          1.0,
          1.0,
          1.0,
          1.0,
          1.0,
          1.0,
          1.0,
          1.0,
          1.0,
          1.0,
          1.0,
          1.0,
          1.0,
          1.0,
          1.0,
          1.0
         ],
         "lat": [
          60.25,
          71.75,
          73.5,
          72.5,
          75.5,
          75.5,
          67.75,
          72.5,
          64.75,
          58.25,
          59.75,
          59.25,
          65.37965,
          59.75,
          71.25,
          72.5,
          70.75,
          69.02192,
          61.25,
          77.25,
          75.5,
          61.75,
          65.75,
          76.75,
          73.25,
          70.75,
          60.25,
          57.67004,
          70.75,
          61.75,
          59.75,
          57.25,
          75.625,
          58.75,
          70.75,
          59.25,
          74.5,
          73.75,
          71.25,
          71.25,
          70.75,
          68.75,
          70.64731,
          72.5,
          60.25,
          61.25,
          57.25,
          71.25,
          74.5,
          74.5,
          71.25,
          57.75,
          68.25,
          60.75,
          60.75,
          70.5,
          62.25,
          72.5,
          59.75,
          71.75,
          62.75,
          68.75,
          71.75,
          76.75,
          60.75,
          72.5,
          76.75,
          58.25,
          71.75,
          59.25,
          60.25,
          65.25,
          74.5,
          71.75,
          61.75,
          63.85145,
          71.25,
          73.25,
          72.5,
          70.25,
          71.25,
          77.25,
          71.75,
          76.25,
          69.76997,
          57.14948,
          59.25,
          58.75,
          61.25,
          65.25,
          73.5,
          60.75,
          79.25,
          61.25,
          70.25,
          76.75,
          67.25,
          72.5,
          74.5,
          72.5,
          59.25,
          75.5,
          73.75,
          76.75,
          69.25,
          75.5,
          75.5,
          75.5,
          77.25,
          77.25,
          76.25,
          77.5,
          75.5,
          80.25,
          75.5,
          76.25,
          67.75,
          57.75,
          77.25,
          76.25,
          58.75,
          60.25,
          71.75,
          60.75,
          71.75,
          76.25,
          61.04847,
          71.5,
          59.75,
          77.5,
          76.75,
          57.30618,
          73.25,
          59.75,
          76.25,
          75.5,
          71.75,
          62.75,
          73.75,
          60.24815,
          77.75,
          64.75,
          70.25,
          70.5,
          67.25,
          58.75,
          70.5,
          73.25,
          60.75,
          73.25,
          62.25,
          77.75,
          73.25,
          71.75,
          78.75,
          75.5,
          75.0,
          64.25,
          71.5,
          74.5,
          70.5,
          59.75,
          76.5,
          76.5,
          58.75,
          58.75,
          58.25,
          75.5,
          61.75,
          65.25,
          75.25,
          64.75,
          79.5,
          78.83482,
          57.75,
          67.5,
          78.25,
          59.75367,
          69.5,
          71.5,
          76.5,
          76.5,
          76.5,
          76.25,
          57.75,
          77.75,
          78.25,
          78.5,
          78.5,
          56.75,
          76.25,
          77.5,
          63.75,
          76.75,
          57.75,
          57.25,
          57.25,
          79.25,
          74.5,
          59.75,
          80.25,
          59.75,
          73.25,
          73.75,
          76.25,
          58.25,
          68.58333,
          57.48282,
          71.5,
          71.25,
          60.25,
          59.25,
          65.25,
          71.5,
          69.75,
          67.16667,
          66.25,
          78.25,
          76.25,
          69.25,
          77.25,
          66.5,
          65.75,
          66.75,
          63.75,
          70.5,
          69.5,
          58.25,
          61.75,
          74.5,
          78.75,
          76.5,
          62.5,
          69.5,
          77.25,
          66.58333,
          59.25,
          59.25,
          66.25,
          66.08333,
          70.75,
          66.75,
          62.25,
          71.5,
          61.25,
          61.25,
          64.25,
          70.5,
          76.75,
          57.75,
          78.5,
          76.75,
          55.25,
          76.75,
          77.5,
          77.25,
          57.75,
          70.25,
          62.75,
          70.5,
          72.5,
          63.25,
          63.25,
          59.75,
          70.75,
          77.25,
          77.25,
          57.77771,
          73.25,
          69.5,
          71.5,
          64.25,
          69.75,
          77.75,
          76.25,
          58.75,
          78.5,
          62.25,
          62.25,
          62.25,
          71.5,
          61.25,
          70.5,
          64.75,
          59.25,
          74.5,
          73.0,
          70.5,
          69.75,
          73.75,
          60.25,
          71.5,
          69.5,
          73.5,
          80.75,
          72.25,
          72.5,
          61.75,
          59.75,
          75.5,
          69.58333,
          66.25,
          69.75,
          68.5,
          57.75,
          56.75,
          56.75,
          76.75,
          77.75,
          77.75,
          56.75,
          56.75,
          56.75,
          56.75,
          57.25,
          57.25,
          78.75,
          78.75,
          79.25,
          79.25,
          58.25,
          58.25,
          58.25,
          58.25,
          79.5,
          57.25,
          69.5,
          76.25,
          68.5,
          68.7,
          80.75,
          67.5,
          68.5,
          57.75,
          70.5,
          70.5,
          79.75,
          79.75,
          79.75,
          80.25,
          63.25,
          63.25,
          59.25,
          59.25,
          59.75,
          74.5,
          69.75,
          69.75,
          60.75,
          73.5,
          58.82238,
          63.75,
          63.75,
          63.75,
          63.75,
          64.25,
          71.5,
          62.25,
          69.5,
          66.05,
          60.75,
          69.5,
          72.5,
          72.5,
          61.75,
          71.75,
          72.5,
          72.5,
          65.75,
          65.75,
          64.75,
          64.75,
          64.75,
          65.15164,
          65.25,
          65.5,
          69.75,
          77.75,
          55.549795,
          78.25,
          52.3806,
          55.75,
          56.25,
          58.75,
          78.75,
          79.25,
          79.25,
          79.25781,
          56.75,
          57.25,
          55.75,
          55.25,
          54.75,
          61.75,
          70.25,
          70.25,
          70.5,
          70.5,
          64.75,
          64.75,
          65.25,
          65.25,
          65.5,
          65.5,
          65.58333,
          65.75,
          65.75,
          65.75,
          61.75,
          61.75,
          61.75,
          72.5,
          62.25,
          62.25,
          62.5,
          62.75,
          62.75,
          62.75,
          62.75,
          61.25,
          72.5,
          72.5,
          60.25,
          60.25,
          60.25,
          60.25,
          60.25,
          60.5,
          60.75,
          60.75,
          60.75,
          69.5,
          66.225,
          66.25,
          66.5,
          66.5,
          66.5,
          66.75,
          64.5,
          71.25,
          71.5,
          71.5,
          61.75,
          62.25,
          63.25,
          63.75,
          64.25,
          72.5,
          59.25,
          59.25,
          74.5,
          74.5,
          70.75,
          70.75,
          63.25,
          63.25,
          63.25,
          63.25,
          79.75,
          80.24008,
          80.25,
          80.25,
          57.25,
          57.25,
          57.75,
          57.81712,
          70.5,
          80.5,
          80.75,
          81.25,
          82.25,
          68.5,
          68.5,
          68.5,
          69.25,
          69.25,
          69.25,
          69.5,
          75.5,
          75.5,
          75.5,
          76.25,
          57.849645,
          76.75,
          77.02027,
          77.25,
          57.25,
          57.25,
          58.25,
          58.25,
          58.75,
          77.5,
          55.75,
          54.75,
          53.75,
          53.25,
          56.25,
          56.25,
          56.75,
          56.75,
          56.75,
          78.25,
          55.5
         ],
         "lon": [
          0.5,
          18.0,
          31.0,
          29.0,
          16.0,
          20.0,
          10.5,
          18.0,
          8.5,
          10.5,
          2.5,
          2.5,
          9.65035,
          -3.5,
          21.5,
          24.0,
          17.5,
          14.44817,
          -1.5,
          29.0,
          22.0,
          -0.5,
          10.5,
          25.0,
          29.0,
          19.5,
          -2.5,
          7.3025,
          18.5,
          0.5,
          0.5,
          6.5,
          24.75,
          0.5,
          32.5,
          0.5,
          31.0,
          22.0,
          19.5,
          20.5,
          16.5,
          12.5,
          20.8475,
          22.0,
          1.5,
          -0.5,
          8.5,
          16.5,
          24.0,
          33.0,
          15.5,
          4.5,
          10.5,
          3.5,
          0.5,
          37.0,
          4.5,
          33.0,
          -0.5,
          24.0,
          4.5,
          11.5,
          25.5,
          29.0,
          -2.5,
          31.0,
          14.0,
          0.5,
          27.5,
          -0.5,
          -3.5,
          10.5,
          26.5,
          29.5,
          1.5,
          11.06946,
          17.5,
          18.0,
          35.0,
          16.5,
          18.5,
          12.0,
          28.5,
          15.5,
          31.47496,
          8.2665,
          1.5,
          2.5,
          0.5,
          8.5,
          35.0,
          1.5,
          8.0,
          1.5,
          32.5,
          27.0,
          10.5,
          20.0,
          35.0,
          14.0,
          -1.5,
          41.0,
          26.5,
          12.0,
          13.5,
          31.0,
          14.0,
          29.0,
          27.0,
          23.0,
          25.0,
          31.0,
          33.0,
          12.0,
          39.0,
          19.0,
          11.5,
          3.5,
          10.0,
          14.0,
          4.5,
          -0.5,
          22.0,
          -0.5,
          20.0,
          29.0,
          4.51307,
          37.0,
          -2.5,
          33.0,
          23.0,
          8.63051,
          16.0,
          1.5,
          23.0,
          37.0,
          32.5,
          3.5,
          16.0,
          4.50056,
          10.0,
          9.5,
          15.5,
          47.0,
          9.5,
          -0.5,
          35.0,
          26.5,
          -1.5,
          20.0,
          3.5,
          12.0,
          24.0,
          30.5,
          8.0,
          27.0,
          35.0,
          8.5,
          43.0,
          37.0,
          39.0,
          4.5,
          35.0,
          39.0,
          1.5,
          -1.5,
          9.5,
          35.0,
          -1.5,
          9.5,
          24.0,
          7.5,
          33.0,
          26.16964,
          10.5,
          8.0,
          25.0,
          -1.00349,
          53.0,
          47.0,
          33.0,
          31.0,
          37.0,
          21.0,
          0.5,
          29.0,
          29.0,
          33.0,
          31.0,
          6.5,
          17.0,
          37.0,
          6.5,
          10.0,
          -1.5,
          -0.5,
          4.5,
          10.0,
          14.0,
          -1.5,
          14.0,
          -5.5,
          14.0,
          24.0,
          27.0,
          2.5,
          9.83333,
          7.96936,
          14.0,
          32.5,
          -4.5,
          -3.5,
          6.5,
          41.0,
          14.5,
          12.66667,
          8.5,
          27.0,
          10.0,
          12.5,
          14.0,
          6.0,
          9.5,
          9.5,
          5.5,
          49.0,
          51.0,
          1.5,
          2.5,
          29.0,
          10.0,
          41.0,
          0.0,
          55.0,
          25.0,
          7.83333,
          -5.5,
          -6.5,
          9.5,
          -19.5,
          15.5,
          10.5,
          -4.5,
          45.0,
          3.5,
          -2.5,
          7.5,
          41.0,
          8.0,
          -0.5,
          35.0,
          21.0,
          2.5,
          19.0,
          35.0,
          8.0,
          -13.5,
          14.5,
          -6.5,
          43.0,
          37.0,
          4.5,
          -22.5,
          -4.5,
          -8.5,
          17.5,
          21.0,
          11.53405,
          22.0,
          41.0,
          39.0,
          6.5,
          13.5,
          25.0,
          12.0,
          -7.5,
          37.0,
          -8.5,
          -39.5,
          -40.5,
          49.0,
          -5.5,
          33.5,
          -13.5,
          -36.5,
          12.0,
          35.0,
          12.0,
          37.5,
          29.0,
          -7.5,
          10.0,
          10.0,
          47.0,
          29.0,
          9.0,
          45.0,
          -5.5,
          -7.5,
          12.0,
          11.83333,
          10.5,
          38.5,
          8.0,
          1.5,
          -15.5,
          -13.5,
          6.0,
          8.0,
          19.0,
          3.5,
          4.5,
          5.5,
          7.5,
          -15.5,
          -13.5,
          25.0,
          29.0,
          6.0,
          35.0,
          -8.5,
          -1.5,
          -0.5,
          11.5,
          35.0,
          0.5,
          8.0,
          4.0,
          6.0,
          49.0,
          12.0,
          6.0,
          -8.0,
          2.5,
          51.0,
          53.0,
          8.0,
          10.0,
          12.0,
          10.0,
          -38.5,
          -24.5,
          -7.5,
          -4.5,
          -6.5,
          39.0,
          35.5,
          36.5,
          -3.5,
          37.0,
          4.571155,
          -40.5,
          -38.5,
          -37.5,
          4.5,
          -35.5,
          33.5,
          -38.5,
          57.0,
          -18.5,
          -6.5,
          47.0,
          41.0,
          43.0,
          -4.5,
          31.5,
          10.0,
          39.0,
          7.5,
          8.5,
          -11.5,
          5.5,
          6.5,
          -33.54098,
          -11.5,
          0.0,
          39.5,
          27.0,
          3.28988,
          10.0,
          2.95185,
          3.5,
          -15.5,
          -2.5,
          6.0,
          4.0,
          12.0,
          19.5,
          10.5,
          -8.5,
          0.5,
          4.5,
          4.5,
          -9.5,
          -9.5,
          -8.5,
          8.0,
          10.0,
          -34.5,
          -32.5,
          -31.5,
          -13.5,
          2.0,
          4.0,
          5.83333,
          -30.5,
          -13.5,
          -12.5,
          -8.5,
          -7.5,
          -2.5,
          12.0,
          -22.5,
          -5.5,
          -2.0,
          -22.5,
          -7.5,
          -5.5,
          -4.5,
          -6.5,
          47.0,
          49.0,
          -38.5,
          -9.5,
          -8.5,
          -6.5,
          -5.5,
          -28.0,
          -10.5,
          -8.5,
          -5.5,
          43.0,
          -17.5,
          -12.5,
          -2.0,
          0.0,
          2.0,
          -12.5,
          2.0,
          -8.5,
          8.0,
          35.0,
          3.5,
          -35.5,
          -20.5,
          -35.5,
          -36.5,
          51.0,
          -41.5,
          4.5,
          51.0,
          53.0,
          -10.5,
          -9.5,
          -41.0,
          -36.5,
          -34.5,
          -25.5,
          19.0,
          10.00595,
          16.0,
          17.5,
          2.5,
          9.5,
          -14.5,
          10.45405,
          55.0,
          31.0,
          14.0,
          21.0,
          41.0,
          2.0,
          41.0,
          51.0,
          36.5,
          38.5,
          39.5,
          6.0,
          6.0,
          47.0,
          53.0,
          8.0,
          10.47301,
          17.5,
          9.9482,
          4.0,
          -1.5,
          1.5,
          -13.5,
          -9.5,
          -8.5,
          47.0,
          -1.5,
          1.5,
          3.5,
          -15.5,
          -2.5,
          7.5,
          -14.5,
          -0.5,
          1.5,
          14.0,
          -33.0
         ],
         "marker": {
          "color": [
           98,
           93,
           91,
           90,
           89,
           87,
           86,
           86,
           84,
           83,
           79,
           79,
           75,
           72,
           70,
           69,
           66,
           65,
           65,
           63,
           62,
           61,
           61,
           58,
           58,
           57,
           57,
           55,
           55,
           55,
           55,
           55,
           54,
           54,
           53,
           53,
           52,
           52,
           51,
           51,
           49,
           49,
           48,
           48,
           48,
           48,
           47,
           47,
           47,
           46,
           46,
           45,
           44,
           44,
           43,
           43,
           43,
           42,
           42,
           42,
           42,
           42,
           40,
           40,
           39,
           39,
           39,
           38,
           38,
           38,
           37,
           37,
           36,
           36,
           35,
           35,
           35,
           34,
           33,
           32,
           32,
           31,
           31,
           31,
           31,
           30,
           30,
           30,
           29,
           29,
           29,
           28,
           28,
           27,
           26,
           25,
           25,
           25,
           24,
           24,
           24,
           23,
           23,
           23,
           23,
           23,
           23,
           23,
           23,
           23,
           22,
           22,
           21,
           21,
           20,
           20,
           19,
           19,
           18,
           18,
           18,
           18,
           18,
           18,
           17,
           17,
           17,
           17,
           17,
           17,
           17,
           17,
           17,
           17,
           17,
           16,
           16,
           16,
           16,
           16,
           16,
           15,
           15,
           15,
           14,
           14,
           13,
           13,
           13,
           13,
           13,
           12,
           12,
           12,
           12,
           12,
           11,
           11,
           11,
           11,
           11,
           11,
           11,
           11,
           11,
           10,
           10,
           10,
           10,
           10,
           10,
           10,
           10,
           10,
           9,
           9,
           9,
           9,
           9,
           9,
           9,
           9,
           9,
           9,
           9,
           9,
           9,
           8,
           8,
           8,
           8,
           8,
           8,
           8,
           8,
           8,
           8,
           8,
           8,
           8,
           8,
           8,
           8,
           8,
           7,
           7,
           7,
           7,
           7,
           7,
           7,
           7,
           7,
           7,
           7,
           7,
           7,
           7,
           6,
           6,
           6,
           6,
           6,
           6,
           6,
           6,
           6,
           6,
           6,
           6,
           6,
           6,
           6,
           6,
           5,
           5,
           5,
           5,
           5,
           5,
           5,
           5,
           5,
           5,
           5,
           5,
           5,
           5,
           5,
           5,
           5,
           5,
           4,
           4,
           4,
           4,
           4,
           4,
           4,
           4,
           4,
           4,
           4,
           4,
           4,
           4,
           4,
           4,
           4,
           4,
           4,
           4,
           4,
           3,
           3,
           3,
           3,
           3,
           3,
           3,
           3,
           3,
           3,
           3,
           3,
           3,
           3,
           3,
           3,
           3,
           3,
           3,
           3,
           3,
           3,
           3,
           3,
           3,
           3,
           3,
           3,
           3,
           3,
           3,
           3,
           3,
           3,
           2,
           2,
           2,
           2,
           2,
           2,
           2,
           2,
           2,
           2,
           2,
           2,
           2,
           2,
           2,
           2,
           2,
           2,
           2,
           2,
           2,
           2,
           2,
           2,
           2,
           2,
           2,
           2,
           2,
           2,
           2,
           2,
           2,
           2,
           2,
           2,
           2,
           2,
           2,
           2,
           2,
           2,
           2,
           2,
           2,
           2,
           2,
           2,
           2,
           2,
           2,
           2,
           2,
           2,
           2,
           2,
           2,
           2,
           2,
           2,
           2,
           2,
           2,
           2,
           2,
           2,
           2,
           2,
           2,
           2,
           2,
           2,
           2,
           1,
           1,
           1,
           1,
           1,
           1,
           1,
           1,
           1,
           1,
           1,
           1,
           1,
           1,
           1,
           1,
           1,
           1,
           1,
           1,
           1,
           1,
           1,
           1,
           1,
           1,
           1,
           1,
           1,
           1,
           1,
           1,
           1,
           1,
           1,
           1,
           1,
           1,
           1,
           1,
           1,
           1,
           1,
           1,
           1,
           1,
           1,
           1,
           1,
           1,
           1,
           1,
           1,
           1,
           1,
           1,
           1,
           1,
           1,
           1,
           1,
           1,
           1,
           1,
           1,
           1,
           1,
           1,
           1,
           1,
           1,
           1,
           1,
           1,
           1,
           1,
           1,
           1,
           1,
           1,
           1,
           1,
           1,
           1,
           1,
           1,
           1,
           1,
           1,
           1,
           1,
           1,
           1,
           1,
           1,
           1,
           1,
           1,
           1,
           1,
           1,
           1,
           1,
           1,
           1,
           1,
           1,
           1,
           1,
           1,
           1,
           1,
           1,
           1,
           1,
           1,
           1,
           1,
           1,
           1,
           1,
           1,
           1
          ],
          "coloraxis": "coloraxis",
          "size": [
           5.556760204081632,
           5.528061224489796,
           5.516581632653061,
           5.510841836734694,
           5.505102040816326,
           5.4936224489795915,
           5.487882653061225,
           5.487882653061225,
           5.47640306122449,
           5.470663265306122,
           5.447704081632653,
           5.447704081632653,
           5.424744897959184,
           5.407525510204081,
           5.396045918367347,
           5.39030612244898,
           5.373086734693878,
           5.36734693877551,
           5.36734693877551,
           5.355867346938775,
           5.3501275510204085,
           5.344387755102041,
           5.344387755102041,
           5.327168367346939,
           5.327168367346939,
           5.321428571428571,
           5.321428571428571,
           5.309948979591836,
           5.309948979591836,
           5.309948979591836,
           5.309948979591836,
           5.309948979591836,
           5.3042091836734695,
           5.3042091836734695,
           5.298469387755102,
           5.298469387755102,
           5.292729591836735,
           5.292729591836735,
           5.286989795918368,
           5.286989795918368,
           5.275510204081632,
           5.275510204081632,
           5.269770408163265,
           5.269770408163265,
           5.269770408163265,
           5.269770408163265,
           5.264030612244898,
           5.264030612244898,
           5.264030612244898,
           5.2582908163265305,
           5.2582908163265305,
           5.252551020408164,
           5.246811224489796,
           5.246811224489796,
           5.241071428571429,
           5.241071428571429,
           5.241071428571429,
           5.235331632653061,
           5.235331632653061,
           5.235331632653061,
           5.235331632653061,
           5.235331632653061,
           5.223852040816326,
           5.223852040816326,
           5.218112244897959,
           5.218112244897959,
           5.218112244897959,
           5.2123724489795915,
           5.2123724489795915,
           5.2123724489795915,
           5.206632653061225,
           5.206632653061225,
           5.200892857142857,
           5.200892857142857,
           5.19515306122449,
           5.19515306122449,
           5.19515306122449,
           5.189413265306122,
           5.183673469387755,
           5.177933673469388,
           5.177933673469388,
           5.17219387755102,
           5.17219387755102,
           5.17219387755102,
           5.17219387755102,
           5.166454081632653,
           5.166454081632653,
           5.166454081632653,
           5.160714285714286,
           5.160714285714286,
           5.160714285714286,
           5.154974489795919,
           5.154974489795919,
           5.149234693877551,
           5.143494897959184,
           5.137755102040816,
           5.137755102040816,
           5.137755102040816,
           5.132015306122449,
           5.132015306122449,
           5.132015306122449,
           5.126275510204081,
           5.126275510204081,
           5.126275510204081,
           5.126275510204081,
           5.126275510204081,
           5.126275510204081,
           5.126275510204081,
           5.126275510204081,
           5.126275510204081,
           5.120535714285714,
           5.120535714285714,
           5.114795918367347,
           5.114795918367347,
           5.10905612244898,
           5.10905612244898,
           5.103316326530612,
           5.103316326530612,
           5.097576530612245,
           5.097576530612245,
           5.097576530612245,
           5.097576530612245,
           5.097576530612245,
           5.097576530612245,
           5.091836734693878,
           5.091836734693878,
           5.091836734693878,
           5.091836734693878,
           5.091836734693878,
           5.091836734693878,
           5.091836734693878,
           5.091836734693878,
           5.091836734693878,
           5.091836734693878,
           5.091836734693878,
           5.08609693877551,
           5.08609693877551,
           5.08609693877551,
           5.08609693877551,
           5.08609693877551,
           5.08609693877551,
           5.080357142857143,
           5.080357142857143,
           5.080357142857143,
           5.074617346938775,
           5.074617346938775,
           5.0688775510204085,
           5.0688775510204085,
           5.0688775510204085,
           5.0688775510204085,
           5.0688775510204085,
           5.063137755102041,
           5.063137755102041,
           5.063137755102041,
           5.063137755102041,
           5.063137755102041,
           5.057397959183674,
           5.057397959183674,
           5.057397959183674,
           5.057397959183674,
           5.057397959183674,
           5.057397959183674,
           5.057397959183674,
           5.057397959183674,
           5.057397959183674,
           5.051658163265306,
           5.051658163265306,
           5.051658163265306,
           5.051658163265306,
           5.051658163265306,
           5.051658163265306,
           5.051658163265306,
           5.051658163265306,
           5.051658163265306,
           5.045918367346939,
           5.045918367346939,
           5.045918367346939,
           5.045918367346939,
           5.045918367346939,
           5.045918367346939,
           5.045918367346939,
           5.045918367346939,
           5.045918367346939,
           5.045918367346939,
           5.045918367346939,
           5.045918367346939,
           5.045918367346939,
           5.040178571428571,
           5.040178571428571,
           5.040178571428571,
           5.040178571428571,
           5.040178571428571,
           5.040178571428571,
           5.040178571428571,
           5.040178571428571,
           5.040178571428571,
           5.040178571428571,
           5.040178571428571,
           5.040178571428571,
           5.040178571428571,
           5.040178571428571,
           5.040178571428571,
           5.040178571428571,
           5.040178571428571,
           5.034438775510204,
           5.034438775510204,
           5.034438775510204,
           5.034438775510204,
           5.034438775510204,
           5.034438775510204,
           5.034438775510204,
           5.034438775510204,
           5.034438775510204,
           5.034438775510204,
           5.034438775510204,
           5.034438775510204,
           5.034438775510204,
           5.034438775510204,
           5.028698979591836,
           5.028698979591836,
           5.028698979591836,
           5.028698979591836,
           5.028698979591836,
           5.028698979591836,
           5.028698979591836,
           5.028698979591836,
           5.028698979591836,
           5.028698979591836,
           5.028698979591836,
           5.028698979591836,
           5.028698979591836,
           5.028698979591836,
           5.028698979591836,
           5.028698979591836,
           5.0229591836734695,
           5.0229591836734695,
           5.0229591836734695,
           5.0229591836734695,
           5.0229591836734695,
           5.0229591836734695,
           5.0229591836734695,
           5.0229591836734695,
           5.0229591836734695,
           5.0229591836734695,
           5.0229591836734695,
           5.0229591836734695,
           5.0229591836734695,
           5.0229591836734695,
           5.0229591836734695,
           5.0229591836734695,
           5.0229591836734695,
           5.0229591836734695,
           5.017219387755102,
           5.017219387755102,
           5.017219387755102,
           5.017219387755102,
           5.017219387755102,
           5.017219387755102,
           5.017219387755102,
           5.017219387755102,
           5.017219387755102,
           5.017219387755102,
           5.017219387755102,
           5.017219387755102,
           5.017219387755102,
           5.017219387755102,
           5.017219387755102,
           5.017219387755102,
           5.017219387755102,
           5.017219387755102,
           5.017219387755102,
           5.017219387755102,
           5.017219387755102,
           5.011479591836735,
           5.011479591836735,
           5.011479591836735,
           5.011479591836735,
           5.011479591836735,
           5.011479591836735,
           5.011479591836735,
           5.011479591836735,
           5.011479591836735,
           5.011479591836735,
           5.011479591836735,
           5.011479591836735,
           5.011479591836735,
           5.011479591836735,
           5.011479591836735,
           5.011479591836735,
           5.011479591836735,
           5.011479591836735,
           5.011479591836735,
           5.011479591836735,
           5.011479591836735,
           5.011479591836735,
           5.011479591836735,
           5.011479591836735,
           5.011479591836735,
           5.011479591836735,
           5.011479591836735,
           5.011479591836735,
           5.011479591836735,
           5.011479591836735,
           5.011479591836735,
           5.011479591836735,
           5.011479591836735,
           5.011479591836735,
           5.005739795918367,
           5.005739795918367,
           5.005739795918367,
           5.005739795918367,
           5.005739795918367,
           5.005739795918367,
           5.005739795918367,
           5.005739795918367,
           5.005739795918367,
           5.005739795918367,
           5.005739795918367,
           5.005739795918367,
           5.005739795918367,
           5.005739795918367,
           5.005739795918367,
           5.005739795918367,
           5.005739795918367,
           5.005739795918367,
           5.005739795918367,
           5.005739795918367,
           5.005739795918367,
           5.005739795918367,
           5.005739795918367,
           5.005739795918367,
           5.005739795918367,
           5.005739795918367,
           5.005739795918367,
           5.005739795918367,
           5.005739795918367,
           5.005739795918367,
           5.005739795918367,
           5.005739795918367,
           5.005739795918367,
           5.005739795918367,
           5.005739795918367,
           5.005739795918367,
           5.005739795918367,
           5.005739795918367,
           5.005739795918367,
           5.005739795918367,
           5.005739795918367,
           5.005739795918367,
           5.005739795918367,
           5.005739795918367,
           5.005739795918367,
           5.005739795918367,
           5.005739795918367,
           5.005739795918367,
           5.005739795918367,
           5.005739795918367,
           5.005739795918367,
           5.005739795918367,
           5.005739795918367,
           5.005739795918367,
           5.005739795918367,
           5.005739795918367,
           5.005739795918367,
           5.005739795918367,
           5.005739795918367,
           5.005739795918367,
           5.005739795918367,
           5.005739795918367,
           5.005739795918367,
           5.005739795918367,
           5.005739795918367,
           5.005739795918367,
           5.005739795918367,
           5.005739795918367,
           5.005739795918367,
           5.005739795918367,
           5.005739795918367,
           5.005739795918367,
           5.005739795918367,
           5.0,
           5.0,
           5.0,
           5.0,
           5.0,
           5.0,
           5.0,
           5.0,
           5.0,
           5.0,
           5.0,
           5.0,
           5.0,
           5.0,
           5.0,
           5.0,
           5.0,
           5.0,
           5.0,
           5.0,
           5.0,
           5.0,
           5.0,
           5.0,
           5.0,
           5.0,
           5.0,
           5.0,
           5.0,
           5.0,
           5.0,
           5.0,
           5.0,
           5.0,
           5.0,
           5.0,
           5.0,
           5.0,
           5.0,
           5.0,
           5.0,
           5.0,
           5.0,
           5.0,
           5.0,
           5.0,
           5.0,
           5.0,
           5.0,
           5.0,
           5.0,
           5.0,
           5.0,
           5.0,
           5.0,
           5.0,
           5.0,
           5.0,
           5.0,
           5.0,
           5.0,
           5.0,
           5.0,
           5.0,
           5.0,
           5.0,
           5.0,
           5.0,
           5.0,
           5.0,
           5.0,
           5.0,
           5.0,
           5.0,
           5.0,
           5.0,
           5.0,
           5.0,
           5.0,
           5.0,
           5.0,
           5.0,
           5.0,
           5.0,
           5.0,
           5.0,
           5.0,
           5.0,
           5.0,
           5.0,
           5.0,
           5.0,
           5.0,
           5.0,
           5.0,
           5.0,
           5.0,
           5.0,
           5.0,
           5.0,
           5.0,
           5.0,
           5.0,
           5.0,
           5.0,
           5.0,
           5.0,
           5.0,
           5.0,
           5.0,
           5.0,
           5.0,
           5.0,
           5.0,
           5.0,
           5.0,
           5.0,
           5.0,
           5.0,
           5.0,
           5.0,
           5.0,
           5.0
          ],
          "sizemin": 2
         },
         "mode": "markers",
         "type": "scattermapbox"
        }
       ],
       "layout": {
        "template": {
         "data": {
          "histogram2dcontour": [
           {
            "type": "histogram2dcontour",
            "colorbar": {
             "outlinewidth": 0,
             "ticks": ""
            },
            "colorscale": [
             [
              0.0,
              "#0d0887"
             ],
             [
              0.1111111111111111,
              "#46039f"
             ],
             [
              0.2222222222222222,
              "#7201a8"
             ],
             [
              0.3333333333333333,
              "#9c179e"
             ],
             [
              0.4444444444444444,
              "#bd3786"
             ],
             [
              0.5555555555555556,
              "#d8576b"
             ],
             [
              0.6666666666666666,
              "#ed7953"
             ],
             [
              0.7777777777777778,
              "#fb9f3a"
             ],
             [
              0.8888888888888888,
              "#fdca26"
             ],
             [
              1.0,
              "#f0f921"
             ]
            ]
           }
          ],
          "choropleth": [
           {
            "type": "choropleth",
            "colorbar": {
             "outlinewidth": 0,
             "ticks": ""
            }
           }
          ],
          "histogram2d": [
           {
            "type": "histogram2d",
            "colorbar": {
             "outlinewidth": 0,
             "ticks": ""
            },
            "colorscale": [
             [
              0.0,
              "#0d0887"
             ],
             [
              0.1111111111111111,
              "#46039f"
             ],
             [
              0.2222222222222222,
              "#7201a8"
             ],
             [
              0.3333333333333333,
              "#9c179e"
             ],
             [
              0.4444444444444444,
              "#bd3786"
             ],
             [
              0.5555555555555556,
              "#d8576b"
             ],
             [
              0.6666666666666666,
              "#ed7953"
             ],
             [
              0.7777777777777778,
              "#fb9f3a"
             ],
             [
              0.8888888888888888,
              "#fdca26"
             ],
             [
              1.0,
              "#f0f921"
             ]
            ]
           }
          ],
          "heatmap": [
           {
            "type": "heatmap",
            "colorbar": {
             "outlinewidth": 0,
             "ticks": ""
            },
            "colorscale": [
             [
              0.0,
              "#0d0887"
             ],
             [
              0.1111111111111111,
              "#46039f"
             ],
             [
              0.2222222222222222,
              "#7201a8"
             ],
             [
              0.3333333333333333,
              "#9c179e"
             ],
             [
              0.4444444444444444,
              "#bd3786"
             ],
             [
              0.5555555555555556,
              "#d8576b"
             ],
             [
              0.6666666666666666,
              "#ed7953"
             ],
             [
              0.7777777777777778,
              "#fb9f3a"
             ],
             [
              0.8888888888888888,
              "#fdca26"
             ],
             [
              1.0,
              "#f0f921"
             ]
            ]
           }
          ],
          "heatmapgl": [
           {
            "type": "heatmapgl",
            "colorbar": {
             "outlinewidth": 0,
             "ticks": ""
            },
            "colorscale": [
             [
              0.0,
              "#0d0887"
             ],
             [
              0.1111111111111111,
              "#46039f"
             ],
             [
              0.2222222222222222,
              "#7201a8"
             ],
             [
              0.3333333333333333,
              "#9c179e"
             ],
             [
              0.4444444444444444,
              "#bd3786"
             ],
             [
              0.5555555555555556,
              "#d8576b"
             ],
             [
              0.6666666666666666,
              "#ed7953"
             ],
             [
              0.7777777777777778,
              "#fb9f3a"
             ],
             [
              0.8888888888888888,
              "#fdca26"
             ],
             [
              1.0,
              "#f0f921"
             ]
            ]
           }
          ],
          "contourcarpet": [
           {
            "type": "contourcarpet",
            "colorbar": {
             "outlinewidth": 0,
             "ticks": ""
            }
           }
          ],
          "contour": [
           {
            "type": "contour",
            "colorbar": {
             "outlinewidth": 0,
             "ticks": ""
            },
            "colorscale": [
             [
              0.0,
              "#0d0887"
             ],
             [
              0.1111111111111111,
              "#46039f"
             ],
             [
              0.2222222222222222,
              "#7201a8"
             ],
             [
              0.3333333333333333,
              "#9c179e"
             ],
             [
              0.4444444444444444,
              "#bd3786"
             ],
             [
              0.5555555555555556,
              "#d8576b"
             ],
             [
              0.6666666666666666,
              "#ed7953"
             ],
             [
              0.7777777777777778,
              "#fb9f3a"
             ],
             [
              0.8888888888888888,
              "#fdca26"
             ],
             [
              1.0,
              "#f0f921"
             ]
            ]
           }
          ],
          "surface": [
           {
            "type": "surface",
            "colorbar": {
             "outlinewidth": 0,
             "ticks": ""
            },
            "colorscale": [
             [
              0.0,
              "#0d0887"
             ],
             [
              0.1111111111111111,
              "#46039f"
             ],
             [
              0.2222222222222222,
              "#7201a8"
             ],
             [
              0.3333333333333333,
              "#9c179e"
             ],
             [
              0.4444444444444444,
              "#bd3786"
             ],
             [
              0.5555555555555556,
              "#d8576b"
             ],
             [
              0.6666666666666666,
              "#ed7953"
             ],
             [
              0.7777777777777778,
              "#fb9f3a"
             ],
             [
              0.8888888888888888,
              "#fdca26"
             ],
             [
              1.0,
              "#f0f921"
             ]
            ]
           }
          ],
          "mesh3d": [
           {
            "type": "mesh3d",
            "colorbar": {
             "outlinewidth": 0,
             "ticks": ""
            }
           }
          ],
          "scatter": [
           {
            "marker": {
             "line": {
              "color": "#283442"
             }
            },
            "type": "scatter"
           }
          ],
          "parcoords": [
           {
            "type": "parcoords",
            "line": {
             "colorbar": {
              "outlinewidth": 0,
              "ticks": ""
             }
            }
           }
          ],
          "scatterpolargl": [
           {
            "type": "scatterpolargl",
            "marker": {
             "colorbar": {
              "outlinewidth": 0,
              "ticks": ""
             }
            }
           }
          ],
          "bar": [
           {
            "error_x": {
             "color": "#f2f5fa"
            },
            "error_y": {
             "color": "#f2f5fa"
            },
            "marker": {
             "line": {
              "color": "rgb(17,17,17)",
              "width": 0.5
             },
             "pattern": {
              "fillmode": "overlay",
              "size": 10,
              "solidity": 0.2
             }
            },
            "type": "bar"
           }
          ],
          "scattergeo": [
           {
            "type": "scattergeo",
            "marker": {
             "colorbar": {
              "outlinewidth": 0,
              "ticks": ""
             }
            }
           }
          ],
          "scatterpolar": [
           {
            "type": "scatterpolar",
            "marker": {
             "colorbar": {
              "outlinewidth": 0,
              "ticks": ""
             }
            }
           }
          ],
          "histogram": [
           {
            "marker": {
             "pattern": {
              "fillmode": "overlay",
              "size": 10,
              "solidity": 0.2
             }
            },
            "type": "histogram"
           }
          ],
          "scattergl": [
           {
            "marker": {
             "line": {
              "color": "#283442"
             }
            },
            "type": "scattergl"
           }
          ],
          "scatter3d": [
           {
            "type": "scatter3d",
            "line": {
             "colorbar": {
              "outlinewidth": 0,
              "ticks": ""
             }
            },
            "marker": {
             "colorbar": {
              "outlinewidth": 0,
              "ticks": ""
             }
            }
           }
          ],
          "scattermapbox": [
           {
            "type": "scattermapbox",
            "marker": {
             "colorbar": {
              "outlinewidth": 0,
              "ticks": ""
             }
            }
           }
          ],
          "scatterternary": [
           {
            "type": "scatterternary",
            "marker": {
             "colorbar": {
              "outlinewidth": 0,
              "ticks": ""
             }
            }
           }
          ],
          "scattercarpet": [
           {
            "type": "scattercarpet",
            "marker": {
             "colorbar": {
              "outlinewidth": 0,
              "ticks": ""
             }
            }
           }
          ],
          "carpet": [
           {
            "aaxis": {
             "endlinecolor": "#A2B1C6",
             "gridcolor": "#506784",
             "linecolor": "#506784",
             "minorgridcolor": "#506784",
             "startlinecolor": "#A2B1C6"
            },
            "baxis": {
             "endlinecolor": "#A2B1C6",
             "gridcolor": "#506784",
             "linecolor": "#506784",
             "minorgridcolor": "#506784",
             "startlinecolor": "#A2B1C6"
            },
            "type": "carpet"
           }
          ],
          "table": [
           {
            "cells": {
             "fill": {
              "color": "#506784"
             },
             "line": {
              "color": "rgb(17,17,17)"
             }
            },
            "header": {
             "fill": {
              "color": "#2a3f5f"
             },
             "line": {
              "color": "rgb(17,17,17)"
             }
            },
            "type": "table"
           }
          ],
          "barpolar": [
           {
            "marker": {
             "line": {
              "color": "rgb(17,17,17)",
              "width": 0.5
             },
             "pattern": {
              "fillmode": "overlay",
              "size": 10,
              "solidity": 0.2
             }
            },
            "type": "barpolar"
           }
          ],
          "pie": [
           {
            "automargin": true,
            "type": "pie"
           }
          ]
         },
         "layout": {
          "autotypenumbers": "strict",
          "colorway": [
           "#636efa",
           "#EF553B",
           "#00cc96",
           "#ab63fa",
           "#FFA15A",
           "#19d3f3",
           "#FF6692",
           "#B6E880",
           "#FF97FF",
           "#FECB52"
          ],
          "font": {
           "color": "#f2f5fa"
          },
          "hovermode": "closest",
          "hoverlabel": {
           "align": "left"
          },
          "paper_bgcolor": "rgb(17,17,17)",
          "plot_bgcolor": "rgb(17,17,17)",
          "polar": {
           "bgcolor": "rgb(17,17,17)",
           "angularaxis": {
            "gridcolor": "#506784",
            "linecolor": "#506784",
            "ticks": ""
           },
           "radialaxis": {
            "gridcolor": "#506784",
            "linecolor": "#506784",
            "ticks": ""
           }
          },
          "ternary": {
           "bgcolor": "rgb(17,17,17)",
           "aaxis": {
            "gridcolor": "#506784",
            "linecolor": "#506784",
            "ticks": ""
           },
           "baxis": {
            "gridcolor": "#506784",
            "linecolor": "#506784",
            "ticks": ""
           },
           "caxis": {
            "gridcolor": "#506784",
            "linecolor": "#506784",
            "ticks": ""
           }
          },
          "coloraxis": {
           "colorbar": {
            "outlinewidth": 0,
            "ticks": ""
           }
          },
          "colorscale": {
           "sequential": [
            [
             0.0,
             "#0d0887"
            ],
            [
             0.1111111111111111,
             "#46039f"
            ],
            [
             0.2222222222222222,
             "#7201a8"
            ],
            [
             0.3333333333333333,
             "#9c179e"
            ],
            [
             0.4444444444444444,
             "#bd3786"
            ],
            [
             0.5555555555555556,
             "#d8576b"
            ],
            [
             0.6666666666666666,
             "#ed7953"
            ],
            [
             0.7777777777777778,
             "#fb9f3a"
            ],
            [
             0.8888888888888888,
             "#fdca26"
            ],
            [
             1.0,
             "#f0f921"
            ]
           ],
           "sequentialminus": [
            [
             0.0,
             "#0d0887"
            ],
            [
             0.1111111111111111,
             "#46039f"
            ],
            [
             0.2222222222222222,
             "#7201a8"
            ],
            [
             0.3333333333333333,
             "#9c179e"
            ],
            [
             0.4444444444444444,
             "#bd3786"
            ],
            [
             0.5555555555555556,
             "#d8576b"
            ],
            [
             0.6666666666666666,
             "#ed7953"
            ],
            [
             0.7777777777777778,
             "#fb9f3a"
            ],
            [
             0.8888888888888888,
             "#fdca26"
            ],
            [
             1.0,
             "#f0f921"
            ]
           ],
           "diverging": [
            [
             0,
             "#8e0152"
            ],
            [
             0.1,
             "#c51b7d"
            ],
            [
             0.2,
             "#de77ae"
            ],
            [
             0.3,
             "#f1b6da"
            ],
            [
             0.4,
             "#fde0ef"
            ],
            [
             0.5,
             "#f7f7f7"
            ],
            [
             0.6,
             "#e6f5d0"
            ],
            [
             0.7,
             "#b8e186"
            ],
            [
             0.8,
             "#7fbc41"
            ],
            [
             0.9,
             "#4d9221"
            ],
            [
             1,
             "#276419"
            ]
           ]
          },
          "xaxis": {
           "gridcolor": "#283442",
           "linecolor": "#506784",
           "ticks": "",
           "title": {
            "standoff": 15
           },
           "zerolinecolor": "#283442",
           "automargin": true,
           "zerolinewidth": 2
          },
          "yaxis": {
           "gridcolor": "#283442",
           "linecolor": "#506784",
           "ticks": "",
           "title": {
            "standoff": 15
           },
           "zerolinecolor": "#283442",
           "automargin": true,
           "zerolinewidth": 2
          },
          "scene": {
           "xaxis": {
            "backgroundcolor": "rgb(17,17,17)",
            "gridcolor": "#506784",
            "linecolor": "#506784",
            "showbackground": true,
            "ticks": "",
            "zerolinecolor": "#C8D4E3",
            "gridwidth": 2
           },
           "yaxis": {
            "backgroundcolor": "rgb(17,17,17)",
            "gridcolor": "#506784",
            "linecolor": "#506784",
            "showbackground": true,
            "ticks": "",
            "zerolinecolor": "#C8D4E3",
            "gridwidth": 2
           },
           "zaxis": {
            "backgroundcolor": "rgb(17,17,17)",
            "gridcolor": "#506784",
            "linecolor": "#506784",
            "showbackground": true,
            "ticks": "",
            "zerolinecolor": "#C8D4E3",
            "gridwidth": 2
           }
          },
          "shapedefaults": {
           "line": {
            "color": "#f2f5fa"
           }
          },
          "annotationdefaults": {
           "arrowcolor": "#f2f5fa",
           "arrowhead": 0,
           "arrowwidth": 1
          },
          "geo": {
           "bgcolor": "rgb(17,17,17)",
           "landcolor": "rgb(17,17,17)",
           "subunitcolor": "#506784",
           "showland": true,
           "showlakes": true,
           "lakecolor": "rgb(17,17,17)"
          },
          "title": {
           "x": 0.05
          },
          "updatemenudefaults": {
           "bgcolor": "#506784",
           "borderwidth": 0
          },
          "sliderdefaults": {
           "bgcolor": "#C8D4E3",
           "borderwidth": 1,
           "bordercolor": "rgb(17,17,17)",
           "tickwidth": 0
          },
          "mapbox": {
           "style": "dark"
          }
         }
        },
        "mapbox": {
         "center": {
          "lat": 70,
          "lon": 7
         },
         "style": "open-street-map",
         "zoom": 2.5
        },
        "height": 1000,
        "hovermode": "closest",
        "showlegend": false
       },
       "config": {
        "plotlyServerURL": "https://plot.ly"
       }
      },
      "text/html": "<div>                            <div id=\"484805a3-8a16-4efc-9475-a2472dfb1761\" class=\"plotly-graph-div\" style=\"height:1000px; width:100%;\"></div>            <script type=\"text/javascript\">                require([\"plotly\"], function(Plotly) {                    window.PLOTLYENV=window.PLOTLYENV || {};                                    if (document.getElementById(\"484805a3-8a16-4efc-9475-a2472dfb1761\")) {                    Plotly.newPlot(                        \"484805a3-8a16-4efc-9475-a2472dfb1761\",                        [{\"hovertext\":[98.0,93.0,91.0,90.0,89.0,87.0,86.0,86.0,84.0,83.0,79.0,79.0,75.0,72.0,70.0,69.0,66.0,65.0,65.0,63.0,62.0,61.0,61.0,58.0,58.0,57.0,57.0,55.0,55.0,55.0,55.0,55.0,54.0,54.0,53.0,53.0,52.0,52.0,51.0,51.0,49.0,49.0,48.0,48.0,48.0,48.0,47.0,47.0,47.0,46.0,46.0,45.0,44.0,44.0,43.0,43.0,43.0,42.0,42.0,42.0,42.0,42.0,40.0,40.0,39.0,39.0,39.0,38.0,38.0,38.0,37.0,37.0,36.0,36.0,35.0,35.0,35.0,34.0,33.0,32.0,32.0,31.0,31.0,31.0,31.0,30.0,30.0,30.0,29.0,29.0,29.0,28.0,28.0,27.0,26.0,25.0,25.0,25.0,24.0,24.0,24.0,23.0,23.0,23.0,23.0,23.0,23.0,23.0,23.0,23.0,22.0,22.0,21.0,21.0,20.0,20.0,19.0,19.0,18.0,18.0,18.0,18.0,18.0,18.0,17.0,17.0,17.0,17.0,17.0,17.0,17.0,17.0,17.0,17.0,17.0,16.0,16.0,16.0,16.0,16.0,16.0,15.0,15.0,15.0,14.0,14.0,13.0,13.0,13.0,13.0,13.0,12.0,12.0,12.0,12.0,12.0,11.0,11.0,11.0,11.0,11.0,11.0,11.0,11.0,11.0,10.0,10.0,10.0,10.0,10.0,10.0,10.0,10.0,10.0,9.0,9.0,9.0,9.0,9.0,9.0,9.0,9.0,9.0,9.0,9.0,9.0,9.0,8.0,8.0,8.0,8.0,8.0,8.0,8.0,8.0,8.0,8.0,8.0,8.0,8.0,8.0,8.0,8.0,8.0,7.0,7.0,7.0,7.0,7.0,7.0,7.0,7.0,7.0,7.0,7.0,7.0,7.0,7.0,6.0,6.0,6.0,6.0,6.0,6.0,6.0,6.0,6.0,6.0,6.0,6.0,6.0,6.0,6.0,6.0,5.0,5.0,5.0,5.0,5.0,5.0,5.0,5.0,5.0,5.0,5.0,5.0,5.0,5.0,5.0,5.0,5.0,5.0,4.0,4.0,4.0,4.0,4.0,4.0,4.0,4.0,4.0,4.0,4.0,4.0,4.0,4.0,4.0,4.0,4.0,4.0,4.0,4.0,4.0,3.0,3.0,3.0,3.0,3.0,3.0,3.0,3.0,3.0,3.0,3.0,3.0,3.0,3.0,3.0,3.0,3.0,3.0,3.0,3.0,3.0,3.0,3.0,3.0,3.0,3.0,3.0,3.0,3.0,3.0,3.0,3.0,3.0,3.0,2.0,2.0,2.0,2.0,2.0,2.0,2.0,2.0,2.0,2.0,2.0,2.0,2.0,2.0,2.0,2.0,2.0,2.0,2.0,2.0,2.0,2.0,2.0,2.0,2.0,2.0,2.0,2.0,2.0,2.0,2.0,2.0,2.0,2.0,2.0,2.0,2.0,2.0,2.0,2.0,2.0,2.0,2.0,2.0,2.0,2.0,2.0,2.0,2.0,2.0,2.0,2.0,2.0,2.0,2.0,2.0,2.0,2.0,2.0,2.0,2.0,2.0,2.0,2.0,2.0,2.0,2.0,2.0,2.0,2.0,2.0,2.0,2.0,1.0,1.0,1.0,1.0,1.0,1.0,1.0,1.0,1.0,1.0,1.0,1.0,1.0,1.0,1.0,1.0,1.0,1.0,1.0,1.0,1.0,1.0,1.0,1.0,1.0,1.0,1.0,1.0,1.0,1.0,1.0,1.0,1.0,1.0,1.0,1.0,1.0,1.0,1.0,1.0,1.0,1.0,1.0,1.0,1.0,1.0,1.0,1.0,1.0,1.0,1.0,1.0,1.0,1.0,1.0,1.0,1.0,1.0,1.0,1.0,1.0,1.0,1.0,1.0,1.0,1.0,1.0,1.0,1.0,1.0,1.0,1.0,1.0,1.0,1.0,1.0,1.0,1.0,1.0,1.0,1.0,1.0,1.0,1.0,1.0,1.0,1.0,1.0,1.0,1.0,1.0,1.0,1.0,1.0,1.0,1.0,1.0,1.0,1.0,1.0,1.0,1.0,1.0,1.0,1.0,1.0,1.0,1.0,1.0,1.0,1.0,1.0,1.0,1.0,1.0,1.0,1.0,1.0,1.0,1.0,1.0,1.0,1.0],\"lat\":[60.25,71.75,73.5,72.5,75.5,75.5,67.75,72.5,64.75,58.25,59.75,59.25,65.37965,59.75,71.25,72.5,70.75,69.02192,61.25,77.25,75.5,61.75,65.75,76.75,73.25,70.75,60.25,57.67004,70.75,61.75,59.75,57.25,75.625,58.75,70.75,59.25,74.5,73.75,71.25,71.25,70.75,68.75,70.64731,72.5,60.25,61.25,57.25,71.25,74.5,74.5,71.25,57.75,68.25,60.75,60.75,70.5,62.25,72.5,59.75,71.75,62.75,68.75,71.75,76.75,60.75,72.5,76.75,58.25,71.75,59.25,60.25,65.25,74.5,71.75,61.75,63.85145,71.25,73.25,72.5,70.25,71.25,77.25,71.75,76.25,69.76997,57.14948,59.25,58.75,61.25,65.25,73.5,60.75,79.25,61.25,70.25,76.75,67.25,72.5,74.5,72.5,59.25,75.5,73.75,76.75,69.25,75.5,75.5,75.5,77.25,77.25,76.25,77.5,75.5,80.25,75.5,76.25,67.75,57.75,77.25,76.25,58.75,60.25,71.75,60.75,71.75,76.25,61.04847,71.5,59.75,77.5,76.75,57.30618,73.25,59.75,76.25,75.5,71.75,62.75,73.75,60.24815,77.75,64.75,70.25,70.5,67.25,58.75,70.5,73.25,60.75,73.25,62.25,77.75,73.25,71.75,78.75,75.5,75.0,64.25,71.5,74.5,70.5,59.75,76.5,76.5,58.75,58.75,58.25,75.5,61.75,65.25,75.25,64.75,79.5,78.83482,57.75,67.5,78.25,59.75367,69.5,71.5,76.5,76.5,76.5,76.25,57.75,77.75,78.25,78.5,78.5,56.75,76.25,77.5,63.75,76.75,57.75,57.25,57.25,79.25,74.5,59.75,80.25,59.75,73.25,73.75,76.25,58.25,68.58333,57.48282,71.5,71.25,60.25,59.25,65.25,71.5,69.75,67.16667,66.25,78.25,76.25,69.25,77.25,66.5,65.75,66.75,63.75,70.5,69.5,58.25,61.75,74.5,78.75,76.5,62.5,69.5,77.25,66.58333,59.25,59.25,66.25,66.08333,70.75,66.75,62.25,71.5,61.25,61.25,64.25,70.5,76.75,57.75,78.5,76.75,55.25,76.75,77.5,77.25,57.75,70.25,62.75,70.5,72.5,63.25,63.25,59.75,70.75,77.25,77.25,57.77771,73.25,69.5,71.5,64.25,69.75,77.75,76.25,58.75,78.5,62.25,62.25,62.25,71.5,61.25,70.5,64.75,59.25,74.5,73.0,70.5,69.75,73.75,60.25,71.5,69.5,73.5,80.75,72.25,72.5,61.75,59.75,75.5,69.58333,66.25,69.75,68.5,57.75,56.75,56.75,76.75,77.75,77.75,56.75,56.75,56.75,56.75,57.25,57.25,78.75,78.75,79.25,79.25,58.25,58.25,58.25,58.25,79.5,57.25,69.5,76.25,68.5,68.7,80.75,67.5,68.5,57.75,70.5,70.5,79.75,79.75,79.75,80.25,63.25,63.25,59.25,59.25,59.75,74.5,69.75,69.75,60.75,73.5,58.82238,63.75,63.75,63.75,63.75,64.25,71.5,62.25,69.5,66.05,60.75,69.5,72.5,72.5,61.75,71.75,72.5,72.5,65.75,65.75,64.75,64.75,64.75,65.15164,65.25,65.5,69.75,77.75,55.549795,78.25,52.3806,55.75,56.25,58.75,78.75,79.25,79.25,79.25781,56.75,57.25,55.75,55.25,54.75,61.75,70.25,70.25,70.5,70.5,64.75,64.75,65.25,65.25,65.5,65.5,65.58333,65.75,65.75,65.75,61.75,61.75,61.75,72.5,62.25,62.25,62.5,62.75,62.75,62.75,62.75,61.25,72.5,72.5,60.25,60.25,60.25,60.25,60.25,60.5,60.75,60.75,60.75,69.5,66.225,66.25,66.5,66.5,66.5,66.75,64.5,71.25,71.5,71.5,61.75,62.25,63.25,63.75,64.25,72.5,59.25,59.25,74.5,74.5,70.75,70.75,63.25,63.25,63.25,63.25,79.75,80.24008,80.25,80.25,57.25,57.25,57.75,57.81712,70.5,80.5,80.75,81.25,82.25,68.5,68.5,68.5,69.25,69.25,69.25,69.5,75.5,75.5,75.5,76.25,57.849645,76.75,77.02027,77.25,57.25,57.25,58.25,58.25,58.75,77.5,55.75,54.75,53.75,53.25,56.25,56.25,56.75,56.75,56.75,78.25,55.5],\"lon\":[0.5,18.0,31.0,29.0,16.0,20.0,10.5,18.0,8.5,10.5,2.5,2.5,9.65035,-3.5,21.5,24.0,17.5,14.44817,-1.5,29.0,22.0,-0.5,10.5,25.0,29.0,19.5,-2.5,7.3025,18.5,0.5,0.5,6.5,24.75,0.5,32.5,0.5,31.0,22.0,19.5,20.5,16.5,12.5,20.8475,22.0,1.5,-0.5,8.5,16.5,24.0,33.0,15.5,4.5,10.5,3.5,0.5,37.0,4.5,33.0,-0.5,24.0,4.5,11.5,25.5,29.0,-2.5,31.0,14.0,0.5,27.5,-0.5,-3.5,10.5,26.5,29.5,1.5,11.06946,17.5,18.0,35.0,16.5,18.5,12.0,28.5,15.5,31.47496,8.2665,1.5,2.5,0.5,8.5,35.0,1.5,8.0,1.5,32.5,27.0,10.5,20.0,35.0,14.0,-1.5,41.0,26.5,12.0,13.5,31.0,14.0,29.0,27.0,23.0,25.0,31.0,33.0,12.0,39.0,19.0,11.5,3.5,10.0,14.0,4.5,-0.5,22.0,-0.5,20.0,29.0,4.51307,37.0,-2.5,33.0,23.0,8.63051,16.0,1.5,23.0,37.0,32.5,3.5,16.0,4.50056,10.0,9.5,15.5,47.0,9.5,-0.5,35.0,26.5,-1.5,20.0,3.5,12.0,24.0,30.5,8.0,27.0,35.0,8.5,43.0,37.0,39.0,4.5,35.0,39.0,1.5,-1.5,9.5,35.0,-1.5,9.5,24.0,7.5,33.0,26.16964,10.5,8.0,25.0,-1.00349,53.0,47.0,33.0,31.0,37.0,21.0,0.5,29.0,29.0,33.0,31.0,6.5,17.0,37.0,6.5,10.0,-1.5,-0.5,4.5,10.0,14.0,-1.5,14.0,-5.5,14.0,24.0,27.0,2.5,9.83333,7.96936,14.0,32.5,-4.5,-3.5,6.5,41.0,14.5,12.66667,8.5,27.0,10.0,12.5,14.0,6.0,9.5,9.5,5.5,49.0,51.0,1.5,2.5,29.0,10.0,41.0,0.0,55.0,25.0,7.83333,-5.5,-6.5,9.5,-19.5,15.5,10.5,-4.5,45.0,3.5,-2.5,7.5,41.0,8.0,-0.5,35.0,21.0,2.5,19.0,35.0,8.0,-13.5,14.5,-6.5,43.0,37.0,4.5,-22.5,-4.5,-8.5,17.5,21.0,11.53405,22.0,41.0,39.0,6.5,13.5,25.0,12.0,-7.5,37.0,-8.5,-39.5,-40.5,49.0,-5.5,33.5,-13.5,-36.5,12.0,35.0,12.0,37.5,29.0,-7.5,10.0,10.0,47.0,29.0,9.0,45.0,-5.5,-7.5,12.0,11.83333,10.5,38.5,8.0,1.5,-15.5,-13.5,6.0,8.0,19.0,3.5,4.5,5.5,7.5,-15.5,-13.5,25.0,29.0,6.0,35.0,-8.5,-1.5,-0.5,11.5,35.0,0.5,8.0,4.0,6.0,49.0,12.0,6.0,-8.0,2.5,51.0,53.0,8.0,10.0,12.0,10.0,-38.5,-24.5,-7.5,-4.5,-6.5,39.0,35.5,36.5,-3.5,37.0,4.571155,-40.5,-38.5,-37.5,4.5,-35.5,33.5,-38.5,57.0,-18.5,-6.5,47.0,41.0,43.0,-4.5,31.5,10.0,39.0,7.5,8.5,-11.5,5.5,6.5,-33.54098,-11.5,0.0,39.5,27.0,3.28988,10.0,2.95185,3.5,-15.5,-2.5,6.0,4.0,12.0,19.5,10.5,-8.5,0.5,4.5,4.5,-9.5,-9.5,-8.5,8.0,10.0,-34.5,-32.5,-31.5,-13.5,2.0,4.0,5.83333,-30.5,-13.5,-12.5,-8.5,-7.5,-2.5,12.0,-22.5,-5.5,-2.0,-22.5,-7.5,-5.5,-4.5,-6.5,47.0,49.0,-38.5,-9.5,-8.5,-6.5,-5.5,-28.0,-10.5,-8.5,-5.5,43.0,-17.5,-12.5,-2.0,0.0,2.0,-12.5,2.0,-8.5,8.0,35.0,3.5,-35.5,-20.5,-35.5,-36.5,51.0,-41.5,4.5,51.0,53.0,-10.5,-9.5,-41.0,-36.5,-34.5,-25.5,19.0,10.00595,16.0,17.5,2.5,9.5,-14.5,10.45405,55.0,31.0,14.0,21.0,41.0,2.0,41.0,51.0,36.5,38.5,39.5,6.0,6.0,47.0,53.0,8.0,10.47301,17.5,9.9482,4.0,-1.5,1.5,-13.5,-9.5,-8.5,47.0,-1.5,1.5,3.5,-15.5,-2.5,7.5,-14.5,-0.5,1.5,14.0,-33.0],\"marker\":{\"color\":[98,93,91,90,89,87,86,86,84,83,79,79,75,72,70,69,66,65,65,63,62,61,61,58,58,57,57,55,55,55,55,55,54,54,53,53,52,52,51,51,49,49,48,48,48,48,47,47,47,46,46,45,44,44,43,43,43,42,42,42,42,42,40,40,39,39,39,38,38,38,37,37,36,36,35,35,35,34,33,32,32,31,31,31,31,30,30,30,29,29,29,28,28,27,26,25,25,25,24,24,24,23,23,23,23,23,23,23,23,23,22,22,21,21,20,20,19,19,18,18,18,18,18,18,17,17,17,17,17,17,17,17,17,17,17,16,16,16,16,16,16,15,15,15,14,14,13,13,13,13,13,12,12,12,12,12,11,11,11,11,11,11,11,11,11,10,10,10,10,10,10,10,10,10,9,9,9,9,9,9,9,9,9,9,9,9,9,8,8,8,8,8,8,8,8,8,8,8,8,8,8,8,8,8,7,7,7,7,7,7,7,7,7,7,7,7,7,7,6,6,6,6,6,6,6,6,6,6,6,6,6,6,6,6,5,5,5,5,5,5,5,5,5,5,5,5,5,5,5,5,5,5,4,4,4,4,4,4,4,4,4,4,4,4,4,4,4,4,4,4,4,4,4,3,3,3,3,3,3,3,3,3,3,3,3,3,3,3,3,3,3,3,3,3,3,3,3,3,3,3,3,3,3,3,3,3,3,2,2,2,2,2,2,2,2,2,2,2,2,2,2,2,2,2,2,2,2,2,2,2,2,2,2,2,2,2,2,2,2,2,2,2,2,2,2,2,2,2,2,2,2,2,2,2,2,2,2,2,2,2,2,2,2,2,2,2,2,2,2,2,2,2,2,2,2,2,2,2,2,2,1,1,1,1,1,1,1,1,1,1,1,1,1,1,1,1,1,1,1,1,1,1,1,1,1,1,1,1,1,1,1,1,1,1,1,1,1,1,1,1,1,1,1,1,1,1,1,1,1,1,1,1,1,1,1,1,1,1,1,1,1,1,1,1,1,1,1,1,1,1,1,1,1,1,1,1,1,1,1,1,1,1,1,1,1,1,1,1,1,1,1,1,1,1,1,1,1,1,1,1,1,1,1,1,1,1,1,1,1,1,1,1,1,1,1,1,1,1,1,1,1,1,1],\"coloraxis\":\"coloraxis\",\"size\":[5.556760204081632,5.528061224489796,5.516581632653061,5.510841836734694,5.505102040816326,5.4936224489795915,5.487882653061225,5.487882653061225,5.47640306122449,5.470663265306122,5.447704081632653,5.447704081632653,5.424744897959184,5.407525510204081,5.396045918367347,5.39030612244898,5.373086734693878,5.36734693877551,5.36734693877551,5.355867346938775,5.3501275510204085,5.344387755102041,5.344387755102041,5.327168367346939,5.327168367346939,5.321428571428571,5.321428571428571,5.309948979591836,5.309948979591836,5.309948979591836,5.309948979591836,5.309948979591836,5.3042091836734695,5.3042091836734695,5.298469387755102,5.298469387755102,5.292729591836735,5.292729591836735,5.286989795918368,5.286989795918368,5.275510204081632,5.275510204081632,5.269770408163265,5.269770408163265,5.269770408163265,5.269770408163265,5.264030612244898,5.264030612244898,5.264030612244898,5.2582908163265305,5.2582908163265305,5.252551020408164,5.246811224489796,5.246811224489796,5.241071428571429,5.241071428571429,5.241071428571429,5.235331632653061,5.235331632653061,5.235331632653061,5.235331632653061,5.235331632653061,5.223852040816326,5.223852040816326,5.218112244897959,5.218112244897959,5.218112244897959,5.2123724489795915,5.2123724489795915,5.2123724489795915,5.206632653061225,5.206632653061225,5.200892857142857,5.200892857142857,5.19515306122449,5.19515306122449,5.19515306122449,5.189413265306122,5.183673469387755,5.177933673469388,5.177933673469388,5.17219387755102,5.17219387755102,5.17219387755102,5.17219387755102,5.166454081632653,5.166454081632653,5.166454081632653,5.160714285714286,5.160714285714286,5.160714285714286,5.154974489795919,5.154974489795919,5.149234693877551,5.143494897959184,5.137755102040816,5.137755102040816,5.137755102040816,5.132015306122449,5.132015306122449,5.132015306122449,5.126275510204081,5.126275510204081,5.126275510204081,5.126275510204081,5.126275510204081,5.126275510204081,5.126275510204081,5.126275510204081,5.126275510204081,5.120535714285714,5.120535714285714,5.114795918367347,5.114795918367347,5.10905612244898,5.10905612244898,5.103316326530612,5.103316326530612,5.097576530612245,5.097576530612245,5.097576530612245,5.097576530612245,5.097576530612245,5.097576530612245,5.091836734693878,5.091836734693878,5.091836734693878,5.091836734693878,5.091836734693878,5.091836734693878,5.091836734693878,5.091836734693878,5.091836734693878,5.091836734693878,5.091836734693878,5.08609693877551,5.08609693877551,5.08609693877551,5.08609693877551,5.08609693877551,5.08609693877551,5.080357142857143,5.080357142857143,5.080357142857143,5.074617346938775,5.074617346938775,5.0688775510204085,5.0688775510204085,5.0688775510204085,5.0688775510204085,5.0688775510204085,5.063137755102041,5.063137755102041,5.063137755102041,5.063137755102041,5.063137755102041,5.057397959183674,5.057397959183674,5.057397959183674,5.057397959183674,5.057397959183674,5.057397959183674,5.057397959183674,5.057397959183674,5.057397959183674,5.051658163265306,5.051658163265306,5.051658163265306,5.051658163265306,5.051658163265306,5.051658163265306,5.051658163265306,5.051658163265306,5.051658163265306,5.045918367346939,5.045918367346939,5.045918367346939,5.045918367346939,5.045918367346939,5.045918367346939,5.045918367346939,5.045918367346939,5.045918367346939,5.045918367346939,5.045918367346939,5.045918367346939,5.045918367346939,5.040178571428571,5.040178571428571,5.040178571428571,5.040178571428571,5.040178571428571,5.040178571428571,5.040178571428571,5.040178571428571,5.040178571428571,5.040178571428571,5.040178571428571,5.040178571428571,5.040178571428571,5.040178571428571,5.040178571428571,5.040178571428571,5.040178571428571,5.034438775510204,5.034438775510204,5.034438775510204,5.034438775510204,5.034438775510204,5.034438775510204,5.034438775510204,5.034438775510204,5.034438775510204,5.034438775510204,5.034438775510204,5.034438775510204,5.034438775510204,5.034438775510204,5.028698979591836,5.028698979591836,5.028698979591836,5.028698979591836,5.028698979591836,5.028698979591836,5.028698979591836,5.028698979591836,5.028698979591836,5.028698979591836,5.028698979591836,5.028698979591836,5.028698979591836,5.028698979591836,5.028698979591836,5.028698979591836,5.0229591836734695,5.0229591836734695,5.0229591836734695,5.0229591836734695,5.0229591836734695,5.0229591836734695,5.0229591836734695,5.0229591836734695,5.0229591836734695,5.0229591836734695,5.0229591836734695,5.0229591836734695,5.0229591836734695,5.0229591836734695,5.0229591836734695,5.0229591836734695,5.0229591836734695,5.0229591836734695,5.017219387755102,5.017219387755102,5.017219387755102,5.017219387755102,5.017219387755102,5.017219387755102,5.017219387755102,5.017219387755102,5.017219387755102,5.017219387755102,5.017219387755102,5.017219387755102,5.017219387755102,5.017219387755102,5.017219387755102,5.017219387755102,5.017219387755102,5.017219387755102,5.017219387755102,5.017219387755102,5.017219387755102,5.011479591836735,5.011479591836735,5.011479591836735,5.011479591836735,5.011479591836735,5.011479591836735,5.011479591836735,5.011479591836735,5.011479591836735,5.011479591836735,5.011479591836735,5.011479591836735,5.011479591836735,5.011479591836735,5.011479591836735,5.011479591836735,5.011479591836735,5.011479591836735,5.011479591836735,5.011479591836735,5.011479591836735,5.011479591836735,5.011479591836735,5.011479591836735,5.011479591836735,5.011479591836735,5.011479591836735,5.011479591836735,5.011479591836735,5.011479591836735,5.011479591836735,5.011479591836735,5.011479591836735,5.011479591836735,5.005739795918367,5.005739795918367,5.005739795918367,5.005739795918367,5.005739795918367,5.005739795918367,5.005739795918367,5.005739795918367,5.005739795918367,5.005739795918367,5.005739795918367,5.005739795918367,5.005739795918367,5.005739795918367,5.005739795918367,5.005739795918367,5.005739795918367,5.005739795918367,5.005739795918367,5.005739795918367,5.005739795918367,5.005739795918367,5.005739795918367,5.005739795918367,5.005739795918367,5.005739795918367,5.005739795918367,5.005739795918367,5.005739795918367,5.005739795918367,5.005739795918367,5.005739795918367,5.005739795918367,5.005739795918367,5.005739795918367,5.005739795918367,5.005739795918367,5.005739795918367,5.005739795918367,5.005739795918367,5.005739795918367,5.005739795918367,5.005739795918367,5.005739795918367,5.005739795918367,5.005739795918367,5.005739795918367,5.005739795918367,5.005739795918367,5.005739795918367,5.005739795918367,5.005739795918367,5.005739795918367,5.005739795918367,5.005739795918367,5.005739795918367,5.005739795918367,5.005739795918367,5.005739795918367,5.005739795918367,5.005739795918367,5.005739795918367,5.005739795918367,5.005739795918367,5.005739795918367,5.005739795918367,5.005739795918367,5.005739795918367,5.005739795918367,5.005739795918367,5.005739795918367,5.005739795918367,5.005739795918367,5.0,5.0,5.0,5.0,5.0,5.0,5.0,5.0,5.0,5.0,5.0,5.0,5.0,5.0,5.0,5.0,5.0,5.0,5.0,5.0,5.0,5.0,5.0,5.0,5.0,5.0,5.0,5.0,5.0,5.0,5.0,5.0,5.0,5.0,5.0,5.0,5.0,5.0,5.0,5.0,5.0,5.0,5.0,5.0,5.0,5.0,5.0,5.0,5.0,5.0,5.0,5.0,5.0,5.0,5.0,5.0,5.0,5.0,5.0,5.0,5.0,5.0,5.0,5.0,5.0,5.0,5.0,5.0,5.0,5.0,5.0,5.0,5.0,5.0,5.0,5.0,5.0,5.0,5.0,5.0,5.0,5.0,5.0,5.0,5.0,5.0,5.0,5.0,5.0,5.0,5.0,5.0,5.0,5.0,5.0,5.0,5.0,5.0,5.0,5.0,5.0,5.0,5.0,5.0,5.0,5.0,5.0,5.0,5.0,5.0,5.0,5.0,5.0,5.0,5.0,5.0,5.0,5.0,5.0,5.0,5.0,5.0,5.0],\"sizemin\":2},\"mode\":\"markers\",\"type\":\"scattermapbox\"}],                        {\"template\":{\"data\":{\"histogram2dcontour\":[{\"type\":\"histogram2dcontour\",\"colorbar\":{\"outlinewidth\":0,\"ticks\":\"\"},\"colorscale\":[[0.0,\"#0d0887\"],[0.1111111111111111,\"#46039f\"],[0.2222222222222222,\"#7201a8\"],[0.3333333333333333,\"#9c179e\"],[0.4444444444444444,\"#bd3786\"],[0.5555555555555556,\"#d8576b\"],[0.6666666666666666,\"#ed7953\"],[0.7777777777777778,\"#fb9f3a\"],[0.8888888888888888,\"#fdca26\"],[1.0,\"#f0f921\"]]}],\"choropleth\":[{\"type\":\"choropleth\",\"colorbar\":{\"outlinewidth\":0,\"ticks\":\"\"}}],\"histogram2d\":[{\"type\":\"histogram2d\",\"colorbar\":{\"outlinewidth\":0,\"ticks\":\"\"},\"colorscale\":[[0.0,\"#0d0887\"],[0.1111111111111111,\"#46039f\"],[0.2222222222222222,\"#7201a8\"],[0.3333333333333333,\"#9c179e\"],[0.4444444444444444,\"#bd3786\"],[0.5555555555555556,\"#d8576b\"],[0.6666666666666666,\"#ed7953\"],[0.7777777777777778,\"#fb9f3a\"],[0.8888888888888888,\"#fdca26\"],[1.0,\"#f0f921\"]]}],\"heatmap\":[{\"type\":\"heatmap\",\"colorbar\":{\"outlinewidth\":0,\"ticks\":\"\"},\"colorscale\":[[0.0,\"#0d0887\"],[0.1111111111111111,\"#46039f\"],[0.2222222222222222,\"#7201a8\"],[0.3333333333333333,\"#9c179e\"],[0.4444444444444444,\"#bd3786\"],[0.5555555555555556,\"#d8576b\"],[0.6666666666666666,\"#ed7953\"],[0.7777777777777778,\"#fb9f3a\"],[0.8888888888888888,\"#fdca26\"],[1.0,\"#f0f921\"]]}],\"heatmapgl\":[{\"type\":\"heatmapgl\",\"colorbar\":{\"outlinewidth\":0,\"ticks\":\"\"},\"colorscale\":[[0.0,\"#0d0887\"],[0.1111111111111111,\"#46039f\"],[0.2222222222222222,\"#7201a8\"],[0.3333333333333333,\"#9c179e\"],[0.4444444444444444,\"#bd3786\"],[0.5555555555555556,\"#d8576b\"],[0.6666666666666666,\"#ed7953\"],[0.7777777777777778,\"#fb9f3a\"],[0.8888888888888888,\"#fdca26\"],[1.0,\"#f0f921\"]]}],\"contourcarpet\":[{\"type\":\"contourcarpet\",\"colorbar\":{\"outlinewidth\":0,\"ticks\":\"\"}}],\"contour\":[{\"type\":\"contour\",\"colorbar\":{\"outlinewidth\":0,\"ticks\":\"\"},\"colorscale\":[[0.0,\"#0d0887\"],[0.1111111111111111,\"#46039f\"],[0.2222222222222222,\"#7201a8\"],[0.3333333333333333,\"#9c179e\"],[0.4444444444444444,\"#bd3786\"],[0.5555555555555556,\"#d8576b\"],[0.6666666666666666,\"#ed7953\"],[0.7777777777777778,\"#fb9f3a\"],[0.8888888888888888,\"#fdca26\"],[1.0,\"#f0f921\"]]}],\"surface\":[{\"type\":\"surface\",\"colorbar\":{\"outlinewidth\":0,\"ticks\":\"\"},\"colorscale\":[[0.0,\"#0d0887\"],[0.1111111111111111,\"#46039f\"],[0.2222222222222222,\"#7201a8\"],[0.3333333333333333,\"#9c179e\"],[0.4444444444444444,\"#bd3786\"],[0.5555555555555556,\"#d8576b\"],[0.6666666666666666,\"#ed7953\"],[0.7777777777777778,\"#fb9f3a\"],[0.8888888888888888,\"#fdca26\"],[1.0,\"#f0f921\"]]}],\"mesh3d\":[{\"type\":\"mesh3d\",\"colorbar\":{\"outlinewidth\":0,\"ticks\":\"\"}}],\"scatter\":[{\"marker\":{\"line\":{\"color\":\"#283442\"}},\"type\":\"scatter\"}],\"parcoords\":[{\"type\":\"parcoords\",\"line\":{\"colorbar\":{\"outlinewidth\":0,\"ticks\":\"\"}}}],\"scatterpolargl\":[{\"type\":\"scatterpolargl\",\"marker\":{\"colorbar\":{\"outlinewidth\":0,\"ticks\":\"\"}}}],\"bar\":[{\"error_x\":{\"color\":\"#f2f5fa\"},\"error_y\":{\"color\":\"#f2f5fa\"},\"marker\":{\"line\":{\"color\":\"rgb(17,17,17)\",\"width\":0.5},\"pattern\":{\"fillmode\":\"overlay\",\"size\":10,\"solidity\":0.2}},\"type\":\"bar\"}],\"scattergeo\":[{\"type\":\"scattergeo\",\"marker\":{\"colorbar\":{\"outlinewidth\":0,\"ticks\":\"\"}}}],\"scatterpolar\":[{\"type\":\"scatterpolar\",\"marker\":{\"colorbar\":{\"outlinewidth\":0,\"ticks\":\"\"}}}],\"histogram\":[{\"marker\":{\"pattern\":{\"fillmode\":\"overlay\",\"size\":10,\"solidity\":0.2}},\"type\":\"histogram\"}],\"scattergl\":[{\"marker\":{\"line\":{\"color\":\"#283442\"}},\"type\":\"scattergl\"}],\"scatter3d\":[{\"type\":\"scatter3d\",\"line\":{\"colorbar\":{\"outlinewidth\":0,\"ticks\":\"\"}},\"marker\":{\"colorbar\":{\"outlinewidth\":0,\"ticks\":\"\"}}}],\"scattermapbox\":[{\"type\":\"scattermapbox\",\"marker\":{\"colorbar\":{\"outlinewidth\":0,\"ticks\":\"\"}}}],\"scatterternary\":[{\"type\":\"scatterternary\",\"marker\":{\"colorbar\":{\"outlinewidth\":0,\"ticks\":\"\"}}}],\"scattercarpet\":[{\"type\":\"scattercarpet\",\"marker\":{\"colorbar\":{\"outlinewidth\":0,\"ticks\":\"\"}}}],\"carpet\":[{\"aaxis\":{\"endlinecolor\":\"#A2B1C6\",\"gridcolor\":\"#506784\",\"linecolor\":\"#506784\",\"minorgridcolor\":\"#506784\",\"startlinecolor\":\"#A2B1C6\"},\"baxis\":{\"endlinecolor\":\"#A2B1C6\",\"gridcolor\":\"#506784\",\"linecolor\":\"#506784\",\"minorgridcolor\":\"#506784\",\"startlinecolor\":\"#A2B1C6\"},\"type\":\"carpet\"}],\"table\":[{\"cells\":{\"fill\":{\"color\":\"#506784\"},\"line\":{\"color\":\"rgb(17,17,17)\"}},\"header\":{\"fill\":{\"color\":\"#2a3f5f\"},\"line\":{\"color\":\"rgb(17,17,17)\"}},\"type\":\"table\"}],\"barpolar\":[{\"marker\":{\"line\":{\"color\":\"rgb(17,17,17)\",\"width\":0.5},\"pattern\":{\"fillmode\":\"overlay\",\"size\":10,\"solidity\":0.2}},\"type\":\"barpolar\"}],\"pie\":[{\"automargin\":true,\"type\":\"pie\"}]},\"layout\":{\"autotypenumbers\":\"strict\",\"colorway\":[\"#636efa\",\"#EF553B\",\"#00cc96\",\"#ab63fa\",\"#FFA15A\",\"#19d3f3\",\"#FF6692\",\"#B6E880\",\"#FF97FF\",\"#FECB52\"],\"font\":{\"color\":\"#f2f5fa\"},\"hovermode\":\"closest\",\"hoverlabel\":{\"align\":\"left\"},\"paper_bgcolor\":\"rgb(17,17,17)\",\"plot_bgcolor\":\"rgb(17,17,17)\",\"polar\":{\"bgcolor\":\"rgb(17,17,17)\",\"angularaxis\":{\"gridcolor\":\"#506784\",\"linecolor\":\"#506784\",\"ticks\":\"\"},\"radialaxis\":{\"gridcolor\":\"#506784\",\"linecolor\":\"#506784\",\"ticks\":\"\"}},\"ternary\":{\"bgcolor\":\"rgb(17,17,17)\",\"aaxis\":{\"gridcolor\":\"#506784\",\"linecolor\":\"#506784\",\"ticks\":\"\"},\"baxis\":{\"gridcolor\":\"#506784\",\"linecolor\":\"#506784\",\"ticks\":\"\"},\"caxis\":{\"gridcolor\":\"#506784\",\"linecolor\":\"#506784\",\"ticks\":\"\"}},\"coloraxis\":{\"colorbar\":{\"outlinewidth\":0,\"ticks\":\"\"}},\"colorscale\":{\"sequential\":[[0.0,\"#0d0887\"],[0.1111111111111111,\"#46039f\"],[0.2222222222222222,\"#7201a8\"],[0.3333333333333333,\"#9c179e\"],[0.4444444444444444,\"#bd3786\"],[0.5555555555555556,\"#d8576b\"],[0.6666666666666666,\"#ed7953\"],[0.7777777777777778,\"#fb9f3a\"],[0.8888888888888888,\"#fdca26\"],[1.0,\"#f0f921\"]],\"sequentialminus\":[[0.0,\"#0d0887\"],[0.1111111111111111,\"#46039f\"],[0.2222222222222222,\"#7201a8\"],[0.3333333333333333,\"#9c179e\"],[0.4444444444444444,\"#bd3786\"],[0.5555555555555556,\"#d8576b\"],[0.6666666666666666,\"#ed7953\"],[0.7777777777777778,\"#fb9f3a\"],[0.8888888888888888,\"#fdca26\"],[1.0,\"#f0f921\"]],\"diverging\":[[0,\"#8e0152\"],[0.1,\"#c51b7d\"],[0.2,\"#de77ae\"],[0.3,\"#f1b6da\"],[0.4,\"#fde0ef\"],[0.5,\"#f7f7f7\"],[0.6,\"#e6f5d0\"],[0.7,\"#b8e186\"],[0.8,\"#7fbc41\"],[0.9,\"#4d9221\"],[1,\"#276419\"]]},\"xaxis\":{\"gridcolor\":\"#283442\",\"linecolor\":\"#506784\",\"ticks\":\"\",\"title\":{\"standoff\":15},\"zerolinecolor\":\"#283442\",\"automargin\":true,\"zerolinewidth\":2},\"yaxis\":{\"gridcolor\":\"#283442\",\"linecolor\":\"#506784\",\"ticks\":\"\",\"title\":{\"standoff\":15},\"zerolinecolor\":\"#283442\",\"automargin\":true,\"zerolinewidth\":2},\"scene\":{\"xaxis\":{\"backgroundcolor\":\"rgb(17,17,17)\",\"gridcolor\":\"#506784\",\"linecolor\":\"#506784\",\"showbackground\":true,\"ticks\":\"\",\"zerolinecolor\":\"#C8D4E3\",\"gridwidth\":2},\"yaxis\":{\"backgroundcolor\":\"rgb(17,17,17)\",\"gridcolor\":\"#506784\",\"linecolor\":\"#506784\",\"showbackground\":true,\"ticks\":\"\",\"zerolinecolor\":\"#C8D4E3\",\"gridwidth\":2},\"zaxis\":{\"backgroundcolor\":\"rgb(17,17,17)\",\"gridcolor\":\"#506784\",\"linecolor\":\"#506784\",\"showbackground\":true,\"ticks\":\"\",\"zerolinecolor\":\"#C8D4E3\",\"gridwidth\":2}},\"shapedefaults\":{\"line\":{\"color\":\"#f2f5fa\"}},\"annotationdefaults\":{\"arrowcolor\":\"#f2f5fa\",\"arrowhead\":0,\"arrowwidth\":1},\"geo\":{\"bgcolor\":\"rgb(17,17,17)\",\"landcolor\":\"rgb(17,17,17)\",\"subunitcolor\":\"#506784\",\"showland\":true,\"showlakes\":true,\"lakecolor\":\"rgb(17,17,17)\"},\"title\":{\"x\":0.05},\"updatemenudefaults\":{\"bgcolor\":\"#506784\",\"borderwidth\":0},\"sliderdefaults\":{\"bgcolor\":\"#C8D4E3\",\"borderwidth\":1,\"bordercolor\":\"rgb(17,17,17)\",\"tickwidth\":0},\"mapbox\":{\"style\":\"dark\"}}},\"mapbox\":{\"center\":{\"lat\":70,\"lon\":7},\"style\":\"open-street-map\",\"zoom\":2.5},\"height\":1000,\"hovermode\":\"closest\",\"showlegend\":false},                        {\"responsive\": true}                    ).then(function(){\n                            \nvar gd = document.getElementById('484805a3-8a16-4efc-9475-a2472dfb1761');\nvar x = new MutationObserver(function (mutations, observer) {{\n        var display = window.getComputedStyle(gd).display;\n        if (!display || display === 'none') {{\n            console.log([gd, 'removed!']);\n            Plotly.purge(gd);\n            observer.disconnect();\n        }}\n}});\n\n// Listen for the removal of the full notebook cells\nvar notebookContainer = gd.closest('#notebook-container');\nif (notebookContainer) {{\n    x.observe(notebookContainer, {childList: true});\n}}\n\n// Listen for the clearing of the current output cell\nvar outputEl = gd.closest('.output');\nif (outputEl) {{\n    x.observe(outputEl, {childList: true});\n}}\n\n                        })                };                });            </script>        </div>"
     },
     "metadata": {},
     "output_type": "display_data"
    }
   ],
   "source": [
    "fig = go.Figure(go.Scattermapbox(lat=low_freq_coords['Lat (lokasjon)'], lon=low_freq_coords['Lon (lokasjon)'], mode='markers', \n",
    "                                 hovertext=low_freq_coords['size'], marker=go.scattermapbox.Marker(size=low_freq_coords['marker_size'], color=low_freq_coords['size'], coloraxis='coloraxis')))\n",
    "                                 #marker=dict(size=5, color='red', opacity=0.5)))\n",
    "\n",
    "fig.update_mapboxes(style='open-street-map', center=dict(lat=70, lon=7), zoom=2.5)\n",
    "fig.update_layout(\n",
    "    height=1000,\n",
    "    hovermode='closest', showlegend=False)\n",
    "fig.update_traces(marker_sizemin=2)\n",
    "fig.show()"
   ],
   "metadata": {
    "collapsed": false,
    "ExecuteTime": {
     "end_time": "2024-06-15T22:56:57.414493188Z",
     "start_time": "2024-06-15T22:56:57.356242788Z"
    }
   },
   "id": "ee4b0ebdfbee24e3",
   "execution_count": 241
  },
  {
   "cell_type": "code",
   "outputs": [
    {
     "data": {
      "text/plain": "7085"
     },
     "execution_count": 242,
     "metadata": {},
     "output_type": "execute_result"
    }
   ],
   "source": [
    "# Lets see how often these low frequency coordinates appear in the total dataset\n",
    "low_freq_coords['size'].sum()"
   ],
   "metadata": {
    "collapsed": false,
    "ExecuteTime": {
     "end_time": "2024-06-15T22:56:58.156355881Z",
     "start_time": "2024-06-15T22:56:58.145401518Z"
    }
   },
   "id": "15f45903f9b4a874",
   "execution_count": 242
  },
  {
   "cell_type": "code",
   "outputs": [
    {
     "name": "stdout",
     "output_type": "stream",
     "text": [
      "78935\n",
      "0.9176354336200884\n"
     ]
    },
    {
     "data": {
      "text/plain": "     Lat (lokasjon)  Lon (lokasjon)  size  Ocean  marker_size\n0          69.25000        14.50000  1569    1.0    14.000000\n1          70.73675        21.54827  1473    1.0    13.448980\n2          58.25000         5.50000  1470    1.0    13.431760\n3          69.74206        17.49100  1457    1.0    13.357143\n4          66.25000        11.50000  1448    1.0    13.305485\n..              ...             ...   ...    ...          ...\n147        71.25000        22.50000   109    1.0     5.619898\n148        68.25000        11.50000   106    1.0     5.602679\n149        60.25000         2.50000   106    1.0     5.602679\n150        61.25000         2.50000   104    1.0     5.591199\n151        58.25000         3.50000   103    1.0     5.585459\n\n[118 rows x 5 columns]",
      "text/html": "<div>\n<style scoped>\n    .dataframe tbody tr th:only-of-type {\n        vertical-align: middle;\n    }\n\n    .dataframe tbody tr th {\n        vertical-align: top;\n    }\n\n    .dataframe thead th {\n        text-align: right;\n    }\n</style>\n<table border=\"1\" class=\"dataframe\">\n  <thead>\n    <tr style=\"text-align: right;\">\n      <th></th>\n      <th>Lat (lokasjon)</th>\n      <th>Lon (lokasjon)</th>\n      <th>size</th>\n      <th>Ocean</th>\n      <th>marker_size</th>\n    </tr>\n  </thead>\n  <tbody>\n    <tr>\n      <th>0</th>\n      <td>69.25000</td>\n      <td>14.50000</td>\n      <td>1569</td>\n      <td>1.0</td>\n      <td>14.000000</td>\n    </tr>\n    <tr>\n      <th>1</th>\n      <td>70.73675</td>\n      <td>21.54827</td>\n      <td>1473</td>\n      <td>1.0</td>\n      <td>13.448980</td>\n    </tr>\n    <tr>\n      <th>2</th>\n      <td>58.25000</td>\n      <td>5.50000</td>\n      <td>1470</td>\n      <td>1.0</td>\n      <td>13.431760</td>\n    </tr>\n    <tr>\n      <th>3</th>\n      <td>69.74206</td>\n      <td>17.49100</td>\n      <td>1457</td>\n      <td>1.0</td>\n      <td>13.357143</td>\n    </tr>\n    <tr>\n      <th>4</th>\n      <td>66.25000</td>\n      <td>11.50000</td>\n      <td>1448</td>\n      <td>1.0</td>\n      <td>13.305485</td>\n    </tr>\n    <tr>\n      <th>...</th>\n      <td>...</td>\n      <td>...</td>\n      <td>...</td>\n      <td>...</td>\n      <td>...</td>\n    </tr>\n    <tr>\n      <th>147</th>\n      <td>71.25000</td>\n      <td>22.50000</td>\n      <td>109</td>\n      <td>1.0</td>\n      <td>5.619898</td>\n    </tr>\n    <tr>\n      <th>148</th>\n      <td>68.25000</td>\n      <td>11.50000</td>\n      <td>106</td>\n      <td>1.0</td>\n      <td>5.602679</td>\n    </tr>\n    <tr>\n      <th>149</th>\n      <td>60.25000</td>\n      <td>2.50000</td>\n      <td>106</td>\n      <td>1.0</td>\n      <td>5.602679</td>\n    </tr>\n    <tr>\n      <th>150</th>\n      <td>61.25000</td>\n      <td>2.50000</td>\n      <td>104</td>\n      <td>1.0</td>\n      <td>5.591199</td>\n    </tr>\n    <tr>\n      <th>151</th>\n      <td>58.25000</td>\n      <td>3.50000</td>\n      <td>103</td>\n      <td>1.0</td>\n      <td>5.585459</td>\n    </tr>\n  </tbody>\n</table>\n<p>118 rows × 5 columns</p>\n</div>"
     },
     "execution_count": 243,
     "metadata": {},
     "output_type": "execute_result"
    }
   ],
   "source": [
    "high_freq_coords = oceanCoords[oceanCoords['size'] >= 100]\n",
    "print(high_freq_coords['size'].sum())\n",
    "print(high_freq_coords['size'].sum() / oceanCoords['size'].sum())\n",
    "high_freq_coords"
   ],
   "metadata": {
    "collapsed": false,
    "ExecuteTime": {
     "end_time": "2024-06-15T22:56:59.291658256Z",
     "start_time": "2024-06-15T22:56:59.283914256Z"
    }
   },
   "id": "493d957d4dd0291e",
   "execution_count": 243
  },
  {
   "cell_type": "code",
   "outputs": [
    {
     "data": {
      "application/vnd.plotly.v1+json": {
       "data": [
        {
         "hovertext": [
          1569.0,
          1473.0,
          1470.0,
          1457.0,
          1448.0,
          1443.0,
          1411.0,
          1407.0,
          1403.0,
          1394.0,
          1391.0,
          1390.0,
          1381.0,
          1364.0,
          1341.0,
          1310.0,
          1309.0,
          1300.0,
          1287.0,
          1282.0,
          1263.0,
          1243.0,
          1223.0,
          1206.0,
          1204.0,
          1198.0,
          1195.0,
          1193.0,
          1139.0,
          1128.0,
          1124.0,
          1096.0,
          1076.0,
          1061.0,
          1060.0,
          1044.0,
          1005.0,
          974.0,
          970.0,
          967.0,
          953.0,
          937.0,
          936.0,
          929.0,
          839.0,
          792.0,
          786.0,
          769.0,
          745.0,
          683.0,
          675.0,
          646.0,
          637.0,
          625.0,
          618.0,
          611.0,
          607.0,
          576.0,
          566.0,
          561.0,
          494.0,
          494.0,
          492.0,
          473.0,
          457.0,
          450.0,
          406.0,
          379.0,
          378.0,
          376.0,
          369.0,
          360.0,
          356.0,
          343.0,
          326.0,
          316.0,
          311.0,
          310.0,
          302.0,
          300.0,
          289.0,
          285.0,
          277.0,
          277.0,
          275.0,
          261.0,
          253.0,
          249.0,
          214.0,
          210.0,
          206.0,
          198.0,
          187.0,
          187.0,
          177.0,
          169.0,
          167.0,
          160.0,
          155.0,
          147.0,
          146.0,
          145.0,
          141.0,
          136.0,
          135.0,
          133.0,
          132.0,
          131.0,
          125.0,
          116.0,
          116.0,
          114.0,
          112.0,
          109.0,
          106.0,
          106.0,
          104.0,
          103.0
         ],
         "lat": [
          69.25,
          70.73675,
          58.25,
          69.74206,
          66.25,
          65.22203,
          69.26583,
          70.66667,
          70.26784,
          71.21473,
          70.46517,
          68.15924,
          71.25,
          58.75,
          59.23466,
          69.26902,
          66.74865,
          59.25,
          70.25,
          63.24359,
          61.75,
          68.29821,
          67.19701,
          71.23915,
          70.25,
          67.25,
          62.76533,
          67.22556,
          70.49274,
          64.74619,
          66.25914,
          69.93406,
          71.23199,
          62.75,
          64.22308,
          67.82298,
          63.25,
          63.76938,
          70.25,
          69.80871,
          70.7379,
          58.75,
          65.75,
          68.91069,
          57.75,
          68.75,
          68.25,
          70.81682,
          70.33232,
          71.23613,
          63.75,
          67.33333,
          67.93413,
          69.75,
          57.75,
          57.81892,
          71.13554,
          70.25,
          67.62873,
          70.75,
          71.25,
          70.33884,
          67.61111,
          66.75,
          68.27428,
          68.79785,
          62.44167,
          67.64251,
          59.25,
          61.2617,
          70.7874,
          67.75442,
          58.72558,
          74.5,
          67.80045,
          60.76585,
          64.58869,
          71.75,
          57.25,
          67.94444,
          71.25,
          68.73656,
          57.75,
          57.25,
          63.25,
          68.01399,
          67.75,
          70.75,
          59.75166,
          58.25,
          59.75,
          57.75,
          63.1323,
          57.75,
          74.5,
          71.25,
          73.75,
          69.75,
          60.25,
          74.5,
          75.5,
          72.5,
          74.59921,
          65.15937,
          73.75,
          57.24889,
          58.75,
          72.55357,
          71.75,
          72.5,
          74.5,
          73.5,
          60.75,
          71.25,
          68.25,
          60.25,
          61.25,
          58.25
         ],
         "lon": [
          14.5,
          21.54827,
          5.5,
          17.491,
          11.5,
          11.56914,
          15.47374,
          30.5,
          20.4513,
          27.51996,
          25.53489,
          14.56579,
          23.5,
          9.5,
          5.37624,
          16.61634,
          12.50313,
          10.5,
          31.5,
          7.49065,
          4.5,
          13.44548,
          14.43561,
          26.46578,
          17.5,
          11.5,
          6.5624,
          13.53719,
          26.79157,
          10.50548,
          12.68927,
          29.74327,
          24.52052,
          5.5,
          9.55392,
          13.41423,
          6.5,
          8.4814,
          19.5,
          18.45225,
          23.48981,
          10.5,
          11.5,
          17.42042,
          7.5,
          13.5,
          12.5,
          29.3436,
          21.52462,
          28.48711,
          7.5,
          12.33333,
          15.57921,
          15.5,
          6.5,
          7.67022,
          25.37756,
          18.5,
          14.67456,
          31.5,
          29.5,
          22.46289,
          13.66667,
          11.5,
          15.61145,
          16.01984,
          6.21667,
          12.74275,
          3.5,
          4.47778,
          22.55833,
          14.53782,
          5.43607,
          20.0,
          12.38605,
          4.51988,
          11.77463,
          26.5,
          5.5,
          14.15556,
          31.5,
          15.40196,
          9.5,
          7.5,
          5.5,
          16.3323,
          9.5,
          20.5,
          6.0157,
          4.5,
          3.5,
          5.5,
          6.60818,
          8.5,
          22.0,
          30.5,
          20.0,
          16.5,
          3.5,
          16.0,
          18.0,
          26.5,
          21.65873,
          12.59274,
          18.0,
          7.49777,
          3.5,
          22.10714,
          16.0,
          16.0,
          18.0,
          33.0,
          2.5,
          22.5,
          11.5,
          2.5,
          2.5,
          3.5
         ],
         "marker": {
          "color": [
           1569,
           1473,
           1470,
           1457,
           1448,
           1443,
           1411,
           1407,
           1403,
           1394,
           1391,
           1390,
           1381,
           1364,
           1341,
           1310,
           1309,
           1300,
           1287,
           1282,
           1263,
           1243,
           1223,
           1206,
           1204,
           1198,
           1195,
           1193,
           1139,
           1128,
           1124,
           1096,
           1076,
           1061,
           1060,
           1044,
           1005,
           974,
           970,
           967,
           953,
           937,
           936,
           929,
           839,
           792,
           786,
           769,
           745,
           683,
           675,
           646,
           637,
           625,
           618,
           611,
           607,
           576,
           566,
           561,
           494,
           494,
           492,
           473,
           457,
           450,
           406,
           379,
           378,
           376,
           369,
           360,
           356,
           343,
           326,
           316,
           311,
           310,
           302,
           300,
           289,
           285,
           277,
           277,
           275,
           261,
           253,
           249,
           214,
           210,
           206,
           198,
           187,
           187,
           177,
           169,
           167,
           160,
           155,
           147,
           146,
           145,
           141,
           136,
           135,
           133,
           132,
           131,
           125,
           116,
           116,
           114,
           112,
           109,
           106,
           106,
           104,
           103
          ],
          "coloraxis": "coloraxis",
          "size": [
           14.0,
           13.448979591836736,
           13.431760204081632,
           13.357142857142858,
           13.30548469387755,
           13.276785714285714,
           13.09311224489796,
           13.07015306122449,
           13.04719387755102,
           12.995535714285714,
           12.978316326530614,
           12.972576530612244,
           12.920918367346939,
           12.823341836734693,
           12.691326530612244,
           12.513392857142858,
           12.50765306122449,
           12.455994897959183,
           12.381377551020408,
           12.352678571428571,
           12.243622448979592,
           12.128826530612244,
           12.014030612244898,
           11.916454081632654,
           11.904974489795919,
           11.870535714285714,
           11.853316326530614,
           11.841836734693878,
           11.53188775510204,
           11.46875,
           11.44579081632653,
           11.285076530612244,
           11.170280612244898,
           11.084183673469386,
           11.07844387755102,
           10.986607142857142,
           10.762755102040817,
           10.584821428571429,
           10.56186224489796,
           10.544642857142858,
           10.464285714285714,
           10.372448979591837,
           10.36670918367347,
           10.326530612244898,
           9.809948979591837,
           9.540178571428571,
           9.505739795918366,
           9.408163265306122,
           9.270408163265307,
           8.91454081632653,
           8.868622448979592,
           8.702168367346939,
           8.650510204081632,
           8.581632653061224,
           8.541454081632654,
           8.501275510204081,
           8.478316326530612,
           8.300382653061224,
           8.24298469387755,
           8.214285714285715,
           7.829719387755102,
           7.829719387755102,
           7.818239795918368,
           7.709183673469388,
           7.61734693877551,
           7.577168367346939,
           7.324617346938775,
           7.169642857142858,
           7.16390306122449,
           7.152423469387755,
           7.112244897959184,
           7.060586734693878,
           7.0376275510204085,
           6.963010204081632,
           6.865433673469388,
           6.808035714285714,
           6.779336734693878,
           6.77359693877551,
           6.727678571428571,
           6.716198979591836,
           6.653061224489796,
           6.630102040816327,
           6.584183673469388,
           6.584183673469388,
           6.572704081632653,
           6.49234693877551,
           6.446428571428571,
           6.423469387755102,
           6.222576530612245,
           6.199617346938775,
           6.176658163265306,
           6.130739795918368,
           6.067602040816327,
           6.067602040816327,
           6.0102040816326525,
           5.964285714285714,
           5.95280612244898,
           5.9126275510204085,
           5.883928571428571,
           5.838010204081633,
           5.832270408163265,
           5.826530612244898,
           5.803571428571429,
           5.7748724489795915,
           5.769132653061225,
           5.75765306122449,
           5.751913265306122,
           5.746173469387755,
           5.711734693877551,
           5.660076530612245,
           5.660076530612245,
           5.64859693877551,
           5.637117346938775,
           5.619897959183674,
           5.602678571428571,
           5.602678571428571,
           5.591198979591836,
           5.5854591836734695
          ],
          "sizemin": 2
         },
         "mode": "markers",
         "type": "scattermapbox"
        }
       ],
       "layout": {
        "template": {
         "data": {
          "histogram2dcontour": [
           {
            "type": "histogram2dcontour",
            "colorbar": {
             "outlinewidth": 0,
             "ticks": ""
            },
            "colorscale": [
             [
              0.0,
              "#0d0887"
             ],
             [
              0.1111111111111111,
              "#46039f"
             ],
             [
              0.2222222222222222,
              "#7201a8"
             ],
             [
              0.3333333333333333,
              "#9c179e"
             ],
             [
              0.4444444444444444,
              "#bd3786"
             ],
             [
              0.5555555555555556,
              "#d8576b"
             ],
             [
              0.6666666666666666,
              "#ed7953"
             ],
             [
              0.7777777777777778,
              "#fb9f3a"
             ],
             [
              0.8888888888888888,
              "#fdca26"
             ],
             [
              1.0,
              "#f0f921"
             ]
            ]
           }
          ],
          "choropleth": [
           {
            "type": "choropleth",
            "colorbar": {
             "outlinewidth": 0,
             "ticks": ""
            }
           }
          ],
          "histogram2d": [
           {
            "type": "histogram2d",
            "colorbar": {
             "outlinewidth": 0,
             "ticks": ""
            },
            "colorscale": [
             [
              0.0,
              "#0d0887"
             ],
             [
              0.1111111111111111,
              "#46039f"
             ],
             [
              0.2222222222222222,
              "#7201a8"
             ],
             [
              0.3333333333333333,
              "#9c179e"
             ],
             [
              0.4444444444444444,
              "#bd3786"
             ],
             [
              0.5555555555555556,
              "#d8576b"
             ],
             [
              0.6666666666666666,
              "#ed7953"
             ],
             [
              0.7777777777777778,
              "#fb9f3a"
             ],
             [
              0.8888888888888888,
              "#fdca26"
             ],
             [
              1.0,
              "#f0f921"
             ]
            ]
           }
          ],
          "heatmap": [
           {
            "type": "heatmap",
            "colorbar": {
             "outlinewidth": 0,
             "ticks": ""
            },
            "colorscale": [
             [
              0.0,
              "#0d0887"
             ],
             [
              0.1111111111111111,
              "#46039f"
             ],
             [
              0.2222222222222222,
              "#7201a8"
             ],
             [
              0.3333333333333333,
              "#9c179e"
             ],
             [
              0.4444444444444444,
              "#bd3786"
             ],
             [
              0.5555555555555556,
              "#d8576b"
             ],
             [
              0.6666666666666666,
              "#ed7953"
             ],
             [
              0.7777777777777778,
              "#fb9f3a"
             ],
             [
              0.8888888888888888,
              "#fdca26"
             ],
             [
              1.0,
              "#f0f921"
             ]
            ]
           }
          ],
          "heatmapgl": [
           {
            "type": "heatmapgl",
            "colorbar": {
             "outlinewidth": 0,
             "ticks": ""
            },
            "colorscale": [
             [
              0.0,
              "#0d0887"
             ],
             [
              0.1111111111111111,
              "#46039f"
             ],
             [
              0.2222222222222222,
              "#7201a8"
             ],
             [
              0.3333333333333333,
              "#9c179e"
             ],
             [
              0.4444444444444444,
              "#bd3786"
             ],
             [
              0.5555555555555556,
              "#d8576b"
             ],
             [
              0.6666666666666666,
              "#ed7953"
             ],
             [
              0.7777777777777778,
              "#fb9f3a"
             ],
             [
              0.8888888888888888,
              "#fdca26"
             ],
             [
              1.0,
              "#f0f921"
             ]
            ]
           }
          ],
          "contourcarpet": [
           {
            "type": "contourcarpet",
            "colorbar": {
             "outlinewidth": 0,
             "ticks": ""
            }
           }
          ],
          "contour": [
           {
            "type": "contour",
            "colorbar": {
             "outlinewidth": 0,
             "ticks": ""
            },
            "colorscale": [
             [
              0.0,
              "#0d0887"
             ],
             [
              0.1111111111111111,
              "#46039f"
             ],
             [
              0.2222222222222222,
              "#7201a8"
             ],
             [
              0.3333333333333333,
              "#9c179e"
             ],
             [
              0.4444444444444444,
              "#bd3786"
             ],
             [
              0.5555555555555556,
              "#d8576b"
             ],
             [
              0.6666666666666666,
              "#ed7953"
             ],
             [
              0.7777777777777778,
              "#fb9f3a"
             ],
             [
              0.8888888888888888,
              "#fdca26"
             ],
             [
              1.0,
              "#f0f921"
             ]
            ]
           }
          ],
          "surface": [
           {
            "type": "surface",
            "colorbar": {
             "outlinewidth": 0,
             "ticks": ""
            },
            "colorscale": [
             [
              0.0,
              "#0d0887"
             ],
             [
              0.1111111111111111,
              "#46039f"
             ],
             [
              0.2222222222222222,
              "#7201a8"
             ],
             [
              0.3333333333333333,
              "#9c179e"
             ],
             [
              0.4444444444444444,
              "#bd3786"
             ],
             [
              0.5555555555555556,
              "#d8576b"
             ],
             [
              0.6666666666666666,
              "#ed7953"
             ],
             [
              0.7777777777777778,
              "#fb9f3a"
             ],
             [
              0.8888888888888888,
              "#fdca26"
             ],
             [
              1.0,
              "#f0f921"
             ]
            ]
           }
          ],
          "mesh3d": [
           {
            "type": "mesh3d",
            "colorbar": {
             "outlinewidth": 0,
             "ticks": ""
            }
           }
          ],
          "scatter": [
           {
            "marker": {
             "line": {
              "color": "#283442"
             }
            },
            "type": "scatter"
           }
          ],
          "parcoords": [
           {
            "type": "parcoords",
            "line": {
             "colorbar": {
              "outlinewidth": 0,
              "ticks": ""
             }
            }
           }
          ],
          "scatterpolargl": [
           {
            "type": "scatterpolargl",
            "marker": {
             "colorbar": {
              "outlinewidth": 0,
              "ticks": ""
             }
            }
           }
          ],
          "bar": [
           {
            "error_x": {
             "color": "#f2f5fa"
            },
            "error_y": {
             "color": "#f2f5fa"
            },
            "marker": {
             "line": {
              "color": "rgb(17,17,17)",
              "width": 0.5
             },
             "pattern": {
              "fillmode": "overlay",
              "size": 10,
              "solidity": 0.2
             }
            },
            "type": "bar"
           }
          ],
          "scattergeo": [
           {
            "type": "scattergeo",
            "marker": {
             "colorbar": {
              "outlinewidth": 0,
              "ticks": ""
             }
            }
           }
          ],
          "scatterpolar": [
           {
            "type": "scatterpolar",
            "marker": {
             "colorbar": {
              "outlinewidth": 0,
              "ticks": ""
             }
            }
           }
          ],
          "histogram": [
           {
            "marker": {
             "pattern": {
              "fillmode": "overlay",
              "size": 10,
              "solidity": 0.2
             }
            },
            "type": "histogram"
           }
          ],
          "scattergl": [
           {
            "marker": {
             "line": {
              "color": "#283442"
             }
            },
            "type": "scattergl"
           }
          ],
          "scatter3d": [
           {
            "type": "scatter3d",
            "line": {
             "colorbar": {
              "outlinewidth": 0,
              "ticks": ""
             }
            },
            "marker": {
             "colorbar": {
              "outlinewidth": 0,
              "ticks": ""
             }
            }
           }
          ],
          "scattermapbox": [
           {
            "type": "scattermapbox",
            "marker": {
             "colorbar": {
              "outlinewidth": 0,
              "ticks": ""
             }
            }
           }
          ],
          "scatterternary": [
           {
            "type": "scatterternary",
            "marker": {
             "colorbar": {
              "outlinewidth": 0,
              "ticks": ""
             }
            }
           }
          ],
          "scattercarpet": [
           {
            "type": "scattercarpet",
            "marker": {
             "colorbar": {
              "outlinewidth": 0,
              "ticks": ""
             }
            }
           }
          ],
          "carpet": [
           {
            "aaxis": {
             "endlinecolor": "#A2B1C6",
             "gridcolor": "#506784",
             "linecolor": "#506784",
             "minorgridcolor": "#506784",
             "startlinecolor": "#A2B1C6"
            },
            "baxis": {
             "endlinecolor": "#A2B1C6",
             "gridcolor": "#506784",
             "linecolor": "#506784",
             "minorgridcolor": "#506784",
             "startlinecolor": "#A2B1C6"
            },
            "type": "carpet"
           }
          ],
          "table": [
           {
            "cells": {
             "fill": {
              "color": "#506784"
             },
             "line": {
              "color": "rgb(17,17,17)"
             }
            },
            "header": {
             "fill": {
              "color": "#2a3f5f"
             },
             "line": {
              "color": "rgb(17,17,17)"
             }
            },
            "type": "table"
           }
          ],
          "barpolar": [
           {
            "marker": {
             "line": {
              "color": "rgb(17,17,17)",
              "width": 0.5
             },
             "pattern": {
              "fillmode": "overlay",
              "size": 10,
              "solidity": 0.2
             }
            },
            "type": "barpolar"
           }
          ],
          "pie": [
           {
            "automargin": true,
            "type": "pie"
           }
          ]
         },
         "layout": {
          "autotypenumbers": "strict",
          "colorway": [
           "#636efa",
           "#EF553B",
           "#00cc96",
           "#ab63fa",
           "#FFA15A",
           "#19d3f3",
           "#FF6692",
           "#B6E880",
           "#FF97FF",
           "#FECB52"
          ],
          "font": {
           "color": "#f2f5fa"
          },
          "hovermode": "closest",
          "hoverlabel": {
           "align": "left"
          },
          "paper_bgcolor": "rgb(17,17,17)",
          "plot_bgcolor": "rgb(17,17,17)",
          "polar": {
           "bgcolor": "rgb(17,17,17)",
           "angularaxis": {
            "gridcolor": "#506784",
            "linecolor": "#506784",
            "ticks": ""
           },
           "radialaxis": {
            "gridcolor": "#506784",
            "linecolor": "#506784",
            "ticks": ""
           }
          },
          "ternary": {
           "bgcolor": "rgb(17,17,17)",
           "aaxis": {
            "gridcolor": "#506784",
            "linecolor": "#506784",
            "ticks": ""
           },
           "baxis": {
            "gridcolor": "#506784",
            "linecolor": "#506784",
            "ticks": ""
           },
           "caxis": {
            "gridcolor": "#506784",
            "linecolor": "#506784",
            "ticks": ""
           }
          },
          "coloraxis": {
           "colorbar": {
            "outlinewidth": 0,
            "ticks": ""
           }
          },
          "colorscale": {
           "sequential": [
            [
             0.0,
             "#0d0887"
            ],
            [
             0.1111111111111111,
             "#46039f"
            ],
            [
             0.2222222222222222,
             "#7201a8"
            ],
            [
             0.3333333333333333,
             "#9c179e"
            ],
            [
             0.4444444444444444,
             "#bd3786"
            ],
            [
             0.5555555555555556,
             "#d8576b"
            ],
            [
             0.6666666666666666,
             "#ed7953"
            ],
            [
             0.7777777777777778,
             "#fb9f3a"
            ],
            [
             0.8888888888888888,
             "#fdca26"
            ],
            [
             1.0,
             "#f0f921"
            ]
           ],
           "sequentialminus": [
            [
             0.0,
             "#0d0887"
            ],
            [
             0.1111111111111111,
             "#46039f"
            ],
            [
             0.2222222222222222,
             "#7201a8"
            ],
            [
             0.3333333333333333,
             "#9c179e"
            ],
            [
             0.4444444444444444,
             "#bd3786"
            ],
            [
             0.5555555555555556,
             "#d8576b"
            ],
            [
             0.6666666666666666,
             "#ed7953"
            ],
            [
             0.7777777777777778,
             "#fb9f3a"
            ],
            [
             0.8888888888888888,
             "#fdca26"
            ],
            [
             1.0,
             "#f0f921"
            ]
           ],
           "diverging": [
            [
             0,
             "#8e0152"
            ],
            [
             0.1,
             "#c51b7d"
            ],
            [
             0.2,
             "#de77ae"
            ],
            [
             0.3,
             "#f1b6da"
            ],
            [
             0.4,
             "#fde0ef"
            ],
            [
             0.5,
             "#f7f7f7"
            ],
            [
             0.6,
             "#e6f5d0"
            ],
            [
             0.7,
             "#b8e186"
            ],
            [
             0.8,
             "#7fbc41"
            ],
            [
             0.9,
             "#4d9221"
            ],
            [
             1,
             "#276419"
            ]
           ]
          },
          "xaxis": {
           "gridcolor": "#283442",
           "linecolor": "#506784",
           "ticks": "",
           "title": {
            "standoff": 15
           },
           "zerolinecolor": "#283442",
           "automargin": true,
           "zerolinewidth": 2
          },
          "yaxis": {
           "gridcolor": "#283442",
           "linecolor": "#506784",
           "ticks": "",
           "title": {
            "standoff": 15
           },
           "zerolinecolor": "#283442",
           "automargin": true,
           "zerolinewidth": 2
          },
          "scene": {
           "xaxis": {
            "backgroundcolor": "rgb(17,17,17)",
            "gridcolor": "#506784",
            "linecolor": "#506784",
            "showbackground": true,
            "ticks": "",
            "zerolinecolor": "#C8D4E3",
            "gridwidth": 2
           },
           "yaxis": {
            "backgroundcolor": "rgb(17,17,17)",
            "gridcolor": "#506784",
            "linecolor": "#506784",
            "showbackground": true,
            "ticks": "",
            "zerolinecolor": "#C8D4E3",
            "gridwidth": 2
           },
           "zaxis": {
            "backgroundcolor": "rgb(17,17,17)",
            "gridcolor": "#506784",
            "linecolor": "#506784",
            "showbackground": true,
            "ticks": "",
            "zerolinecolor": "#C8D4E3",
            "gridwidth": 2
           }
          },
          "shapedefaults": {
           "line": {
            "color": "#f2f5fa"
           }
          },
          "annotationdefaults": {
           "arrowcolor": "#f2f5fa",
           "arrowhead": 0,
           "arrowwidth": 1
          },
          "geo": {
           "bgcolor": "rgb(17,17,17)",
           "landcolor": "rgb(17,17,17)",
           "subunitcolor": "#506784",
           "showland": true,
           "showlakes": true,
           "lakecolor": "rgb(17,17,17)"
          },
          "title": {
           "x": 0.05
          },
          "updatemenudefaults": {
           "bgcolor": "#506784",
           "borderwidth": 0
          },
          "sliderdefaults": {
           "bgcolor": "#C8D4E3",
           "borderwidth": 1,
           "bordercolor": "rgb(17,17,17)",
           "tickwidth": 0
          },
          "mapbox": {
           "style": "dark"
          }
         }
        },
        "mapbox": {
         "center": {
          "lat": 70,
          "lon": 7
         },
         "style": "open-street-map",
         "zoom": 2.5
        },
        "height": 1000,
        "hovermode": "closest",
        "showlegend": false
       },
       "config": {
        "plotlyServerURL": "https://plot.ly"
       }
      },
      "text/html": "<div>                            <div id=\"216ad75b-3ea9-4a6a-bec3-4a55ed44dc67\" class=\"plotly-graph-div\" style=\"height:1000px; width:100%;\"></div>            <script type=\"text/javascript\">                require([\"plotly\"], function(Plotly) {                    window.PLOTLYENV=window.PLOTLYENV || {};                                    if (document.getElementById(\"216ad75b-3ea9-4a6a-bec3-4a55ed44dc67\")) {                    Plotly.newPlot(                        \"216ad75b-3ea9-4a6a-bec3-4a55ed44dc67\",                        [{\"hovertext\":[1569.0,1473.0,1470.0,1457.0,1448.0,1443.0,1411.0,1407.0,1403.0,1394.0,1391.0,1390.0,1381.0,1364.0,1341.0,1310.0,1309.0,1300.0,1287.0,1282.0,1263.0,1243.0,1223.0,1206.0,1204.0,1198.0,1195.0,1193.0,1139.0,1128.0,1124.0,1096.0,1076.0,1061.0,1060.0,1044.0,1005.0,974.0,970.0,967.0,953.0,937.0,936.0,929.0,839.0,792.0,786.0,769.0,745.0,683.0,675.0,646.0,637.0,625.0,618.0,611.0,607.0,576.0,566.0,561.0,494.0,494.0,492.0,473.0,457.0,450.0,406.0,379.0,378.0,376.0,369.0,360.0,356.0,343.0,326.0,316.0,311.0,310.0,302.0,300.0,289.0,285.0,277.0,277.0,275.0,261.0,253.0,249.0,214.0,210.0,206.0,198.0,187.0,187.0,177.0,169.0,167.0,160.0,155.0,147.0,146.0,145.0,141.0,136.0,135.0,133.0,132.0,131.0,125.0,116.0,116.0,114.0,112.0,109.0,106.0,106.0,104.0,103.0],\"lat\":[69.25,70.73675,58.25,69.74206,66.25,65.22203,69.26583,70.66667,70.26784,71.21473,70.46517,68.15924,71.25,58.75,59.23466,69.26902,66.74865,59.25,70.25,63.24359,61.75,68.29821,67.19701,71.23915,70.25,67.25,62.76533,67.22556,70.49274,64.74619,66.25914,69.93406,71.23199,62.75,64.22308,67.82298,63.25,63.76938,70.25,69.80871,70.7379,58.75,65.75,68.91069,57.75,68.75,68.25,70.81682,70.33232,71.23613,63.75,67.33333,67.93413,69.75,57.75,57.81892,71.13554,70.25,67.62873,70.75,71.25,70.33884,67.61111,66.75,68.27428,68.79785,62.44167,67.64251,59.25,61.2617,70.7874,67.75442,58.72558,74.5,67.80045,60.76585,64.58869,71.75,57.25,67.94444,71.25,68.73656,57.75,57.25,63.25,68.01399,67.75,70.75,59.75166,58.25,59.75,57.75,63.1323,57.75,74.5,71.25,73.75,69.75,60.25,74.5,75.5,72.5,74.59921,65.15937,73.75,57.24889,58.75,72.55357,71.75,72.5,74.5,73.5,60.75,71.25,68.25,60.25,61.25,58.25],\"lon\":[14.5,21.54827,5.5,17.491,11.5,11.56914,15.47374,30.5,20.4513,27.51996,25.53489,14.56579,23.5,9.5,5.37624,16.61634,12.50313,10.5,31.5,7.49065,4.5,13.44548,14.43561,26.46578,17.5,11.5,6.5624,13.53719,26.79157,10.50548,12.68927,29.74327,24.52052,5.5,9.55392,13.41423,6.5,8.4814,19.5,18.45225,23.48981,10.5,11.5,17.42042,7.5,13.5,12.5,29.3436,21.52462,28.48711,7.5,12.33333,15.57921,15.5,6.5,7.67022,25.37756,18.5,14.67456,31.5,29.5,22.46289,13.66667,11.5,15.61145,16.01984,6.21667,12.74275,3.5,4.47778,22.55833,14.53782,5.43607,20.0,12.38605,4.51988,11.77463,26.5,5.5,14.15556,31.5,15.40196,9.5,7.5,5.5,16.3323,9.5,20.5,6.0157,4.5,3.5,5.5,6.60818,8.5,22.0,30.5,20.0,16.5,3.5,16.0,18.0,26.5,21.65873,12.59274,18.0,7.49777,3.5,22.10714,16.0,16.0,18.0,33.0,2.5,22.5,11.5,2.5,2.5,3.5],\"marker\":{\"color\":[1569,1473,1470,1457,1448,1443,1411,1407,1403,1394,1391,1390,1381,1364,1341,1310,1309,1300,1287,1282,1263,1243,1223,1206,1204,1198,1195,1193,1139,1128,1124,1096,1076,1061,1060,1044,1005,974,970,967,953,937,936,929,839,792,786,769,745,683,675,646,637,625,618,611,607,576,566,561,494,494,492,473,457,450,406,379,378,376,369,360,356,343,326,316,311,310,302,300,289,285,277,277,275,261,253,249,214,210,206,198,187,187,177,169,167,160,155,147,146,145,141,136,135,133,132,131,125,116,116,114,112,109,106,106,104,103],\"coloraxis\":\"coloraxis\",\"size\":[14.0,13.448979591836736,13.431760204081632,13.357142857142858,13.30548469387755,13.276785714285714,13.09311224489796,13.07015306122449,13.04719387755102,12.995535714285714,12.978316326530614,12.972576530612244,12.920918367346939,12.823341836734693,12.691326530612244,12.513392857142858,12.50765306122449,12.455994897959183,12.381377551020408,12.352678571428571,12.243622448979592,12.128826530612244,12.014030612244898,11.916454081632654,11.904974489795919,11.870535714285714,11.853316326530614,11.841836734693878,11.53188775510204,11.46875,11.44579081632653,11.285076530612244,11.170280612244898,11.084183673469386,11.07844387755102,10.986607142857142,10.762755102040817,10.584821428571429,10.56186224489796,10.544642857142858,10.464285714285714,10.372448979591837,10.36670918367347,10.326530612244898,9.809948979591837,9.540178571428571,9.505739795918366,9.408163265306122,9.270408163265307,8.91454081632653,8.868622448979592,8.702168367346939,8.650510204081632,8.581632653061224,8.541454081632654,8.501275510204081,8.478316326530612,8.300382653061224,8.24298469387755,8.214285714285715,7.829719387755102,7.829719387755102,7.818239795918368,7.709183673469388,7.61734693877551,7.577168367346939,7.324617346938775,7.169642857142858,7.16390306122449,7.152423469387755,7.112244897959184,7.060586734693878,7.0376275510204085,6.963010204081632,6.865433673469388,6.808035714285714,6.779336734693878,6.77359693877551,6.727678571428571,6.716198979591836,6.653061224489796,6.630102040816327,6.584183673469388,6.584183673469388,6.572704081632653,6.49234693877551,6.446428571428571,6.423469387755102,6.222576530612245,6.199617346938775,6.176658163265306,6.130739795918368,6.067602040816327,6.067602040816327,6.0102040816326525,5.964285714285714,5.95280612244898,5.9126275510204085,5.883928571428571,5.838010204081633,5.832270408163265,5.826530612244898,5.803571428571429,5.7748724489795915,5.769132653061225,5.75765306122449,5.751913265306122,5.746173469387755,5.711734693877551,5.660076530612245,5.660076530612245,5.64859693877551,5.637117346938775,5.619897959183674,5.602678571428571,5.602678571428571,5.591198979591836,5.5854591836734695],\"sizemin\":2},\"mode\":\"markers\",\"type\":\"scattermapbox\"}],                        {\"template\":{\"data\":{\"histogram2dcontour\":[{\"type\":\"histogram2dcontour\",\"colorbar\":{\"outlinewidth\":0,\"ticks\":\"\"},\"colorscale\":[[0.0,\"#0d0887\"],[0.1111111111111111,\"#46039f\"],[0.2222222222222222,\"#7201a8\"],[0.3333333333333333,\"#9c179e\"],[0.4444444444444444,\"#bd3786\"],[0.5555555555555556,\"#d8576b\"],[0.6666666666666666,\"#ed7953\"],[0.7777777777777778,\"#fb9f3a\"],[0.8888888888888888,\"#fdca26\"],[1.0,\"#f0f921\"]]}],\"choropleth\":[{\"type\":\"choropleth\",\"colorbar\":{\"outlinewidth\":0,\"ticks\":\"\"}}],\"histogram2d\":[{\"type\":\"histogram2d\",\"colorbar\":{\"outlinewidth\":0,\"ticks\":\"\"},\"colorscale\":[[0.0,\"#0d0887\"],[0.1111111111111111,\"#46039f\"],[0.2222222222222222,\"#7201a8\"],[0.3333333333333333,\"#9c179e\"],[0.4444444444444444,\"#bd3786\"],[0.5555555555555556,\"#d8576b\"],[0.6666666666666666,\"#ed7953\"],[0.7777777777777778,\"#fb9f3a\"],[0.8888888888888888,\"#fdca26\"],[1.0,\"#f0f921\"]]}],\"heatmap\":[{\"type\":\"heatmap\",\"colorbar\":{\"outlinewidth\":0,\"ticks\":\"\"},\"colorscale\":[[0.0,\"#0d0887\"],[0.1111111111111111,\"#46039f\"],[0.2222222222222222,\"#7201a8\"],[0.3333333333333333,\"#9c179e\"],[0.4444444444444444,\"#bd3786\"],[0.5555555555555556,\"#d8576b\"],[0.6666666666666666,\"#ed7953\"],[0.7777777777777778,\"#fb9f3a\"],[0.8888888888888888,\"#fdca26\"],[1.0,\"#f0f921\"]]}],\"heatmapgl\":[{\"type\":\"heatmapgl\",\"colorbar\":{\"outlinewidth\":0,\"ticks\":\"\"},\"colorscale\":[[0.0,\"#0d0887\"],[0.1111111111111111,\"#46039f\"],[0.2222222222222222,\"#7201a8\"],[0.3333333333333333,\"#9c179e\"],[0.4444444444444444,\"#bd3786\"],[0.5555555555555556,\"#d8576b\"],[0.6666666666666666,\"#ed7953\"],[0.7777777777777778,\"#fb9f3a\"],[0.8888888888888888,\"#fdca26\"],[1.0,\"#f0f921\"]]}],\"contourcarpet\":[{\"type\":\"contourcarpet\",\"colorbar\":{\"outlinewidth\":0,\"ticks\":\"\"}}],\"contour\":[{\"type\":\"contour\",\"colorbar\":{\"outlinewidth\":0,\"ticks\":\"\"},\"colorscale\":[[0.0,\"#0d0887\"],[0.1111111111111111,\"#46039f\"],[0.2222222222222222,\"#7201a8\"],[0.3333333333333333,\"#9c179e\"],[0.4444444444444444,\"#bd3786\"],[0.5555555555555556,\"#d8576b\"],[0.6666666666666666,\"#ed7953\"],[0.7777777777777778,\"#fb9f3a\"],[0.8888888888888888,\"#fdca26\"],[1.0,\"#f0f921\"]]}],\"surface\":[{\"type\":\"surface\",\"colorbar\":{\"outlinewidth\":0,\"ticks\":\"\"},\"colorscale\":[[0.0,\"#0d0887\"],[0.1111111111111111,\"#46039f\"],[0.2222222222222222,\"#7201a8\"],[0.3333333333333333,\"#9c179e\"],[0.4444444444444444,\"#bd3786\"],[0.5555555555555556,\"#d8576b\"],[0.6666666666666666,\"#ed7953\"],[0.7777777777777778,\"#fb9f3a\"],[0.8888888888888888,\"#fdca26\"],[1.0,\"#f0f921\"]]}],\"mesh3d\":[{\"type\":\"mesh3d\",\"colorbar\":{\"outlinewidth\":0,\"ticks\":\"\"}}],\"scatter\":[{\"marker\":{\"line\":{\"color\":\"#283442\"}},\"type\":\"scatter\"}],\"parcoords\":[{\"type\":\"parcoords\",\"line\":{\"colorbar\":{\"outlinewidth\":0,\"ticks\":\"\"}}}],\"scatterpolargl\":[{\"type\":\"scatterpolargl\",\"marker\":{\"colorbar\":{\"outlinewidth\":0,\"ticks\":\"\"}}}],\"bar\":[{\"error_x\":{\"color\":\"#f2f5fa\"},\"error_y\":{\"color\":\"#f2f5fa\"},\"marker\":{\"line\":{\"color\":\"rgb(17,17,17)\",\"width\":0.5},\"pattern\":{\"fillmode\":\"overlay\",\"size\":10,\"solidity\":0.2}},\"type\":\"bar\"}],\"scattergeo\":[{\"type\":\"scattergeo\",\"marker\":{\"colorbar\":{\"outlinewidth\":0,\"ticks\":\"\"}}}],\"scatterpolar\":[{\"type\":\"scatterpolar\",\"marker\":{\"colorbar\":{\"outlinewidth\":0,\"ticks\":\"\"}}}],\"histogram\":[{\"marker\":{\"pattern\":{\"fillmode\":\"overlay\",\"size\":10,\"solidity\":0.2}},\"type\":\"histogram\"}],\"scattergl\":[{\"marker\":{\"line\":{\"color\":\"#283442\"}},\"type\":\"scattergl\"}],\"scatter3d\":[{\"type\":\"scatter3d\",\"line\":{\"colorbar\":{\"outlinewidth\":0,\"ticks\":\"\"}},\"marker\":{\"colorbar\":{\"outlinewidth\":0,\"ticks\":\"\"}}}],\"scattermapbox\":[{\"type\":\"scattermapbox\",\"marker\":{\"colorbar\":{\"outlinewidth\":0,\"ticks\":\"\"}}}],\"scatterternary\":[{\"type\":\"scatterternary\",\"marker\":{\"colorbar\":{\"outlinewidth\":0,\"ticks\":\"\"}}}],\"scattercarpet\":[{\"type\":\"scattercarpet\",\"marker\":{\"colorbar\":{\"outlinewidth\":0,\"ticks\":\"\"}}}],\"carpet\":[{\"aaxis\":{\"endlinecolor\":\"#A2B1C6\",\"gridcolor\":\"#506784\",\"linecolor\":\"#506784\",\"minorgridcolor\":\"#506784\",\"startlinecolor\":\"#A2B1C6\"},\"baxis\":{\"endlinecolor\":\"#A2B1C6\",\"gridcolor\":\"#506784\",\"linecolor\":\"#506784\",\"minorgridcolor\":\"#506784\",\"startlinecolor\":\"#A2B1C6\"},\"type\":\"carpet\"}],\"table\":[{\"cells\":{\"fill\":{\"color\":\"#506784\"},\"line\":{\"color\":\"rgb(17,17,17)\"}},\"header\":{\"fill\":{\"color\":\"#2a3f5f\"},\"line\":{\"color\":\"rgb(17,17,17)\"}},\"type\":\"table\"}],\"barpolar\":[{\"marker\":{\"line\":{\"color\":\"rgb(17,17,17)\",\"width\":0.5},\"pattern\":{\"fillmode\":\"overlay\",\"size\":10,\"solidity\":0.2}},\"type\":\"barpolar\"}],\"pie\":[{\"automargin\":true,\"type\":\"pie\"}]},\"layout\":{\"autotypenumbers\":\"strict\",\"colorway\":[\"#636efa\",\"#EF553B\",\"#00cc96\",\"#ab63fa\",\"#FFA15A\",\"#19d3f3\",\"#FF6692\",\"#B6E880\",\"#FF97FF\",\"#FECB52\"],\"font\":{\"color\":\"#f2f5fa\"},\"hovermode\":\"closest\",\"hoverlabel\":{\"align\":\"left\"},\"paper_bgcolor\":\"rgb(17,17,17)\",\"plot_bgcolor\":\"rgb(17,17,17)\",\"polar\":{\"bgcolor\":\"rgb(17,17,17)\",\"angularaxis\":{\"gridcolor\":\"#506784\",\"linecolor\":\"#506784\",\"ticks\":\"\"},\"radialaxis\":{\"gridcolor\":\"#506784\",\"linecolor\":\"#506784\",\"ticks\":\"\"}},\"ternary\":{\"bgcolor\":\"rgb(17,17,17)\",\"aaxis\":{\"gridcolor\":\"#506784\",\"linecolor\":\"#506784\",\"ticks\":\"\"},\"baxis\":{\"gridcolor\":\"#506784\",\"linecolor\":\"#506784\",\"ticks\":\"\"},\"caxis\":{\"gridcolor\":\"#506784\",\"linecolor\":\"#506784\",\"ticks\":\"\"}},\"coloraxis\":{\"colorbar\":{\"outlinewidth\":0,\"ticks\":\"\"}},\"colorscale\":{\"sequential\":[[0.0,\"#0d0887\"],[0.1111111111111111,\"#46039f\"],[0.2222222222222222,\"#7201a8\"],[0.3333333333333333,\"#9c179e\"],[0.4444444444444444,\"#bd3786\"],[0.5555555555555556,\"#d8576b\"],[0.6666666666666666,\"#ed7953\"],[0.7777777777777778,\"#fb9f3a\"],[0.8888888888888888,\"#fdca26\"],[1.0,\"#f0f921\"]],\"sequentialminus\":[[0.0,\"#0d0887\"],[0.1111111111111111,\"#46039f\"],[0.2222222222222222,\"#7201a8\"],[0.3333333333333333,\"#9c179e\"],[0.4444444444444444,\"#bd3786\"],[0.5555555555555556,\"#d8576b\"],[0.6666666666666666,\"#ed7953\"],[0.7777777777777778,\"#fb9f3a\"],[0.8888888888888888,\"#fdca26\"],[1.0,\"#f0f921\"]],\"diverging\":[[0,\"#8e0152\"],[0.1,\"#c51b7d\"],[0.2,\"#de77ae\"],[0.3,\"#f1b6da\"],[0.4,\"#fde0ef\"],[0.5,\"#f7f7f7\"],[0.6,\"#e6f5d0\"],[0.7,\"#b8e186\"],[0.8,\"#7fbc41\"],[0.9,\"#4d9221\"],[1,\"#276419\"]]},\"xaxis\":{\"gridcolor\":\"#283442\",\"linecolor\":\"#506784\",\"ticks\":\"\",\"title\":{\"standoff\":15},\"zerolinecolor\":\"#283442\",\"automargin\":true,\"zerolinewidth\":2},\"yaxis\":{\"gridcolor\":\"#283442\",\"linecolor\":\"#506784\",\"ticks\":\"\",\"title\":{\"standoff\":15},\"zerolinecolor\":\"#283442\",\"automargin\":true,\"zerolinewidth\":2},\"scene\":{\"xaxis\":{\"backgroundcolor\":\"rgb(17,17,17)\",\"gridcolor\":\"#506784\",\"linecolor\":\"#506784\",\"showbackground\":true,\"ticks\":\"\",\"zerolinecolor\":\"#C8D4E3\",\"gridwidth\":2},\"yaxis\":{\"backgroundcolor\":\"rgb(17,17,17)\",\"gridcolor\":\"#506784\",\"linecolor\":\"#506784\",\"showbackground\":true,\"ticks\":\"\",\"zerolinecolor\":\"#C8D4E3\",\"gridwidth\":2},\"zaxis\":{\"backgroundcolor\":\"rgb(17,17,17)\",\"gridcolor\":\"#506784\",\"linecolor\":\"#506784\",\"showbackground\":true,\"ticks\":\"\",\"zerolinecolor\":\"#C8D4E3\",\"gridwidth\":2}},\"shapedefaults\":{\"line\":{\"color\":\"#f2f5fa\"}},\"annotationdefaults\":{\"arrowcolor\":\"#f2f5fa\",\"arrowhead\":0,\"arrowwidth\":1},\"geo\":{\"bgcolor\":\"rgb(17,17,17)\",\"landcolor\":\"rgb(17,17,17)\",\"subunitcolor\":\"#506784\",\"showland\":true,\"showlakes\":true,\"lakecolor\":\"rgb(17,17,17)\"},\"title\":{\"x\":0.05},\"updatemenudefaults\":{\"bgcolor\":\"#506784\",\"borderwidth\":0},\"sliderdefaults\":{\"bgcolor\":\"#C8D4E3\",\"borderwidth\":1,\"bordercolor\":\"rgb(17,17,17)\",\"tickwidth\":0},\"mapbox\":{\"style\":\"dark\"}}},\"mapbox\":{\"center\":{\"lat\":70,\"lon\":7},\"style\":\"open-street-map\",\"zoom\":2.5},\"height\":1000,\"hovermode\":\"closest\",\"showlegend\":false},                        {\"responsive\": true}                    ).then(function(){\n                            \nvar gd = document.getElementById('216ad75b-3ea9-4a6a-bec3-4a55ed44dc67');\nvar x = new MutationObserver(function (mutations, observer) {{\n        var display = window.getComputedStyle(gd).display;\n        if (!display || display === 'none') {{\n            console.log([gd, 'removed!']);\n            Plotly.purge(gd);\n            observer.disconnect();\n        }}\n}});\n\n// Listen for the removal of the full notebook cells\nvar notebookContainer = gd.closest('#notebook-container');\nif (notebookContainer) {{\n    x.observe(notebookContainer, {childList: true});\n}}\n\n// Listen for the clearing of the current output cell\nvar outputEl = gd.closest('.output');\nif (outputEl) {{\n    x.observe(outputEl, {childList: true});\n}}\n\n                        })                };                });            </script>        </div>"
     },
     "metadata": {},
     "output_type": "display_data"
    }
   ],
   "source": [
    "fig = go.Figure(go.Scattermapbox(lat=high_freq_coords['Lat (lokasjon)'], lon=high_freq_coords['Lon (lokasjon)'], mode='markers', \n",
    "                                 hovertext=high_freq_coords['size'], marker=go.scattermapbox.Marker(size=high_freq_coords['marker_size'], color=high_freq_coords['size'], coloraxis='coloraxis')))\n",
    "                                 #marker=dict(size=5, color='red', opacity=0.5)))\n",
    "\n",
    "fig.update_mapboxes(style='open-street-map', center=dict(lat=70, lon=7), zoom=2.5)\n",
    "fig.update_layout(\n",
    "    height=1000,\n",
    "    hovermode='closest', showlegend=False)\n",
    "fig.update_traces(marker_sizemin=2)\n",
    "fig.show()"
   ],
   "metadata": {
    "collapsed": false,
    "ExecuteTime": {
     "end_time": "2024-06-15T22:57:02.305550050Z",
     "start_time": "2024-06-15T22:57:02.294964861Z"
    }
   },
   "id": "5ff1afbd21ab22fc",
   "execution_count": 244
  },
  {
   "cell_type": "code",
   "outputs": [],
   "source": [
    "# The matrices we will be using will have a resolution of 1 pixel per 0.25 degrees, to match the salinity and SST data. We preferably want the matrices to be square, for simplicity. Seeing as simply selecting the coordinates with higher than 50 frequency already shaves off a lot of coordinates and focuses the area, we can probably do with relatively small matrices spanning Norway. We must decide on a bounding box for the matrices. Lets check the pixel distance between the coordinates with frequency higher than 50."
   ],
   "metadata": {
    "collapsed": false,
    "ExecuteTime": {
     "end_time": "2024-06-15T22:57:03.433659716Z",
     "start_time": "2024-06-15T22:57:03.421645335Z"
    }
   },
   "id": "594a349997678b98",
   "execution_count": 245
  },
  {
   "cell_type": "code",
   "outputs": [],
   "source": [
    "def bounding_box(frequency: int = 50):\n",
    "    high_freq_coords = oceanCoords[oceanCoords['size'] >= frequency]\n",
    "    lat_min = high_freq_coords['Lat (lokasjon)'].min()\n",
    "    lat_max = high_freq_coords['Lat (lokasjon)'].max()\n",
    "    lon_min = high_freq_coords['Lon (lokasjon)'].min()\n",
    "    lon_max = high_freq_coords['Lon (lokasjon)'].max()\n",
    "    \n",
    "    # Round the coordinates to the nearest 0.25 degrees\n",
    "    lat_min = np.floor(lat_min * 4) / 4\n",
    "    lat_max = np.ceil(lat_max * 4) / 4\n",
    "    lon_min = np.floor(lon_min * 4) / 4\n",
    "    lon_max = np.ceil(lon_max * 4) / 4\n",
    "    \n",
    "    # Get distance in pixels\n",
    "    d_lat = (lat_max - lat_min) * 4\n",
    "    d_lon = (lon_max - lon_min) * 4\n",
    "    \n",
    "    return d_lat, d_lon"
   ],
   "metadata": {
    "collapsed": false,
    "ExecuteTime": {
     "end_time": "2024-06-15T22:57:04.384439065Z",
     "start_time": "2024-06-15T22:57:04.371559764Z"
    }
   },
   "id": "b0de7188b555a1c7",
   "execution_count": 246
  },
  {
   "cell_type": "code",
   "outputs": [
    {
     "data": {
      "text/plain": "(74.0, 122.0)"
     },
     "execution_count": 247,
     "metadata": {},
     "output_type": "execute_result"
    }
   ],
   "source": [
    "bounding_box(100)"
   ],
   "metadata": {
    "collapsed": false,
    "ExecuteTime": {
     "end_time": "2024-06-15T22:57:05.304612850Z",
     "start_time": "2024-06-15T22:57:05.291862301Z"
    }
   },
   "id": "e4c5d68ab3975077",
   "execution_count": 247
  },
  {
   "cell_type": "code",
   "outputs": [],
   "source": [
    "# Okay with a frequency of >= 1100, our boundary box is close to 128x128 pixels, while keeping 91% of the data. Lets go with this size"
   ],
   "metadata": {
    "collapsed": false,
    "ExecuteTime": {
     "end_time": "2024-06-15T22:57:06.066305286Z",
     "start_time": "2024-06-15T22:57:06.052341968Z"
    }
   },
   "id": "3329f5e9e363e5ce",
   "execution_count": 248
  },
  {
   "cell_type": "code",
   "outputs": [
    {
     "data": {
      "text/plain": "(66.37444500000001, 17.75)"
     },
     "execution_count": 249,
     "metadata": {},
     "output_type": "execute_result"
    }
   ],
   "source": [
    "# Lets get the center of the bounding box\n",
    "\n",
    "lat_center = (high_freq_coords['Lat (lokasjon)'].max() + high_freq_coords['Lat (lokasjon)'].min()) / 2\n",
    "lon_center = (high_freq_coords['Lon (lokasjon)'].max() + high_freq_coords['Lon (lokasjon)'].min()) / 2\n",
    "lat_center, lon_center"
   ],
   "metadata": {
    "collapsed": false,
    "ExecuteTime": {
     "end_time": "2024-06-15T22:57:06.521912133Z",
     "start_time": "2024-06-15T22:57:06.509224292Z"
    }
   },
   "id": "91114511c3eb20ec",
   "execution_count": 249
  },
  {
   "cell_type": "code",
   "outputs": [
    {
     "name": "stdout",
     "output_type": "stream",
     "text": [
      "66.37444500000001\n"
     ]
    },
    {
     "data": {
      "text/plain": "17.75"
     },
     "execution_count": 250,
     "metadata": {},
     "output_type": "execute_result"
    }
   ],
   "source": [
    "print(np.median([high_freq_coords['Lat (lokasjon)'].max(), high_freq_coords['Lat (lokasjon)'].min()]))\n",
    "np.median([high_freq_coords['Lon (lokasjon)'].max(), high_freq_coords['Lon (lokasjon)'].min()])"
   ],
   "metadata": {
    "collapsed": false,
    "ExecuteTime": {
     "end_time": "2024-06-15T22:57:07.027651953Z",
     "start_time": "2024-06-15T22:57:07.014419633Z"
    }
   },
   "id": "bc118f4794783573",
   "execution_count": 250
  },
  {
   "cell_type": "code",
   "outputs": [
    {
     "data": {
      "text/plain": "(50.37444500000001, 82.12444500000001, 1.75, 33.5)"
     },
     "execution_count": 251,
     "metadata": {},
     "output_type": "execute_result"
    }
   ],
   "source": [
    "# Now we can create the bounding box using the center and the size in pixels of 128x128\n",
    "\n",
    "lat_min = lat_center - 64 / 4\n",
    "lat_max = lat_center + 64 / 4 - 0.25\n",
    "lon_min = lon_center - 64 / 4\n",
    "lon_max = lon_center + 64 / 4 - 0.25\n",
    "lat_min, lat_max, lon_min, lon_max"
   ],
   "metadata": {
    "collapsed": false,
    "ExecuteTime": {
     "end_time": "2024-06-15T22:57:07.505559593Z",
     "start_time": "2024-06-15T22:57:07.483597414Z"
    }
   },
   "id": "22268efe96e1fca6",
   "execution_count": 251
  },
  {
   "cell_type": "code",
   "outputs": [
    {
     "data": {
      "application/vnd.plotly.v1+json": {
       "data": [
        {
         "lat": [
          50.37444500000001,
          50.37444500000001,
          82.12444500000001,
          82.12444500000001
         ],
         "lon": [
          1.75,
          33.5,
          1.75,
          33.5
         ],
         "marker": {
          "color": "red",
          "opacity": 0.5,
          "size": 5
         },
         "mode": "markers",
         "type": "scattermapbox"
        }
       ],
       "layout": {
        "template": {
         "data": {
          "histogram2dcontour": [
           {
            "type": "histogram2dcontour",
            "colorbar": {
             "outlinewidth": 0,
             "ticks": ""
            },
            "colorscale": [
             [
              0.0,
              "#0d0887"
             ],
             [
              0.1111111111111111,
              "#46039f"
             ],
             [
              0.2222222222222222,
              "#7201a8"
             ],
             [
              0.3333333333333333,
              "#9c179e"
             ],
             [
              0.4444444444444444,
              "#bd3786"
             ],
             [
              0.5555555555555556,
              "#d8576b"
             ],
             [
              0.6666666666666666,
              "#ed7953"
             ],
             [
              0.7777777777777778,
              "#fb9f3a"
             ],
             [
              0.8888888888888888,
              "#fdca26"
             ],
             [
              1.0,
              "#f0f921"
             ]
            ]
           }
          ],
          "choropleth": [
           {
            "type": "choropleth",
            "colorbar": {
             "outlinewidth": 0,
             "ticks": ""
            }
           }
          ],
          "histogram2d": [
           {
            "type": "histogram2d",
            "colorbar": {
             "outlinewidth": 0,
             "ticks": ""
            },
            "colorscale": [
             [
              0.0,
              "#0d0887"
             ],
             [
              0.1111111111111111,
              "#46039f"
             ],
             [
              0.2222222222222222,
              "#7201a8"
             ],
             [
              0.3333333333333333,
              "#9c179e"
             ],
             [
              0.4444444444444444,
              "#bd3786"
             ],
             [
              0.5555555555555556,
              "#d8576b"
             ],
             [
              0.6666666666666666,
              "#ed7953"
             ],
             [
              0.7777777777777778,
              "#fb9f3a"
             ],
             [
              0.8888888888888888,
              "#fdca26"
             ],
             [
              1.0,
              "#f0f921"
             ]
            ]
           }
          ],
          "heatmap": [
           {
            "type": "heatmap",
            "colorbar": {
             "outlinewidth": 0,
             "ticks": ""
            },
            "colorscale": [
             [
              0.0,
              "#0d0887"
             ],
             [
              0.1111111111111111,
              "#46039f"
             ],
             [
              0.2222222222222222,
              "#7201a8"
             ],
             [
              0.3333333333333333,
              "#9c179e"
             ],
             [
              0.4444444444444444,
              "#bd3786"
             ],
             [
              0.5555555555555556,
              "#d8576b"
             ],
             [
              0.6666666666666666,
              "#ed7953"
             ],
             [
              0.7777777777777778,
              "#fb9f3a"
             ],
             [
              0.8888888888888888,
              "#fdca26"
             ],
             [
              1.0,
              "#f0f921"
             ]
            ]
           }
          ],
          "heatmapgl": [
           {
            "type": "heatmapgl",
            "colorbar": {
             "outlinewidth": 0,
             "ticks": ""
            },
            "colorscale": [
             [
              0.0,
              "#0d0887"
             ],
             [
              0.1111111111111111,
              "#46039f"
             ],
             [
              0.2222222222222222,
              "#7201a8"
             ],
             [
              0.3333333333333333,
              "#9c179e"
             ],
             [
              0.4444444444444444,
              "#bd3786"
             ],
             [
              0.5555555555555556,
              "#d8576b"
             ],
             [
              0.6666666666666666,
              "#ed7953"
             ],
             [
              0.7777777777777778,
              "#fb9f3a"
             ],
             [
              0.8888888888888888,
              "#fdca26"
             ],
             [
              1.0,
              "#f0f921"
             ]
            ]
           }
          ],
          "contourcarpet": [
           {
            "type": "contourcarpet",
            "colorbar": {
             "outlinewidth": 0,
             "ticks": ""
            }
           }
          ],
          "contour": [
           {
            "type": "contour",
            "colorbar": {
             "outlinewidth": 0,
             "ticks": ""
            },
            "colorscale": [
             [
              0.0,
              "#0d0887"
             ],
             [
              0.1111111111111111,
              "#46039f"
             ],
             [
              0.2222222222222222,
              "#7201a8"
             ],
             [
              0.3333333333333333,
              "#9c179e"
             ],
             [
              0.4444444444444444,
              "#bd3786"
             ],
             [
              0.5555555555555556,
              "#d8576b"
             ],
             [
              0.6666666666666666,
              "#ed7953"
             ],
             [
              0.7777777777777778,
              "#fb9f3a"
             ],
             [
              0.8888888888888888,
              "#fdca26"
             ],
             [
              1.0,
              "#f0f921"
             ]
            ]
           }
          ],
          "surface": [
           {
            "type": "surface",
            "colorbar": {
             "outlinewidth": 0,
             "ticks": ""
            },
            "colorscale": [
             [
              0.0,
              "#0d0887"
             ],
             [
              0.1111111111111111,
              "#46039f"
             ],
             [
              0.2222222222222222,
              "#7201a8"
             ],
             [
              0.3333333333333333,
              "#9c179e"
             ],
             [
              0.4444444444444444,
              "#bd3786"
             ],
             [
              0.5555555555555556,
              "#d8576b"
             ],
             [
              0.6666666666666666,
              "#ed7953"
             ],
             [
              0.7777777777777778,
              "#fb9f3a"
             ],
             [
              0.8888888888888888,
              "#fdca26"
             ],
             [
              1.0,
              "#f0f921"
             ]
            ]
           }
          ],
          "mesh3d": [
           {
            "type": "mesh3d",
            "colorbar": {
             "outlinewidth": 0,
             "ticks": ""
            }
           }
          ],
          "scatter": [
           {
            "marker": {
             "line": {
              "color": "#283442"
             }
            },
            "type": "scatter"
           }
          ],
          "parcoords": [
           {
            "type": "parcoords",
            "line": {
             "colorbar": {
              "outlinewidth": 0,
              "ticks": ""
             }
            }
           }
          ],
          "scatterpolargl": [
           {
            "type": "scatterpolargl",
            "marker": {
             "colorbar": {
              "outlinewidth": 0,
              "ticks": ""
             }
            }
           }
          ],
          "bar": [
           {
            "error_x": {
             "color": "#f2f5fa"
            },
            "error_y": {
             "color": "#f2f5fa"
            },
            "marker": {
             "line": {
              "color": "rgb(17,17,17)",
              "width": 0.5
             },
             "pattern": {
              "fillmode": "overlay",
              "size": 10,
              "solidity": 0.2
             }
            },
            "type": "bar"
           }
          ],
          "scattergeo": [
           {
            "type": "scattergeo",
            "marker": {
             "colorbar": {
              "outlinewidth": 0,
              "ticks": ""
             }
            }
           }
          ],
          "scatterpolar": [
           {
            "type": "scatterpolar",
            "marker": {
             "colorbar": {
              "outlinewidth": 0,
              "ticks": ""
             }
            }
           }
          ],
          "histogram": [
           {
            "marker": {
             "pattern": {
              "fillmode": "overlay",
              "size": 10,
              "solidity": 0.2
             }
            },
            "type": "histogram"
           }
          ],
          "scattergl": [
           {
            "marker": {
             "line": {
              "color": "#283442"
             }
            },
            "type": "scattergl"
           }
          ],
          "scatter3d": [
           {
            "type": "scatter3d",
            "line": {
             "colorbar": {
              "outlinewidth": 0,
              "ticks": ""
             }
            },
            "marker": {
             "colorbar": {
              "outlinewidth": 0,
              "ticks": ""
             }
            }
           }
          ],
          "scattermapbox": [
           {
            "type": "scattermapbox",
            "marker": {
             "colorbar": {
              "outlinewidth": 0,
              "ticks": ""
             }
            }
           }
          ],
          "scatterternary": [
           {
            "type": "scatterternary",
            "marker": {
             "colorbar": {
              "outlinewidth": 0,
              "ticks": ""
             }
            }
           }
          ],
          "scattercarpet": [
           {
            "type": "scattercarpet",
            "marker": {
             "colorbar": {
              "outlinewidth": 0,
              "ticks": ""
             }
            }
           }
          ],
          "carpet": [
           {
            "aaxis": {
             "endlinecolor": "#A2B1C6",
             "gridcolor": "#506784",
             "linecolor": "#506784",
             "minorgridcolor": "#506784",
             "startlinecolor": "#A2B1C6"
            },
            "baxis": {
             "endlinecolor": "#A2B1C6",
             "gridcolor": "#506784",
             "linecolor": "#506784",
             "minorgridcolor": "#506784",
             "startlinecolor": "#A2B1C6"
            },
            "type": "carpet"
           }
          ],
          "table": [
           {
            "cells": {
             "fill": {
              "color": "#506784"
             },
             "line": {
              "color": "rgb(17,17,17)"
             }
            },
            "header": {
             "fill": {
              "color": "#2a3f5f"
             },
             "line": {
              "color": "rgb(17,17,17)"
             }
            },
            "type": "table"
           }
          ],
          "barpolar": [
           {
            "marker": {
             "line": {
              "color": "rgb(17,17,17)",
              "width": 0.5
             },
             "pattern": {
              "fillmode": "overlay",
              "size": 10,
              "solidity": 0.2
             }
            },
            "type": "barpolar"
           }
          ],
          "pie": [
           {
            "automargin": true,
            "type": "pie"
           }
          ]
         },
         "layout": {
          "autotypenumbers": "strict",
          "colorway": [
           "#636efa",
           "#EF553B",
           "#00cc96",
           "#ab63fa",
           "#FFA15A",
           "#19d3f3",
           "#FF6692",
           "#B6E880",
           "#FF97FF",
           "#FECB52"
          ],
          "font": {
           "color": "#f2f5fa"
          },
          "hovermode": "closest",
          "hoverlabel": {
           "align": "left"
          },
          "paper_bgcolor": "rgb(17,17,17)",
          "plot_bgcolor": "rgb(17,17,17)",
          "polar": {
           "bgcolor": "rgb(17,17,17)",
           "angularaxis": {
            "gridcolor": "#506784",
            "linecolor": "#506784",
            "ticks": ""
           },
           "radialaxis": {
            "gridcolor": "#506784",
            "linecolor": "#506784",
            "ticks": ""
           }
          },
          "ternary": {
           "bgcolor": "rgb(17,17,17)",
           "aaxis": {
            "gridcolor": "#506784",
            "linecolor": "#506784",
            "ticks": ""
           },
           "baxis": {
            "gridcolor": "#506784",
            "linecolor": "#506784",
            "ticks": ""
           },
           "caxis": {
            "gridcolor": "#506784",
            "linecolor": "#506784",
            "ticks": ""
           }
          },
          "coloraxis": {
           "colorbar": {
            "outlinewidth": 0,
            "ticks": ""
           }
          },
          "colorscale": {
           "sequential": [
            [
             0.0,
             "#0d0887"
            ],
            [
             0.1111111111111111,
             "#46039f"
            ],
            [
             0.2222222222222222,
             "#7201a8"
            ],
            [
             0.3333333333333333,
             "#9c179e"
            ],
            [
             0.4444444444444444,
             "#bd3786"
            ],
            [
             0.5555555555555556,
             "#d8576b"
            ],
            [
             0.6666666666666666,
             "#ed7953"
            ],
            [
             0.7777777777777778,
             "#fb9f3a"
            ],
            [
             0.8888888888888888,
             "#fdca26"
            ],
            [
             1.0,
             "#f0f921"
            ]
           ],
           "sequentialminus": [
            [
             0.0,
             "#0d0887"
            ],
            [
             0.1111111111111111,
             "#46039f"
            ],
            [
             0.2222222222222222,
             "#7201a8"
            ],
            [
             0.3333333333333333,
             "#9c179e"
            ],
            [
             0.4444444444444444,
             "#bd3786"
            ],
            [
             0.5555555555555556,
             "#d8576b"
            ],
            [
             0.6666666666666666,
             "#ed7953"
            ],
            [
             0.7777777777777778,
             "#fb9f3a"
            ],
            [
             0.8888888888888888,
             "#fdca26"
            ],
            [
             1.0,
             "#f0f921"
            ]
           ],
           "diverging": [
            [
             0,
             "#8e0152"
            ],
            [
             0.1,
             "#c51b7d"
            ],
            [
             0.2,
             "#de77ae"
            ],
            [
             0.3,
             "#f1b6da"
            ],
            [
             0.4,
             "#fde0ef"
            ],
            [
             0.5,
             "#f7f7f7"
            ],
            [
             0.6,
             "#e6f5d0"
            ],
            [
             0.7,
             "#b8e186"
            ],
            [
             0.8,
             "#7fbc41"
            ],
            [
             0.9,
             "#4d9221"
            ],
            [
             1,
             "#276419"
            ]
           ]
          },
          "xaxis": {
           "gridcolor": "#283442",
           "linecolor": "#506784",
           "ticks": "",
           "title": {
            "standoff": 15
           },
           "zerolinecolor": "#283442",
           "automargin": true,
           "zerolinewidth": 2
          },
          "yaxis": {
           "gridcolor": "#283442",
           "linecolor": "#506784",
           "ticks": "",
           "title": {
            "standoff": 15
           },
           "zerolinecolor": "#283442",
           "automargin": true,
           "zerolinewidth": 2
          },
          "scene": {
           "xaxis": {
            "backgroundcolor": "rgb(17,17,17)",
            "gridcolor": "#506784",
            "linecolor": "#506784",
            "showbackground": true,
            "ticks": "",
            "zerolinecolor": "#C8D4E3",
            "gridwidth": 2
           },
           "yaxis": {
            "backgroundcolor": "rgb(17,17,17)",
            "gridcolor": "#506784",
            "linecolor": "#506784",
            "showbackground": true,
            "ticks": "",
            "zerolinecolor": "#C8D4E3",
            "gridwidth": 2
           },
           "zaxis": {
            "backgroundcolor": "rgb(17,17,17)",
            "gridcolor": "#506784",
            "linecolor": "#506784",
            "showbackground": true,
            "ticks": "",
            "zerolinecolor": "#C8D4E3",
            "gridwidth": 2
           }
          },
          "shapedefaults": {
           "line": {
            "color": "#f2f5fa"
           }
          },
          "annotationdefaults": {
           "arrowcolor": "#f2f5fa",
           "arrowhead": 0,
           "arrowwidth": 1
          },
          "geo": {
           "bgcolor": "rgb(17,17,17)",
           "landcolor": "rgb(17,17,17)",
           "subunitcolor": "#506784",
           "showland": true,
           "showlakes": true,
           "lakecolor": "rgb(17,17,17)"
          },
          "title": {
           "x": 0.05
          },
          "updatemenudefaults": {
           "bgcolor": "#506784",
           "borderwidth": 0
          },
          "sliderdefaults": {
           "bgcolor": "#C8D4E3",
           "borderwidth": 1,
           "bordercolor": "rgb(17,17,17)",
           "tickwidth": 0
          },
          "mapbox": {
           "style": "dark"
          }
         }
        },
        "mapbox": {
         "center": {
          "lat": 66.37444500000001,
          "lon": 17.75
         },
         "style": "open-street-map",
         "zoom": 6
        },
        "height": 1000,
        "hovermode": "closest",
        "showlegend": false
       },
       "config": {
        "plotlyServerURL": "https://plot.ly"
       }
      },
      "text/html": "<div>                            <div id=\"8f9b5b75-a9fe-4a68-b4b5-bff89a746668\" class=\"plotly-graph-div\" style=\"height:1000px; width:100%;\"></div>            <script type=\"text/javascript\">                require([\"plotly\"], function(Plotly) {                    window.PLOTLYENV=window.PLOTLYENV || {};                                    if (document.getElementById(\"8f9b5b75-a9fe-4a68-b4b5-bff89a746668\")) {                    Plotly.newPlot(                        \"8f9b5b75-a9fe-4a68-b4b5-bff89a746668\",                        [{\"lat\":[50.37444500000001,50.37444500000001,82.12444500000001,82.12444500000001],\"lon\":[1.75,33.5,1.75,33.5],\"marker\":{\"color\":\"red\",\"opacity\":0.5,\"size\":5},\"mode\":\"markers\",\"type\":\"scattermapbox\"}],                        {\"template\":{\"data\":{\"histogram2dcontour\":[{\"type\":\"histogram2dcontour\",\"colorbar\":{\"outlinewidth\":0,\"ticks\":\"\"},\"colorscale\":[[0.0,\"#0d0887\"],[0.1111111111111111,\"#46039f\"],[0.2222222222222222,\"#7201a8\"],[0.3333333333333333,\"#9c179e\"],[0.4444444444444444,\"#bd3786\"],[0.5555555555555556,\"#d8576b\"],[0.6666666666666666,\"#ed7953\"],[0.7777777777777778,\"#fb9f3a\"],[0.8888888888888888,\"#fdca26\"],[1.0,\"#f0f921\"]]}],\"choropleth\":[{\"type\":\"choropleth\",\"colorbar\":{\"outlinewidth\":0,\"ticks\":\"\"}}],\"histogram2d\":[{\"type\":\"histogram2d\",\"colorbar\":{\"outlinewidth\":0,\"ticks\":\"\"},\"colorscale\":[[0.0,\"#0d0887\"],[0.1111111111111111,\"#46039f\"],[0.2222222222222222,\"#7201a8\"],[0.3333333333333333,\"#9c179e\"],[0.4444444444444444,\"#bd3786\"],[0.5555555555555556,\"#d8576b\"],[0.6666666666666666,\"#ed7953\"],[0.7777777777777778,\"#fb9f3a\"],[0.8888888888888888,\"#fdca26\"],[1.0,\"#f0f921\"]]}],\"heatmap\":[{\"type\":\"heatmap\",\"colorbar\":{\"outlinewidth\":0,\"ticks\":\"\"},\"colorscale\":[[0.0,\"#0d0887\"],[0.1111111111111111,\"#46039f\"],[0.2222222222222222,\"#7201a8\"],[0.3333333333333333,\"#9c179e\"],[0.4444444444444444,\"#bd3786\"],[0.5555555555555556,\"#d8576b\"],[0.6666666666666666,\"#ed7953\"],[0.7777777777777778,\"#fb9f3a\"],[0.8888888888888888,\"#fdca26\"],[1.0,\"#f0f921\"]]}],\"heatmapgl\":[{\"type\":\"heatmapgl\",\"colorbar\":{\"outlinewidth\":0,\"ticks\":\"\"},\"colorscale\":[[0.0,\"#0d0887\"],[0.1111111111111111,\"#46039f\"],[0.2222222222222222,\"#7201a8\"],[0.3333333333333333,\"#9c179e\"],[0.4444444444444444,\"#bd3786\"],[0.5555555555555556,\"#d8576b\"],[0.6666666666666666,\"#ed7953\"],[0.7777777777777778,\"#fb9f3a\"],[0.8888888888888888,\"#fdca26\"],[1.0,\"#f0f921\"]]}],\"contourcarpet\":[{\"type\":\"contourcarpet\",\"colorbar\":{\"outlinewidth\":0,\"ticks\":\"\"}}],\"contour\":[{\"type\":\"contour\",\"colorbar\":{\"outlinewidth\":0,\"ticks\":\"\"},\"colorscale\":[[0.0,\"#0d0887\"],[0.1111111111111111,\"#46039f\"],[0.2222222222222222,\"#7201a8\"],[0.3333333333333333,\"#9c179e\"],[0.4444444444444444,\"#bd3786\"],[0.5555555555555556,\"#d8576b\"],[0.6666666666666666,\"#ed7953\"],[0.7777777777777778,\"#fb9f3a\"],[0.8888888888888888,\"#fdca26\"],[1.0,\"#f0f921\"]]}],\"surface\":[{\"type\":\"surface\",\"colorbar\":{\"outlinewidth\":0,\"ticks\":\"\"},\"colorscale\":[[0.0,\"#0d0887\"],[0.1111111111111111,\"#46039f\"],[0.2222222222222222,\"#7201a8\"],[0.3333333333333333,\"#9c179e\"],[0.4444444444444444,\"#bd3786\"],[0.5555555555555556,\"#d8576b\"],[0.6666666666666666,\"#ed7953\"],[0.7777777777777778,\"#fb9f3a\"],[0.8888888888888888,\"#fdca26\"],[1.0,\"#f0f921\"]]}],\"mesh3d\":[{\"type\":\"mesh3d\",\"colorbar\":{\"outlinewidth\":0,\"ticks\":\"\"}}],\"scatter\":[{\"marker\":{\"line\":{\"color\":\"#283442\"}},\"type\":\"scatter\"}],\"parcoords\":[{\"type\":\"parcoords\",\"line\":{\"colorbar\":{\"outlinewidth\":0,\"ticks\":\"\"}}}],\"scatterpolargl\":[{\"type\":\"scatterpolargl\",\"marker\":{\"colorbar\":{\"outlinewidth\":0,\"ticks\":\"\"}}}],\"bar\":[{\"error_x\":{\"color\":\"#f2f5fa\"},\"error_y\":{\"color\":\"#f2f5fa\"},\"marker\":{\"line\":{\"color\":\"rgb(17,17,17)\",\"width\":0.5},\"pattern\":{\"fillmode\":\"overlay\",\"size\":10,\"solidity\":0.2}},\"type\":\"bar\"}],\"scattergeo\":[{\"type\":\"scattergeo\",\"marker\":{\"colorbar\":{\"outlinewidth\":0,\"ticks\":\"\"}}}],\"scatterpolar\":[{\"type\":\"scatterpolar\",\"marker\":{\"colorbar\":{\"outlinewidth\":0,\"ticks\":\"\"}}}],\"histogram\":[{\"marker\":{\"pattern\":{\"fillmode\":\"overlay\",\"size\":10,\"solidity\":0.2}},\"type\":\"histogram\"}],\"scattergl\":[{\"marker\":{\"line\":{\"color\":\"#283442\"}},\"type\":\"scattergl\"}],\"scatter3d\":[{\"type\":\"scatter3d\",\"line\":{\"colorbar\":{\"outlinewidth\":0,\"ticks\":\"\"}},\"marker\":{\"colorbar\":{\"outlinewidth\":0,\"ticks\":\"\"}}}],\"scattermapbox\":[{\"type\":\"scattermapbox\",\"marker\":{\"colorbar\":{\"outlinewidth\":0,\"ticks\":\"\"}}}],\"scatterternary\":[{\"type\":\"scatterternary\",\"marker\":{\"colorbar\":{\"outlinewidth\":0,\"ticks\":\"\"}}}],\"scattercarpet\":[{\"type\":\"scattercarpet\",\"marker\":{\"colorbar\":{\"outlinewidth\":0,\"ticks\":\"\"}}}],\"carpet\":[{\"aaxis\":{\"endlinecolor\":\"#A2B1C6\",\"gridcolor\":\"#506784\",\"linecolor\":\"#506784\",\"minorgridcolor\":\"#506784\",\"startlinecolor\":\"#A2B1C6\"},\"baxis\":{\"endlinecolor\":\"#A2B1C6\",\"gridcolor\":\"#506784\",\"linecolor\":\"#506784\",\"minorgridcolor\":\"#506784\",\"startlinecolor\":\"#A2B1C6\"},\"type\":\"carpet\"}],\"table\":[{\"cells\":{\"fill\":{\"color\":\"#506784\"},\"line\":{\"color\":\"rgb(17,17,17)\"}},\"header\":{\"fill\":{\"color\":\"#2a3f5f\"},\"line\":{\"color\":\"rgb(17,17,17)\"}},\"type\":\"table\"}],\"barpolar\":[{\"marker\":{\"line\":{\"color\":\"rgb(17,17,17)\",\"width\":0.5},\"pattern\":{\"fillmode\":\"overlay\",\"size\":10,\"solidity\":0.2}},\"type\":\"barpolar\"}],\"pie\":[{\"automargin\":true,\"type\":\"pie\"}]},\"layout\":{\"autotypenumbers\":\"strict\",\"colorway\":[\"#636efa\",\"#EF553B\",\"#00cc96\",\"#ab63fa\",\"#FFA15A\",\"#19d3f3\",\"#FF6692\",\"#B6E880\",\"#FF97FF\",\"#FECB52\"],\"font\":{\"color\":\"#f2f5fa\"},\"hovermode\":\"closest\",\"hoverlabel\":{\"align\":\"left\"},\"paper_bgcolor\":\"rgb(17,17,17)\",\"plot_bgcolor\":\"rgb(17,17,17)\",\"polar\":{\"bgcolor\":\"rgb(17,17,17)\",\"angularaxis\":{\"gridcolor\":\"#506784\",\"linecolor\":\"#506784\",\"ticks\":\"\"},\"radialaxis\":{\"gridcolor\":\"#506784\",\"linecolor\":\"#506784\",\"ticks\":\"\"}},\"ternary\":{\"bgcolor\":\"rgb(17,17,17)\",\"aaxis\":{\"gridcolor\":\"#506784\",\"linecolor\":\"#506784\",\"ticks\":\"\"},\"baxis\":{\"gridcolor\":\"#506784\",\"linecolor\":\"#506784\",\"ticks\":\"\"},\"caxis\":{\"gridcolor\":\"#506784\",\"linecolor\":\"#506784\",\"ticks\":\"\"}},\"coloraxis\":{\"colorbar\":{\"outlinewidth\":0,\"ticks\":\"\"}},\"colorscale\":{\"sequential\":[[0.0,\"#0d0887\"],[0.1111111111111111,\"#46039f\"],[0.2222222222222222,\"#7201a8\"],[0.3333333333333333,\"#9c179e\"],[0.4444444444444444,\"#bd3786\"],[0.5555555555555556,\"#d8576b\"],[0.6666666666666666,\"#ed7953\"],[0.7777777777777778,\"#fb9f3a\"],[0.8888888888888888,\"#fdca26\"],[1.0,\"#f0f921\"]],\"sequentialminus\":[[0.0,\"#0d0887\"],[0.1111111111111111,\"#46039f\"],[0.2222222222222222,\"#7201a8\"],[0.3333333333333333,\"#9c179e\"],[0.4444444444444444,\"#bd3786\"],[0.5555555555555556,\"#d8576b\"],[0.6666666666666666,\"#ed7953\"],[0.7777777777777778,\"#fb9f3a\"],[0.8888888888888888,\"#fdca26\"],[1.0,\"#f0f921\"]],\"diverging\":[[0,\"#8e0152\"],[0.1,\"#c51b7d\"],[0.2,\"#de77ae\"],[0.3,\"#f1b6da\"],[0.4,\"#fde0ef\"],[0.5,\"#f7f7f7\"],[0.6,\"#e6f5d0\"],[0.7,\"#b8e186\"],[0.8,\"#7fbc41\"],[0.9,\"#4d9221\"],[1,\"#276419\"]]},\"xaxis\":{\"gridcolor\":\"#283442\",\"linecolor\":\"#506784\",\"ticks\":\"\",\"title\":{\"standoff\":15},\"zerolinecolor\":\"#283442\",\"automargin\":true,\"zerolinewidth\":2},\"yaxis\":{\"gridcolor\":\"#283442\",\"linecolor\":\"#506784\",\"ticks\":\"\",\"title\":{\"standoff\":15},\"zerolinecolor\":\"#283442\",\"automargin\":true,\"zerolinewidth\":2},\"scene\":{\"xaxis\":{\"backgroundcolor\":\"rgb(17,17,17)\",\"gridcolor\":\"#506784\",\"linecolor\":\"#506784\",\"showbackground\":true,\"ticks\":\"\",\"zerolinecolor\":\"#C8D4E3\",\"gridwidth\":2},\"yaxis\":{\"backgroundcolor\":\"rgb(17,17,17)\",\"gridcolor\":\"#506784\",\"linecolor\":\"#506784\",\"showbackground\":true,\"ticks\":\"\",\"zerolinecolor\":\"#C8D4E3\",\"gridwidth\":2},\"zaxis\":{\"backgroundcolor\":\"rgb(17,17,17)\",\"gridcolor\":\"#506784\",\"linecolor\":\"#506784\",\"showbackground\":true,\"ticks\":\"\",\"zerolinecolor\":\"#C8D4E3\",\"gridwidth\":2}},\"shapedefaults\":{\"line\":{\"color\":\"#f2f5fa\"}},\"annotationdefaults\":{\"arrowcolor\":\"#f2f5fa\",\"arrowhead\":0,\"arrowwidth\":1},\"geo\":{\"bgcolor\":\"rgb(17,17,17)\",\"landcolor\":\"rgb(17,17,17)\",\"subunitcolor\":\"#506784\",\"showland\":true,\"showlakes\":true,\"lakecolor\":\"rgb(17,17,17)\"},\"title\":{\"x\":0.05},\"updatemenudefaults\":{\"bgcolor\":\"#506784\",\"borderwidth\":0},\"sliderdefaults\":{\"bgcolor\":\"#C8D4E3\",\"borderwidth\":1,\"bordercolor\":\"rgb(17,17,17)\",\"tickwidth\":0},\"mapbox\":{\"style\":\"dark\"}}},\"mapbox\":{\"center\":{\"lat\":66.37444500000001,\"lon\":17.75},\"style\":\"open-street-map\",\"zoom\":6},\"height\":1000,\"hovermode\":\"closest\",\"showlegend\":false},                        {\"responsive\": true}                    ).then(function(){\n                            \nvar gd = document.getElementById('8f9b5b75-a9fe-4a68-b4b5-bff89a746668');\nvar x = new MutationObserver(function (mutations, observer) {{\n        var display = window.getComputedStyle(gd).display;\n        if (!display || display === 'none') {{\n            console.log([gd, 'removed!']);\n            Plotly.purge(gd);\n            observer.disconnect();\n        }}\n}});\n\n// Listen for the removal of the full notebook cells\nvar notebookContainer = gd.closest('#notebook-container');\nif (notebookContainer) {{\n    x.observe(notebookContainer, {childList: true});\n}}\n\n// Listen for the clearing of the current output cell\nvar outputEl = gd.closest('.output');\nif (outputEl) {{\n    x.observe(outputEl, {childList: true});\n}}\n\n                        })                };                });            </script>        </div>"
     },
     "metadata": {},
     "output_type": "display_data"
    }
   ],
   "source": [
    "# Lets print the bounding box on the map\n",
    "fig = go.Figure(go.Scattermapbox(lat=[lat_min, lat_min, lat_max, lat_max], lon=[lon_min, lon_max, lon_min, lon_max],\n",
    "                                                      mode='markers', marker=dict(size=5, color='red', opacity=0.5)))\n",
    "\n",
    "fig.update_mapboxes(style='open-street-map', center=dict(lat=lat_center, lon=lon_center), zoom=6)\n",
    "fig.update_layout(\n",
    "    height=1000,\n",
    "    hovermode='closest', showlegend=False)\n",
    "fig.show()"
   ],
   "metadata": {
    "collapsed": false,
    "ExecuteTime": {
     "end_time": "2024-06-15T22:57:08.271620857Z",
     "start_time": "2024-06-15T22:57:08.246428936Z"
    }
   },
   "id": "7802178eb93aff18",
   "execution_count": 252
  },
  {
   "cell_type": "code",
   "outputs": [
    {
     "name": "stdout",
     "output_type": "stream",
     "text": [
      "127.0\n",
      "127.0\n"
     ]
    }
   ],
   "source": [
    "# Now we need to select the coordinates within the bounding box. First we must round the coordinates to the nearest 0.25 degrees such that they fit the 128x128 resolution of the matrices\n",
    "\n",
    "# We will round the coordinates down to the nearest 0.25 degrees, which results in 128 steps in each direction\n",
    "print((np.floor(lat_max * 4) / 4 - np.floor(lat_min * 4) / 4) / 0.25)\n",
    "print((np.floor(lon_max * 4) / 4 - np.floor(lon_min * 4) / 4) / 0.25)"
   ],
   "metadata": {
    "collapsed": false,
    "ExecuteTime": {
     "end_time": "2024-06-15T22:57:09.133974420Z",
     "start_time": "2024-06-15T22:57:09.119882727Z"
    }
   },
   "id": "ebb3419dc5bd5246",
   "execution_count": 253
  },
  {
   "cell_type": "code",
   "outputs": [],
   "source": [
    "# So our boundaries are\n",
    "\n",
    "lat_min = np.floor(lat_min * 4) / 4\n",
    "lat_max = np.floor(lat_max * 4) / 4\n",
    "lon_min = np.floor(lon_min * 4) / 4\n",
    "lon_max = np.floor(lon_max * 4) / 4"
   ],
   "metadata": {
    "collapsed": false,
    "ExecuteTime": {
     "end_time": "2024-06-15T22:57:09.736631185Z",
     "start_time": "2024-06-15T22:57:09.719294874Z"
    }
   },
   "id": "35c27a3da8e7a793",
   "execution_count": 254
  },
  {
   "cell_type": "code",
   "outputs": [
    {
     "data": {
      "text/plain": "(50.25, 82.0, 1.75, 33.5)"
     },
     "execution_count": 255,
     "metadata": {},
     "output_type": "execute_result"
    }
   ],
   "source": [
    "lat_min, lat_max, lon_min, lon_max"
   ],
   "metadata": {
    "collapsed": false,
    "ExecuteTime": {
     "end_time": "2024-06-15T22:57:10.256577524Z",
     "start_time": "2024-06-15T22:57:10.245107452Z"
    }
   },
   "id": "e34fe74022817fa0",
   "execution_count": 255
  },
  {
   "cell_type": "code",
   "outputs": [],
   "source": [
    "# Now we select the coordinates within the bounding box\n",
    "\n",
    "selected_coords = oceanCoords[(oceanCoords['Lat (lokasjon)'] >= lat_min) & (oceanCoords['Lat (lokasjon)'] <= lat_max) & (oceanCoords['Lon (lokasjon)'] >= lon_min) & (oceanCoords['Lon (lokasjon)'] <= lon_max)]"
   ],
   "metadata": {
    "collapsed": false,
    "ExecuteTime": {
     "end_time": "2024-06-15T22:57:10.984053672Z",
     "start_time": "2024-06-15T22:57:10.979752437Z"
    }
   },
   "id": "7923da4107db8c8f",
   "execution_count": 256
  },
  {
   "cell_type": "code",
   "outputs": [
    {
     "data": {
      "text/plain": "     Lat (lokasjon)  Lon (lokasjon)  size  Ocean  marker_size\n0          69.25000        14.50000  1569    1.0    14.000000\n1          70.73675        21.54827  1473    1.0    13.448980\n2          58.25000         5.50000  1470    1.0    13.431760\n3          69.74206        17.49100  1457    1.0    13.357143\n4          66.25000        11.50000  1448    1.0    13.305485\n..              ...             ...   ...    ...          ...\n648        77.02027         9.94820     1    1.0     5.000000\n649        77.25000         4.00000     1    1.0     5.000000\n661        53.75000         3.50000     1    1.0     5.000000\n664        56.25000         7.50000     1    1.0     5.000000\n670        78.25000        14.00000     1    1.0     5.000000\n\n[392 rows x 5 columns]",
      "text/html": "<div>\n<style scoped>\n    .dataframe tbody tr th:only-of-type {\n        vertical-align: middle;\n    }\n\n    .dataframe tbody tr th {\n        vertical-align: top;\n    }\n\n    .dataframe thead th {\n        text-align: right;\n    }\n</style>\n<table border=\"1\" class=\"dataframe\">\n  <thead>\n    <tr style=\"text-align: right;\">\n      <th></th>\n      <th>Lat (lokasjon)</th>\n      <th>Lon (lokasjon)</th>\n      <th>size</th>\n      <th>Ocean</th>\n      <th>marker_size</th>\n    </tr>\n  </thead>\n  <tbody>\n    <tr>\n      <th>0</th>\n      <td>69.25000</td>\n      <td>14.50000</td>\n      <td>1569</td>\n      <td>1.0</td>\n      <td>14.000000</td>\n    </tr>\n    <tr>\n      <th>1</th>\n      <td>70.73675</td>\n      <td>21.54827</td>\n      <td>1473</td>\n      <td>1.0</td>\n      <td>13.448980</td>\n    </tr>\n    <tr>\n      <th>2</th>\n      <td>58.25000</td>\n      <td>5.50000</td>\n      <td>1470</td>\n      <td>1.0</td>\n      <td>13.431760</td>\n    </tr>\n    <tr>\n      <th>3</th>\n      <td>69.74206</td>\n      <td>17.49100</td>\n      <td>1457</td>\n      <td>1.0</td>\n      <td>13.357143</td>\n    </tr>\n    <tr>\n      <th>4</th>\n      <td>66.25000</td>\n      <td>11.50000</td>\n      <td>1448</td>\n      <td>1.0</td>\n      <td>13.305485</td>\n    </tr>\n    <tr>\n      <th>...</th>\n      <td>...</td>\n      <td>...</td>\n      <td>...</td>\n      <td>...</td>\n      <td>...</td>\n    </tr>\n    <tr>\n      <th>648</th>\n      <td>77.02027</td>\n      <td>9.94820</td>\n      <td>1</td>\n      <td>1.0</td>\n      <td>5.000000</td>\n    </tr>\n    <tr>\n      <th>649</th>\n      <td>77.25000</td>\n      <td>4.00000</td>\n      <td>1</td>\n      <td>1.0</td>\n      <td>5.000000</td>\n    </tr>\n    <tr>\n      <th>661</th>\n      <td>53.75000</td>\n      <td>3.50000</td>\n      <td>1</td>\n      <td>1.0</td>\n      <td>5.000000</td>\n    </tr>\n    <tr>\n      <th>664</th>\n      <td>56.25000</td>\n      <td>7.50000</td>\n      <td>1</td>\n      <td>1.0</td>\n      <td>5.000000</td>\n    </tr>\n    <tr>\n      <th>670</th>\n      <td>78.25000</td>\n      <td>14.00000</td>\n      <td>1</td>\n      <td>1.0</td>\n      <td>5.000000</td>\n    </tr>\n  </tbody>\n</table>\n<p>392 rows × 5 columns</p>\n</div>"
     },
     "execution_count": 257,
     "metadata": {},
     "output_type": "execute_result"
    }
   ],
   "source": [
    "selected_coords"
   ],
   "metadata": {
    "collapsed": false,
    "ExecuteTime": {
     "end_time": "2024-06-15T22:57:11.716593457Z",
     "start_time": "2024-06-15T22:57:11.702431926Z"
    }
   },
   "id": "ad0d78341cb3944d",
   "execution_count": 257
  },
  {
   "cell_type": "code",
   "outputs": [],
   "source": [
    "# Let's save the bounding box coordinates\n",
    "df = pd.DataFrame(data={'Lat (lokasjon)': [lat_min, lat_max, lat_max, lat_min], 'Lon (lokasjon)': [lon_min, lon_min, lon_max, lon_max]})\n",
    "df.to_csv(path + '/train/' + 'bounding_box_coords.csv', index=False)"
   ],
   "metadata": {
    "collapsed": false,
    "ExecuteTime": {
     "end_time": "2024-06-15T22:57:13.937510708Z",
     "start_time": "2024-06-15T22:57:13.913790405Z"
    }
   },
   "id": "1d93b3c28fb6155c",
   "execution_count": 258
  },
  {
   "cell_type": "code",
   "outputs": [
    {
     "name": "stderr",
     "output_type": "stream",
     "text": [
      "100%|██████████| 6/6 [00:00<00:00, 30.60it/s]\n"
     ]
    }
   ],
   "source": [
    "# Now we can select the coordinates within the bounding box for each year\n",
    "for i in tqdm(range(2015,2021)):\n",
    "    data = pd.read_csv(path + '/train/dataframes/' + 'fangstdata_' + str(i) + '_cod.csv', usecols=['Lat (lokasjon)', 'Lon (lokasjon)', 'Produktvekt', 'Siste fangstdato'])\n",
    "    data = data[(data['Lat (lokasjon)'] >= lat_min) & (data['Lat (lokasjon)'] <= lat_max) & (data['Lon (lokasjon)'] >= lon_min) & (data['Lon (lokasjon)'] <= lon_max)]\n",
    "    data.to_csv(path + '/train/dataframes_inside_box/' + 'fangstdata_' + str(i) + '_cod.csv', index=False)"
   ],
   "metadata": {
    "collapsed": false,
    "ExecuteTime": {
     "end_time": "2024-06-15T22:57:16.156780557Z",
     "start_time": "2024-06-15T22:57:15.956386393Z"
    }
   },
   "id": "31ce7e5e6921a12",
   "execution_count": 259
  },
  {
   "cell_type": "code",
   "outputs": [
    {
     "name": "stderr",
     "output_type": "stream",
     "text": [
      "100%|██████████| 6/6 [00:00<00:00,  7.62it/s]\n"
     ]
    }
   ],
   "source": [
    "# Now we combine the data into one file\n",
    "data = pd.DataFrame()\n",
    "for i in tqdm(range(2015, 2021)):\n",
    "    data = pd.concat([data, pd.read_csv(path + '/train/dataframes_inside_box/' + 'fangstdata_' + str(i) + '_cod.csv')])\n",
    "    data['Siste fangstdato'] = pd.to_datetime(data['Siste fangstdato'], format='%Y-%m-%d')\n",
    "    data.sort_values(by='Siste fangstdato', inplace=True)\n",
    "data.to_csv(path + '/train/' + 'fangstdata_all_years_cod.csv', index=False)"
   ],
   "metadata": {
    "collapsed": false,
    "ExecuteTime": {
     "end_time": "2024-06-15T22:57:20.761619172Z",
     "start_time": "2024-06-15T22:57:19.797605571Z"
    }
   },
   "id": "298e25abd4268c2a",
   "execution_count": 260
  },
  {
   "cell_type": "code",
   "outputs": [
    {
     "name": "stderr",
     "output_type": "stream",
     "text": [
      "100%|██████████| 110320/110320 [00:09<00:00, 12141.13it/s]\n"
     ]
    }
   ],
   "source": [
    "# Now we create a matrix containing matrix coordinate maps with the product weight as values\n",
    "# NOTE: we do not consider the case where lon/lat is negative because our bounding box has all positive coordinates\n",
    "cod_training_data = torch.zeros((len(train_data), 128, 128))\n",
    "data = pd.read_csv(path + '/train/' + 'fangstdata_all_years_cod.csv')\n",
    "for index, row in tqdm(data.iterrows(), total=data.shape[0], position=0, leave=True):\n",
    "    lat = np.floor(row['Lat (lokasjon)'])\n",
    "    lon = np.floor(row['Lon (lokasjon)'])\n",
    "    lat_index = int((lat - lat_min) * 4)\n",
    "    lon_index = int((lon - lon_min) * 4)\n",
    "    cod_training_data[train_data.get_loc(row['Siste fangstdato']), lat_index, lon_index] = row['Produktvekt']"
   ],
   "metadata": {
    "collapsed": false,
    "ExecuteTime": {
     "end_time": "2024-06-15T22:57:56.165013457Z",
     "start_time": "2024-06-15T22:57:47.019030063Z"
    }
   },
   "id": "d820c439d24abe99",
   "execution_count": 261
  },
  {
   "cell_type": "code",
   "outputs": [],
   "source": [
    "pd.Series(train_data, name='Siste fangstdato').to_csv(path + '/train/' + 'train_data.csv', index=False)\n",
    "pd.Series(val_data, name='Siste fangstdato').to_csv(path + '/val/' + 'val_data.csv', index=False)\n",
    "pd.Series(test_data, name='Siste fangstdato').to_csv(path + '/test/' + 'test_data.csv', index=False)"
   ],
   "metadata": {
    "collapsed": false,
    "ExecuteTime": {
     "end_time": "2024-06-15T22:57:59.947591314Z",
     "start_time": "2024-06-15T22:57:59.902673483Z"
    }
   },
   "id": "b0fbcf6960d4bf9",
   "execution_count": 262
  },
  {
   "cell_type": "code",
   "outputs": [],
   "source": [
    "# Now we can save the training data\n",
    "torch.save(cod_training_data, path + '/train/' + 'cod_train_data.pt')"
   ],
   "metadata": {
    "collapsed": false,
    "ExecuteTime": {
     "end_time": "2024-06-15T22:58:01.019427874Z",
     "start_time": "2024-06-15T22:58:00.945630848Z"
    }
   },
   "id": "2152d4a8d9263b7e",
   "execution_count": 263
  },
  {
   "cell_type": "code",
   "outputs": [],
   "source": [
    "# Now we can do the same for the validation and test data. First we select the dates within the validation and test data and fill in the missing coordinates with the coordinates of the hovedområde found in the training data"
   ],
   "metadata": {
    "collapsed": false
   },
   "id": "1f6479e6a6458acd"
  },
  {
   "cell_type": "code",
   "outputs": [
    {
     "data": {
      "text/plain": "(Timestamp('2020-01-13 00:00:00'), Timestamp('2021-01-21 00:00:00'))"
     },
     "execution_count": 264,
     "metadata": {},
     "output_type": "execute_result"
    }
   ],
   "source": [
    "val_data.min(), val_data.max()"
   ],
   "metadata": {
    "collapsed": false,
    "ExecuteTime": {
     "end_time": "2024-06-15T22:58:01.764786476Z",
     "start_time": "2024-06-15T22:58:01.749585186Z"
    }
   },
   "id": "1a8bc276de126d16",
   "execution_count": 264
  },
  {
   "cell_type": "code",
   "outputs": [
    {
     "name": "stderr",
     "output_type": "stream",
     "text": [
      "100%|██████████| 2/2 [00:18<00:00,  9.03s/it]\n"
     ]
    }
   ],
   "source": [
    "for i in tqdm(range(2020, 2022)):\n",
    "    data = pd.read_csv(path + '/Catch Notes Datasets/' + 'fangstdata_' + str(i) + '.csv', delimiter=';', decimal=',', encoding='utf8', usecols=relevant_columns)\n",
    "    data = data[data['Art - gruppe'] == 'Torsk']\n",
    "    data['Siste fangstdato'] = pd.to_datetime(data['Siste fangstdato'], format='%d.%m.%Y')\n",
    "    data = data[data['Siste fangstdato'] >= val_data.min()]\n",
    "    data = data[data['Siste fangstdato'] <= val_data.max()]\n",
    "    for index, row in data.iterrows():\n",
    "        if pd.isnull(row['Lat (lokasjon)']) or pd.isnull(row['Lon (lokasjon)']):\n",
    "            hovedomrade = row['Hovedområde']\n",
    "            if hovedomrade not in unique_hovedomrade['Hovedområde'].values:\n",
    "                continue\n",
    "            lat = unique_hovedomrade[unique_hovedomrade['Hovedområde'] == hovedomrade]['Lat (hovedområde)'].values[0]\n",
    "            lon = unique_hovedomrade[unique_hovedomrade['Hovedområde'] == hovedomrade]['Lon (hovedområde)'].values[0]\n",
    "            data.at[index, 'Lat (lokasjon)'] = lat\n",
    "            data.at[index, 'Lon (lokasjon)'] = lon\n",
    "    data.dropna(inplace=True)\n",
    "    data = data[['Produktvekt', 'Siste fangstdato', 'Lon (lokasjon)', 'Lat (lokasjon)']]\n",
    "    data = data.groupby(['Siste fangstdato', 'Lon (lokasjon)', 'Lat (lokasjon)'], as_index=False).agg({'Produktvekt': 'sum'})\n",
    "    data.sort_values(by='Siste fangstdato', inplace=True)\n",
    "    data.to_csv(path + '/val/dataframes/' + 'fangstdata_' + str(i) + '_cod.csv', index=False)"
   ],
   "metadata": {
    "collapsed": false,
    "ExecuteTime": {
     "end_time": "2024-06-15T22:58:35.591876255Z",
     "start_time": "2024-06-15T22:58:17.524393983Z"
    }
   },
   "id": "37e9287a89798215",
   "execution_count": 265
  },
  {
   "cell_type": "code",
   "outputs": [
    {
     "name": "stderr",
     "output_type": "stream",
     "text": [
      "100%|██████████| 2/2 [00:00<00:00, 35.04it/s]\n"
     ]
    }
   ],
   "source": [
    "# Now we can select the coordinates within the bounding box for each year\n",
    "for i in tqdm(range(2020, 2022)):\n",
    "    data = pd.read_csv(path + '/val/dataframes/' + 'fangstdata_' + str(i) + '_cod.csv', usecols=['Lat (lokasjon)', 'Lon (lokasjon)', 'Produktvekt', 'Siste fangstdato'])\n",
    "    data = data[(data['Lat (lokasjon)'] >= lat_min) & (data['Lat (lokasjon)'] <= lat_max) & (data['Lon (lokasjon)'] >= lon_min) & (data['Lon (lokasjon)'] <= lon_max)]\n",
    "    data.to_csv(path + '/val/dataframes_inside_box/' + 'fangstdata_' + str(i) + '_cod.csv', index=False)"
   ],
   "metadata": {
    "collapsed": false,
    "ExecuteTime": {
     "end_time": "2024-06-15T22:58:41.149234813Z",
     "start_time": "2024-06-15T22:58:41.078566131Z"
    }
   },
   "id": "13b4c729d1230f99",
   "execution_count": 266
  },
  {
   "cell_type": "code",
   "outputs": [
    {
     "name": "stderr",
     "output_type": "stream",
     "text": [
      "100%|██████████| 2/2 [00:00<00:00, 64.28it/s]\n"
     ]
    }
   ],
   "source": [
    "# Now we combine the data into one file\n",
    "data = pd.DataFrame()\n",
    "for i in tqdm(range(2020, 2022)):\n",
    "    data = pd.concat([data, pd.read_csv(path + '/val/dataframes_inside_box/' + 'fangstdata_' + str(i) + '_cod.csv')])\n",
    "    data['Siste fangstdato'] = pd.to_datetime(data['Siste fangstdato'], format='%Y-%m-%d')\n",
    "    data.sort_values(by='Siste fangstdato', inplace=True)\n",
    "data.to_csv(path + '/val/' + 'fangstdata_all_years_cod.csv', index=False)"
   ],
   "metadata": {
    "collapsed": false,
    "ExecuteTime": {
     "end_time": "2024-06-15T22:58:44.076996387Z",
     "start_time": "2024-06-15T22:58:43.978694683Z"
    }
   },
   "id": "39cd597dbef564ef",
   "execution_count": 267
  },
  {
   "cell_type": "code",
   "outputs": [
    {
     "name": "stderr",
     "output_type": "stream",
     "text": [
      "100%|██████████| 23779/23779 [00:01<00:00, 12724.31it/s]\n"
     ]
    }
   ],
   "source": [
    "# Now we create a matrix containing matrix coordinate maps with the product weight as values\n",
    "cod_validation_data = torch.zeros((len(val_data), 128, 128))\n",
    "data = pd.read_csv(path + '/val/' + 'fangstdata_all_years_cod.csv')\n",
    "for index, row in tqdm(data.iterrows(), total=data.shape[0], position=0, leave=True):\n",
    "    lat = np.floor(row['Lat (lokasjon)'])\n",
    "    lon = np.floor(row['Lon (lokasjon)'])\n",
    "    lat_index = int((lat - lat_min) * 4)\n",
    "    lon_index = int((lon - lon_min) * 4)\n",
    "    cod_validation_data[val_data.get_loc(row['Siste fangstdato']), lat_index, lon_index] = row['Produktvekt']"
   ],
   "metadata": {
    "collapsed": false,
    "ExecuteTime": {
     "end_time": "2024-06-15T22:58:52.349531121Z",
     "start_time": "2024-06-15T22:58:50.467133386Z"
    }
   },
   "id": "c5a17d233d174424",
   "execution_count": 268
  },
  {
   "cell_type": "code",
   "outputs": [],
   "source": [
    "# Now we can save the validation data\n",
    "torch.save(cod_validation_data, path + '/val/' + 'cod_val_data.pt')"
   ],
   "metadata": {
    "collapsed": false,
    "ExecuteTime": {
     "end_time": "2024-06-15T22:58:54.727600185Z",
     "start_time": "2024-06-15T22:58:54.678236315Z"
    }
   },
   "id": "26f994c346a02b44",
   "execution_count": 269
  },
  {
   "cell_type": "code",
   "outputs": [],
   "source": [
    "# Now we do the same for the test data"
   ],
   "metadata": {
    "collapsed": false
   },
   "id": "a8ba73ec9de1f956"
  },
  {
   "cell_type": "code",
   "outputs": [
    {
     "data": {
      "text/plain": "(Timestamp('2021-01-22 00:00:00'), Timestamp('2022-01-31 00:00:00'))"
     },
     "execution_count": 270,
     "metadata": {},
     "output_type": "execute_result"
    }
   ],
   "source": [
    "test_data.min(), test_data.max()"
   ],
   "metadata": {
    "collapsed": false,
    "ExecuteTime": {
     "end_time": "2024-06-15T22:58:55.712089350Z",
     "start_time": "2024-06-15T22:58:55.695067861Z"
    }
   },
   "id": "8462fcf4ef2ba8df",
   "execution_count": 270
  },
  {
   "cell_type": "code",
   "outputs": [
    {
     "name": "stderr",
     "output_type": "stream",
     "text": [
      "100%|██████████| 2/2 [00:17<00:00,  8.80s/it]\n"
     ]
    }
   ],
   "source": [
    "for i in tqdm(range(2021, 2023)):\n",
    "    data = pd.read_csv(path + '/Catch Notes Datasets/' + 'fangstdata_' + str(i) + '.csv', delimiter=';', decimal=',', encoding='utf8', usecols=relevant_columns)\n",
    "    data = data[data['Art - gruppe'] == 'Torsk']\n",
    "    data['Siste fangstdato'] = pd.to_datetime(data['Siste fangstdato'], format='%d.%m.%Y')\n",
    "    data = data[data['Siste fangstdato'] >= test_data.min()]\n",
    "    data = data[data['Siste fangstdato'] <= test_data.max()]\n",
    "    for index, row in data.iterrows():\n",
    "        if pd.isnull(row['Lat (lokasjon)']) or pd.isnull(row['Lon (lokasjon)']):\n",
    "            hovedomrade = row['Hovedområde']\n",
    "            if hovedomrade not in unique_hovedomrade['Hovedområde'].values:\n",
    "                continue\n",
    "            lat = unique_hovedomrade[unique_hovedomrade['Hovedområde'] == hovedomrade]['Lat (hovedområde)'].values[0]\n",
    "            lon = unique_hovedomrade[unique_hovedomrade['Hovedområde'] == hovedomrade]['Lon (hovedområde)'].values[0]\n",
    "            data.at[index, 'Lat (lokasjon)'] = lat\n",
    "            data.at[index, 'Lon (lokasjon)'] = lon\n",
    "    data.dropna(inplace=True)\n",
    "    data = data[['Produktvekt', 'Siste fangstdato', 'Lon (lokasjon)', 'Lat (lokasjon)']]\n",
    "    data = data.groupby(['Siste fangstdato', 'Lon (lokasjon)', 'Lat (lokasjon)'], as_index=False).agg({'Produktvekt': 'sum'})\n",
    "    data.sort_values(by='Siste fangstdato', inplace=True)\n",
    "    data.to_csv(path + '/test/dataframes/' + 'fangstdata_' + str(i) + '_cod.csv', index=False)"
   ],
   "metadata": {
    "collapsed": false,
    "ExecuteTime": {
     "end_time": "2024-06-15T22:59:35.151672676Z",
     "start_time": "2024-06-15T22:59:17.553752852Z"
    }
   },
   "id": "180ff84942bef47e",
   "execution_count": 271
  },
  {
   "cell_type": "code",
   "outputs": [
    {
     "name": "stderr",
     "output_type": "stream",
     "text": [
      "100%|██████████| 2/2 [00:00<00:00, 28.78it/s]\n"
     ]
    }
   ],
   "source": [
    "# Now we can select the coordinates within the bounding box for each year\n",
    "for i in tqdm(range(2021, 2023)):\n",
    "    data = pd.read_csv(path + '/test/dataframes/' + 'fangstdata_' + str(i) + '_cod.csv', usecols=['Lat (lokasjon)', 'Lon (lokasjon)', 'Produktvekt', 'Siste fangstdato'])\n",
    "    data = data[(data['Lat (lokasjon)'] >= lat_min) & (data['Lat (lokasjon)'] <= lat_max) & (data['Lon (lokasjon)'] >= lon_min) & (data['Lon (lokasjon)'] <= lon_max)]\n",
    "    data.to_csv(path + '/test/dataframes_inside_box/' + 'fangstdata_' + str(i) + '_cod.csv', index=False)"
   ],
   "metadata": {
    "collapsed": false,
    "ExecuteTime": {
     "end_time": "2024-06-15T22:59:37.582048993Z",
     "start_time": "2024-06-15T22:59:37.485071699Z"
    }
   },
   "id": "93055aa00412ce43",
   "execution_count": 272
  },
  {
   "cell_type": "code",
   "outputs": [
    {
     "name": "stderr",
     "output_type": "stream",
     "text": [
      "100%|██████████| 2/2 [00:00<00:00, 52.11it/s]\n"
     ]
    }
   ],
   "source": [
    "# Now we combine the data into one file\n",
    "data = pd.DataFrame()\n",
    "for i in tqdm(range(2021, 2023)):\n",
    "    data = pd.concat([data, pd.read_csv(path + '/test/dataframes_inside_box/' + 'fangstdata_' + str(i) + '_cod.csv')])\n",
    "    data['Siste fangstdato'] = pd.to_datetime(data['Siste fangstdato'], format='%Y-%m-%d')\n",
    "    data.sort_values(by='Siste fangstdato', inplace=True)\n",
    "data.to_csv(path + '/test/' + 'fangstdata_all_years_cod.csv', index=False)"
   ],
   "metadata": {
    "collapsed": false,
    "ExecuteTime": {
     "end_time": "2024-06-15T22:59:52.296432456Z",
     "start_time": "2024-06-15T22:59:52.203391610Z"
    }
   },
   "id": "51f79c96bd94141c",
   "execution_count": 273
  },
  {
   "cell_type": "code",
   "outputs": [
    {
     "name": "stderr",
     "output_type": "stream",
     "text": [
      "100%|██████████| 24602/24602 [00:02<00:00, 12282.51it/s]\n"
     ]
    }
   ],
   "source": [
    "# Now we create a matrix containing matrix coordinate maps with the product weight as values\n",
    "cod_test_data = torch.zeros((len(test_data), 128, 128))\n",
    "data = pd.read_csv(path + '/test/' + 'fangstdata_all_years_cod.csv')\n",
    "for index, row in tqdm(data.iterrows(), total=data.shape[0], position=0, leave=True):\n",
    "    lat = np.floor(row['Lat (lokasjon)'])\n",
    "    lon = np.floor(row['Lon (lokasjon)'])\n",
    "    lat_index = int((lat - lat_min) * 4)\n",
    "    lon_index = int((lon - lon_min) * 4)\n",
    "    cod_validation_data[test_data.get_loc(row['Siste fangstdato']), lat_index, lon_index] = row['Produktvekt']"
   ],
   "metadata": {
    "collapsed": false,
    "ExecuteTime": {
     "end_time": "2024-06-15T22:59:58.022000237Z",
     "start_time": "2024-06-15T22:59:56.006189482Z"
    }
   },
   "id": "81e86a5b56e16c2d",
   "execution_count": 274
  },
  {
   "cell_type": "code",
   "outputs": [],
   "source": [
    "# Now we can save the test data\n",
    "torch.save(cod_test_data, path + '/test/' + 'cod_test_data.pt')"
   ],
   "metadata": {
    "collapsed": false,
    "ExecuteTime": {
     "end_time": "2024-06-15T23:00:12.035033699Z",
     "start_time": "2024-06-15T23:00:11.986577674Z"
    }
   },
   "id": "c871bdebcce1ee33",
   "execution_count": 276
  },
  {
   "cell_type": "code",
   "outputs": [],
   "source": [
    "# Now for the salinity and SST data, we need to select the coordinates within the bounding box\n",
    "# First we will do the SST data for the training dataset. We first need a boolean mask for the land and ocean coordinates, to be used for filling in missing values"
   ],
   "metadata": {
    "collapsed": false
   },
   "id": "d0beea48f7be09e4"
  },
  {
   "cell_type": "code",
   "outputs": [
    {
     "data": {
      "text/plain": "((128,), (128,))"
     },
     "execution_count": 277,
     "metadata": {},
     "output_type": "execute_result"
    }
   ],
   "source": [
    "lats = np.arange(lat_min, lat_max + 0.25, 0.25)\n",
    "lons = np.arange(lon_min, lon_max + 0.25, 0.25)\n",
    "lats.shape, lons.shape"
   ],
   "metadata": {
    "collapsed": false,
    "ExecuteTime": {
     "end_time": "2024-06-15T23:00:19.304809731Z",
     "start_time": "2024-06-15T23:00:19.283874316Z"
    }
   },
   "id": "7f3103703e4ce91f",
   "execution_count": 277
  },
  {
   "cell_type": "code",
   "outputs": [],
   "source": [
    "bm_low_res = Basemap()"
   ],
   "metadata": {
    "collapsed": false,
    "ExecuteTime": {
     "end_time": "2024-06-15T23:00:36.890027137Z",
     "start_time": "2024-06-15T23:00:36.750874538Z"
    }
   },
   "id": "b27089914dc2e505",
   "execution_count": 278
  },
  {
   "cell_type": "code",
   "outputs": [
    {
     "name": "stderr",
     "output_type": "stream",
     "text": [
      "100%|██████████| 128/128 [00:06<00:00, 18.75it/s]\n"
     ]
    },
    {
     "data": {
      "text/plain": "array([[nan, nan, nan, ..., nan, nan, nan],\n       [nan, nan, nan, ..., nan, nan, nan],\n       [nan, nan, nan, ..., nan, nan, nan],\n       ...,\n       [ 1.,  1.,  1., ...,  1.,  1.,  1.],\n       [ 1.,  1.,  1., ...,  1.,  1.,  1.],\n       [ 1.,  1.,  1., ...,  1.,  1.,  1.]])"
     },
     "execution_count": 279,
     "metadata": {},
     "output_type": "execute_result"
    }
   ],
   "source": [
    "mask = np.full((128, 128), np.nan)\n",
    "i = 0\n",
    "for lat in tqdm(lats, position=0, leave=True):\n",
    "    j = 0\n",
    "    for lon in lons:\n",
    "        x, y = bm_low_res(lon, lat)\n",
    "        if not bm_low_res.is_land(x, y):\n",
    "            mask[i, j] = 1\n",
    "        j += 1\n",
    "    i += 1\n",
    "mask"
   ],
   "metadata": {
    "collapsed": false,
    "ExecuteTime": {
     "end_time": "2024-06-15T23:00:52.747314476Z",
     "start_time": "2024-06-15T23:00:45.915125563Z"
    }
   },
   "id": "cb1974796794089f",
   "execution_count": 279
  },
  {
   "cell_type": "code",
   "outputs": [
    {
     "data": {
      "text/plain": "<matplotlib.image.AxesImage at 0x7d14256aeb00>"
     },
     "execution_count": 280,
     "metadata": {},
     "output_type": "execute_result"
    },
    {
     "data": {
      "text/plain": "<Figure size 640x480 with 1 Axes>",
      "image/png": "[encoded data removed]"
     },
     "metadata": {},
     "output_type": "display_data"
    }
   ],
   "source": [
    "plt.imshow(mask, origin='lower')"
   ],
   "metadata": {
    "collapsed": false,
    "ExecuteTime": {
     "end_time": "2024-06-15T23:01:36.167923391Z",
     "start_time": "2024-06-15T23:01:36.084245615Z"
    }
   },
   "id": "9177b8c87269406b",
   "execution_count": 280
  },
  {
   "cell_type": "code",
   "outputs": [
    {
     "data": {
      "text/plain": "array([[False, False, False, ..., False, False, False],\n       [False, False, False, ..., False, False, False],\n       [False, False, False, ..., False, False, False],\n       ...,\n       [ True,  True,  True, ...,  True,  True,  True],\n       [ True,  True,  True, ...,  True,  True,  True],\n       [ True,  True,  True, ...,  True,  True,  True]])"
     },
     "execution_count": 281,
     "metadata": {},
     "output_type": "execute_result"
    }
   ],
   "source": [
    "boolean_mask = ~np.isnan(mask)\n",
    "boolean_mask"
   ],
   "metadata": {
    "collapsed": false,
    "ExecuteTime": {
     "end_time": "2024-06-15T23:01:39.043180549Z",
     "start_time": "2024-06-15T23:01:39.028831941Z"
    }
   },
   "id": "a7c34950348ac8d2",
   "execution_count": 281
  },
  {
   "cell_type": "code",
   "outputs": [
    {
     "name": "stderr",
     "output_type": "stream",
     "text": [
      "100%|██████████| 6/6 [05:36<00:00, 56.06s/it]\n"
     ]
    }
   ],
   "source": [
    "sst_training_data = torch.zeros((len(train_data), 128, 128))\n",
    "for i in tqdm(range(2015, 2021)):\n",
    "    if os.path.isfile(path + '/sst_data-002/sst_data/sst.day.mean.' + str(i) + '.nc'):\n",
    "        data = xr.open_dataset(path + '/sst_data-002/sst_data/' + 'sst.day.mean.' + str(i) + '.nc')\n",
    "        data.coords['lon'] = (data.coords['lon'] + 180) % 360 - 180\n",
    "        data = data.sortby(data.lon)\n",
    "        data = data.sst.sel(lat=slice(lat_min, lat_max + 0.25), lon=slice(lon_min, lon_max + 0.25))\n",
    "        year_dates = train_data[(train_data >= pd.to_datetime(str(i) + '-01-01')) & (train_data <= pd.to_datetime(str(i) + '-12-31'))]\n",
    "        for date in year_dates:\n",
    "            date_data = data.sel(time=date)\n",
    "            nan_values = date_data.isnull().to_numpy()\n",
    "            missing_ocean_values = np.logical_and(nan_values, boolean_mask)\n",
    "            for lat_index, lon_index in zip(*np.where(missing_ocean_values)):\n",
    "                lat = lats[lat_index]\n",
    "                lon = lons[lon_index]\n",
    "                missing_values = date_data.sel(lat=slice(lat - 3, lat + 3), lon=slice(lon - 3, lon + 3)).values\n",
    "                missing_values = missing_values[~np.isnan(missing_values)]\n",
    "                if missing_values.size > 0:\n",
    "                    date_data[lat_index, lon_index] = missing_values.mean()\n",
    "            sst_training_data[train_data.get_loc(date)] = torch.tensor(date_data.to_numpy())"
   ],
   "metadata": {
    "collapsed": false,
    "ExecuteTime": {
     "end_time": "2024-06-15T23:14:21.784579636Z",
     "start_time": "2024-06-15T23:08:45.424493497Z"
    }
   },
   "id": "e69f57eb13216763",
   "execution_count": 288
  },
  {
   "cell_type": "code",
   "outputs": [],
   "source": [
    "# Now we can save the training data\n",
    "torch.save(sst_training_data, path + '/train/' + 'sst_train_data.pt')"
   ],
   "metadata": {
    "collapsed": false,
    "ExecuteTime": {
     "end_time": "2024-06-15T23:19:05.485504727Z",
     "start_time": "2024-06-15T23:19:05.395143542Z"
    }
   },
   "id": "7f3e088fc5bcef1c",
   "execution_count": 289
  },
  {
   "cell_type": "code",
   "outputs": [],
   "source": [
    "del sst_training_data"
   ],
   "metadata": {
    "collapsed": false,
    "ExecuteTime": {
     "end_time": "2024-06-15T23:19:07.405934498Z",
     "start_time": "2024-06-15T23:19:07.297136775Z"
    }
   },
   "id": "8bbf61ae08502216",
   "execution_count": 290
  },
  {
   "cell_type": "code",
   "outputs": [
    {
     "name": "stderr",
     "output_type": "stream",
     "text": [
      "100%|██████████| 2/2 [01:16<00:00, 38.17s/it]\n"
     ]
    }
   ],
   "source": [
    "# Now we do the same for the validation data\n",
    "sst_validation_data = torch.zeros((len(val_data), 128, 128))\n",
    "for i in tqdm(range(2020, 2022)):\n",
    "    if os.path.isfile(path + '/sst_data-002/sst_data/sst.day.mean.' + str(i) + '.nc'):\n",
    "        data = xr.open_dataset(path + '/sst_data-002/sst_data/' + 'sst.day.mean.' + str(i) + '.nc')\n",
    "        data.coords['lon'] = (data.coords['lon'] + 180) % 360 - 180\n",
    "        data = data.sortby(data.lon)\n",
    "        data = data.sst.sel(lat=slice(lat_min, lat_max + 0.25), lon=slice(lon_min, lon_max + 0.25))\n",
    "        year_dates = val_data[(val_data >= pd.to_datetime(str(i) + '-01-01')) & (val_data <= pd.to_datetime(str(i) + '-12-31'))]\n",
    "        for date in year_dates:\n",
    "            date_data = data.sel(time=date)\n",
    "            nan_values = date_data.isnull().to_numpy()\n",
    "            missing_ocean_values = np.logical_and(nan_values, boolean_mask)\n",
    "            for lat_index, lon_index in zip(*np.where(missing_ocean_values)):\n",
    "                lat = lats[lat_index]\n",
    "                lon = lons[lon_index]\n",
    "                missing_values = date_data.sel(lat=slice(lat - 3, lat + 3), lon=slice(lon - 3, lon + 3)).values\n",
    "                missing_values = missing_values[~np.isnan(missing_values)]\n",
    "                if missing_values.size > 0:\n",
    "                    date_data[lat_index, lon_index] = missing_values.mean()\n",
    "            sst_validation_data[val_data.get_loc(date)] = torch.tensor(date_data.to_numpy())"
   ],
   "metadata": {
    "collapsed": false,
    "ExecuteTime": {
     "end_time": "2024-06-15T23:20:26.482011613Z",
     "start_time": "2024-06-15T23:19:10.130821533Z"
    }
   },
   "id": "e9b593765ddf71a5",
   "execution_count": 291
  },
  {
   "cell_type": "code",
   "outputs": [],
   "source": [
    "# Now we can save the validation data\n",
    "torch.save(sst_validation_data, path + '/val/' + 'sst_val_data.pt')"
   ],
   "metadata": {
    "collapsed": false,
    "ExecuteTime": {
     "end_time": "2024-06-15T23:21:14.345403751Z",
     "start_time": "2024-06-15T23:21:14.267086630Z"
    }
   },
   "id": "3f53b68039853397",
   "execution_count": 292
  },
  {
   "cell_type": "code",
   "outputs": [],
   "source": [
    "del sst_validation_data"
   ],
   "metadata": {
    "collapsed": false,
    "ExecuteTime": {
     "end_time": "2024-06-15T23:21:15.171327905Z",
     "start_time": "2024-06-15T23:21:15.098215801Z"
    }
   },
   "id": "bccde0a357fecea0",
   "execution_count": 293
  },
  {
   "cell_type": "code",
   "outputs": [
    {
     "name": "stderr",
     "output_type": "stream",
     "text": [
      "100%|██████████| 2/2 [01:11<00:00, 35.62s/it]\n"
     ]
    }
   ],
   "source": [
    "# Now we do the same for the test data\n",
    "sst_test_data = torch.zeros((len(test_data), 128, 128))\n",
    "for i in tqdm(range(2021, 2023)):\n",
    "    if os.path.isfile(path + '/sst_data-002/sst_data/sst.day.mean.' + str(i) + '.nc'):\n",
    "        data = xr.open_dataset(path + '/sst_data-002/sst_data/' + 'sst.day.mean.' + str(i) + '.nc')\n",
    "        data.coords['lon'] = (data.coords['lon'] + 180) % 360 - 180\n",
    "        data = data.sortby(data.lon)\n",
    "        data = data.sst.sel(lat=slice(lat_min, lat_max + 0.25), lon=slice(lon_min, lon_max + 0.25))\n",
    "        year_dates = test_data[(test_data >= pd.to_datetime(str(i) + '-01-01')) & (test_data <= pd.to_datetime(str(i) + '-12-31'))]\n",
    "        for date in year_dates:\n",
    "            date_data = data.sel(time=date)\n",
    "            nan_values = date_data.isnull().to_numpy()\n",
    "            missing_ocean_values = np.logical_and(nan_values, boolean_mask)\n",
    "            for lat_index, lon_index in zip(*np.where(missing_ocean_values)):\n",
    "                lat = lats[lat_index]\n",
    "                lon = lons[lon_index]\n",
    "                missing_values = date_data.sel(lat=slice(lat - 3, lat + 3), lon=slice(lon - 3, lon + 3)).values\n",
    "                missing_values = missing_values[~np.isnan(missing_values)]\n",
    "                if missing_values.size > 0:\n",
    "                    date_data[lat_index, lon_index] = missing_values.mean()\n",
    "            sst_test_data[test_data.get_loc(date)] = torch.tensor(date_data.to_numpy())"
   ],
   "metadata": {
    "collapsed": false,
    "ExecuteTime": {
     "end_time": "2024-06-15T23:22:27.449252276Z",
     "start_time": "2024-06-15T23:21:16.194036641Z"
    }
   },
   "id": "abab738299b96b2",
   "execution_count": 294
  },
  {
   "cell_type": "code",
   "outputs": [],
   "source": [
    "# Now we can save the test data\n",
    "torch.save(sst_test_data, path + '/test/' + 'sst_test_data.pt')"
   ],
   "metadata": {
    "collapsed": false,
    "ExecuteTime": {
     "end_time": "2024-06-15T23:27:50.616333611Z",
     "start_time": "2024-06-15T23:27:50.578034901Z"
    }
   },
   "id": "b7efebac0ae91aa9",
   "execution_count": 295
  },
  {
   "cell_type": "code",
   "outputs": [],
   "source": [
    "del sst_test_data"
   ],
   "metadata": {
    "collapsed": false,
    "ExecuteTime": {
     "end_time": "2024-06-15T23:27:51.319713386Z",
     "start_time": "2024-06-15T23:27:51.303139015Z"
    }
   },
   "id": "36c06db529aee527",
   "execution_count": 296
  },
  {
   "cell_type": "code",
   "outputs": [],
   "source": [
    "# Now for the salinity data\n",
    "# Since the salinity data only exists from April 2015 to January 2022, we have to take a different approach. Also, since the salinity data has much more missing values, the best strategy to fill them is to use the mean of the entire bounded region, which is not optimal at all, but the surrounding values approach taken for the SST data simply does not fill in that many value. In case anyone other than me is reading this in the future, the problem concretely is that country borders are not very well defined in the dataset and most of the arctic ocean region is just not measured. My other notebook 'Data_selection.ipynb' contains a plotted graph of the salinity data, showing the extent of the missing values. I have tried the SST approach previously, only to keep ending up with NANs. So yeah, that's why I'm doing this.\n",
    "# So the approach is this: Get the salinity maps for the months in the dataset, fill in missing values with the bounded mean, then, since the month July 2019 just is not present in the dataset, use the means of June and August 2019 for this month."
   ],
   "metadata": {
    "collapsed": false
   },
   "id": "b390c22056c132a8"
  },
  {
   "cell_type": "code",
   "outputs": [
    {
     "name": "stderr",
     "output_type": "stream",
     "text": [
      "100%|██████████| 8/8 [00:51<00:00,  6.49s/it]\n"
     ]
    }
   ],
   "source": [
    "# Lets just make a collective matrix for the salinity data\n",
    "salinity_dataset = torch.zeros((82, 128, 128)) # 82 months from April 2015 to January 2022\n",
    "for i in tqdm(range(2015, 2023)):\n",
    "    for j in range(1, 13):\n",
    "        if os.path.isfile(path + '/Salinity Data - Monthly Average/salinity_data/RSS_smap_SSS_L3_monthly_' + str(i) + '_' + str(j).zfill(2) + '_FNL_v04.0.nc'):\n",
    "            salinity = xr.open_dataset(path + '/Salinity Data - Monthly Average/salinity_data/RSS_smap_SSS_L3_monthly_' + str(i) + '_' + str(j).zfill(2) + '_FNL_v04.0.nc')\n",
    "            salinity.coords['lon'] = (salinity.coords['lon'] + 180) % 360 - 180\n",
    "            salinity = salinity.sortby(salinity.lon)\n",
    "            salinity = salinity.sss_smap.sel(lat=slice(lat_min, lat_max + 0.25), lon=slice(lon_min, lon_max + 0.25))\n",
    "            mean_value = salinity.values[~np.isnan(salinity)].mean()\n",
    "            nan_values = salinity.isnull().to_numpy()\n",
    "            missing_ocean_values = np.logical_and(nan_values, boolean_mask)\n",
    "            for lat_index, lon_index in zip(*np.where(missing_ocean_values)):\n",
    "                salinity[lat_index, lon_index] = mean_value\n",
    "            salinity_dataset[(i - 2015) * 12 + j - 4] = torch.tensor(salinity.to_numpy())\n",
    "            "
   ],
   "metadata": {
    "collapsed": false,
    "ExecuteTime": {
     "end_time": "2024-06-15T23:30:18.000902083Z",
     "start_time": "2024-06-15T23:29:26.107522590Z"
    }
   },
   "id": "112959a6b434ef55",
   "execution_count": 297
  },
  {
   "cell_type": "code",
   "outputs": [],
   "source": [
    "# Now to fill in the one missing month, july 2019. Index should be 3 + 12 * 4 = 51\n",
    "salinity_dataset[51] = torch.nanmean(torch.stack([salinity_dataset[50], salinity_dataset[52]]), dim=0)"
   ],
   "metadata": {
    "collapsed": false,
    "ExecuteTime": {
     "end_time": "2024-06-15T23:31:13.278269025Z",
     "start_time": "2024-06-15T23:31:13.005524736Z"
    }
   },
   "id": "accea93abf7de71",
   "execution_count": 298
  },
  {
   "cell_type": "code",
   "outputs": [
    {
     "name": "stderr",
     "output_type": "stream",
     "text": [
      "100%|██████████| 1748/1748 [00:00<00:00, 66005.05it/s]\n"
     ]
    }
   ],
   "source": [
    "# Now we fill each day with its month mean salinity level\n",
    "salinity_training_data = torch.zeros((len(train_data), 128, 128))\n",
    "for day in tqdm(train_data, position=0, leave=True):\n",
    "    salinity_training_data[train_data.get_loc(day)] = salinity_dataset[(day.year - 2015) * 12 + day.month - 4]"
   ],
   "metadata": {
    "collapsed": false,
    "ExecuteTime": {
     "end_time": "2024-06-15T23:33:05.301607071Z",
     "start_time": "2024-06-15T23:33:05.041258354Z"
    }
   },
   "id": "bbe921223014c2cf",
   "execution_count": 299
  },
  {
   "cell_type": "code",
   "outputs": [],
   "source": [
    "# Now we can save the training data\n",
    "torch.save(salinity_training_data, path + '/train/' + 'salinity_train_data.pt')"
   ],
   "metadata": {
    "collapsed": false,
    "ExecuteTime": {
     "end_time": "2024-06-15T23:33:36.906831698Z",
     "start_time": "2024-06-15T23:33:36.685131667Z"
    }
   },
   "id": "8bf3ffddcbfce853",
   "execution_count": 302
  },
  {
   "cell_type": "code",
   "outputs": [],
   "source": [
    "del salinity_training_data"
   ],
   "metadata": {
    "collapsed": false,
    "ExecuteTime": {
     "end_time": "2024-06-15T23:33:37.706580909Z",
     "start_time": "2024-06-15T23:33:37.676499073Z"
    }
   },
   "id": "4ba8a7e55271e020",
   "execution_count": 303
  },
  {
   "cell_type": "code",
   "outputs": [
    {
     "name": "stderr",
     "output_type": "stream",
     "text": [
      "100%|██████████| 375/375 [00:00<00:00, 64857.70it/s]\n"
     ]
    }
   ],
   "source": [
    "# Now we do the same for the validation data\n",
    "salinity_validation_data = torch.zeros((len(val_data), 128, 128))\n",
    "for day in tqdm(val_data, position=0, leave=True):\n",
    "    salinity_validation_data[val_data.get_loc(day)] = salinity_dataset[(day.year - 2015) * 12 + day.month - 4]"
   ],
   "metadata": {
    "collapsed": false,
    "ExecuteTime": {
     "end_time": "2024-06-15T23:33:44.937526326Z",
     "start_time": "2024-06-15T23:33:44.761115647Z"
    }
   },
   "id": "8d9712c27ba0cf17",
   "execution_count": 304
  },
  {
   "cell_type": "code",
   "outputs": [],
   "source": [
    "# Now we can save the validation data\n",
    "torch.save(salinity_validation_data, path + '/val/' + 'salinity_val_data.pt')"
   ],
   "metadata": {
    "collapsed": false,
    "ExecuteTime": {
     "end_time": "2024-06-15T23:33:49.349869552Z",
     "start_time": "2024-06-15T23:33:49.210935185Z"
    }
   },
   "id": "bfbb7a8e200fb250",
   "execution_count": 305
  },
  {
   "cell_type": "code",
   "outputs": [],
   "source": [
    "del salinity_validation_data"
   ],
   "metadata": {
    "collapsed": false,
    "ExecuteTime": {
     "end_time": "2024-06-15T23:33:50.576598228Z",
     "start_time": "2024-06-15T23:33:50.501770461Z"
    }
   },
   "id": "830cdc4bdccc27e",
   "execution_count": 306
  },
  {
   "cell_type": "code",
   "outputs": [
    {
     "name": "stderr",
     "output_type": "stream",
     "text": [
      "100%|██████████| 375/375 [00:00<00:00, 70349.05it/s]\n"
     ]
    }
   ],
   "source": [
    "# Now we do the same for the test data\n",
    "salinity_test_data = torch.zeros((len(test_data), 128, 128))\n",
    "for day in tqdm(test_data, position=0, leave=True):\n",
    "    salinity_test_data[test_data.get_loc(day)] = salinity_dataset[(day.year - 2015) * 12 + day.month - 4]"
   ],
   "metadata": {
    "collapsed": false,
    "ExecuteTime": {
     "end_time": "2024-06-15T23:33:57.265349295Z",
     "start_time": "2024-06-15T23:33:57.098295898Z"
    }
   },
   "id": "5d034b0ae13cf715",
   "execution_count": 307
  },
  {
   "cell_type": "code",
   "outputs": [],
   "source": [
    "# Now we can save the test data\n",
    "torch.save(salinity_test_data, path + '/test/' + 'salinity_test_data.pt')"
   ],
   "metadata": {
    "collapsed": false,
    "ExecuteTime": {
     "end_time": "2024-06-15T23:34:19.879168791Z",
     "start_time": "2024-06-15T23:34:19.683927835Z"
    }
   },
   "id": "c0b5438b157ca6fe",
   "execution_count": 310
  }
 ],
 "metadata": {
  "kernelspec": {
   "display_name": "Python 3",
   "language": "python",
   "name": "python3"
  },
  "language_info": {
   "codemirror_mode": {
    "name": "ipython",
    "version": 2
   },
   "file_extension": ".py",
   "mimetype": "text/x-python",
   "name": "python",
   "nbconvert_exporter": "python",
   "pygments_lexer": "ipython2",
   "version": "2.7.6"
  }
 },
 "nbformat": 4,
 "nbformat_minor": 5
}
